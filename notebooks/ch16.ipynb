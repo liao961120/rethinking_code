{
 "cells": [
  {
   "cell_type": "markdown",
   "id": "external-fisher",
   "metadata": {
    "lines_to_next_cell": 0
   },
   "source": []
  },
  {
   "cell_type": "code",
   "execution_count": null,
   "id": "medium-confidentiality",
   "metadata": {
    "lines_to_next_cell": 0,
    "name": "Setup"
   },
   "outputs": [],
   "source": [
    "remotes::install_github('rmcelreath/rethinking', upgrade=F)\n"
   ]
  },
  {
   "cell_type": "code",
   "execution_count": null,
   "id": "turkish-arabic",
   "metadata": {
    "lines_to_next_cell": 0,
    "name": "R code 16.1"
   },
   "outputs": [],
   "source": [
    "library(rethinking)\n",
    "data(Howell1)\n",
    "d <- Howell1\n",
    "\n",
    "# scale observed variables\n",
    "d$w <- d$weight / mean(d$weight)\n",
    "d$h <- d$height / mean(d$height)\n"
   ]
  },
  {
   "cell_type": "code",
   "execution_count": null,
   "id": "detailed-thomson",
   "metadata": {
    "lines_to_next_cell": 0,
    "name": "R code 16.2"
   },
   "outputs": [],
   "source": [
    "m16.1 <- ulam(\n",
    "    alist(\n",
    "        w ~ dlnorm( mu , sigma ),\n",
    "        exp(mu) <- 3.141593 * k * p^2 * h^3,\n",
    "        p ~ beta( 2 , 18 ),\n",
    "        k ~ exponential( 0.5 ),\n",
    "        sigma ~ exponential( 1 )\n",
    "    ), data=d , chains=4 , cores=4 )\n"
   ]
  },
  {
   "cell_type": "code",
   "execution_count": null,
   "id": "cross-tower",
   "metadata": {
    "lines_to_next_cell": 0,
    "name": "R code 16.3"
   },
   "outputs": [],
   "source": [
    "h_seq <- seq( from=0 , to=max(d$h) , length.out=30 )\n",
    "w_sim <- sim( m16.1 , data=list(h=h_seq) )\n",
    "mu_mean <- apply( w_sim , 2 , mean )\n",
    "w_CI <- apply( w_sim , 2 , PI )\n",
    "plot( d$h , d$w , xlim=c(0,max(d$h)) , ylim=c(0,max(d$w)) , col=rangi2 ,\n",
    "    lwd=2 , xlab=\"height (scaled)\" , ylab=\"weight (scaled)\" )\n",
    "lines( h_seq , mu_mean )\n",
    "shade( w_CI , h_seq )\n"
   ]
  },
  {
   "cell_type": "code",
   "execution_count": null,
   "id": "wicked-first",
   "metadata": {
    "lines_to_next_cell": 0,
    "name": "R code 16.4"
   },
   "outputs": [],
   "source": [
    "library(rethinking)\n",
    "data(Boxes)\n",
    "precis(Boxes)\n"
   ]
  },
  {
   "cell_type": "code",
   "execution_count": null,
   "id": "automated-india",
   "metadata": {
    "lines_to_next_cell": 0,
    "name": "R code 16.5"
   },
   "outputs": [],
   "source": [
    "table( Boxes$y ) / length( Boxes$y )\n"
   ]
  },
  {
   "cell_type": "code",
   "execution_count": null,
   "id": "viral-mauritius",
   "metadata": {
    "lines_to_next_cell": 0,
    "name": "R code 16.6"
   },
   "outputs": [],
   "source": [
    "set.seed(7)\n",
    "N <- 30 # number of children\n",
    "\n",
    "# half are random\n",
    "# sample from 1,2,3 at random for each\n",
    "y1 <- sample( 1:3 , size=N/2 , replace=TRUE )\n",
    "\n",
    "# half follow majority\n",
    "y2 <- rep( 2 , N/2 )\n",
    "\n",
    "# combine and shuffle y1 and y2\n",
    "y <- sample( c(y1,y2) )\n",
    "\n",
    "# count the 2s\n",
    "sum(y==2)/N\n"
   ]
  },
  {
   "cell_type": "code",
   "execution_count": null,
   "id": "considerable-monster",
   "metadata": {
    "lines_to_next_cell": 0,
    "name": "R code 16.7"
   },
   "outputs": [],
   "source": [
    "data(Boxes_model)\n",
    "cat(Boxes_model)\n"
   ]
  },
  {
   "cell_type": "code",
   "execution_count": null,
   "id": "continuing-integral",
   "metadata": {
    "lines_to_next_cell": 0,
    "name": "R code 16.8"
   },
   "outputs": [],
   "source": [
    "# prep data\n",
    "dat_list <- list(\n",
    "    N = nrow(Boxes),\n",
    "    y = Boxes$y,\n",
    "    majority_first = Boxes$majority_first )\n",
    "\n",
    "# run the sampler\n",
    "m16.2 <- stan( model_code=Boxes_model , data=dat_list , chains=3 , cores=3 )\n",
    "\n",
    "# show marginal posterior for p\n",
    "p_labels <- c(\"1 Majority\",\"2 Minority\",\"3 Maverick\",\"4 Random\",\n",
    "    \"5 Follow First\")\n",
    "plot( precis(m16.2,2) , labels=p_labels )\n"
   ]
  },
  {
   "cell_type": "code",
   "execution_count": null,
   "id": "naked-occurrence",
   "metadata": {
    "lines_to_next_cell": 0,
    "name": "R code 16.9"
   },
   "outputs": [],
   "source": [
    "library(rethinking)\n",
    "data(Panda_nuts)\n"
   ]
  },
  {
   "cell_type": "code",
   "execution_count": null,
   "id": "proud-absolute",
   "metadata": {
    "lines_to_next_cell": 0,
    "name": "R code 16.10"
   },
   "outputs": [],
   "source": [
    "N <- 1e4\n",
    "phi <- rlnorm( N , log(1) , 0.1 )\n",
    "k <- rlnorm( N , log(2), 0.25 )\n",
    "theta <- rlnorm( N , log(5) , 0.25 )\n",
    "\n",
    "# relative grow curve\n",
    "plot( NULL , xlim=c(0,1.5) , ylim=c(0,1) , xaxt=\"n\" , xlab=\"age\" ,\n",
    "    ylab=\"body mass\" )\n",
    "at <- c(0,0.25,0.5,0.75,1,1.25,1.5)\n",
    "axis( 1 , at=at , labels=round(at*max(Panda_nuts$age)) )\n",
    "for ( i in 1:20 ) curve( (1-exp(-k[i]*x)) , add=TRUE , col=grau() , lwd=1.5 )\n",
    "\n",
    "# implied rate of nut opening curve\n",
    "plot( NULL , xlim=c(0,1.5) , ylim=c(0,1.2) , xaxt=\"n\" , xlab=\"age\" ,\n",
    "    ylab=\"nuts per second\" )\n",
    "at <- c(0,0.25,0.5,0.75,1,1.25,1.5)\n",
    "axis( 1 , at=at , labels=round(at*max(Panda_nuts$age)) )\n",
    "for ( i in 1:20 ) curve( phi[i]*(1-exp(-k[i]*x))^theta[i] , add=TRUE ,\n",
    "    col=grau() , lwd=1.5 )\n"
   ]
  },
  {
   "cell_type": "code",
   "execution_count": null,
   "id": "talented-grill",
   "metadata": {
    "lines_to_next_cell": 0,
    "name": "R code 16.11"
   },
   "outputs": [],
   "source": [
    "dat_list <- list(\n",
    "    n = as.integer( Panda_nuts$nuts_opened ),\n",
    "    age = Panda_nuts$age / max(Panda_nuts$age),\n",
    "    seconds = Panda_nuts$seconds )\n",
    "\n",
    "m16.4 <- ulam(\n",
    "    alist(\n",
    "        n ~ poisson( lambda ),\n",
    "        lambda <- seconds*phi*(1-exp(-k*age))^theta,\n",
    "        phi ~ lognormal( log(1) , 0.1 ),\n",
    "        k ~ lognormal( log(2) , 0.25 ),\n",
    "        theta ~ lognormal( log(5) , 0.25 )\n",
    "    ), data=dat_list , chains=4 )\n"
   ]
  },
  {
   "cell_type": "code",
   "execution_count": null,
   "id": "alert-delaware",
   "metadata": {
    "lines_to_next_cell": 0,
    "name": "R code 16.12"
   },
   "outputs": [],
   "source": [
    "post <- extract.samples(m16.4)\n",
    "plot( NULL , xlim=c(0,1) , ylim=c(0,1.5) , xlab=\"age\" ,\n",
    "    ylab=\"nuts per second\" , xaxt=\"n\" )\n",
    "at <- c(0,0.25,0.5,0.75,1,1.25,1.5)\n",
    "axis( 1 , at=at , labels=round(at*max(Panda_nuts$age)) )\n",
    "\n",
    "# raw data\n",
    "pts <- dat_list$n / dat_list$seconds\n",
    "point_size <- normalize( dat_list$seconds )\n",
    "points( jitter(dat_list$age) , pts , col=rangi2 , lwd=2 , cex=point_size*3 )\n",
    "\n",
    "# 30 posterior curves\n",
    "for ( i in 1:30 ) with( post ,\n",
    "    curve( phi[i]*(1-exp(-k[i]*x))^theta[i] , add=TRUE , col=grau() ) )\n"
   ]
  },
  {
   "cell_type": "code",
   "execution_count": null,
   "id": "significant-banking",
   "metadata": {
    "lines_to_next_cell": 0,
    "name": "R code 16.13"
   },
   "outputs": [],
   "source": [
    "library(rethinking)\n",
    "data(Lynx_Hare)\n",
    "plot( 1:21 , Lynx_Hare[,3] , ylim=c(0,90) , xlab=\"year\" ,\n",
    "    ylab=\"thousands of pelts\" , xaxt=\"n\" , type=\"l\" , lwd=1.5 )\n",
    "at <- c(1,11,21)\n",
    "axis( 1 , at=at , labels=Lynx_Hare$Year[at] )\n",
    "lines( 1:21 , Lynx_Hare[,2] , lwd=1.5 , col=rangi2 )\n",
    "points( 1:21 , Lynx_Hare[,3] , bg=\"black\" , col=\"white\" , pch=21 , cex=1.4 )\n",
    "points( 1:21 , Lynx_Hare[,2] , bg=rangi2 , col=\"white\" , pch=21 , cex=1.4 )\n",
    "text( 17 , 80 , \"Lepus\" , pos=2 )\n",
    "text( 19 , 50 , \"Lynx\" , pos=2 , col=rangi2 )\n"
   ]
  },
  {
   "cell_type": "code",
   "execution_count": null,
   "id": "combined-status",
   "metadata": {
    "lines_to_next_cell": 0,
    "name": "R code 16.14"
   },
   "outputs": [],
   "source": [
    "sim_lynx_hare <- function( n_steps , init , theta , dt=0.002 ) {\n",
    "    L <- rep(NA,n_steps)\n",
    "    H <- rep(NA,n_steps)\n",
    "    L[1] <- init[1]\n",
    "    H[1] <- init[2]\n",
    "    for ( i in 2:n_steps ) {\n",
    "        H[i] <- H[i-1] + dt*H[i-1]*( theta[1] - theta[2]*L[i-1] )\n",
    "        L[i] <- L[i-1] + dt*L[i-1]*( theta[3]*H[i-1] - theta[4] )\n",
    "    }\n",
    "    return( cbind(L,H) )\n",
    "}\n"
   ]
  },
  {
   "cell_type": "code",
   "execution_count": null,
   "id": "lined-economy",
   "metadata": {
    "lines_to_next_cell": 0,
    "name": "R code 16.15"
   },
   "outputs": [],
   "source": [
    "theta <- c( 0.5 , 0.05 , 0.025 , 0.5 )\n",
    "z <- sim_lynx_hare( 1e4 , as.numeric(Lynx_Hare[1,2:3]) , theta )\n",
    "\n",
    "plot( z[,2] , type=\"l\" , ylim=c(0,max(z[,2])) , lwd=2 , xaxt=\"n\" ,\n",
    "    ylab=\"number (thousands)\" , xlab=\"\" )\n",
    "lines( z[,1] , col=rangi2 , lwd=2 )\n",
    "mtext( \"time\" , 1 )\n"
   ]
  },
  {
   "cell_type": "code",
   "execution_count": null,
   "id": "special-daisy",
   "metadata": {
    "lines_to_next_cell": 0,
    "name": "R code 16.16"
   },
   "outputs": [],
   "source": [
    "N <- 1e4\n",
    "Ht <- 1e4\n",
    "p <- rbeta(N,2,18)\n",
    "h <- rbinom( N , size=Ht , prob=p )\n",
    "h <- round( h/1000 , 2 )\n",
    "dens( h , xlab=\"thousand of pelts\" , lwd=2 )\n"
   ]
  },
  {
   "cell_type": "code",
   "execution_count": null,
   "id": "dense-angola",
   "metadata": {
    "lines_to_next_cell": 0,
    "name": "R code 16.17"
   },
   "outputs": [],
   "source": [
    "data(Lynx_Hare_model)\n",
    "cat(Lynx_Hare_model)\n"
   ]
  },
  {
   "cell_type": "code",
   "execution_count": null,
   "id": "therapeutic-wright",
   "metadata": {
    "lines_to_next_cell": 0,
    "name": "R code 16.18"
   },
   "outputs": [],
   "source": [
    "dat_list <- list(\n",
    "    N = nrow(Lynx_Hare),\n",
    "    pelts = Lynx_Hare[,2:3] )\n",
    "\n",
    "m16.5 <- stan( model_code=Lynx_Hare_model , data=dat_list , chains=3 ,\n",
    "    cores=3 , control=list( adapt_delta=0.95 ) )\n"
   ]
  },
  {
   "cell_type": "code",
   "execution_count": null,
   "id": "opponent-eight",
   "metadata": {
    "lines_to_next_cell": 0,
    "name": "R code 16.19"
   },
   "outputs": [],
   "source": [
    "post <- extract.samples(m16.5)\n",
    "pelts <- dat_list$pelts\n",
    "plot( 1:21 , pelts[,2] , pch=16 , ylim=c(0,120) , xlab=\"year\" ,\n",
    "    ylab=\"thousands of pelts\" , xaxt=\"n\" )\n",
    "at <- c(1,11,21)\n",
    "axis( 1 , at=at , labels=Lynx_Hare$Year[at] )\n",
    "points( 1:21 , pelts[,1] , col=rangi2 , pch=16 )\n",
    "# 21 time series from posterior\n",
    "for ( s in 1:21 ) {\n",
    "    lines( 1:21 , post$pelts_pred[s,,2] , col=col.alpha(\"black\",0.2) , lwd=2 )\n",
    "    lines( 1:21 , post$pelts_pred[s,,1] , col=col.alpha(rangi2,0.3) , lwd=2 )\n",
    "}\n",
    "# text labels\n",
    "text( 17 , 90 , \"Lepus\" , pos=2 )\n",
    "text( 19 , 50 , \"Lynx\" , pos=2 , col=rangi2 )\n"
   ]
  },
  {
   "cell_type": "code",
   "execution_count": null,
   "id": "comprehensive-arthritis",
   "metadata": {
    "lines_to_next_cell": 0,
    "name": "R code 16.20"
   },
   "outputs": [],
   "source": [
    "plot( NULL , pch=16 , xlim=c(1,21) , ylim=c(0,500) , xlab=\"year\" ,\n",
    "    ylab=\"thousands of animals\" , xaxt=\"n\" )\n",
    "at <- c(1,11,21)\n",
    "axis( 1 , at=at , labels=Lynx_Hare$Year[at] )\n",
    "for ( s in 1:21 ) {\n",
    "    lines( 1:21 , post$pop[s,,2] , col=col.alpha(\"black\",0.2) , lwd=2 )\n",
    "    lines( 1:21 , post$pop[s,,1] , col=col.alpha(rangi2,0.4) , lwd=2 )\n",
    "}\n"
   ]
  },
  {
   "cell_type": "code",
   "execution_count": null,
   "id": "manufactured-housing",
   "metadata": {
    "lines_to_next_cell": 0,
    "name": "R code 16.21"
   },
   "outputs": [],
   "source": [
    "data(Lynx_Hare)\n",
    "dat_ar1 <- list(\n",
    "    L = Lynx_Hare$Lynx[2:21],\n",
    "    L_lag1 = Lynx_Hare$Lynx[1:20],\n",
    "    H = Lynx_Hare$Hare[2:21],\n",
    "    H_lag1 = Lynx_Hare$Hare[1:20] )"
   ]
  },
  {
   "cell_type": "markdown",
   "id": "developing-parallel",
   "metadata": {},
   "source": []
  }
 ],
 "metadata": {
  "jupytext": {
   "cell_metadata_filter": "name,-all",
   "main_language": "R",
   "notebook_metadata_filter": "-all"
  }
 },
 "nbformat": 4,
 "nbformat_minor": 5
}
