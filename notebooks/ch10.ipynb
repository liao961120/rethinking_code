{
 "cells": [
  {
   "cell_type": "markdown",
   "metadata": {
    "lines_to_next_cell": 0
   },
   "source": []
  },
  {
   "cell_type": "code",
   "execution_count": null,
   "metadata": {
    "name": "Setup"
   },
   "outputs": [],
   "source": [
    "remotes::install_github('rmcelreath/rethinking', upgrade=F)\n",
    "library(rethinking)"
   ]
  },
  {
   "cell_type": "markdown",
   "metadata": {},
   "source": [
    "## R code 10.1"
   ]
  },
  {
   "cell_type": "code",
   "execution_count": null,
   "metadata": {
    "name": "R code 10.1"
   },
   "outputs": [],
   "source": [
    "p <- list()\n",
    "p$A <- c(0,0,10,0,0)\n",
    "p$B <- c(0,1,8,1,0)\n",
    "p$C <- c(0,2,6,2,0)\n",
    "p$D <- c(1,2,4,2,1)\n",
    "p$E <- c(2,2,2,2,2)"
   ]
  },
  {
   "cell_type": "markdown",
   "metadata": {},
   "source": [
    "## R code 10.2"
   ]
  },
  {
   "cell_type": "code",
   "execution_count": null,
   "metadata": {
    "name": "R code 10.2"
   },
   "outputs": [],
   "source": [
    "p_norm <- lapply( p , function(q) q/sum(q))"
   ]
  },
  {
   "cell_type": "markdown",
   "metadata": {},
   "source": [
    "## R code 10.3"
   ]
  },
  {
   "cell_type": "code",
   "execution_count": null,
   "metadata": {
    "name": "R code 10.3"
   },
   "outputs": [],
   "source": [
    "( H <- sapply( p_norm , function(q) -sum(ifelse(q==0,0,q*log(q))) ) )"
   ]
  },
  {
   "cell_type": "markdown",
   "metadata": {},
   "source": [
    "## R code 10.4"
   ]
  },
  {
   "cell_type": "code",
   "execution_count": null,
   "metadata": {
    "name": "R code 10.4"
   },
   "outputs": [],
   "source": [
    "ways <- c(1,90,1260,37800,113400)\n",
    "logwayspp <- log(ways)/10"
   ]
  },
  {
   "cell_type": "markdown",
   "metadata": {},
   "source": [
    "## R code 10.5"
   ]
  },
  {
   "cell_type": "code",
   "execution_count": null,
   "metadata": {
    "name": "R code 10.5"
   },
   "outputs": [],
   "source": [
    "# build list of the candidate distributions\n",
    "p <- list()\n",
    "p[[1]] <- c(1/4,1/4,1/4,1/4)\n",
    "p[[2]] <- c(2/6,1/6,1/6,2/6)\n",
    "p[[3]] <- c(1/6,2/6,2/6,1/6)\n",
    "p[[4]] <- c(1/8,4/8,2/8,1/8)\n",
    "\n",
    "# compute expected value of each\n",
    "sapply( p , function(p) sum(p*c(0,1,1,2)) )"
   ]
  },
  {
   "cell_type": "markdown",
   "metadata": {},
   "source": [
    "## R code 10.6"
   ]
  },
  {
   "cell_type": "code",
   "execution_count": null,
   "metadata": {
    "name": "R code 10.6"
   },
   "outputs": [],
   "source": [
    "# compute entropy of each distribution\n",
    "sapply( p , function(p) -sum( p*log(p) ) )"
   ]
  },
  {
   "cell_type": "markdown",
   "metadata": {},
   "source": [
    "## R code 10.7"
   ]
  },
  {
   "cell_type": "code",
   "execution_count": null,
   "metadata": {
    "name": "R code 10.7"
   },
   "outputs": [],
   "source": [
    "p <- 0.7\n",
    "( A <- c( (1-p)^2 , p*(1-p) , (1-p)*p , p^2 ) )"
   ]
  },
  {
   "cell_type": "markdown",
   "metadata": {},
   "source": [
    "## R code 10.8"
   ]
  },
  {
   "cell_type": "code",
   "execution_count": null,
   "metadata": {
    "name": "R code 10.8"
   },
   "outputs": [],
   "source": [
    "-sum( A*log(A) )"
   ]
  },
  {
   "cell_type": "markdown",
   "metadata": {},
   "source": [
    "## R code 10.9"
   ]
  },
  {
   "cell_type": "code",
   "execution_count": null,
   "metadata": {
    "name": "R code 10.9"
   },
   "outputs": [],
   "source": [
    "sim.p <- function(G=1.4) {\n",
    "    x123 <- runif(3)\n",
    "    x4 <- ( (G)*sum(x123)-x123[2]-x123[3] )/(2-G)\n",
    "    z <- sum( c(x123,x4) )\n",
    "    p <- c( x123 , x4 )/z\n",
    "    list( H=-sum( p*log(p) ) , p=p )\n",
    "}"
   ]
  },
  {
   "cell_type": "markdown",
   "metadata": {},
   "source": [
    "## R code 10.10"
   ]
  },
  {
   "cell_type": "code",
   "execution_count": null,
   "metadata": {
    "name": "R code 10.10"
   },
   "outputs": [],
   "source": [
    "H <- replicate( 1e5 , sim.p(1.4) )\n",
    "dens( as.numeric(H[1,]) , adj=0.1 )"
   ]
  },
  {
   "cell_type": "markdown",
   "metadata": {},
   "source": [
    "## R code 10.11"
   ]
  },
  {
   "cell_type": "code",
   "execution_count": null,
   "metadata": {
    "name": "R code 10.11"
   },
   "outputs": [],
   "source": [
    "entropies <- as.numeric(H[1,])\n",
    "distributions <- H[2,]"
   ]
  },
  {
   "cell_type": "markdown",
   "metadata": {},
   "source": [
    "## R code 10.12"
   ]
  },
  {
   "cell_type": "code",
   "execution_count": null,
   "metadata": {
    "name": "R code 10.12"
   },
   "outputs": [],
   "source": [
    "max(entropies)"
   ]
  },
  {
   "cell_type": "markdown",
   "metadata": {},
   "source": [
    "## R code 10.13"
   ]
  },
  {
   "cell_type": "code",
   "execution_count": null,
   "metadata": {
    "lines_to_next_cell": 0,
    "name": "R code 10.13"
   },
   "outputs": [],
   "source": [
    "distributions[ which.max(entropies) ]"
   ]
  },
  {
   "cell_type": "markdown",
   "metadata": {},
   "source": []
  }
 ],
 "metadata": {
  "jupytext": {
   "cell_metadata_filter": "name,-all",
   "main_language": "R",
   "notebook_metadata_filter": "-all"
  }
 },
 "nbformat": 4,
 "nbformat_minor": 4
}
