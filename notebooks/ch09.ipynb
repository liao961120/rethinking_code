{
 "cells": [
  {
   "cell_type": "markdown",
   "id": "needed-verification",
   "metadata": {
    "lines_to_next_cell": 0
   },
   "source": []
  },
  {
   "cell_type": "code",
   "execution_count": null,
   "id": "historic-master",
   "metadata": {
    "name": "Setup"
   },
   "outputs": [],
   "source": [
    "remotes::install_github('rmcelreath/rethinking', upgrade=F)"
   ]
  },
  {
   "cell_type": "markdown",
   "id": "apparent-courtesy",
   "metadata": {},
   "source": [
    "R code 9.1"
   ]
  },
  {
   "cell_type": "code",
   "execution_count": null,
   "id": "therapeutic-benjamin",
   "metadata": {
    "name": "R code 9.1"
   },
   "outputs": [],
   "source": [
    "num_weeks <- 1e5\n",
    "positions <- rep(0,num_weeks)\n",
    "current <- 10\n",
    "for ( i in 1:num_weeks ) {\n",
    "  ## record current position\n",
    "    positions[i] <- current\n",
    "  ## flip coin to generate proposal\n",
    "    proposal <- current + sample( c(-1,1) , size=1 )\n",
    "  ## now make sure he loops around the archipelago\n",
    "    if ( proposal < 1 ) proposal <- 10\n",
    "    if ( proposal > 10 ) proposal <- 1\n",
    "  ## move?\n",
    "    prob_move <- proposal/current\n",
    "    current <- ifelse( runif(1) < prob_move , proposal , current )\n",
    "}"
   ]
  },
  {
   "cell_type": "markdown",
   "id": "signed-chassis",
   "metadata": {},
   "source": [
    "R code 9.2"
   ]
  },
  {
   "cell_type": "code",
   "execution_count": null,
   "id": "looking-darwin",
   "metadata": {
    "name": "R code 9.2"
   },
   "outputs": [],
   "source": [
    "plot( 1:100 , positions[1:100] )"
   ]
  },
  {
   "cell_type": "markdown",
   "id": "average-bloom",
   "metadata": {},
   "source": [
    "R code 9.3"
   ]
  },
  {
   "cell_type": "code",
   "execution_count": null,
   "id": "challenging-christian",
   "metadata": {
    "name": "R code 9.3"
   },
   "outputs": [],
   "source": [
    "plot( table( positions ) )"
   ]
  },
  {
   "cell_type": "markdown",
   "id": "animal-vegetation",
   "metadata": {},
   "source": [
    "R code 9.4"
   ]
  },
  {
   "cell_type": "code",
   "execution_count": null,
   "id": "generic-drain",
   "metadata": {
    "name": "R code 9.4"
   },
   "outputs": [],
   "source": [
    "D <- 10\n",
    "T <- 1e3\n",
    "Y <- rmvnorm(T,rep(0,D),diag(D))\n",
    "rad_dist <- function( Y ) sqrt( sum(Y^2) )\n",
    "Rd <- sapply( 1:T , function(i) rad_dist( Y[i,] ) )\n",
    "dens( Rd )"
   ]
  },
  {
   "cell_type": "markdown",
   "id": "absent-lithuania",
   "metadata": {},
   "source": [
    "R code 9.5"
   ]
  },
  {
   "cell_type": "code",
   "execution_count": null,
   "id": "right-brand",
   "metadata": {
    "name": "R code 9.5"
   },
   "outputs": [],
   "source": [
    "# U needs to return neg-log-probability\n",
    "U <- function( q , a=0 , b=1 , k=0 , d=1 ) {\n",
    "    muy <- q[1]\n",
    "    mux <- q[2]\n",
    "    U <- sum( dnorm(y,muy,1,log=TRUE) ) + sum( dnorm(x,mux,1,log=TRUE) ) +\n",
    "        dnorm(muy,a,b,log=TRUE) + dnorm(mux,k,d,log=TRUE)\n",
    "    return( -U )\n",
    "}"
   ]
  },
  {
   "cell_type": "markdown",
   "id": "accessory-playback",
   "metadata": {},
   "source": [
    "R code 9.6"
   ]
  },
  {
   "cell_type": "code",
   "execution_count": null,
   "id": "rotary-panic",
   "metadata": {
    "name": "R code 9.6"
   },
   "outputs": [],
   "source": [
    "# gradient function\n",
    "# need vector of partial derivatives of U with respect to vector q\n",
    "U_gradient <- function( q , a=0 , b=1 , k=0 , d=1 ) {\n",
    "    muy <- q[1]\n",
    "    mux <- q[2]\n",
    "    G1 <- sum( y - muy ) + (a - muy)/b^2 #dU/dmuy\n",
    "    G2 <- sum( x - mux ) + (k - mux)/d^2 #dU/dmux\n",
    "    return( c( -G1 , -G2 ) ) # negative bc energy is neg-log-prob\n",
    "}\n",
    "# test data\n",
    "set.seed(7)\n",
    "y <- rnorm(50)\n",
    "x <- rnorm(50)\n",
    "x <- as.numeric(scale(x))\n",
    "y <- as.numeric(scale(y))"
   ]
  },
  {
   "cell_type": "markdown",
   "id": "determined-smell",
   "metadata": {},
   "source": [
    "R code 9.7"
   ]
  },
  {
   "cell_type": "code",
   "execution_count": null,
   "id": "present-shipping",
   "metadata": {
    "name": "R code 9.7"
   },
   "outputs": [],
   "source": [
    "library(shape) # for fancy arrows\n",
    "Q <- list()\n",
    "Q$q <- c(-0.1,0.2)\n",
    "pr <- 0.3\n",
    "plot( NULL , ylab=\"muy\" , xlab=\"mux\" , xlim=c(-pr,pr) , ylim=c(-pr,pr) )\n",
    "step <- 0.03\n",
    "L <- 11 # 0.03/28 for U-turns --- 11 for working example\n",
    "n_samples <- 4\n",
    "path_col <- col.alpha(\"black\",0.5)\n",
    "points( Q$q[1] , Q$q[2] , pch=4 , col=\"black\" )\n",
    "for ( i in 1:n_samples ) {\n",
    "    Q <- HMC2( U , U_gradient , step , L , Q$q )\n",
    "    if ( n_samples < 10 ) {\n",
    "      for ( j in 1:L ) {\n",
    "        K0 <- sum(Q$ptraj[j,]^2)/2 # kinetic energy\n",
    "        lines( Q$traj[j:(j+1),1] , Q$traj[j:(j+1),2] , col=path_col , lwd=1+2*K0 )\n",
    "      }\n",
    "      points( Q$traj[1:L+1,] , pch=16 , col=\"white\" , cex=0.35 )\n",
    "      Arrows( Q$traj[L,1] , Q$traj[L,2] , Q$traj[L+1,1] , Q$traj[L+1,2] ,\n",
    "          arr.length=0.35 , arr.adj = 0.7 )\n",
    "      text( Q$traj[L+1,1] , Q$traj[L+1,2] , i , cex=0.8 , pos=4 , offset=0.4 )\n",
    "    }\n",
    "    points( Q$traj[L+1,1] , Q$traj[L+1,2] , pch=ifelse( Q$accept==1 , 16 , 1 ) ,\n",
    "        col=ifelse( abs(Q$dH)>0.1 , \"red\" , \"black\" ) )\n",
    "}"
   ]
  },
  {
   "cell_type": "markdown",
   "id": "nuclear-patch",
   "metadata": {},
   "source": [
    "R code 9.8"
   ]
  },
  {
   "cell_type": "code",
   "execution_count": null,
   "id": "native-smell",
   "metadata": {
    "name": "R code 9.8"
   },
   "outputs": [],
   "source": [
    "HMC2 <- function (U, grad_U, epsilon, L, current_q) {\n",
    "  q = current_q\n",
    "  p = rnorm(length(q),0,1) # random flick - p is momentum.\n",
    "  current_p = p\n",
    "  # Make a half step for momentum at the beginning\n",
    "  p = p - epsilon * grad_U(q) / 2\n",
    "  # initialize bookkeeping - saves trajectory\n",
    "  qtraj <- matrix(NA,nrow=L+1,ncol=length(q))\n",
    "  ptraj <- qtraj\n",
    "  qtraj[1,] <- current_q\n",
    "  ptraj[1,] <- p"
   ]
  },
  {
   "cell_type": "markdown",
   "id": "serial-invite",
   "metadata": {},
   "source": [
    "R code 9.9"
   ]
  },
  {
   "cell_type": "code",
   "execution_count": null,
   "id": "included-ecology",
   "metadata": {
    "name": "R code 9.9"
   },
   "outputs": [],
   "source": [
    "  # Alternate full steps for position and momentum\n",
    "  for ( i in 1:L ) {\n",
    "    q = q + epsilon * p # Full step for the position\n",
    "    # Make a full step for the momentum, except at end of trajectory\n",
    "    if ( i!=L ) {\n",
    "        p = p - epsilon * grad_U(q)\n",
    "        ptraj[i+1,] <- p\n",
    "    }\n",
    "    qtraj[i+1,] <- q\n",
    "  }"
   ]
  },
  {
   "cell_type": "markdown",
   "id": "interracial-seating",
   "metadata": {},
   "source": [
    "R code 9.10"
   ]
  },
  {
   "cell_type": "code",
   "execution_count": null,
   "id": "outstanding-annotation",
   "metadata": {
    "name": "R code 9.10"
   },
   "outputs": [],
   "source": [
    "  # Make a half step for momentum at the end\n",
    "  p = p - epsilon * grad_U(q) / 2\n",
    "  ptraj[L+1,] <- p\n",
    "  # Negate momentum at end of trajectory to make the proposal symmetric\n",
    "  p = -p\n",
    "  # Evaluate potential and kinetic energies at start and end of trajectory\n",
    "  current_U = U(current_q)\n",
    "  current_K = sum(current_p^2) / 2\n",
    "  proposed_U = U(q)\n",
    "  proposed_K = sum(p^2) / 2\n",
    "  # Accept or reject the state at end of trajectory, returning either\n",
    "  # the position at the end of the trajectory or the initial position\n",
    "  accept <- 0\n",
    "  if (runif(1) < exp(current_U-proposed_U+current_K-proposed_K)) {\n",
    "    new_q <- q  # accept\n",
    "    accept <- 1\n",
    "  } else new_q <- current_q  # reject\n",
    "  return(list( q=new_q, traj=qtraj, ptraj=ptraj, accept=accept ))\n",
    "}"
   ]
  },
  {
   "cell_type": "markdown",
   "id": "subject-bradley",
   "metadata": {},
   "source": [
    "R code 9.11"
   ]
  },
  {
   "cell_type": "code",
   "execution_count": null,
   "id": "desirable-locator",
   "metadata": {
    "name": "R code 9.11"
   },
   "outputs": [],
   "source": [
    "library(rethinking)\n",
    "data(rugged)\n",
    "d <- rugged\n",
    "d$log_gdp <- log(d$rgdppc_2000)\n",
    "dd <- d[ complete.cases(d$rgdppc_2000) , ]\n",
    "dd$log_gdp_std <- dd$log_gdp / mean(dd$log_gdp)\n",
    "dd$rugged_std <- dd$rugged / max(dd$rugged)\n",
    "dd$cid <- ifelse( dd$cont_africa==1 , 1 , 2 )"
   ]
  },
  {
   "cell_type": "markdown",
   "id": "incoming-longitude",
   "metadata": {},
   "source": [
    "R code 9.12"
   ]
  },
  {
   "cell_type": "code",
   "execution_count": null,
   "id": "capital-graph",
   "metadata": {
    "name": "R code 9.12"
   },
   "outputs": [],
   "source": [
    "m8.3 <- quap(\n",
    "    alist(\n",
    "        log_gdp_std ~ dnorm( mu , sigma ) ,\n",
    "        mu <- a[cid] + b[cid]*( rugged_std - 0.215 ) ,\n",
    "        a[cid] ~ dnorm( 1 , 0.1 ) ,\n",
    "        b[cid] ~ dnorm( 0 , 0.3 ) ,\n",
    "        sigma ~ dexp( 1 )\n",
    "    ) , data=dd )\n",
    "precis( m8.3 , depth=2 )"
   ]
  },
  {
   "cell_type": "markdown",
   "id": "expired-stress",
   "metadata": {},
   "source": [
    "R code 9.13"
   ]
  },
  {
   "cell_type": "code",
   "execution_count": null,
   "id": "animated-wyoming",
   "metadata": {
    "name": "R code 9.13"
   },
   "outputs": [],
   "source": [
    "dat_slim <- list(\n",
    "    log_gdp_std = dd$log_gdp_std,\n",
    "    rugged_std = dd$rugged_std,\n",
    "    cid = as.integer( dd$cid )\n",
    ")\n",
    "str(dat_slim)"
   ]
  },
  {
   "cell_type": "markdown",
   "id": "positive-screening",
   "metadata": {},
   "source": [
    "R code 9.14"
   ]
  },
  {
   "cell_type": "code",
   "execution_count": null,
   "id": "brilliant-preference",
   "metadata": {
    "name": "R code 9.14"
   },
   "outputs": [],
   "source": [
    "m9.1 <- ulam(\n",
    "    alist(\n",
    "        log_gdp_std ~ dnorm( mu , sigma ) ,\n",
    "        mu <- a[cid] + b[cid]*( rugged_std - 0.215 ) ,\n",
    "        a[cid] ~ dnorm( 1 , 0.1 ) ,\n",
    "        b[cid] ~ dnorm( 0 , 0.3 ) ,\n",
    "        sigma ~ dexp( 1 )\n",
    "    ) , data=dat_slim , chains=1 )"
   ]
  },
  {
   "cell_type": "markdown",
   "id": "continuous-exchange",
   "metadata": {},
   "source": [
    "R code 9.15"
   ]
  },
  {
   "cell_type": "code",
   "execution_count": null,
   "id": "original-manhattan",
   "metadata": {
    "name": "R code 9.15"
   },
   "outputs": [],
   "source": [
    "precis( m9.1 , depth=2 )"
   ]
  },
  {
   "cell_type": "markdown",
   "id": "capital-forest",
   "metadata": {},
   "source": [
    "R code 9.16"
   ]
  },
  {
   "cell_type": "code",
   "execution_count": null,
   "id": "adverse-pharmacy",
   "metadata": {
    "name": "R code 9.16"
   },
   "outputs": [],
   "source": [
    "m9.1 <- ulam(\n",
    "    alist(\n",
    "        log_gdp_std ~ dnorm( mu , sigma ) ,\n",
    "        mu <- a[cid] + b[cid]*( rugged_std - 0.215 ) ,\n",
    "        a[cid] ~ dnorm( 1 , 0.1 ) ,\n",
    "        b[cid] ~ dnorm( 0 , 0.3 ) ,\n",
    "        sigma ~ dexp( 1 )\n",
    "    ) , data=dat_slim , chains=4 , cores=4 )"
   ]
  },
  {
   "cell_type": "markdown",
   "id": "younger-weight",
   "metadata": {},
   "source": [
    "R code 9.17"
   ]
  },
  {
   "cell_type": "code",
   "execution_count": null,
   "id": "boxed-whale",
   "metadata": {
    "name": "R code 9.17"
   },
   "outputs": [],
   "source": [
    "show( m9.1 )"
   ]
  },
  {
   "cell_type": "markdown",
   "id": "moderate-cancer",
   "metadata": {},
   "source": [
    "R code 9.18"
   ]
  },
  {
   "cell_type": "code",
   "execution_count": null,
   "id": "technological-canon",
   "metadata": {
    "name": "R code 9.18"
   },
   "outputs": [],
   "source": [
    "precis( m9.1 , 2 )"
   ]
  },
  {
   "cell_type": "markdown",
   "id": "complete-municipality",
   "metadata": {},
   "source": [
    "R code 9.19"
   ]
  },
  {
   "cell_type": "code",
   "execution_count": null,
   "id": "collaborative-morgan",
   "metadata": {
    "name": "R code 9.19"
   },
   "outputs": [],
   "source": [
    "pairs( m9.1 )"
   ]
  },
  {
   "cell_type": "markdown",
   "id": "front-bryan",
   "metadata": {},
   "source": [
    "R code 9.20"
   ]
  },
  {
   "cell_type": "code",
   "execution_count": null,
   "id": "educational-stations",
   "metadata": {
    "name": "R code 9.20"
   },
   "outputs": [],
   "source": [
    "traceplot( m9.1 )"
   ]
  },
  {
   "cell_type": "markdown",
   "id": "romantic-selection",
   "metadata": {},
   "source": [
    "R code 9.21"
   ]
  },
  {
   "cell_type": "code",
   "execution_count": null,
   "id": "extensive-sunday",
   "metadata": {
    "name": "R code 9.21"
   },
   "outputs": [],
   "source": [
    "trankplot( m9.1 )"
   ]
  },
  {
   "cell_type": "markdown",
   "id": "normal-brother",
   "metadata": {},
   "source": [
    "R code 9.22"
   ]
  },
  {
   "cell_type": "code",
   "execution_count": null,
   "id": "framed-nightlife",
   "metadata": {
    "name": "R code 9.22"
   },
   "outputs": [],
   "source": [
    "y <- c(-1,1)\n",
    "set.seed(11)\n",
    "m9.2 <- ulam(\n",
    "    alist(\n",
    "        y ~ dnorm( mu , sigma ) ,\n",
    "        mu <- alpha ,\n",
    "        alpha ~ dnorm( 0 , 1000 ) ,\n",
    "        sigma ~ dexp( 0.0001 )\n",
    "    ) , data=list(y=y) , chains=3 )"
   ]
  },
  {
   "cell_type": "markdown",
   "id": "liberal-graph",
   "metadata": {},
   "source": [
    "R code 9.23"
   ]
  },
  {
   "cell_type": "code",
   "execution_count": null,
   "id": "excess-addition",
   "metadata": {
    "name": "R code 9.23"
   },
   "outputs": [],
   "source": [
    "precis( m9.2 )"
   ]
  },
  {
   "cell_type": "markdown",
   "id": "fatty-emphasis",
   "metadata": {},
   "source": [
    "R code 9.24"
   ]
  },
  {
   "cell_type": "code",
   "execution_count": null,
   "id": "alone-income",
   "metadata": {
    "name": "R code 9.24"
   },
   "outputs": [],
   "source": [
    "set.seed(11)\n",
    "m9.3 <- ulam(\n",
    "    alist(\n",
    "        y ~ dnorm( mu , sigma ) ,\n",
    "        mu <- alpha ,\n",
    "        alpha ~ dnorm( 1 , 10 ) ,\n",
    "        sigma ~ dexp( 1 )\n",
    "    ) , data=list(y=y) , chains=3 )\n",
    "precis( m9.3 )"
   ]
  },
  {
   "cell_type": "markdown",
   "id": "clean-family",
   "metadata": {},
   "source": [
    "R code 9.25"
   ]
  },
  {
   "cell_type": "code",
   "execution_count": null,
   "id": "level-therapist",
   "metadata": {
    "name": "R code 9.25"
   },
   "outputs": [],
   "source": [
    "set.seed(41)\n",
    "y <- rnorm( 100 , mean=0 , sd=1 )"
   ]
  },
  {
   "cell_type": "markdown",
   "id": "perceived-merchandise",
   "metadata": {},
   "source": [
    "R code 9.26"
   ]
  },
  {
   "cell_type": "code",
   "execution_count": null,
   "id": "muslim-moment",
   "metadata": {
    "name": "R code 9.26"
   },
   "outputs": [],
   "source": [
    "set.seed(384)\n",
    "m9.4 <- ulam(\n",
    "    alist(\n",
    "        y ~ dnorm( mu , sigma ) ,\n",
    "        mu <- a1 + a2 ,\n",
    "        a1 ~ dnorm( 0 , 1000 ),\n",
    "        a2 ~ dnorm( 0 , 1000 ),\n",
    "        sigma ~ dexp( 1 )\n",
    "    ) , data=list(y=y) , chains=3 )\n",
    "precis( m9.4 )"
   ]
  },
  {
   "cell_type": "markdown",
   "id": "considered-warrior",
   "metadata": {},
   "source": [
    "R code 9.27"
   ]
  },
  {
   "cell_type": "code",
   "execution_count": null,
   "id": "declared-offense",
   "metadata": {
    "name": "R code 9.27"
   },
   "outputs": [],
   "source": [
    "m9.5 <- ulam(\n",
    "    alist(\n",
    "        y ~ dnorm( mu , sigma ) ,\n",
    "        mu <- a1 + a2 ,\n",
    "        a1 ~ dnorm( 0 , 10 ),\n",
    "        a2 ~ dnorm( 0 , 10 ),\n",
    "        sigma ~ dexp( 1 )\n",
    "    ) , data=list(y=y) , chains=3 )\n",
    "precis( m9.5 )"
   ]
  },
  {
   "cell_type": "markdown",
   "id": "subsequent-mayor",
   "metadata": {},
   "source": [
    "R code 9.28"
   ]
  },
  {
   "cell_type": "code",
   "execution_count": null,
   "id": "interracial-rebel",
   "metadata": {
    "name": "R code 9.28"
   },
   "outputs": [],
   "source": [
    "mp <- ulam(\n",
    "    alist(\n",
    "        a ~ dnorm(0,1),\n",
    "        b ~ dcauchy(0,1)\n",
    "    ), data=list(y=1) , chains=1 )"
   ]
  },
  {
   "cell_type": "markdown",
   "id": "reduced-pressure",
   "metadata": {},
   "source": [
    "R code 9.29"
   ]
  },
  {
   "cell_type": "code",
   "execution_count": null,
   "id": "postal-boost",
   "metadata": {
    "name": "R code 9.29"
   },
   "outputs": [],
   "source": [
    "m5.8s <- ulam(\n",
    "    alist(\n",
    "        height ~ dnorm( mu , sigma ) ,\n",
    "        mu <- a + bl*leg_left + br*leg_right ,\n",
    "        a ~ dnorm( 10 , 100 ) ,\n",
    "        bl ~ dnorm( 2 , 10 ) ,\n",
    "        br ~ dnorm( 2 , 10 ) ,\n",
    "        sigma ~ dexp( 1 )\n",
    "    ) , data=d, chains=4,\n",
    "    start=list(a=10,bl=0,br=0.1,sigma=1) )"
   ]
  },
  {
   "cell_type": "markdown",
   "id": "decreased-breakfast",
   "metadata": {},
   "source": [
    "R code 9.30"
   ]
  },
  {
   "cell_type": "code",
   "execution_count": null,
   "id": "daily-booth",
   "metadata": {
    "lines_to_next_cell": 0,
    "name": "R code 9.30"
   },
   "outputs": [],
   "source": [
    "m5.8s2 <- ulam(\n",
    "    alist(\n",
    "        height ~ dnorm( mu , sigma ) ,\n",
    "        mu <- a + bl*leg_left + br*leg_right ,\n",
    "        a ~ dnorm( 10 , 100 ) ,\n",
    "        bl ~ dnorm( 2 , 10 ) ,\n",
    "        br ~ dnorm( 2 , 10 ) ,\n",
    "        sigma ~ dexp( 1 )\n",
    "    ) , data=d, chains=4,\n",
    "    constraints=list(br=\"lower=0\"),\n",
    "    start=list(a=10,bl=0,br=0.1,sigma=1) )"
   ]
  },
  {
   "cell_type": "markdown",
   "id": "fantastic-frame",
   "metadata": {},
   "source": []
  }
 ],
 "metadata": {
  "jupytext": {
   "cell_metadata_filter": "name,-all",
   "main_language": "R",
   "notebook_metadata_filter": "-all"
  }
 },
 "nbformat": 4,
 "nbformat_minor": 5
}
