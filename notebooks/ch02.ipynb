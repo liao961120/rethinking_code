{
 "cells": [
  {
   "cell_type": "markdown",
   "id": "republican-concept",
   "metadata": {
    "lines_to_next_cell": 0
   },
   "source": []
  },
  {
   "cell_type": "code",
   "execution_count": null,
   "id": "novel-guidance",
   "metadata": {
    "lines_to_next_cell": 0,
    "name": "Setup"
   },
   "outputs": [],
   "source": [
    "remotes::install_github('rmcelreath/rethinking', upgrade=F)\n"
   ]
  },
  {
   "cell_type": "code",
   "execution_count": null,
   "id": "wicked-native",
   "metadata": {
    "lines_to_next_cell": 0,
    "name": "R code 2.1"
   },
   "outputs": [],
   "source": [
    "ways <- c( 0 , 3 , 8 , 9 , 0 )\n",
    "ways/sum(ways)\n"
   ]
  },
  {
   "cell_type": "code",
   "execution_count": null,
   "id": "israeli-price",
   "metadata": {
    "lines_to_next_cell": 0,
    "name": "R code 2.2"
   },
   "outputs": [],
   "source": [
    "dbinom( 6 , size=9 , prob=0.5 )\n"
   ]
  },
  {
   "cell_type": "code",
   "execution_count": null,
   "id": "adult-hypothetical",
   "metadata": {
    "lines_to_next_cell": 0,
    "name": "R code 2.3"
   },
   "outputs": [],
   "source": [
    "# define grid\n",
    "p_grid <- seq( from=0 , to=1 , length.out=20 )\n",
    "\n",
    "# define prior\n",
    "prior <- rep( 1 , 20 )\n",
    "\n",
    "# compute likelihood at each value in grid\n",
    "likelihood <- dbinom( 6 , size=9 , prob=p_grid )\n",
    "\n",
    "# compute product of likelihood and prior\n",
    "unstd.posterior <- likelihood * prior\n",
    "\n",
    "# standardize the posterior, so it sums to 1\n",
    "posterior <- unstd.posterior / sum(unstd.posterior)\n"
   ]
  },
  {
   "cell_type": "code",
   "execution_count": null,
   "id": "proprietary-participant",
   "metadata": {
    "lines_to_next_cell": 0,
    "name": "R code 2.4"
   },
   "outputs": [],
   "source": [
    "plot( p_grid , posterior , type=\"b\" ,\n",
    "    xlab=\"probability of water\" , ylab=\"posterior probability\" )\n",
    "mtext( \"20 points\" )\n"
   ]
  },
  {
   "cell_type": "code",
   "execution_count": null,
   "id": "indonesian-luxembourg",
   "metadata": {
    "lines_to_next_cell": 0,
    "name": "R code 2.5"
   },
   "outputs": [],
   "source": [
    "prior <- ifelse( p_grid < 0.5 , 0 , 1 )\n",
    "prior <- exp( -5*abs( p_grid - 0.5 ) )\n"
   ]
  },
  {
   "cell_type": "code",
   "execution_count": null,
   "id": "oriental-royalty",
   "metadata": {
    "lines_to_next_cell": 0,
    "name": "R code 2.6"
   },
   "outputs": [],
   "source": [
    "library(rethinking)\n",
    "globe.qa <- quap(\n",
    "    alist(\n",
    "        W ~ dbinom( W+L ,p) ,  # binomial likelihood\n",
    "        p ~ dunif(0,1)     # uniform prior\n",
    "    ) ,\n",
    "    data=list(W=6,L=3) )\n",
    "\n",
    "# display summary of quadratic approximation\n",
    "precis( globe.qa )\n"
   ]
  },
  {
   "cell_type": "code",
   "execution_count": null,
   "id": "musical-arena",
   "metadata": {
    "lines_to_next_cell": 0,
    "name": "R code 2.7"
   },
   "outputs": [],
   "source": [
    "# analytical calculation\n",
    "W <- 6\n",
    "L <- 3\n",
    "curve( dbeta( x , W+1 , L+1 ) , from=0 , to=1 )\n",
    "# quadratic approximation\n",
    "curve( dnorm( x , 0.67 , 0.16 ) , lty=2 , add=TRUE )\n"
   ]
  },
  {
   "cell_type": "code",
   "execution_count": null,
   "id": "stretch-convergence",
   "metadata": {
    "lines_to_next_cell": 0,
    "name": "R code 2.8"
   },
   "outputs": [],
   "source": [
    "n_samples <- 1000\n",
    "p <- rep( NA , n_samples )\n",
    "p[1] <- 0.5\n",
    "W <- 6\n",
    "L <- 3\n",
    "for ( i in 2:n_samples ) {\n",
    "    p_new <- rnorm( 1 , p[i-1] , 0.1 )\n",
    "    if ( p_new < 0 ) p_new <- abs( p_new )\n",
    "    if ( p_new > 1 ) p_new <- 2 - p_new\n",
    "    q0 <- dbinom( W , W+L , p[i-1] )\n",
    "    q1 <- dbinom( W , W+L , p_new )\n",
    "    p[i] <- ifelse( runif(1) < q1/q0 , p_new , p[i-1] )\n",
    "}\n"
   ]
  },
  {
   "cell_type": "code",
   "execution_count": null,
   "id": "mathematical-astronomy",
   "metadata": {
    "lines_to_next_cell": 0,
    "name": "R code 2.9"
   },
   "outputs": [],
   "source": [
    "dens( p , xlim=c(0,1) )\n",
    "curve( dbeta( x , W+1 , L+1 ) , lty=2 , add=TRUE )"
   ]
  },
  {
   "cell_type": "markdown",
   "id": "scientific-array",
   "metadata": {},
   "source": []
  }
 ],
 "metadata": {
  "jupytext": {
   "cell_metadata_filter": "name,-all",
   "main_language": "R",
   "notebook_metadata_filter": "-all"
  }
 },
 "nbformat": 4,
 "nbformat_minor": 5
}
