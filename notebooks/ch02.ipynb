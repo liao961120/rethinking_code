{
 "cells": [
  {
   "cell_type": "markdown",
   "id": "photographic-vitamin",
   "metadata": {
    "lines_to_next_cell": 0
   },
   "source": []
  },
  {
   "cell_type": "code",
   "execution_count": null,
   "id": "adaptive-calendar",
   "metadata": {
    "name": "Setup"
   },
   "outputs": [],
   "source": [
    "remotes::install_github('rmcelreath/rethinking', upgrade=F)"
   ]
  },
  {
   "cell_type": "markdown",
   "id": "collected-heavy",
   "metadata": {},
   "source": [
    "R code 2.1"
   ]
  },
  {
   "cell_type": "code",
   "execution_count": null,
   "id": "optical-bedroom",
   "metadata": {
    "name": "R code 2.1"
   },
   "outputs": [],
   "source": [
    "ways <- c( 0 , 3 , 8 , 9 , 0 )\n",
    "ways/sum(ways)"
   ]
  },
  {
   "cell_type": "markdown",
   "id": "linear-atmosphere",
   "metadata": {},
   "source": [
    "R code 2.2"
   ]
  },
  {
   "cell_type": "code",
   "execution_count": null,
   "id": "defined-cylinder",
   "metadata": {
    "name": "R code 2.2"
   },
   "outputs": [],
   "source": [
    "dbinom( 6 , size=9 , prob=0.5 )"
   ]
  },
  {
   "cell_type": "markdown",
   "id": "indonesian-plaza",
   "metadata": {},
   "source": [
    "R code 2.3"
   ]
  },
  {
   "cell_type": "code",
   "execution_count": null,
   "id": "equivalent-textbook",
   "metadata": {
    "name": "R code 2.3"
   },
   "outputs": [],
   "source": [
    "# define grid\n",
    "p_grid <- seq( from=0 , to=1 , length.out=20 )\n",
    "\n",
    "# define prior\n",
    "prior <- rep( 1 , 20 )\n",
    "\n",
    "# compute likelihood at each value in grid\n",
    "likelihood <- dbinom( 6 , size=9 , prob=p_grid )\n",
    "\n",
    "# compute product of likelihood and prior\n",
    "unstd.posterior <- likelihood * prior\n",
    "\n",
    "# standardize the posterior, so it sums to 1\n",
    "posterior <- unstd.posterior / sum(unstd.posterior)"
   ]
  },
  {
   "cell_type": "markdown",
   "id": "northern-venture",
   "metadata": {},
   "source": [
    "R code 2.4"
   ]
  },
  {
   "cell_type": "code",
   "execution_count": null,
   "id": "atomic-safety",
   "metadata": {
    "name": "R code 2.4"
   },
   "outputs": [],
   "source": [
    "plot( p_grid , posterior , type=\"b\" ,\n",
    "    xlab=\"probability of water\" , ylab=\"posterior probability\" )\n",
    "mtext( \"20 points\" )"
   ]
  },
  {
   "cell_type": "markdown",
   "id": "tracked-wallpaper",
   "metadata": {},
   "source": [
    "R code 2.5"
   ]
  },
  {
   "cell_type": "code",
   "execution_count": null,
   "id": "exciting-pixel",
   "metadata": {
    "name": "R code 2.5"
   },
   "outputs": [],
   "source": [
    "prior <- ifelse( p_grid < 0.5 , 0 , 1 )\n",
    "prior <- exp( -5*abs( p_grid - 0.5 ) )"
   ]
  },
  {
   "cell_type": "markdown",
   "id": "beautiful-husband",
   "metadata": {},
   "source": [
    "R code 2.6"
   ]
  },
  {
   "cell_type": "code",
   "execution_count": null,
   "id": "utility-pacific",
   "metadata": {
    "name": "R code 2.6"
   },
   "outputs": [],
   "source": [
    "library(rethinking)\n",
    "globe.qa <- quap(\n",
    "    alist(\n",
    "        W ~ dbinom( W+L ,p) ,  # binomial likelihood\n",
    "        p ~ dunif(0,1)     # uniform prior\n",
    "    ) ,\n",
    "    data=list(W=6,L=3) )\n",
    "\n",
    "# display summary of quadratic approximation\n",
    "precis( globe.qa )"
   ]
  },
  {
   "cell_type": "markdown",
   "id": "organizational-permit",
   "metadata": {},
   "source": [
    "R code 2.7"
   ]
  },
  {
   "cell_type": "code",
   "execution_count": null,
   "id": "loving-information",
   "metadata": {
    "name": "R code 2.7"
   },
   "outputs": [],
   "source": [
    "# analytical calculation\n",
    "W <- 6\n",
    "L <- 3\n",
    "curve( dbeta( x , W+1 , L+1 ) , from=0 , to=1 )\n",
    "# quadratic approximation\n",
    "curve( dnorm( x , 0.67 , 0.16 ) , lty=2 , add=TRUE )"
   ]
  },
  {
   "cell_type": "markdown",
   "id": "regional-yeast",
   "metadata": {},
   "source": [
    "R code 2.8"
   ]
  },
  {
   "cell_type": "code",
   "execution_count": null,
   "id": "closed-balance",
   "metadata": {
    "name": "R code 2.8"
   },
   "outputs": [],
   "source": [
    "n_samples <- 1000\n",
    "p <- rep( NA , n_samples )\n",
    "p[1] <- 0.5\n",
    "W <- 6\n",
    "L <- 3\n",
    "for ( i in 2:n_samples ) {\n",
    "    p_new <- rnorm( 1 , p[i-1] , 0.1 )\n",
    "    if ( p_new < 0 ) p_new <- abs( p_new )\n",
    "    if ( p_new > 1 ) p_new <- 2 - p_new\n",
    "    q0 <- dbinom( W , W+L , p[i-1] )\n",
    "    q1 <- dbinom( W , W+L , p_new )\n",
    "    p[i] <- ifelse( runif(1) < q1/q0 , p_new , p[i-1] )\n",
    "}"
   ]
  },
  {
   "cell_type": "markdown",
   "id": "killing-muslim",
   "metadata": {},
   "source": [
    "R code 2.9"
   ]
  },
  {
   "cell_type": "code",
   "execution_count": null,
   "id": "occupied-squad",
   "metadata": {
    "lines_to_next_cell": 0,
    "name": "R code 2.9"
   },
   "outputs": [],
   "source": [
    "dens( p , xlim=c(0,1) )\n",
    "curve( dbeta( x , W+1 , L+1 ) , lty=2 , add=TRUE )"
   ]
  },
  {
   "cell_type": "markdown",
   "id": "quarterly-canon",
   "metadata": {},
   "source": []
  }
 ],
 "metadata": {
  "jupytext": {
   "cell_metadata_filter": "name,-all",
   "main_language": "R",
   "notebook_metadata_filter": "-all"
  }
 },
 "nbformat": 4,
 "nbformat_minor": 5
}
