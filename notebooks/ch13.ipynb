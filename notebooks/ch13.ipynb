{
 "cells": [
  {
   "cell_type": "markdown",
   "id": "understanding-notebook",
   "metadata": {
    "lines_to_next_cell": 0
   },
   "source": []
  },
  {
   "cell_type": "code",
   "execution_count": null,
   "id": "favorite-despite",
   "metadata": {
    "lines_to_next_cell": 0,
    "name": "Setup"
   },
   "outputs": [],
   "source": [
    "remotes::install_github('rmcelreath/rethinking', upgrade=F)\n"
   ]
  },
  {
   "cell_type": "code",
   "execution_count": null,
   "id": "focal-ticket",
   "metadata": {
    "lines_to_next_cell": 0,
    "name": "R code 13.1"
   },
   "outputs": [],
   "source": [
    "library(rethinking)\n",
    "data(reedfrogs)\n",
    "d <- reedfrogs\n",
    "str(d)\n"
   ]
  },
  {
   "cell_type": "code",
   "execution_count": null,
   "id": "infrared-commerce",
   "metadata": {
    "lines_to_next_cell": 0,
    "name": "R code 13.2"
   },
   "outputs": [],
   "source": [
    "# make the tank cluster variable\n",
    "d$tank <- 1:nrow(d)\n",
    "\n",
    "dat <- list(\n",
    "    S = d$surv,\n",
    "    N = d$density,\n",
    "    tank = d$tank )\n",
    "\n",
    "# approximate posterior\n",
    "m13.1 <- ulam(\n",
    "    alist(\n",
    "        S ~ dbinom( N , p ) ,\n",
    "        logit(p) <- a[tank] ,\n",
    "        a[tank] ~ dnorm( 0 , 1.5 )\n",
    "    ), data=dat , chains=4 , log_lik=TRUE )\n"
   ]
  },
  {
   "cell_type": "code",
   "execution_count": null,
   "id": "august-respect",
   "metadata": {
    "lines_to_next_cell": 0,
    "name": "R code 13.3"
   },
   "outputs": [],
   "source": [
    "m13.2 <- ulam(\n",
    "    alist(\n",
    "        S ~ dbinom( N , p ) ,\n",
    "        logit(p) <- a[tank] ,\n",
    "        a[tank] ~ dnorm( a_bar , sigma ) ,\n",
    "        a_bar ~ dnorm( 0 , 1.5 ) ,\n",
    "        sigma ~ dexp( 1 )\n",
    "    ), data=dat , chains=4 , log_lik=TRUE )\n"
   ]
  },
  {
   "cell_type": "code",
   "execution_count": null,
   "id": "acquired-twins",
   "metadata": {
    "lines_to_next_cell": 0,
    "name": "R code 13.4"
   },
   "outputs": [],
   "source": [
    "compare( m13.1 , m13.2 )\n"
   ]
  },
  {
   "cell_type": "code",
   "execution_count": null,
   "id": "comprehensive-geneva",
   "metadata": {
    "lines_to_next_cell": 0,
    "name": "R code 13.5"
   },
   "outputs": [],
   "source": [
    "# extract Stan samples\n",
    "post <- extract.samples(m13.2)\n",
    "\n",
    "# compute mean intercept for each tank\n",
    "# also transform to probability with logistic\n",
    "d$propsurv.est <- logistic( apply( post$a , 2 , mean ) )\n",
    "\n",
    "# display raw proportions surviving in each tank\n",
    "plot( d$propsurv , ylim=c(0,1) , pch=16 , xaxt=\"n\" ,\n",
    "    xlab=\"tank\" , ylab=\"proportion survival\" , col=rangi2 )\n",
    "axis( 1 , at=c(1,16,32,48) , labels=c(1,16,32,48) )\n",
    "\n",
    "# overlay posterior means\n",
    "points( d$propsurv.est )\n",
    "\n",
    "# mark posterior mean probability across tanks\n",
    "abline( h=mean(inv_logit(post$a_bar)) , lty=2 )\n",
    "\n",
    "# draw vertical dividers between tank densities\n",
    "abline( v=16.5 , lwd=0.5 )\n",
    "abline( v=32.5 , lwd=0.5 )\n",
    "text( 8 , 0 , \"small tanks\" )\n",
    "text( 16+8 , 0 , \"medium tanks\" )\n",
    "text( 32+8 , 0 , \"large tanks\" )\n"
   ]
  },
  {
   "cell_type": "code",
   "execution_count": null,
   "id": "coupled-airport",
   "metadata": {
    "lines_to_next_cell": 0,
    "name": "R code 13.6"
   },
   "outputs": [],
   "source": [
    "# show first 100 populations in the posterior\n",
    "plot( NULL , xlim=c(-3,4) , ylim=c(0,0.35) ,\n",
    "    xlab=\"log-odds survive\" , ylab=\"Density\" )\n",
    "for ( i in 1:100 )\n",
    "    curve( dnorm(x,post$a_bar[i],post$sigma[i]) , add=TRUE ,\n",
    "    col=col.alpha(\"black\",0.2) )\n",
    "\n",
    "# sample 8000 imaginary tanks from the posterior distribution\n",
    "sim_tanks <- rnorm( 8000 , post$a_bar , post$sigma )\n",
    "\n",
    "# transform to probability and visualize\n",
    "dens( inv_logit(sim_tanks) , lwd=2 , adj=0.1 )\n"
   ]
  },
  {
   "cell_type": "code",
   "execution_count": null,
   "id": "powered-puzzle",
   "metadata": {
    "lines_to_next_cell": 0,
    "name": "R code 13.7"
   },
   "outputs": [],
   "source": [
    "a_bar <- 1.5\n",
    "sigma <- 1.5\n",
    "nponds <- 60\n",
    "Ni <- as.integer( rep( c(5,10,25,35) , each=15 ) )\n"
   ]
  },
  {
   "cell_type": "code",
   "execution_count": null,
   "id": "pursuant-america",
   "metadata": {
    "lines_to_next_cell": 0,
    "name": "R code 13.8"
   },
   "outputs": [],
   "source": [
    "set.seed(5005)\n",
    "a_pond <- rnorm( nponds , mean=a_bar , sd=sigma )\n"
   ]
  },
  {
   "cell_type": "code",
   "execution_count": null,
   "id": "killing-relaxation",
   "metadata": {
    "lines_to_next_cell": 0,
    "name": "R code 13.9"
   },
   "outputs": [],
   "source": [
    "dsim <- data.frame( pond=1:nponds , Ni=Ni , true_a=a_pond )\n"
   ]
  },
  {
   "cell_type": "code",
   "execution_count": null,
   "id": "intelligent-reminder",
   "metadata": {
    "lines_to_next_cell": 0,
    "name": "R code 13.10"
   },
   "outputs": [],
   "source": [
    "class(1:3)\n",
    "class(c(1,2,3))\n"
   ]
  },
  {
   "cell_type": "code",
   "execution_count": null,
   "id": "italian-samba",
   "metadata": {
    "lines_to_next_cell": 0,
    "name": "R code 13.11"
   },
   "outputs": [],
   "source": [
    "dsim$Si <- rbinom( nponds , prob=logistic(dsim$true_a) , size=dsim$Ni )\n"
   ]
  },
  {
   "cell_type": "code",
   "execution_count": null,
   "id": "joint-jimmy",
   "metadata": {
    "lines_to_next_cell": 0,
    "name": "R code 13.12"
   },
   "outputs": [],
   "source": [
    "dsim$p_nopool <- dsim$Si / dsim$Ni\n"
   ]
  },
  {
   "cell_type": "code",
   "execution_count": null,
   "id": "maritime-carpet",
   "metadata": {
    "lines_to_next_cell": 0,
    "name": "R code 13.13"
   },
   "outputs": [],
   "source": [
    "dat <- list( Si=dsim$Si , Ni=dsim$Ni , pond=dsim$pond )\n",
    "m13.3 <- ulam(\n",
    "    alist(\n",
    "        Si ~ dbinom( Ni , p ),\n",
    "        logit(p) <- a_pond[pond],\n",
    "        a_pond[pond] ~ dnorm( a_bar , sigma ),\n",
    "        a_bar ~ dnorm( 0 , 1.5 ),\n",
    "        sigma ~ dexp( 1 )\n",
    "    ), data=dat , chains=4 )\n"
   ]
  },
  {
   "cell_type": "code",
   "execution_count": null,
   "id": "final-pension",
   "metadata": {
    "lines_to_next_cell": 0,
    "name": "R code 13.14"
   },
   "outputs": [],
   "source": [
    "precis( m13.3 , depth=2 )\n"
   ]
  },
  {
   "cell_type": "code",
   "execution_count": null,
   "id": "greatest-algebra",
   "metadata": {
    "lines_to_next_cell": 0,
    "name": "R code 13.15"
   },
   "outputs": [],
   "source": [
    "post <- extract.samples( m13.3 )\n",
    "dsim$p_partpool <- apply( inv_logit(post$a_pond) , 2 , mean )\n"
   ]
  },
  {
   "cell_type": "code",
   "execution_count": null,
   "id": "assigned-province",
   "metadata": {
    "lines_to_next_cell": 0,
    "name": "R code 13.16"
   },
   "outputs": [],
   "source": [
    "dsim$p_true <- inv_logit( dsim$true_a )\n"
   ]
  },
  {
   "cell_type": "code",
   "execution_count": null,
   "id": "split-senate",
   "metadata": {
    "lines_to_next_cell": 0,
    "name": "R code 13.17"
   },
   "outputs": [],
   "source": [
    "nopool_error <- abs( dsim$p_nopool - dsim$p_true )\n",
    "partpool_error <- abs( dsim$p_partpool - dsim$p_true )\n"
   ]
  },
  {
   "cell_type": "code",
   "execution_count": null,
   "id": "complimentary-restaurant",
   "metadata": {
    "lines_to_next_cell": 0,
    "name": "R code 13.18"
   },
   "outputs": [],
   "source": [
    "plot( 1:60 , nopool_error , xlab=\"pond\" , ylab=\"absolute error\" ,\n",
    "    col=rangi2 , pch=16 )\n",
    "points( 1:60 , partpool_error )\n"
   ]
  },
  {
   "cell_type": "code",
   "execution_count": null,
   "id": "sunrise-equivalent",
   "metadata": {
    "lines_to_next_cell": 0,
    "name": "R code 13.19"
   },
   "outputs": [],
   "source": [
    "nopool_avg <- aggregate(nopool_error,list(dsim$Ni),mean)\n",
    "partpool_avg <- aggregate(partpool_error,list(dsim$Ni),mean)\n"
   ]
  },
  {
   "cell_type": "code",
   "execution_count": null,
   "id": "functional-librarian",
   "metadata": {
    "lines_to_next_cell": 0,
    "name": "R code 13.20"
   },
   "outputs": [],
   "source": [
    "a <- 1.5\n",
    "sigma <- 1.5\n",
    "nponds <- 60\n",
    "Ni <- as.integer( rep( c(5,10,25,35) , each=15 ) )\n",
    "a_pond <- rnorm( nponds , mean=a , sd=sigma )\n",
    "dsim <- data.frame( pond=1:nponds , Ni=Ni , true_a=a_pond )\n",
    "dsim$Si <- rbinom( nponds,prob=inv_logit( dsim$true_a ),size=dsim$Ni )\n",
    "dsim$p_nopool <- dsim$Si / dsim$Ni\n",
    "newdat <- list(Si=dsim$Si,Ni=dsim$Ni,pond=1:nponds)\n",
    "m13.3new <- stan( fit=m13.3@stanfit , data=newdat , chains=4 )\n",
    "\n",
    "post <- extract.samples( m13.3new )\n",
    "dsim$p_partpool <- apply( inv_logit(post$a_pond) , 2 , mean )\n",
    "dsim$p_true <- inv_logit( dsim$true_a )\n",
    "nopool_error <- abs( dsim$p_nopool - dsim$p_true )\n",
    "partpool_error <- abs( dsim$p_partpool - dsim$p_true )\n",
    "plot( 1:60 , nopool_error , xlab=\"pond\" , ylab=\"absolute error\" , col=rangi2 , pch=16 )\n",
    "points( 1:60 , partpool_error )\n"
   ]
  },
  {
   "cell_type": "code",
   "execution_count": null,
   "id": "reserved-greece",
   "metadata": {
    "lines_to_next_cell": 0,
    "name": "R code 13.21"
   },
   "outputs": [],
   "source": [
    "library(rethinking)\n",
    "data(chimpanzees)\n",
    "d <- chimpanzees\n",
    "d$treatment <- 1 + d$prosoc_left + 2*d$condition\n",
    "\n",
    "dat_list <- list(\n",
    "    pulled_left = d$pulled_left,\n",
    "    actor = d$actor,\n",
    "    block_id = d$block,\n",
    "    treatment = as.integer(d$treatment) )\n",
    "\n",
    "set.seed(13)\n",
    "m13.4 <- ulam(\n",
    "    alist(\n",
    "        pulled_left ~ dbinom( 1 , p ) ,\n",
    "        logit(p) <- a[actor] + g[block_id] + b[treatment] ,\n",
    "        b[treatment] ~ dnorm( 0 , 0.5 ),\n",
    "      ## adaptive priors\n",
    "        a[actor] ~ dnorm( a_bar , sigma_a ),\n",
    "        g[block_id] ~ dnorm( 0 , sigma_g ),\n",
    "      ## hyper-priors\n",
    "        a_bar ~ dnorm( 0 , 1.5 ),\n",
    "        sigma_a ~ dexp(1),\n",
    "        sigma_g ~ dexp(1)\n",
    "    ) , data=dat_list , chains=4 , cores=4 , log_lik=TRUE )\n"
   ]
  },
  {
   "cell_type": "code",
   "execution_count": null,
   "id": "unlikely-saturday",
   "metadata": {
    "lines_to_next_cell": 0,
    "name": "R code 13.22"
   },
   "outputs": [],
   "source": [
    "precis( m13.4 , depth=2 )\n",
    "plot( precis(m13.4,depth=2) ) # also plot\n"
   ]
  },
  {
   "cell_type": "code",
   "execution_count": null,
   "id": "instrumental-synthetic",
   "metadata": {
    "lines_to_next_cell": 0,
    "name": "R code 13.23"
   },
   "outputs": [],
   "source": [
    "set.seed(14)\n",
    "m13.5 <- ulam(\n",
    "    alist(\n",
    "        pulled_left ~ dbinom( 1 , p ) ,\n",
    "        logit(p) <- a[actor] + b[treatment] ,\n",
    "        b[treatment] ~ dnorm( 0 , 0.5 ),\n",
    "        a[actor] ~ dnorm( a_bar , sigma_a ),\n",
    "        a_bar ~ dnorm( 0 , 1.5 ),\n",
    "        sigma_a ~ dexp(1)\n",
    "    ) , data=dat_list , chains=4 , cores=4 , log_lik=TRUE )\n"
   ]
  },
  {
   "cell_type": "code",
   "execution_count": null,
   "id": "listed-burns",
   "metadata": {
    "lines_to_next_cell": 0,
    "name": "R code 13.24"
   },
   "outputs": [],
   "source": [
    "compare( m13.4 , m13.5 )\n"
   ]
  },
  {
   "cell_type": "code",
   "execution_count": null,
   "id": "chinese-profit",
   "metadata": {
    "lines_to_next_cell": 0,
    "name": "R code 13.25"
   },
   "outputs": [],
   "source": [
    "set.seed(15)\n",
    "m13.6 <- ulam(\n",
    "    alist(\n",
    "        pulled_left ~ dbinom( 1 , p ) ,\n",
    "        logit(p) <- a[actor] + g[block_id] + b[treatment] ,\n",
    "        b[treatment] ~ dnorm( 0 , sigma_b ),\n",
    "        a[actor] ~ dnorm( a_bar , sigma_a ),\n",
    "        g[block_id] ~ dnorm( 0 , sigma_g ),\n",
    "        a_bar ~ dnorm( 0 , 1.5 ),\n",
    "        sigma_a ~ dexp(1),\n",
    "        sigma_g ~ dexp(1),\n",
    "        sigma_b ~ dexp(1)\n",
    "    ) , data=dat_list , chains=4 , cores=4 , log_lik=TRUE )\n",
    "coeftab( m13.4 , m13.6 )\n"
   ]
  },
  {
   "cell_type": "code",
   "execution_count": null,
   "id": "elder-plant",
   "metadata": {
    "lines_to_next_cell": 0,
    "name": "R code 13.26"
   },
   "outputs": [],
   "source": [
    "m13.7 <- ulam(\n",
    "    alist(\n",
    "        v ~ normal(0,3),\n",
    "        x ~ normal(0,exp(v))\n",
    "    ), data=list(N=1) , chains=4 )\n",
    "precis( m13.7 )\n"
   ]
  },
  {
   "cell_type": "code",
   "execution_count": null,
   "id": "manual-reproduction",
   "metadata": {
    "lines_to_next_cell": 0,
    "name": "R code 13.27"
   },
   "outputs": [],
   "source": [
    "m13.7nc <- ulam(\n",
    "    alist(\n",
    "        v ~ normal(0,3),\n",
    "        z ~ normal(0,1),\n",
    "        gq> real[1]:x <<- z*exp(v)\n",
    "    ), data=list(N=1) , chains=4 )\n",
    "precis( m13.7nc )\n"
   ]
  },
  {
   "cell_type": "code",
   "execution_count": null,
   "id": "accessible-proposition",
   "metadata": {
    "lines_to_next_cell": 0,
    "name": "R code 13.28"
   },
   "outputs": [],
   "source": [
    "set.seed(13)\n",
    "m13.4b <- ulam( m13.4 , chains=4 , cores=4 , control=list(adapt_delta=0.99) )\n",
    "divergent(m13.4b)\n"
   ]
  },
  {
   "cell_type": "code",
   "execution_count": null,
   "id": "devoted-petersburg",
   "metadata": {
    "lines_to_next_cell": 0,
    "name": "R code 13.29"
   },
   "outputs": [],
   "source": [
    "set.seed(13)\n",
    "m13.4nc <- ulam(\n",
    "    alist(\n",
    "        pulled_left ~ dbinom( 1 , p ) ,\n",
    "        logit(p) <- a_bar + z[actor]*sigma_a + # actor intercepts\n",
    "                    x[block_id]*sigma_g +      # block intercepts\n",
    "                    b[treatment] ,\n",
    "        b[treatment] ~ dnorm( 0 , 0.5 ),\n",
    "        z[actor] ~ dnorm( 0 , 1 ),\n",
    "        x[block_id] ~ dnorm( 0 , 1 ),\n",
    "        a_bar ~ dnorm( 0 , 1.5 ),\n",
    "        sigma_a ~ dexp(1),\n",
    "        sigma_g ~ dexp(1),\n",
    "        gq> vector[actor]:a <<- a_bar + z*sigma_a,\n",
    "        gq> vector[block_id]:g <<- x*sigma_g\n",
    "    ) , data=dat_list , chains=4 , cores=4 )\n"
   ]
  },
  {
   "cell_type": "code",
   "execution_count": null,
   "id": "described-junior",
   "metadata": {
    "lines_to_next_cell": 0,
    "name": "R code 13.30"
   },
   "outputs": [],
   "source": [
    "precis_c <- precis( m13.4 , depth=2 )\n",
    "precis_nc <- precis( m13.4nc , depth=2 )\n",
    "pars <- c( paste(\"a[\",1:7,\"]\",sep=\"\") , paste(\"g[\",1:6,\"]\",sep=\"\") ,\n",
    "           paste(\"b[\",1:4,\"]\",sep=\"\") , \"a_bar\" , \"sigma_a\" , \"sigma_g\" )\n",
    "neff_table <- cbind( precis_c[pars,\"n_eff\"] , precis_nc[pars,\"n_eff\"] )\n",
    "plot( neff_table , xlim=range(neff_table) , ylim=range(neff_table) ,\n",
    "    xlab=\"n_eff (centered)\" , ylab=\"n_eff (non-centered)\" , lwd=2 )\n",
    "abline( a=0 , b=1 , lty=2 )\n"
   ]
  },
  {
   "cell_type": "code",
   "execution_count": null,
   "id": "accredited-aviation",
   "metadata": {
    "lines_to_next_cell": 0,
    "name": "R code 13.31"
   },
   "outputs": [],
   "source": [
    "chimp <- 2\n",
    "d_pred <- list(\n",
    "    actor = rep(chimp,4),\n",
    "    treatment = 1:4,\n",
    "    block_id = rep(1,4)\n",
    ")\n",
    "p <- link( m13.4 , data=d_pred )\n",
    "p_mu <- apply( p , 2 , mean )\n",
    "p_ci <- apply( p , 2 , PI )\n"
   ]
  },
  {
   "cell_type": "code",
   "execution_count": null,
   "id": "reflected-gregory",
   "metadata": {
    "lines_to_next_cell": 0,
    "name": "R code 13.32"
   },
   "outputs": [],
   "source": [
    "post <- extract.samples(m13.4)\n",
    "str(post)\n"
   ]
  },
  {
   "cell_type": "code",
   "execution_count": null,
   "id": "emotional-pacific",
   "metadata": {
    "lines_to_next_cell": 0,
    "name": "R code 13.33"
   },
   "outputs": [],
   "source": [
    "dens( post$a[,5] )\n"
   ]
  },
  {
   "cell_type": "code",
   "execution_count": null,
   "id": "exotic-firewall",
   "metadata": {
    "lines_to_next_cell": 0,
    "name": "R code 13.34"
   },
   "outputs": [],
   "source": [
    "p_link <- function( treatment , actor=1 , block_id=1 ) {\n",
    "    logodds <- with( post ,\n",
    "        a[,actor] + g[,block_id] + b[,treatment] )\n",
    "    return( inv_logit(logodds) )\n",
    "}\n"
   ]
  },
  {
   "cell_type": "code",
   "execution_count": null,
   "id": "divine-sussex",
   "metadata": {
    "lines_to_next_cell": 0,
    "name": "R code 13.35"
   },
   "outputs": [],
   "source": [
    "p_raw <- sapply( 1:4 , function(i) p_link( i , actor=2 , block_id=1 ) )\n",
    "p_mu <- apply( p_raw , 2 , mean )\n",
    "p_ci <- apply( p_raw , 2 , PI )\n"
   ]
  },
  {
   "cell_type": "code",
   "execution_count": null,
   "id": "talented-precipitation",
   "metadata": {
    "lines_to_next_cell": 0,
    "name": "R code 13.36"
   },
   "outputs": [],
   "source": [
    "p_link_abar <- function( treatment ) {\n",
    "    logodds <- with( post , a_bar + b[,treatment] )\n",
    "    return( inv_logit(logodds) )\n",
    "}\n"
   ]
  },
  {
   "cell_type": "code",
   "execution_count": null,
   "id": "fatal-bridge",
   "metadata": {
    "lines_to_next_cell": 0,
    "name": "R code 13.37"
   },
   "outputs": [],
   "source": [
    "post <- extract.samples(m13.4)\n",
    "p_raw <- sapply( 1:4 , function(i) p_link_abar( i ) )\n",
    "p_mu <- apply( p_raw , 2 , mean )\n",
    "p_ci <- apply( p_raw , 2 , PI )\n",
    "\n",
    "plot( NULL , xlab=\"treatment\" , ylab=\"proportion pulled left\" ,\n",
    "    ylim=c(0,1) , xaxt=\"n\" , xlim=c(1,4) )\n",
    "axis( 1 , at=1:4 , labels=c(\"R/N\",\"L/N\",\"R/P\",\"L/P\") )\n",
    "lines( 1:4 , p_mu )\n",
    "shade( p_ci , 1:4 )\n"
   ]
  },
  {
   "cell_type": "code",
   "execution_count": null,
   "id": "amended-worcester",
   "metadata": {
    "lines_to_next_cell": 0,
    "name": "R code 13.38"
   },
   "outputs": [],
   "source": [
    "a_sim <- with( post , rnorm( length(post$a_bar) , a_bar , sigma_a ) )\n",
    "p_link_asim <- function( treatment ) {\n",
    "    logodds <- with( post , a_sim + b[,treatment] )\n",
    "    return( inv_logit(logodds) )\n",
    "}\n",
    "p_raw_asim <- sapply( 1:4 , function(i) p_link_asim( i ) )\n"
   ]
  },
  {
   "cell_type": "code",
   "execution_count": null,
   "id": "dress-spare",
   "metadata": {
    "lines_to_next_cell": 0,
    "name": "R code 13.39"
   },
   "outputs": [],
   "source": [
    "plot( NULL , xlab=\"treatment\" , ylab=\"proportion pulled left\" ,\n",
    "    ylim=c(0,1) , xaxt=\"n\" , xlim=c(1,4) )\n",
    "axis( 1 , at=1:4 , labels=c(\"R/N\",\"L/N\",\"R/P\",\"L/P\") )\n",
    "for ( i in 1:100 ) lines( 1:4 , p_raw_asim[i,] , col=grau(0.25) , lwd=2 )\n"
   ]
  },
  {
   "cell_type": "code",
   "execution_count": null,
   "id": "respiratory-blast",
   "metadata": {
    "lines_to_next_cell": 0,
    "name": "R code 13.40"
   },
   "outputs": [],
   "source": []
  },
  {
   "cell_type": "code",
   "execution_count": null,
   "id": "contemporary-lender",
   "metadata": {
    "lines_to_next_cell": 0,
    "name": "R code 13.41"
   },
   "outputs": [],
   "source": []
  },
  {
   "cell_type": "markdown",
   "id": "worthy-export",
   "metadata": {},
   "source": []
  }
 ],
 "metadata": {
  "jupytext": {
   "cell_metadata_filter": "name,-all",
   "main_language": "R",
   "notebook_metadata_filter": "-all"
  }
 },
 "nbformat": 4,
 "nbformat_minor": 5
}
