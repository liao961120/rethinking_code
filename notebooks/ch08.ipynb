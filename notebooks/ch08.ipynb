{
 "cells": [
  {
   "cell_type": "markdown",
   "id": "logical-influence",
   "metadata": {
    "lines_to_next_cell": 0
   },
   "source": []
  },
  {
   "cell_type": "code",
   "execution_count": null,
   "id": "banned-amendment",
   "metadata": {
    "lines_to_next_cell": 0,
    "name": "Setup"
   },
   "outputs": [],
   "source": [
    "remotes::install_github('rmcelreath/rethinking', upgrade=F)\n"
   ]
  },
  {
   "cell_type": "code",
   "execution_count": null,
   "id": "phantom-philadelphia",
   "metadata": {
    "lines_to_next_cell": 0,
    "name": "R code 8.1"
   },
   "outputs": [],
   "source": [
    "library(rethinking)\n",
    "data(rugged)\n",
    "d <- rugged\n",
    "\n",
    "# make log version of outcome\n",
    "d$log_gdp <- log( d$rgdppc_2000 )\n",
    "\n",
    "# extract countries with GDP data\n",
    "dd <- d[ complete.cases(d$rgdppc_2000) , ]\n",
    "\n",
    "# rescale variables\n",
    "dd$log_gdp_std <- dd$log_gdp / mean(dd$log_gdp)\n",
    "dd$rugged_std <- dd$rugged / max(dd$rugged)\n"
   ]
  },
  {
   "cell_type": "code",
   "execution_count": null,
   "id": "extra-strategy",
   "metadata": {
    "lines_to_next_cell": 0,
    "name": "R code 8.2"
   },
   "outputs": [],
   "source": [
    "m8.1 <- quap(\n",
    "    alist(\n",
    "        log_gdp_std ~ dnorm( mu , sigma ) ,\n",
    "        mu <- a + b*( rugged_std - 0.215 ) ,\n",
    "        a ~ dnorm( 1 , 1 ) ,\n",
    "        b ~ dnorm( 0 , 1 ) ,\n",
    "        sigma ~ dexp( 1 )\n",
    "    ) , data=dd )\n"
   ]
  },
  {
   "cell_type": "code",
   "execution_count": null,
   "id": "fossil-russell",
   "metadata": {
    "lines_to_next_cell": 0,
    "name": "R code 8.3"
   },
   "outputs": [],
   "source": [
    "set.seed(7)\n",
    "prior <- extract.prior( m8.1 )\n",
    "\n",
    "# set up the plot dimensions\n",
    "plot( NULL , xlim=c(0,1) , ylim=c(0.5,1.5) ,\n",
    "    xlab=\"ruggedness\" , ylab=\"log GDP\" )\n",
    "abline( h=min(dd$log_gdp_std) , lty=2 )\n",
    "abline( h=max(dd$log_gdp_std) , lty=2 )\n",
    "\n",
    "# draw 50 lines from the prior\n",
    "rugged_seq <- seq( from=-0.1 , to=1.1 , length.out=30 )\n",
    "mu <- link( m8.1 , post=prior , data=data.frame(rugged_std=rugged_seq) )\n",
    "for ( i in 1:50 ) lines( rugged_seq , mu[i,] , col=col.alpha(\"black\",0.3) )\n"
   ]
  },
  {
   "cell_type": "code",
   "execution_count": null,
   "id": "aggregate-strike",
   "metadata": {
    "lines_to_next_cell": 0,
    "name": "R code 8.4"
   },
   "outputs": [],
   "source": [
    "sum( abs(prior$b) > 0.6 ) / length(prior$b)\n"
   ]
  },
  {
   "cell_type": "code",
   "execution_count": null,
   "id": "absent-marina",
   "metadata": {
    "lines_to_next_cell": 0,
    "name": "R code 8.5"
   },
   "outputs": [],
   "source": [
    "m8.1 <- quap(\n",
    "    alist(\n",
    "        log_gdp_std ~ dnorm( mu , sigma ) ,\n",
    "        mu <- a + b*( rugged_std - 0.215 ) ,\n",
    "        a ~ dnorm( 1 , 0.1 ) ,\n",
    "        b ~ dnorm( 0 , 0.3 ) ,\n",
    "        sigma ~ dexp(1)\n",
    "    ) , data=dd )\n"
   ]
  },
  {
   "cell_type": "code",
   "execution_count": null,
   "id": "hearing-cooling",
   "metadata": {
    "lines_to_next_cell": 0,
    "name": "R code 8.6"
   },
   "outputs": [],
   "source": [
    "precis( m8.1 )\n"
   ]
  },
  {
   "cell_type": "code",
   "execution_count": null,
   "id": "hired-acting",
   "metadata": {
    "lines_to_next_cell": 0,
    "name": "R code 8.7"
   },
   "outputs": [],
   "source": [
    "# make variable to index Africa (1) or not (2)\n",
    "dd$cid <- ifelse( dd$cont_africa==1 , 1 , 2 )\n"
   ]
  },
  {
   "cell_type": "code",
   "execution_count": null,
   "id": "enormous-joint",
   "metadata": {
    "lines_to_next_cell": 0,
    "name": "R code 8.8"
   },
   "outputs": [],
   "source": [
    "m8.2 <- quap(\n",
    "    alist(\n",
    "        log_gdp_std ~ dnorm( mu , sigma ) ,\n",
    "        mu <- a[cid] + b*( rugged_std - 0.215 ) ,\n",
    "        a[cid] ~ dnorm( 1 , 0.1 ) ,\n",
    "        b ~ dnorm( 0 , 0.3 ) ,\n",
    "        sigma ~ dexp( 1 )\n",
    "    ) , data=dd )\n"
   ]
  },
  {
   "cell_type": "code",
   "execution_count": null,
   "id": "textile-coffee",
   "metadata": {
    "lines_to_next_cell": 0,
    "name": "R code 8.9"
   },
   "outputs": [],
   "source": [
    "compare( m8.1 , m8.2 )\n"
   ]
  },
  {
   "cell_type": "code",
   "execution_count": null,
   "id": "voluntary-playback",
   "metadata": {
    "lines_to_next_cell": 0,
    "name": "R code 8.10"
   },
   "outputs": [],
   "source": [
    "precis( m8.2 , depth=2 )\n"
   ]
  },
  {
   "cell_type": "code",
   "execution_count": null,
   "id": "established-strike",
   "metadata": {
    "lines_to_next_cell": 0,
    "name": "R code 8.11"
   },
   "outputs": [],
   "source": [
    "post <- extract.samples(m8.2)\n",
    "diff_a1_a2 <- post$a[,1] - post$a[,2]\n",
    "PI( diff_a1_a2 )\n"
   ]
  },
  {
   "cell_type": "code",
   "execution_count": null,
   "id": "dying-interview",
   "metadata": {
    "lines_to_next_cell": 0,
    "name": "R code 8.12"
   },
   "outputs": [],
   "source": [
    "rugged.seq <- seq( from=-0.1 , to=1.1 , length.out=30 )\n",
    "# compute mu over samples, fixing cid=2 and then cid=1\n",
    "mu.NotAfrica <- link( m8.2 ,\n",
    "    data=data.frame( cid=2 , rugged_std=rugged.seq ) )\n",
    "mu.Africa <- link( m8.2 ,\n",
    "    data=data.frame( cid=1 , rugged_std=rugged.seq ) )\n",
    "# summarize to means and intervals\n",
    "mu.NotAfrica_mu <- apply( mu.NotAfrica , 2 , mean )\n",
    "mu.NotAfrica_ci <- apply( mu.NotAfrica , 2 , PI , prob=0.97 )\n",
    "mu.Africa_mu <- apply( mu.Africa , 2 , mean )\n",
    "mu.Africa_ci <- apply( mu.Africa , 2 , PI , prob=0.97 )\n"
   ]
  },
  {
   "cell_type": "code",
   "execution_count": null,
   "id": "connected-frequency",
   "metadata": {
    "lines_to_next_cell": 0,
    "name": "R code 8.13"
   },
   "outputs": [],
   "source": [
    "m8.3 <- quap(\n",
    "    alist(\n",
    "        log_gdp_std ~ dnorm( mu , sigma ) ,\n",
    "        mu <- a[cid] + b[cid]*( rugged_std - 0.215 ) ,\n",
    "        a[cid] ~ dnorm( 1 , 0.1 ) ,\n",
    "        b[cid] ~ dnorm( 0 , 0.3 ) ,\n",
    "        sigma ~ dexp( 1 )\n",
    "    ) , data=dd )\n"
   ]
  },
  {
   "cell_type": "code",
   "execution_count": null,
   "id": "civic-crash",
   "metadata": {
    "lines_to_next_cell": 0,
    "name": "R code 8.14"
   },
   "outputs": [],
   "source": [
    "precis( m8.5 , depth=2 )\n"
   ]
  },
  {
   "cell_type": "code",
   "execution_count": null,
   "id": "floating-ordinance",
   "metadata": {
    "lines_to_next_cell": 0,
    "name": "R code 8.15"
   },
   "outputs": [],
   "source": [
    "compare( m8.1 , m8.2 , m8.3 , func=PSIS )\n"
   ]
  },
  {
   "cell_type": "code",
   "execution_count": null,
   "id": "alternate-thomas",
   "metadata": {
    "lines_to_next_cell": 0,
    "name": "R code 8.16"
   },
   "outputs": [],
   "source": [
    "plot( PSIS( m8.3 , pointwise=TRUE )$k )\n"
   ]
  },
  {
   "cell_type": "code",
   "execution_count": null,
   "id": "prescription-aquatic",
   "metadata": {
    "lines_to_next_cell": 0,
    "name": "R code 8.17"
   },
   "outputs": [],
   "source": [
    "# plot Africa - cid=1\n",
    "d.A1 <- dd[ dd$cid==1 , ]\n",
    "plot( d.A1$rugged_std , d.A1$log_gdp_std , pch=16 , col=rangi2 ,\n",
    "    xlab=\"ruggedness (standardized)\" , ylab=\"log GDP (as proportion of mean)\" ,\n",
    "    xlim=c(0,1) )\n",
    "mu <- link( m8.3 , data=data.frame( cid=1 , rugged_std=rugged_seq ) )\n",
    "mu_mean <- apply( mu , 2 , mean )\n",
    "mu_ci <- apply( mu , 2 , PI , prob=0.97 )\n",
    "lines( rugged_seq , mu_mean , lwd=2 )\n",
    "shade( mu_ci , rugged_seq , col=col.alpha(rangi2,0.3) )\n",
    "mtext(\"African nations\")\n",
    "\n",
    "# plot non-Africa - cid=2\n",
    "d.A0 <- dd[ dd$cid==2 , ]\n",
    "plot( d.A0$rugged_std , d.A0$log_gdp_std , pch=1 , col=\"black\" ,\n",
    "    xlab=\"ruggedness (standardized)\" , ylab=\"log GDP (as proportion of mean)\" ,\n",
    "    xlim=c(0,1) )\n",
    "mu <- link( m8.3 , data=data.frame( cid=2 , rugged_std=rugged_seq ) )\n",
    "mu_mean <- apply( mu , 2 , mean )\n",
    "mu_ci <- apply( mu , 2 , PI , prob=0.97 )\n",
    "lines( rugged_seq , mu_mean , lwd=2 )\n",
    "shade( mu_ci , rugged_seq )\n",
    "mtext(\"Non-African nations\")\n"
   ]
  },
  {
   "cell_type": "code",
   "execution_count": null,
   "id": "reduced-leonard",
   "metadata": {
    "lines_to_next_cell": 0,
    "name": "R code 8.18"
   },
   "outputs": [],
   "source": [
    "rugged_seq <- seq(from=-0.2,to=1.2,length.out=30)\n",
    "muA <- link( m8.3 , data=data.frame(cid=1,rugged_std=rugged_seq) )\n",
    "muN <- link( m8.3 , data=data.frame(cid=2,rugged_std=rugged_seq) )\n",
    "delta <- muA - muN\n"
   ]
  },
  {
   "cell_type": "code",
   "execution_count": null,
   "id": "commercial-process",
   "metadata": {
    "lines_to_next_cell": 0,
    "name": "R code 8.19"
   },
   "outputs": [],
   "source": [
    "library(rethinking)\n",
    "data(tulips)\n",
    "d <- tulips\n",
    "str(d)\n"
   ]
  },
  {
   "cell_type": "code",
   "execution_count": null,
   "id": "daily-rainbow",
   "metadata": {
    "lines_to_next_cell": 0,
    "name": "R code 8.20"
   },
   "outputs": [],
   "source": [
    "d$blooms_std <- d$blooms / max(d$blooms)\n",
    "d$water_cent <- d$water - mean(d$water)\n",
    "d$shade_cent <- d$shade - mean(d$shade)\n"
   ]
  },
  {
   "cell_type": "code",
   "execution_count": null,
   "id": "adjacent-starter",
   "metadata": {
    "lines_to_next_cell": 0,
    "name": "R code 8.21"
   },
   "outputs": [],
   "source": [
    "a <- rnorm( 1e4 , 0.5 , 1 ); sum( a < 0 | a > 1 ) / length( a )\n"
   ]
  },
  {
   "cell_type": "code",
   "execution_count": null,
   "id": "faced-sleeping",
   "metadata": {
    "lines_to_next_cell": 0,
    "name": "R code 8.22"
   },
   "outputs": [],
   "source": [
    "a <- rnorm( 1e4 , 0.5 , 0.25 ); sum( a < 0 | a > 1 ) / length( a )\n"
   ]
  },
  {
   "cell_type": "code",
   "execution_count": null,
   "id": "sacred-basics",
   "metadata": {
    "lines_to_next_cell": 0,
    "name": "R code 8.23"
   },
   "outputs": [],
   "source": [
    "m8.4 <- quap(\n",
    "    alist(\n",
    "        blooms_std ~ dnorm( mu , sigma ) ,\n",
    "        mu <- a + bw*water_cent + bs*shade_cent ,\n",
    "        a ~ dnorm( 0.5 , 0.25 ) ,\n",
    "        bw ~ dnorm( 0 , 0.25 ) ,\n",
    "        bs ~ dnorm( 0 , 0.25 ) ,\n",
    "        sigma ~ dexp( 1 )\n",
    "    ) , data=d )\n"
   ]
  },
  {
   "cell_type": "code",
   "execution_count": null,
   "id": "consistent-shelter",
   "metadata": {
    "lines_to_next_cell": 0,
    "name": "R code 8.24"
   },
   "outputs": [],
   "source": [
    "m8.5 <- quap(\n",
    "    alist(\n",
    "        blooms_std ~ dnorm( mu , sigma ) ,\n",
    "        mu <- a + bw*water_cent + bs*shade_cent + bws*water_cent*shade_cent ,\n",
    "        a ~ dnorm( 0.5 , 0.25 ) ,\n",
    "        bw ~ dnorm( 0 , 0.25 ) ,\n",
    "        bs ~ dnorm( 0 , 0.25 ) ,\n",
    "        bws ~ dnorm( 0 , 0.25 ) ,\n",
    "        sigma ~ dexp( 1 )\n",
    "    ) , data=d )\n"
   ]
  },
  {
   "cell_type": "code",
   "execution_count": null,
   "id": "cordless-tobago",
   "metadata": {
    "lines_to_next_cell": 0,
    "name": "R code 8.25"
   },
   "outputs": [],
   "source": [
    "par(mfrow=c(1,3)) # 3 plots in 1 row\n",
    "for ( s in -1:1 ) {\n",
    "    idx <- which( d$shade_cent==s )\n",
    "    plot( d$water_cent[idx] , d$blooms_std[idx] , xlim=c(-1,1) , ylim=c(0,1) ,\n",
    "        xlab=\"water\" , ylab=\"blooms\" , pch=16 , col=rangi2 )\n",
    "    mu <- link( m8.4 , data=data.frame( shade_cent=s , water_cent=-1:1 ) )\n",
    "    for ( i in 1:20 ) lines( -1:1 , mu[i,] , col=col.alpha(\"black\",0.3) )\n",
    "}\n"
   ]
  },
  {
   "cell_type": "code",
   "execution_count": null,
   "id": "horizontal-moldova",
   "metadata": {
    "lines_to_next_cell": 0,
    "name": "R code 8.26"
   },
   "outputs": [],
   "source": [
    "set.seed(7)\n",
    "prior <- extract.prior(m8.5)\n"
   ]
  },
  {
   "cell_type": "code",
   "execution_count": null,
   "id": "resident-hughes",
   "metadata": {
    "lines_to_next_cell": 0,
    "name": "R code 8.27"
   },
   "outputs": [],
   "source": [
    "d$lang.per.cap <- d$num.lang / d$k.pop"
   ]
  },
  {
   "cell_type": "markdown",
   "id": "concerned-queens",
   "metadata": {},
   "source": []
  }
 ],
 "metadata": {
  "jupytext": {
   "cell_metadata_filter": "name,-all",
   "main_language": "R",
   "notebook_metadata_filter": "-all"
  }
 },
 "nbformat": 4,
 "nbformat_minor": 5
}
