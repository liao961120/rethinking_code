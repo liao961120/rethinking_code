{
 "cells": [
  {
   "cell_type": "markdown",
   "metadata": {
    "lines_to_next_cell": 0
   },
   "source": []
  },
  {
   "cell_type": "code",
   "execution_count": null,
   "metadata": {
    "name": "Setup"
   },
   "outputs": [],
   "source": [
    "remotes::install_github('rmcelreath/rethinking', upgrade=F)\n",
    "library(rethinking)"
   ]
  },
  {
   "cell_type": "markdown",
   "metadata": {},
   "source": [
    "## R code 5.1"
   ]
  },
  {
   "cell_type": "code",
   "execution_count": null,
   "metadata": {
    "name": "R code 5.1"
   },
   "outputs": [],
   "source": [
    "# load data and copy\n",
    "library(rethinking)\n",
    "data(WaffleDivorce)\n",
    "d <- WaffleDivorce\n",
    "\n",
    "# standardize variables\n",
    "d$D <- standardize( d$Divorce )\n",
    "d$M <- standardize( d$Marriage )\n",
    "d$A <- standardize( d$MedianAgeMarriage )"
   ]
  },
  {
   "cell_type": "markdown",
   "metadata": {},
   "source": [
    "## R code 5.2"
   ]
  },
  {
   "cell_type": "code",
   "execution_count": null,
   "metadata": {
    "name": "R code 5.2"
   },
   "outputs": [],
   "source": [
    "sd( d$MedianAgeMarriage )"
   ]
  },
  {
   "cell_type": "markdown",
   "metadata": {},
   "source": [
    "## R code 5.3"
   ]
  },
  {
   "cell_type": "code",
   "execution_count": null,
   "metadata": {
    "name": "R code 5.3"
   },
   "outputs": [],
   "source": [
    "m5.1 <- quap(\n",
    "    alist(\n",
    "        D ~ dnorm( mu , sigma ) ,\n",
    "        mu <- a + bA * A ,\n",
    "        a ~ dnorm( 0 , 0.2 ) ,\n",
    "        bA ~ dnorm( 0 , 0.5 ) ,\n",
    "        sigma ~ dexp( 1 )\n",
    "    ) , data = d )"
   ]
  },
  {
   "cell_type": "markdown",
   "metadata": {},
   "source": [
    "## R code 5.4"
   ]
  },
  {
   "cell_type": "code",
   "execution_count": null,
   "metadata": {
    "name": "R code 5.4"
   },
   "outputs": [],
   "source": [
    "set.seed(10)\n",
    "prior <- extract.prior( m5.1 )\n",
    "mu <- link( m5.1 , post=prior , data=list( A=c(-2,2) ) )\n",
    "plot( NULL , xlim=c(-2,2) , ylim=c(-2,2) )\n",
    "for ( i in 1:50 ) lines( c(-2,2) , mu[i,] , col=col.alpha(\"black\",0.4) )"
   ]
  },
  {
   "cell_type": "markdown",
   "metadata": {},
   "source": [
    "## R code 5.5"
   ]
  },
  {
   "cell_type": "code",
   "execution_count": null,
   "metadata": {
    "name": "R code 5.5"
   },
   "outputs": [],
   "source": [
    "# compute percentile interval of mean\n",
    "A_seq <- seq( from=-3 , to=3.2 , length.out=30 )\n",
    "mu <- link( m5.1 , data=list(A=A_seq) )\n",
    "mu.mean <- apply( mu , 2, mean )\n",
    "mu.PI <- apply( mu , 2 , PI )\n",
    "\n",
    "# plot it all\n",
    "plot( D ~ A , data=d , col=rangi2 )\n",
    "lines( A_seq , mu.mean , lwd=2 )\n",
    "shade( mu.PI , A_seq )"
   ]
  },
  {
   "cell_type": "markdown",
   "metadata": {},
   "source": [
    "## R code 5.6"
   ]
  },
  {
   "cell_type": "code",
   "execution_count": null,
   "metadata": {
    "name": "R code 5.6"
   },
   "outputs": [],
   "source": [
    "m5.2 <- quap(\n",
    "    alist(\n",
    "        D ~ dnorm( mu , sigma ) ,\n",
    "        mu <- a + bM * M ,\n",
    "        a ~ dnorm( 0 , 0.2 ) ,\n",
    "        bM ~ dnorm( 0 , 0.5 ) ,\n",
    "        sigma ~ dexp( 1 )\n",
    "    ) , data = d )"
   ]
  },
  {
   "cell_type": "markdown",
   "metadata": {},
   "source": [
    "## R code 5.7"
   ]
  },
  {
   "cell_type": "code",
   "execution_count": null,
   "metadata": {
    "name": "R code 5.7"
   },
   "outputs": [],
   "source": [
    "library(dagitty)\n",
    "dag5.1 <- dagitty( \"dag{ A -> D; A -> M; M -> D }\" )\n",
    "coordinates(dag5.1) <- list( x=c(A=0,D=1,M=2) , y=c(A=0,D=1,M=0) )\n",
    "drawdag( dag5.1 )"
   ]
  },
  {
   "cell_type": "markdown",
   "metadata": {},
   "source": [
    "## R code 5.8"
   ]
  },
  {
   "cell_type": "code",
   "execution_count": null,
   "metadata": {
    "name": "R code 5.8"
   },
   "outputs": [],
   "source": [
    "DMA_dag2 <- dagitty('dag{ D <- A -> M }')\n",
    "impliedConditionalIndependencies( DMA_dag2 )"
   ]
  },
  {
   "cell_type": "markdown",
   "metadata": {},
   "source": [
    "## R code 5.9"
   ]
  },
  {
   "cell_type": "code",
   "execution_count": null,
   "metadata": {
    "name": "R code 5.9"
   },
   "outputs": [],
   "source": [
    "DMA_dag1 <- dagitty('dag{ D <- A -> M -> D }')\n",
    "impliedConditionalIndependencies( DMA_dag1 )"
   ]
  },
  {
   "cell_type": "markdown",
   "metadata": {},
   "source": [
    "## R code 5.10"
   ]
  },
  {
   "cell_type": "code",
   "execution_count": null,
   "metadata": {
    "name": "R code 5.10"
   },
   "outputs": [],
   "source": [
    "m5.3 <- quap(\n",
    "    alist(\n",
    "        D ~ dnorm( mu , sigma ) ,\n",
    "        mu <- a + bM*M + bA*A ,\n",
    "        a ~ dnorm( 0 , 0.2 ) ,\n",
    "        bM ~ dnorm( 0 , 0.5 ) ,\n",
    "        bA ~ dnorm( 0 , 0.5 ) ,\n",
    "        sigma ~ dexp( 1 )\n",
    "    ) , data = d )\n",
    "precis( m5.3 )"
   ]
  },
  {
   "cell_type": "markdown",
   "metadata": {},
   "source": [
    "## R code 5.11"
   ]
  },
  {
   "cell_type": "code",
   "execution_count": null,
   "metadata": {
    "name": "R code 5.11"
   },
   "outputs": [],
   "source": [
    "plot( coeftab(m5.1,m5.2,m5.3), par=c(\"bA\",\"bM\") )"
   ]
  },
  {
   "cell_type": "markdown",
   "metadata": {},
   "source": [
    "## R code 5.12"
   ]
  },
  {
   "cell_type": "code",
   "execution_count": null,
   "metadata": {
    "name": "R code 5.12"
   },
   "outputs": [],
   "source": [
    "N <- 50 # number of simulated States\n",
    "age <- rnorm( N )        # sim A\n",
    "mar <- rnorm( N , -age )  # sim A -> M\n",
    "div <- rnorm( N , age )  # sim A -> D"
   ]
  },
  {
   "cell_type": "markdown",
   "metadata": {},
   "source": [
    "## R code 5.13"
   ]
  },
  {
   "cell_type": "code",
   "execution_count": null,
   "metadata": {
    "name": "R code 5.13"
   },
   "outputs": [],
   "source": [
    "m5.4 <- quap(\n",
    "    alist(\n",
    "        M ~ dnorm( mu , sigma ) ,\n",
    "        mu <- a + bAM * A ,\n",
    "        a ~ dnorm( 0 , 0.2 ) ,\n",
    "        bAM ~ dnorm( 0 , 0.5 ) ,\n",
    "        sigma ~ dexp( 1 )\n",
    "    ) , data = d )"
   ]
  },
  {
   "cell_type": "markdown",
   "metadata": {},
   "source": [
    "## R code 5.14"
   ]
  },
  {
   "cell_type": "code",
   "execution_count": null,
   "metadata": {
    "name": "R code 5.14"
   },
   "outputs": [],
   "source": [
    "mu <- link(m5.4)\n",
    "mu_mean <- apply( mu , 2 , mean )\n",
    "mu_resid <- d$M - mu_mean"
   ]
  },
  {
   "cell_type": "markdown",
   "metadata": {},
   "source": [
    "## R code 5.15"
   ]
  },
  {
   "cell_type": "code",
   "execution_count": null,
   "metadata": {
    "name": "R code 5.15"
   },
   "outputs": [],
   "source": [
    "# call link without specifying new data\n",
    "# so it uses original data\n",
    "mu <- link( m5.3 )\n",
    "\n",
    "# summarize samples across cases\n",
    "mu_mean <- apply( mu , 2 , mean )\n",
    "mu_PI <- apply( mu , 2 , PI )\n",
    "\n",
    "# simulate observations\n",
    "# again no new data, so uses original data\n",
    "D_sim <- sim( m5.3 , n=1e4 )\n",
    "D_PI <- apply( D_sim , 2 , PI )"
   ]
  },
  {
   "cell_type": "markdown",
   "metadata": {},
   "source": [
    "## R code 5.16"
   ]
  },
  {
   "cell_type": "code",
   "execution_count": null,
   "metadata": {
    "name": "R code 5.16"
   },
   "outputs": [],
   "source": [
    "plot( mu_mean ~ d$D , col=rangi2 , ylim=range(mu_PI) ,\n",
    "    xlab=\"Observed divorce\" , ylab=\"Predicted divorce\" )\n",
    "abline( a=0 , b=1 , lty=2 )\n",
    "for ( i in 1:nrow(d) ) lines( rep(d$D[i],2) , mu_PI[,i] , col=rangi2 )"
   ]
  },
  {
   "cell_type": "markdown",
   "metadata": {},
   "source": [
    "## R code 5.17"
   ]
  },
  {
   "cell_type": "code",
   "execution_count": null,
   "metadata": {
    "name": "R code 5.17"
   },
   "outputs": [],
   "source": [
    "identify( x=d$D , y=mu_mean , labels=d$Loc )"
   ]
  },
  {
   "cell_type": "markdown",
   "metadata": {},
   "source": [
    "## R code 5.18"
   ]
  },
  {
   "cell_type": "code",
   "execution_count": null,
   "metadata": {
    "name": "R code 5.18"
   },
   "outputs": [],
   "source": [
    "N <- 100                         # number of cases\n",
    "x_real <- rnorm( N )             # x_real as Gaussian with mean 0 and stddev 1\n",
    "x_spur <- rnorm( N , x_real )    # x_spur as Gaussian with mean=x_real\n",
    "y <- rnorm( N , x_real )         # y as Gaussian with mean=x_real\n",
    "d <- data.frame(y,x_real,x_spur) # bind all together in data frame"
   ]
  },
  {
   "cell_type": "markdown",
   "metadata": {},
   "source": [
    "## R code 5.19"
   ]
  },
  {
   "cell_type": "code",
   "execution_count": null,
   "metadata": {
    "name": "R code 5.19"
   },
   "outputs": [],
   "source": [
    "data(WaffleDivorce)\n",
    "d <- list()\n",
    "d$A <- standardize( WaffleDivorce$MedianAgeMarriage )\n",
    "d$D <- standardize( WaffleDivorce$Divorce )\n",
    "d$M <- standardize( WaffleDivorce$Marriage )\n",
    "\n",
    "m5.3_A <- quap(\n",
    "    alist(\n",
    "      ## A -> D <- M\n",
    "        D ~ dnorm( mu , sigma ) ,\n",
    "        mu <- a + bM*M + bA*A ,\n",
    "        a ~ dnorm( 0 , 0.2 ) ,\n",
    "        bM ~ dnorm( 0 , 0.5 ) ,\n",
    "        bA ~ dnorm( 0 , 0.5 ) ,\n",
    "        sigma ~ dexp( 1 ),\n",
    "      ## A -> M\n",
    "        M ~ dnorm( mu_M , sigma_M ),\n",
    "        mu_M <- aM + bAM*A,\n",
    "        aM ~ dnorm( 0 , 0.2 ),\n",
    "        bAM ~ dnorm( 0 , 0.5 ),\n",
    "        sigma_M ~ dexp( 1 )\n",
    "    ) , data = d )"
   ]
  },
  {
   "cell_type": "markdown",
   "metadata": {},
   "source": [
    "## R code 5.20"
   ]
  },
  {
   "cell_type": "code",
   "execution_count": null,
   "metadata": {
    "name": "R code 5.20"
   },
   "outputs": [],
   "source": [
    "A_seq <- seq( from=-2 , to=2 , length.out=30 )"
   ]
  },
  {
   "cell_type": "markdown",
   "metadata": {},
   "source": [
    "## R code 5.21"
   ]
  },
  {
   "cell_type": "code",
   "execution_count": null,
   "metadata": {
    "name": "R code 5.21"
   },
   "outputs": [],
   "source": [
    "# prep data\n",
    "sim_dat <- data.frame( A=A_seq )\n",
    "\n",
    "# simulate M and then D, using A_seq\n",
    "s <- sim( m5.3_A , data=sim_dat , vars=c(\"M\",\"D\") )"
   ]
  },
  {
   "cell_type": "markdown",
   "metadata": {},
   "source": [
    "## R code 5.22"
   ]
  },
  {
   "cell_type": "code",
   "execution_count": null,
   "metadata": {
    "name": "R code 5.22"
   },
   "outputs": [],
   "source": [
    "plot( sim_dat$A , colMeans(s$D) , ylim=c(-2,2) , type=\"l\" ,\n",
    "    xlab=\"manipulated A\" , ylab=\"counterfactual D\"  )\n",
    "shade( apply(s$D,2,PI) , sim_dat$A )\n",
    "mtext( \"Total counterfactual effect of A on D\" )"
   ]
  },
  {
   "cell_type": "markdown",
   "metadata": {},
   "source": [
    "## R code 5.23"
   ]
  },
  {
   "cell_type": "code",
   "execution_count": null,
   "metadata": {
    "name": "R code 5.23"
   },
   "outputs": [],
   "source": [
    "# new data frame, standardized to mean 26.1 and std dev 1.24\n",
    "sim2_dat <- data.frame( A=(c(20,30)-26.1)/1.24 )\n",
    "s2 <- sim( m5.3_A , data=sim2_dat , vars=c(\"M\",\"D\") )\n",
    "mean( s2$D[,2] - s2$D[,1] )"
   ]
  },
  {
   "cell_type": "markdown",
   "metadata": {},
   "source": [
    "## R code 5.24"
   ]
  },
  {
   "cell_type": "code",
   "execution_count": null,
   "metadata": {
    "name": "R code 5.24"
   },
   "outputs": [],
   "source": [
    "sim_dat <- data.frame( M=seq(from=-2,to=2,length.out=30) , A=0 )\n",
    "s <- sim( m5.3_A , data=sim_dat , vars=\"D\" )\n",
    "\n",
    "plot( sim_dat$M , colMeans(s) , ylim=c(-2,2) , type=\"l\" ,\n",
    "    xlab=\"manipulated M\" , ylab=\"counterfactual D\"  )\n",
    "shade( apply(s,2,PI) , sim_dat$M )\n",
    "mtext( \"Total counterfactual effect of M on D\" )"
   ]
  },
  {
   "cell_type": "markdown",
   "metadata": {},
   "source": [
    "## R code 5.25"
   ]
  },
  {
   "cell_type": "code",
   "execution_count": null,
   "metadata": {
    "name": "R code 5.25"
   },
   "outputs": [],
   "source": [
    "A_seq <- seq( from=-2 , to=2 , length.out=30 )"
   ]
  },
  {
   "cell_type": "markdown",
   "metadata": {},
   "source": [
    "## R code 5.26"
   ]
  },
  {
   "cell_type": "code",
   "execution_count": null,
   "metadata": {
    "name": "R code 5.26"
   },
   "outputs": [],
   "source": [
    "post <- extract.samples( m5.3_A )\n",
    "M_sim <- with( post , sapply( 1:30 ,\n",
    "    function(i) rnorm( 1e3 , aM + bAM*A_seq[i] , sigma_M ) ) )"
   ]
  },
  {
   "cell_type": "markdown",
   "metadata": {},
   "source": [
    "## R code 5.27"
   ]
  },
  {
   "cell_type": "code",
   "execution_count": null,
   "metadata": {
    "name": "R code 5.27"
   },
   "outputs": [],
   "source": [
    "D_sim <- with( post , sapply( 1:30 ,\n",
    "    function(i) rnorm( 1e3 , a + bA*A_seq[i] + bM*M_sim[,i] , sigma ) ) )"
   ]
  },
  {
   "cell_type": "markdown",
   "metadata": {},
   "source": [
    "## R code 5.28"
   ]
  },
  {
   "cell_type": "code",
   "execution_count": null,
   "metadata": {
    "name": "R code 5.28"
   },
   "outputs": [],
   "source": [
    "library(rethinking)\n",
    "data(milk)\n",
    "d <- milk\n",
    "str(d)"
   ]
  },
  {
   "cell_type": "markdown",
   "metadata": {},
   "source": [
    "## R code 5.29"
   ]
  },
  {
   "cell_type": "code",
   "execution_count": null,
   "metadata": {
    "name": "R code 5.29"
   },
   "outputs": [],
   "source": [
    "d$K <- standardize( d$kcal.per.g )\n",
    "d$N <- standardize( d$neocortex.perc )\n",
    "d$M <- standardize( log(d$mass) )"
   ]
  },
  {
   "cell_type": "markdown",
   "metadata": {},
   "source": [
    "## R code 5.30"
   ]
  },
  {
   "cell_type": "code",
   "execution_count": null,
   "metadata": {
    "name": "R code 5.30"
   },
   "outputs": [],
   "source": [
    "m5.5_draft <- quap(\n",
    "    alist(\n",
    "        K ~ dnorm( mu , sigma ) ,\n",
    "        mu <- a + bN*N ,\n",
    "        a ~ dnorm( 0 , 1 ) ,\n",
    "        bN ~ dnorm( 0 , 1 ) ,\n",
    "        sigma ~ dexp( 1 )\n",
    "    ) , data=d )"
   ]
  },
  {
   "cell_type": "markdown",
   "metadata": {},
   "source": [
    "## R code 5.31"
   ]
  },
  {
   "cell_type": "code",
   "execution_count": null,
   "metadata": {
    "name": "R code 5.31"
   },
   "outputs": [],
   "source": [
    "d$neocortex.perc"
   ]
  },
  {
   "cell_type": "markdown",
   "metadata": {},
   "source": [
    "## R code 5.32"
   ]
  },
  {
   "cell_type": "code",
   "execution_count": null,
   "metadata": {
    "name": "R code 5.32"
   },
   "outputs": [],
   "source": [
    "dcc <- d[ complete.cases(d$K,d$N,d$M) , ]"
   ]
  },
  {
   "cell_type": "markdown",
   "metadata": {},
   "source": [
    "## R code 5.33"
   ]
  },
  {
   "cell_type": "code",
   "execution_count": null,
   "metadata": {
    "name": "R code 5.33"
   },
   "outputs": [],
   "source": [
    "m5.5_draft <- quap(\n",
    "    alist(\n",
    "        K ~ dnorm( mu , sigma ) ,\n",
    "        mu <- a + bN*N ,\n",
    "        a ~ dnorm( 0 , 1 ) ,\n",
    "        bN ~ dnorm( 0 , 1 ) ,\n",
    "        sigma ~ dexp( 1 )\n",
    "    ) , data=dcc )"
   ]
  },
  {
   "cell_type": "markdown",
   "metadata": {},
   "source": [
    "## R code 5.34"
   ]
  },
  {
   "cell_type": "code",
   "execution_count": null,
   "metadata": {
    "name": "R code 5.34"
   },
   "outputs": [],
   "source": [
    "prior <- extract.prior( m5.5_draft )\n",
    "xseq <- c(-2,2)\n",
    "mu <- link( m5.5_draft , post=prior , data=list(N=xseq) )\n",
    "plot( NULL , xlim=xseq , ylim=xseq )\n",
    "for ( i in 1:50 ) lines( xseq , mu[i,] , col=col.alpha(\"black\",0.3) )"
   ]
  },
  {
   "cell_type": "markdown",
   "metadata": {},
   "source": [
    "## R code 5.35"
   ]
  },
  {
   "cell_type": "code",
   "execution_count": null,
   "metadata": {
    "name": "R code 5.35"
   },
   "outputs": [],
   "source": [
    "m5.5 <- quap(\n",
    "    alist(\n",
    "        K ~ dnorm( mu , sigma ) ,\n",
    "        mu <- a + bN*N ,\n",
    "        a ~ dnorm( 0 , 0.2 ) ,\n",
    "        bN ~ dnorm( 0 , 0.5 ) ,\n",
    "        sigma ~ dexp( 1 )\n",
    "    ) , data=dcc )"
   ]
  },
  {
   "cell_type": "markdown",
   "metadata": {},
   "source": [
    "## R code 5.36"
   ]
  },
  {
   "cell_type": "code",
   "execution_count": null,
   "metadata": {
    "name": "R code 5.36"
   },
   "outputs": [],
   "source": [
    "precis( m5.5 )"
   ]
  },
  {
   "cell_type": "markdown",
   "metadata": {},
   "source": [
    "## R code 5.37"
   ]
  },
  {
   "cell_type": "code",
   "execution_count": null,
   "metadata": {
    "name": "R code 5.37"
   },
   "outputs": [],
   "source": [
    "xseq <- seq( from=min(dcc$N)-0.15 , to=max(dcc$N)+0.15 , length.out=30 )\n",
    "mu <- link( m5.5 , data=list(N=xseq) )\n",
    "mu_mean <- apply(mu,2,mean)\n",
    "mu_PI <- apply(mu,2,PI)\n",
    "plot( K ~ N , data=dcc )\n",
    "lines( xseq , mu_mean , lwd=2 )\n",
    "shade( mu_PI , xseq )"
   ]
  },
  {
   "cell_type": "markdown",
   "metadata": {},
   "source": [
    "## R code 5.38"
   ]
  },
  {
   "cell_type": "code",
   "execution_count": null,
   "metadata": {
    "name": "R code 5.38"
   },
   "outputs": [],
   "source": [
    "m5.6 <- quap(\n",
    "    alist(\n",
    "        K ~ dnorm( mu , sigma ) ,\n",
    "        mu <- a + bM*M ,\n",
    "        a ~ dnorm( 0 , 0.2 ) ,\n",
    "        bM ~ dnorm( 0 , 0.5 ) ,\n",
    "        sigma ~ dexp( 1 )\n",
    "    ) , data=dcc )\n",
    "precis(m5.6)"
   ]
  },
  {
   "cell_type": "markdown",
   "metadata": {},
   "source": [
    "## R code 5.39"
   ]
  },
  {
   "cell_type": "code",
   "execution_count": null,
   "metadata": {
    "name": "R code 5.39"
   },
   "outputs": [],
   "source": [
    "m5.7 <- quap(\n",
    "    alist(\n",
    "        K ~ dnorm( mu , sigma ) ,\n",
    "        mu <- a + bN*N + bM*M ,\n",
    "        a ~ dnorm( 0 , 0.2 ) ,\n",
    "        bN ~ dnorm( 0 , 0.5 ) ,\n",
    "        bM ~ dnorm( 0 , 0.5 ) ,\n",
    "        sigma ~ dexp( 1 )\n",
    "    ) , data=dcc )\n",
    "precis(m5.7)"
   ]
  },
  {
   "cell_type": "markdown",
   "metadata": {},
   "source": [
    "## R code 5.40"
   ]
  },
  {
   "cell_type": "code",
   "execution_count": null,
   "metadata": {
    "name": "R code 5.40"
   },
   "outputs": [],
   "source": [
    "plot( coeftab( m5.5 , m5.6 , m5.7 ) , pars=c(\"bM\",\"bN\") )"
   ]
  },
  {
   "cell_type": "markdown",
   "metadata": {},
   "source": [
    "## R code 5.41"
   ]
  },
  {
   "cell_type": "code",
   "execution_count": null,
   "metadata": {
    "name": "R code 5.41"
   },
   "outputs": [],
   "source": [
    "xseq <- seq( from=min(dcc$M)-0.15 , to=max(dcc$M)+0.15 , length.out=30 )\n",
    "mu <- link( m5.7 , data=data.frame( M=xseq , N=0 ) )\n",
    "mu_mean <- apply(mu,2,mean)\n",
    "mu_PI <- apply(mu,2,PI)\n",
    "plot( NULL , xlim=range(dcc$M) , ylim=range(dcc$K) )\n",
    "lines( xseq , mu_mean , lwd=2 )\n",
    "shade( mu_PI , xseq )"
   ]
  },
  {
   "cell_type": "markdown",
   "metadata": {},
   "source": [
    "## R code 5.42"
   ]
  },
  {
   "cell_type": "code",
   "execution_count": null,
   "metadata": {
    "name": "R code 5.42"
   },
   "outputs": [],
   "source": [
    "# M -> K <- N\n",
    "# M -> N\n",
    "n <- 100\n",
    "M <- rnorm( n )\n",
    "N <- rnorm( n , M )\n",
    "K <- rnorm( n , N - M )\n",
    "d_sim <- data.frame(K=K,N=N,M=M)"
   ]
  },
  {
   "cell_type": "markdown",
   "metadata": {},
   "source": [
    "## R code 5.43"
   ]
  },
  {
   "cell_type": "code",
   "execution_count": null,
   "metadata": {
    "name": "R code 5.43"
   },
   "outputs": [],
   "source": [
    "# M -> K <- N\n",
    "# N -> M\n",
    "n <- 100\n",
    "N <- rnorm( n )\n",
    "M <- rnorm( n , N )\n",
    "K <- rnorm( n , N - M )\n",
    "d_sim2 <- data.frame(K=K,N=N,M=M)\n",
    "\n",
    "# M -> K <- N\n",
    "# M <- U -> N\n",
    "n <- 100\n",
    "U <- rnorm( n )\n",
    "N <- rnorm( n , U )\n",
    "M <- rnorm( n , U )\n",
    "K <- rnorm( n , N - M )\n",
    "d_sim3 <- data.frame(K=K,N=N,M=M)"
   ]
  },
  {
   "cell_type": "markdown",
   "metadata": {},
   "source": [
    "## R code 5.44"
   ]
  },
  {
   "cell_type": "code",
   "execution_count": null,
   "metadata": {
    "name": "R code 5.44"
   },
   "outputs": [],
   "source": [
    "dag5.7 <- dagitty( \"dag{\n",
    "    M -> K <- N\n",
    "    M -> N }\" )\n",
    "coordinates(dag5.7) <- list( x=c(M=0,K=1,N=2) , y=c(M=0.5,K=1,N=0.5) )\n",
    "MElist <- equivalentDAGs(dag5.7)"
   ]
  },
  {
   "cell_type": "markdown",
   "metadata": {},
   "source": [
    "## R code 5.45"
   ]
  },
  {
   "cell_type": "code",
   "execution_count": null,
   "metadata": {
    "name": "R code 5.45"
   },
   "outputs": [],
   "source": [
    "data(Howell1)\n",
    "d <- Howell1\n",
    "str(d)"
   ]
  },
  {
   "cell_type": "markdown",
   "metadata": {},
   "source": [
    "## R code 5.46"
   ]
  },
  {
   "cell_type": "code",
   "execution_count": null,
   "metadata": {
    "name": "R code 5.46"
   },
   "outputs": [],
   "source": [
    "mu_female <- rnorm(1e4,178,20)\n",
    "mu_male <- rnorm(1e4,178,20) + rnorm(1e4,0,10)\n",
    "precis( data.frame( mu_female , mu_male ) )"
   ]
  },
  {
   "cell_type": "markdown",
   "metadata": {},
   "source": [
    "## R code 5.47"
   ]
  },
  {
   "cell_type": "code",
   "execution_count": null,
   "metadata": {
    "name": "R code 5.47"
   },
   "outputs": [],
   "source": [
    "d$sex <- ifelse( d$male==1 , 2 , 1 )\n",
    "str( d$sex )"
   ]
  },
  {
   "cell_type": "markdown",
   "metadata": {},
   "source": [
    "## R code 5.48"
   ]
  },
  {
   "cell_type": "code",
   "execution_count": null,
   "metadata": {
    "name": "R code 5.48"
   },
   "outputs": [],
   "source": [
    "m5.8 <- quap(\n",
    "    alist(\n",
    "        height ~ dnorm( mu , sigma ) ,\n",
    "        mu <- a[sex] ,\n",
    "        a[sex] ~ dnorm( 178 , 20 ) ,\n",
    "        sigma ~ dunif( 0 , 50 )\n",
    "    ) , data=d )\n",
    "precis( m5.8 , depth=2 )"
   ]
  },
  {
   "cell_type": "markdown",
   "metadata": {},
   "source": [
    "## R code 5.49"
   ]
  },
  {
   "cell_type": "code",
   "execution_count": null,
   "metadata": {
    "name": "R code 5.49"
   },
   "outputs": [],
   "source": [
    "post <- extract.samples(m5.8)\n",
    "post$diff_fm <- post$a[,1] - post$a[,2]\n",
    "precis( post , depth=2 )"
   ]
  },
  {
   "cell_type": "markdown",
   "metadata": {},
   "source": [
    "## R code 5.50"
   ]
  },
  {
   "cell_type": "code",
   "execution_count": null,
   "metadata": {
    "name": "R code 5.50"
   },
   "outputs": [],
   "source": [
    "data(milk)\n",
    "d <- milk\n",
    "levels(d$clade)"
   ]
  },
  {
   "cell_type": "markdown",
   "metadata": {},
   "source": [
    "## R code 5.51"
   ]
  },
  {
   "cell_type": "code",
   "execution_count": null,
   "metadata": {
    "name": "R code 5.51"
   },
   "outputs": [],
   "source": [
    "d$clade_id <- as.integer( d$clade )"
   ]
  },
  {
   "cell_type": "markdown",
   "metadata": {},
   "source": [
    "## R code 5.52"
   ]
  },
  {
   "cell_type": "code",
   "execution_count": null,
   "metadata": {
    "name": "R code 5.52"
   },
   "outputs": [],
   "source": [
    "d$K <- standardize( d$kcal.per.g )\n",
    "m5.9 <- quap(\n",
    "    alist(\n",
    "        K ~ dnorm( mu , sigma ),\n",
    "        mu <- a[clade_id],\n",
    "        a[clade_id] ~ dnorm( 0 , 0.5 ),\n",
    "        sigma ~ dexp( 1 )\n",
    "    ) , data=d )\n",
    "labels <- paste( \"a[\" , 1:4 , \"]:\" , levels(d$clade) , sep=\"\" )\n",
    "plot( precis( m5.9 , depth=2 , pars=\"a\" ) , labels=labels ,\n",
    "    xlab=\"expected kcal (std)\" )"
   ]
  },
  {
   "cell_type": "markdown",
   "metadata": {},
   "source": [
    "## R code 5.53"
   ]
  },
  {
   "cell_type": "code",
   "execution_count": null,
   "metadata": {
    "name": "R code 5.53"
   },
   "outputs": [],
   "source": [
    "set.seed(63)\n",
    "d$house <- sample( rep(1:4,each=8) , size=nrow(d) )"
   ]
  },
  {
   "cell_type": "markdown",
   "metadata": {},
   "source": [
    "## R code 5.54"
   ]
  },
  {
   "cell_type": "code",
   "execution_count": null,
   "metadata": {
    "lines_to_next_cell": 0,
    "name": "R code 5.54"
   },
   "outputs": [],
   "source": [
    "m5.10 <- quap(\n",
    "    alist(\n",
    "        K ~ dnorm( mu , sigma ),\n",
    "        mu <- a[clade_id] + h[house],\n",
    "        a[clade_id] ~ dnorm( 0 , 0.5 ),\n",
    "        h[house] ~ dnorm( 0 , 0.5 ),\n",
    "        sigma ~ dexp( 1 )\n",
    "    ) , data=d )"
   ]
  },
  {
   "cell_type": "markdown",
   "metadata": {},
   "source": []
  }
 ],
 "metadata": {
  "jupytext": {
   "cell_metadata_filter": "name,-all",
   "main_language": "R",
   "notebook_metadata_filter": "-all"
  }
 },
 "nbformat": 4,
 "nbformat_minor": 4
}
