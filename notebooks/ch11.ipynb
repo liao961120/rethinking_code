{
 "cells": [
  {
   "cell_type": "markdown",
   "id": "funny-moisture",
   "metadata": {
    "lines_to_next_cell": 0
   },
   "source": []
  },
  {
   "cell_type": "code",
   "execution_count": null,
   "id": "dutch-screen",
   "metadata": {
    "lines_to_next_cell": 0,
    "name": "Setup"
   },
   "outputs": [],
   "source": [
    "remotes::install_github('rmcelreath/rethinking', upgrade=F)\n"
   ]
  },
  {
   "cell_type": "code",
   "execution_count": null,
   "id": "enclosed-devil",
   "metadata": {
    "lines_to_next_cell": 0,
    "name": "R code 11.1"
   },
   "outputs": [],
   "source": [
    "library(rethinking)\n",
    "data(chimpanzees)\n",
    "d <- chimpanzees\n"
   ]
  },
  {
   "cell_type": "code",
   "execution_count": null,
   "id": "united-standing",
   "metadata": {
    "lines_to_next_cell": 0,
    "name": "R code 11.2"
   },
   "outputs": [],
   "source": [
    "d$treatment <- 1 + d$prosoc_left + 2*d$condition\n"
   ]
  },
  {
   "cell_type": "code",
   "execution_count": null,
   "id": "racial-thanks",
   "metadata": {
    "lines_to_next_cell": 0,
    "name": "R code 11.3"
   },
   "outputs": [],
   "source": [
    "xtabs( ~ treatment + prosoc_left + condition , d )\n"
   ]
  },
  {
   "cell_type": "code",
   "execution_count": null,
   "id": "neutral-mailman",
   "metadata": {
    "lines_to_next_cell": 0,
    "name": "R code 11.4"
   },
   "outputs": [],
   "source": [
    "m11.1 <- quap(\n",
    "    alist(\n",
    "        pulled_left ~ dbinom( 1 , p ) ,\n",
    "        logit(p) <- a ,\n",
    "        a ~ dnorm( 0 , 10 )\n",
    "    ) , data=d )\n"
   ]
  },
  {
   "cell_type": "code",
   "execution_count": null,
   "id": "mighty-psychiatry",
   "metadata": {
    "lines_to_next_cell": 0,
    "name": "R code 11.5"
   },
   "outputs": [],
   "source": [
    "set.seed(1999)\n",
    "prior <- extract.prior( m11.1 , n=1e4 )\n"
   ]
  },
  {
   "cell_type": "code",
   "execution_count": null,
   "id": "identified-healthcare",
   "metadata": {
    "lines_to_next_cell": 0,
    "name": "R code 11.6"
   },
   "outputs": [],
   "source": [
    "p <- inv_logit( prior$a )\n",
    "dens( p , adj=0.1 )\n"
   ]
  },
  {
   "cell_type": "code",
   "execution_count": null,
   "id": "cognitive-prior",
   "metadata": {
    "lines_to_next_cell": 0,
    "name": "R code 11.7"
   },
   "outputs": [],
   "source": [
    "m11.2 <- quap(\n",
    "    alist(\n",
    "        pulled_left ~ dbinom( 1 , p ) ,\n",
    "        logit(p) <- a + b[treatment] ,\n",
    "        a ~ dnorm( 0 , 1.5 ),\n",
    "        b[treatment] ~ dnorm( 0 , 10 )\n",
    "    ) , data=d )\n",
    "set.seed(1999)\n",
    "prior <- extract.prior( m11.2 , n=1e4 )\n",
    "p <- sapply( 1:4 , function(k) inv_logit( prior$a + prior$b[,k] ) )\n"
   ]
  },
  {
   "cell_type": "code",
   "execution_count": null,
   "id": "reverse-albuquerque",
   "metadata": {
    "lines_to_next_cell": 0,
    "name": "R code 11.8"
   },
   "outputs": [],
   "source": [
    "dens( abs( p[,1] - p[,2] ) , adj=0.1 )\n"
   ]
  },
  {
   "cell_type": "code",
   "execution_count": null,
   "id": "surprised-african",
   "metadata": {
    "lines_to_next_cell": 0,
    "name": "R code 11.9"
   },
   "outputs": [],
   "source": [
    "m11.3 <- quap(\n",
    "    alist(\n",
    "        pulled_left ~ dbinom( 1 , p ) ,\n",
    "        logit(p) <- a + b[treatment] ,\n",
    "        a ~ dnorm( 0 , 1.5 ),\n",
    "        b[treatment] ~ dnorm( 0 , 0.5 )\n",
    "    ) , data=d )\n",
    "set.seed(1999)\n",
    "prior <- extract.prior( m11.3 , n=1e4 )\n",
    "p <- sapply( 1:4 , function(k) inv_logit( prior$a + prior$b[,k] ) )\n",
    "mean( abs( p[,1] - p[,2] ) )\n"
   ]
  },
  {
   "cell_type": "code",
   "execution_count": null,
   "id": "spoken-stations",
   "metadata": {
    "lines_to_next_cell": 0,
    "name": "R code 11.10"
   },
   "outputs": [],
   "source": [
    "# trimmed data list\n",
    "dat_list <- list(\n",
    "    pulled_left = d$pulled_left,\n",
    "    actor = d$actor,\n",
    "    treatment = as.integer(d$treatment) )\n"
   ]
  },
  {
   "cell_type": "code",
   "execution_count": null,
   "id": "rough-operations",
   "metadata": {
    "lines_to_next_cell": 0,
    "name": "R code 11.11"
   },
   "outputs": [],
   "source": [
    "m11.4 <- ulam(\n",
    "    alist(\n",
    "        pulled_left ~ dbinom( 1 , p ) ,\n",
    "        logit(p) <- a[actor] + b[treatment] ,\n",
    "        a[actor] ~ dnorm( 0 , 1.5 ),\n",
    "        b[treatment] ~ dnorm( 0 , 0.5 )\n",
    "    ) , data=dat_list , chains=4 , log_lik=TRUE )\n",
    "precis( m11.4 , depth=2 )\n"
   ]
  },
  {
   "cell_type": "code",
   "execution_count": null,
   "id": "affecting-professional",
   "metadata": {
    "lines_to_next_cell": 0,
    "name": "R code 11.12"
   },
   "outputs": [],
   "source": [
    "post <- extract.samples(m11.4)\n",
    "p_left <- inv_logit( post$a )\n",
    "plot( precis( as.data.frame(p_left) ) , xlim=c(0,1) )\n"
   ]
  },
  {
   "cell_type": "code",
   "execution_count": null,
   "id": "temporal-moscow",
   "metadata": {
    "lines_to_next_cell": 0,
    "name": "R code 11.13"
   },
   "outputs": [],
   "source": [
    "labs <- c(\"R/N\",\"L/N\",\"R/P\",\"L/P\")\n",
    "plot( precis( m11.4 , depth=2 , pars=\"b\" ) , labels=labs )\n"
   ]
  },
  {
   "cell_type": "code",
   "execution_count": null,
   "id": "abroad-attack",
   "metadata": {
    "lines_to_next_cell": 0,
    "name": "R code 11.14"
   },
   "outputs": [],
   "source": [
    "diffs <- list(\n",
    "    db13 = post$b[,1] - post$b[,3],\n",
    "    db24 = post$b[,2] - post$b[,4] )\n",
    "plot( precis(diffs) )\n"
   ]
  },
  {
   "cell_type": "code",
   "execution_count": null,
   "id": "growing-vehicle",
   "metadata": {
    "lines_to_next_cell": 0,
    "name": "R code 11.15"
   },
   "outputs": [],
   "source": [
    "pl <- by( d$pulled_left , list( d$actor , d$treatment ) , mean )\n",
    "pl[1,]\n"
   ]
  },
  {
   "cell_type": "code",
   "execution_count": null,
   "id": "adverse-indiana",
   "metadata": {
    "lines_to_next_cell": 0,
    "name": "R code 11.16"
   },
   "outputs": [],
   "source": [
    "plot( NULL , xlim=c(1,28) , ylim=c(0,1) , xlab=\"\" ,\n",
    "    ylab=\"proportion left lever\" , xaxt=\"n\" , yaxt=\"n\" )\n",
    "axis( 2 , at=c(0,0.5,1) , labels=c(0,0.5,1) )\n",
    "abline( h=0.5 , lty=2 )\n",
    "for ( j in 1:7 ) abline( v=(j-1)*4+4.5 , lwd=0.5 )\n",
    "for ( j in 1:7 ) text( (j-1)*4+2.5 , 1.1 , concat(\"actor \",j) , xpd=TRUE )\n",
    "for ( j in (1:7)[-2] ) {\n",
    "    lines( (j-1)*4+c(1,3) , pl[j,c(1,3)] , lwd=2 , col=rangi2 )\n",
    "    lines( (j-1)*4+c(2,4) , pl[j,c(2,4)] , lwd=2 , col=rangi2 )\n",
    "}\n",
    "points( 1:28 , t(pl) , pch=16 , col=\"white\" , cex=1.7 )\n",
    "points( 1:28 , t(pl) , pch=c(1,1,16,16) , col=rangi2 , lwd=2 )\n",
    "yoff <- 0.01\n",
    "text( 1 , pl[1,1]-yoff , \"R/N\" , pos=1 , cex=0.8 )\n",
    "text( 2 , pl[1,2]+yoff , \"L/N\" , pos=3 , cex=0.8 )\n",
    "text( 3 , pl[1,3]-yoff , \"R/P\" , pos=1 , cex=0.8 )\n",
    "text( 4 , pl[1,4]+yoff , \"L/P\" , pos=3 , cex=0.8 )\n",
    "mtext( \"observed proportions\\n\" )\n"
   ]
  },
  {
   "cell_type": "code",
   "execution_count": null,
   "id": "spectacular-relationship",
   "metadata": {
    "lines_to_next_cell": 0,
    "name": "R code 11.17"
   },
   "outputs": [],
   "source": [
    "dat <- list( actor=rep(1:7,each=4) , treatment=rep(1:4,times=7) )\n",
    "p_post <- link( m11.4 , data=dat )\n",
    "p_mu <- apply( p_post , 2 , mean )\n",
    "p_ci <- apply( p_post , 2 , PI )\n"
   ]
  },
  {
   "cell_type": "code",
   "execution_count": null,
   "id": "qualified-expansion",
   "metadata": {
    "lines_to_next_cell": 0,
    "name": "R code 11.18"
   },
   "outputs": [],
   "source": [
    "d$side <- d$prosoc_left + 1 # right 1, left 2\n",
    "d$cond <- d$condition + 1 # no partner 1, partner 2\n"
   ]
  },
  {
   "cell_type": "code",
   "execution_count": null,
   "id": "invalid-tracker",
   "metadata": {
    "lines_to_next_cell": 0,
    "name": "R code 11.19"
   },
   "outputs": [],
   "source": [
    "dat_list2 <- list(\n",
    "    pulled_left = d$pulled_left,\n",
    "    actor = d$actor,\n",
    "    side = d$side,\n",
    "    cond = d$cond )\n",
    "m11.5 <- ulam(\n",
    "    alist(\n",
    "        pulled_left ~ dbinom( 1 , p ) ,\n",
    "        logit(p) <- a[actor] + bs[side] + bc[cond] ,\n",
    "        a[actor] ~ dnorm( 0 , 1.5 ),\n",
    "        bs[side] ~ dnorm( 0 , 0.5 ),\n",
    "        bc[cond] ~ dnorm( 0 , 0.5 )\n",
    "    ) , data=dat_list2 , chains=4 , log_lik=TRUE )\n"
   ]
  },
  {
   "cell_type": "code",
   "execution_count": null,
   "id": "solved-carpet",
   "metadata": {
    "lines_to_next_cell": 0,
    "name": "R code 11.20"
   },
   "outputs": [],
   "source": [
    "compare( m11.5 , m11.4 , func=PSIS )\n"
   ]
  },
  {
   "cell_type": "code",
   "execution_count": null,
   "id": "minute-cattle",
   "metadata": {
    "lines_to_next_cell": 0,
    "name": "R code 11.21"
   },
   "outputs": [],
   "source": [
    "post <- extract.samples( m11.4 , clean=FALSE )\n",
    "str(post)\n"
   ]
  },
  {
   "cell_type": "code",
   "execution_count": null,
   "id": "political-dining",
   "metadata": {
    "lines_to_next_cell": 0,
    "name": "R code 11.22"
   },
   "outputs": [],
   "source": [
    "m11.4_stan_code <- stancode(m11.4)\n",
    "m11.4_stan <- stan( model_code=m11.4_stan_code , data=dat_list , chains=4 )\n",
    "compare( m11.4_stan , m11.4 )\n"
   ]
  },
  {
   "cell_type": "code",
   "execution_count": null,
   "id": "false-gambling",
   "metadata": {
    "lines_to_next_cell": 0,
    "name": "R code 11.23"
   },
   "outputs": [],
   "source": [
    "post <- extract.samples(m11.4)\n",
    "mean( exp(post$b[,4]-post$b[,2]) )\n"
   ]
  },
  {
   "cell_type": "code",
   "execution_count": null,
   "id": "bright-outreach",
   "metadata": {
    "lines_to_next_cell": 0,
    "name": "R code 11.24"
   },
   "outputs": [],
   "source": [
    "data(chimpanzees)\n",
    "d <- chimpanzees\n",
    "d$treatment <- 1 + d$prosoc_left + 2*d$condition\n",
    "d$side <- d$prosoc_left + 1 # right 1, left 2\n",
    "d$cond <- d$condition + 1 # no partner 1, partner 2\n",
    "d_aggregated <- aggregate(\n",
    "    d$pulled_left ,\n",
    "    list( treatment=d$treatment , actor=d$actor ,\n",
    "          side=d$side , cond=d$cond ) ,\n",
    "    sum )\n",
    "colnames(d_aggregated)[5] <- \"left_pulls\"\n"
   ]
  },
  {
   "cell_type": "code",
   "execution_count": null,
   "id": "retained-amino",
   "metadata": {
    "lines_to_next_cell": 0,
    "name": "R code 11.25"
   },
   "outputs": [],
   "source": [
    "dat <- with( d_aggregated , list(\n",
    "    left_pulls = left_pulls,\n",
    "    treatment = treatment,\n",
    "    actor = actor,\n",
    "    side = side,\n",
    "    cond = cond ) )\n",
    "\n",
    "m11.6 <- ulam(\n",
    "    alist(\n",
    "        left_pulls ~ dbinom( 18 , p ) ,\n",
    "        logit(p) <- a[actor] + b[treatment] ,\n",
    "        a[actor] ~ dnorm( 0 , 1.5 ) ,\n",
    "        b[treatment] ~ dnorm( 0 , 0.5 )\n",
    "    ) , data=dat , chains=4 , log_lik=TRUE )\n"
   ]
  },
  {
   "cell_type": "code",
   "execution_count": null,
   "id": "packed-fellow",
   "metadata": {
    "lines_to_next_cell": 0,
    "name": "R code 11.26"
   },
   "outputs": [],
   "source": [
    "compare( m11.6 , m11.4 , func=PSIS )\n"
   ]
  },
  {
   "cell_type": "code",
   "execution_count": null,
   "id": "secret-greene",
   "metadata": {
    "lines_to_next_cell": 0,
    "name": "R code 11.27"
   },
   "outputs": [],
   "source": [
    "# deviance of aggregated 6-in-9\n",
    "-2*dbinom(6,9,0.2,log=TRUE)\n",
    "# deviance of dis-aggregated\n",
    "-2*sum(dbern(c(1,1,1,1,1,1,0,0,0),0.2,log=TRUE))\n"
   ]
  },
  {
   "cell_type": "code",
   "execution_count": null,
   "id": "third-smooth",
   "metadata": {
    "lines_to_next_cell": 0,
    "name": "R code 11.28"
   },
   "outputs": [],
   "source": [
    "library(rethinking)\n",
    "data(UCBadmit)\n",
    "d <- UCBadmit\n"
   ]
  },
  {
   "cell_type": "code",
   "execution_count": null,
   "id": "favorite-powder",
   "metadata": {
    "lines_to_next_cell": 0,
    "name": "R code 11.29"
   },
   "outputs": [],
   "source": [
    "dat_list <- list(\n",
    "    admit = d$admit,\n",
    "    applications = d$applications,\n",
    "    gid = ifelse( d$applicant.gender==\"male\" , 1 , 2 )\n",
    ")\n",
    "m11.7 <- ulam(\n",
    "    alist(\n",
    "        admit ~ dbinom( applications , p ) ,\n",
    "        logit(p) <- a[gid] ,\n",
    "        a[gid] ~ dnorm( 0 , 1.5 )\n",
    "    ) , data=dat_list , chains=4 )\n",
    "precis( m11.7 , depth=2 )\n"
   ]
  },
  {
   "cell_type": "code",
   "execution_count": null,
   "id": "intended-symphony",
   "metadata": {
    "lines_to_next_cell": 0,
    "name": "R code 11.30"
   },
   "outputs": [],
   "source": [
    "post <- extract.samples(m11.7)\n",
    "diff_a <- post$a[,1] - post$a[,2]\n",
    "diff_p <- inv_logit(post$a[,1]) - inv_logit(post$a[,2])\n",
    "precis( list( diff_a=diff_a , diff_p=diff_p ) )\n"
   ]
  },
  {
   "cell_type": "code",
   "execution_count": null,
   "id": "sweet-condition",
   "metadata": {
    "lines_to_next_cell": 0,
    "name": "R code 11.31"
   },
   "outputs": [],
   "source": [
    "postcheck( m11.7 )\n",
    "# draw lines connecting points from same dept\n",
    "for ( i in 1:6 ) {\n",
    "    x <- 1 + 2*(i-1)\n",
    "    y1 <- d$admit[x]/d$applications[x]\n",
    "    y2 <- d$admit[x+1]/d$applications[x+1]\n",
    "    lines( c(x,x+1) , c(y1,y2) , col=rangi2 , lwd=2 )\n",
    "    text( x+0.5 , (y1+y2)/2 + 0.05 , d$dept[x] , cex=0.8 , col=rangi2 )\n",
    "}\n"
   ]
  },
  {
   "cell_type": "code",
   "execution_count": null,
   "id": "dependent-environment",
   "metadata": {
    "lines_to_next_cell": 0,
    "name": "R code 11.32"
   },
   "outputs": [],
   "source": [
    "dat_list$dept_id <- rep(1:6,each=2)\n",
    "m11.8 <- ulam(\n",
    "    alist(\n",
    "        admit ~ dbinom( applications , p ) ,\n",
    "        logit(p) <- a[gid] + delta[dept_id] ,\n",
    "        a[gid] ~ dnorm( 0 , 1.5 ) ,\n",
    "        delta[dept_id] ~ dnorm( 0 , 1.5 )\n",
    "    ) , data=dat_list , chains=4 , iter=4000 )\n",
    "precis( m11.8 , depth=2 )\n"
   ]
  },
  {
   "cell_type": "code",
   "execution_count": null,
   "id": "dimensional-saint",
   "metadata": {
    "lines_to_next_cell": 0,
    "name": "R code 11.33"
   },
   "outputs": [],
   "source": [
    "post <- extract.samples(m11.8)\n",
    "diff_a <- post$a[,1] - post$a[,2]\n",
    "diff_p <- inv_logit(post$a[,1]) - inv_logit(post$a[,2])\n",
    "precis( list( diff_a=diff_a , diff_p=diff_p ) )\n"
   ]
  },
  {
   "cell_type": "code",
   "execution_count": null,
   "id": "cultural-conservative",
   "metadata": {
    "lines_to_next_cell": 0,
    "name": "R code 11.34"
   },
   "outputs": [],
   "source": [
    "pg <- with( dat_list , sapply( 1:6 , function(k)\n",
    "    applications[dept_id==k]/sum(applications[dept_id==k]) ) )\n",
    "rownames(pg) <- c(\"male\",\"female\")\n",
    "colnames(pg) <- unique(d$dept)\n",
    "round( pg , 2 )\n"
   ]
  },
  {
   "cell_type": "code",
   "execution_count": null,
   "id": "parallel-demographic",
   "metadata": {
    "lines_to_next_cell": 0,
    "name": "R code 11.35"
   },
   "outputs": [],
   "source": [
    "y <- rbinom(1e5,1000,1/1000)\n",
    "c( mean(y) , var(y) )\n"
   ]
  },
  {
   "cell_type": "code",
   "execution_count": null,
   "id": "expired-oakland",
   "metadata": {
    "lines_to_next_cell": 0,
    "name": "R code 11.36"
   },
   "outputs": [],
   "source": [
    "library(rethinking)\n",
    "data(Kline)\n",
    "d <- Kline\n",
    "d\n"
   ]
  },
  {
   "cell_type": "code",
   "execution_count": null,
   "id": "compressed-hierarchy",
   "metadata": {
    "lines_to_next_cell": 0,
    "name": "R code 11.37"
   },
   "outputs": [],
   "source": [
    "d$P <- scale( log(d$population) )\n",
    "d$contact_id <- ifelse( d$contact==\"high\" , 2 , 1 )\n"
   ]
  },
  {
   "cell_type": "code",
   "execution_count": null,
   "id": "handed-maker",
   "metadata": {
    "lines_to_next_cell": 0,
    "name": "R code 11.38"
   },
   "outputs": [],
   "source": [
    "curve( dlnorm( x , 0 , 10 ) , from=0 , to=100 , n=200 )\n"
   ]
  },
  {
   "cell_type": "code",
   "execution_count": null,
   "id": "julian-michigan",
   "metadata": {
    "lines_to_next_cell": 0,
    "name": "R code 11.39"
   },
   "outputs": [],
   "source": [
    "a <- rnorm(1e4,0,10)\n",
    "lambda <- exp(a)\n",
    "mean( lambda )\n"
   ]
  },
  {
   "cell_type": "code",
   "execution_count": null,
   "id": "other-canyon",
   "metadata": {
    "lines_to_next_cell": 0,
    "name": "R code 11.40"
   },
   "outputs": [],
   "source": [
    "curve( dlnorm( x , 3 , 0.5 ) , from=0 , to=100 , n=200 )\n"
   ]
  },
  {
   "cell_type": "code",
   "execution_count": null,
   "id": "twenty-princeton",
   "metadata": {
    "lines_to_next_cell": 0,
    "name": "R code 11.41"
   },
   "outputs": [],
   "source": [
    "N <- 100\n",
    "a <- rnorm( N , 3 , 0.5 )\n",
    "b <- rnorm( N , 0 , 10 )\n",
    "plot( NULL , xlim=c(-2,2) , ylim=c(0,100) )\n",
    "for ( i in 1:N ) curve( exp( a[i] + b[i]*x ) , add=TRUE , col=grau() )\n"
   ]
  },
  {
   "cell_type": "code",
   "execution_count": null,
   "id": "chinese-hepatitis",
   "metadata": {
    "lines_to_next_cell": 0,
    "name": "R code 11.42"
   },
   "outputs": [],
   "source": [
    "set.seed(10)\n",
    "N <- 100\n",
    "a <- rnorm( N , 3 , 0.5 )\n",
    "b <- rnorm( N , 0 , 0.2 )\n",
    "plot( NULL , xlim=c(-2,2) , ylim=c(0,100) )\n",
    "for ( i in 1:N ) curve( exp( a[i] + b[i]*x ) , add=TRUE , col=grau() )\n"
   ]
  },
  {
   "cell_type": "code",
   "execution_count": null,
   "id": "alone-vampire",
   "metadata": {
    "lines_to_next_cell": 0,
    "name": "R code 11.43"
   },
   "outputs": [],
   "source": [
    "x_seq <- seq( from=log(100) , to=log(200000) , length.out=100 )\n",
    "lambda <- sapply( x_seq , function(x) exp( a + b*x ) )\n",
    "plot( NULL , xlim=range(x_seq) , ylim=c(0,500) , xlab=\"log population\" ,\n",
    "    ylab=\"total tools\" )\n",
    "for ( i in 1:N ) lines( x_seq , lambda[i,] , col=grau() , lwd=1.5 )\n"
   ]
  },
  {
   "cell_type": "code",
   "execution_count": null,
   "id": "lonely-vulnerability",
   "metadata": {
    "lines_to_next_cell": 0,
    "name": "R code 11.44"
   },
   "outputs": [],
   "source": [
    "plot( NULL , xlim=range(exp(x_seq)) , ylim=c(0,500) , xlab=\"population\" ,\n",
    "    ylab=\"total tools\" )\n",
    "for ( i in 1:N ) lines( exp(x_seq) , lambda[i,] , col=grau() , lwd=1.5 )\n"
   ]
  },
  {
   "cell_type": "code",
   "execution_count": null,
   "id": "appreciated-regulation",
   "metadata": {
    "lines_to_next_cell": 0,
    "name": "R code 11.45"
   },
   "outputs": [],
   "source": [
    "dat <- list(\n",
    "    T = d$total_tools ,\n",
    "    P = d$P ,\n",
    "    cid = d$contact_id )\n",
    "\n",
    "# intercept only\n",
    "m11.9 <- ulam(\n",
    "    alist(\n",
    "        T ~ dpois( lambda ),\n",
    "        log(lambda) <- a,\n",
    "        a ~ dnorm( 3 , 0.5 )\n",
    "    ), data=dat , chains=4 , log_lik=TRUE )\n",
    "\n",
    "# interaction model\n",
    "m11.10 <- ulam(\n",
    "    alist(\n",
    "        T ~ dpois( lambda ),\n",
    "        log(lambda) <- a[cid] + b[cid]*P,\n",
    "        a[cid] ~ dnorm( 3 , 0.5 ),\n",
    "        b[cid] ~ dnorm( 0 , 0.2 )\n",
    "    ), data=dat , chains=4 , log_lik=TRUE )\n"
   ]
  },
  {
   "cell_type": "code",
   "execution_count": null,
   "id": "characteristic-cincinnati",
   "metadata": {
    "lines_to_next_cell": 0,
    "name": "R code 11.46"
   },
   "outputs": [],
   "source": [
    "compare( m11.9 , m11.10 , func=PSIS )\n"
   ]
  },
  {
   "cell_type": "code",
   "execution_count": null,
   "id": "straight-weekly",
   "metadata": {
    "lines_to_next_cell": 0,
    "name": "R code 11.47"
   },
   "outputs": [],
   "source": [
    "k <- PSIS( m11.10 , pointwise=TRUE )$k\n",
    "plot( dat$P , dat$T , xlab=\"log population (std)\" , ylab=\"total tools\" ,\n",
    "    col=rangi2 , pch=ifelse( dat$cid==1 , 1 , 16 ) , lwd=2 ,\n",
    "    ylim=c(0,75) , cex=1+normalize(k) )\n",
    "\n",
    "# set up the horizontal axis values to compute predictions at\n",
    "ns <- 100\n",
    "P_seq <- seq( from=-1.4 , to=3 , length.out=ns )\n",
    "\n",
    "# predictions for cid=1 (low contact)\n",
    "lambda <- link( m11.10 , data=data.frame( P=P_seq , cid=1 ) )\n",
    "lmu <- apply( lambda , 2 , mean )\n",
    "lci <- apply( lambda , 2 , PI )\n",
    "lines( P_seq , lmu , lty=2 , lwd=1.5 )\n",
    "shade( lci , P_seq , xpd=TRUE )\n",
    "\n",
    "# predictions for cid=2 (high contact)\n",
    "lambda <- link( m11.10 , data=data.frame( P=P_seq , cid=2 ) )\n",
    "lmu <- apply( lambda , 2 , mean )\n",
    "lci <- apply( lambda , 2 , PI )\n",
    "lines( P_seq , lmu , lty=1 , lwd=1.5 )\n",
    "shade( lci , P_seq , xpd=TRUE )\n"
   ]
  },
  {
   "cell_type": "code",
   "execution_count": null,
   "id": "casual-occasions",
   "metadata": {
    "lines_to_next_cell": 0,
    "name": "R code 11.48"
   },
   "outputs": [],
   "source": [
    "plot( d$population , d$total_tools , xlab=\"population\" , ylab=\"total tools\" ,\n",
    "    col=rangi2 , pch=ifelse( dat$cid==1 , 1 , 16 ) , lwd=2 ,\n",
    "    ylim=c(0,75) , cex=1+normalize(k) )\n",
    "\n",
    "ns <- 100\n",
    "P_seq <- seq( from=-5 , to=3 , length.out=ns )\n",
    "# 1.53 is sd of log(population)\n",
    "# 9 is mean of log(population)\n",
    "pop_seq <- exp( P_seq*1.53 + 9 )\n",
    "\n",
    "lambda <- link( m11.10 , data=data.frame( P=P_seq , cid=1 ) )\n",
    "lmu <- apply( lambda , 2 , mean )\n",
    "lci <- apply( lambda , 2 , PI )\n",
    "lines( pop_seq , lmu , lty=2 , lwd=1.5 )\n",
    "shade( lci , pop_seq , xpd=TRUE )\n",
    "\n",
    "lambda <- link( m11.10 , data=data.frame( P=P_seq , cid=2 ) )\n",
    "lmu <- apply( lambda , 2 , mean )\n",
    "lci <- apply( lambda , 2 , PI )\n",
    "lines( pop_seq , lmu , lty=1 , lwd=1.5 )\n",
    "shade( lci , pop_seq , xpd=TRUE )\n"
   ]
  },
  {
   "cell_type": "code",
   "execution_count": null,
   "id": "vocal-veteran",
   "metadata": {
    "lines_to_next_cell": 0,
    "name": "R code 11.49"
   },
   "outputs": [],
   "source": [
    "dat2 <- list( T=d$total_tools, P=d$population, cid=d$contact_id )\n",
    "m11.11 <- ulam(\n",
    "    alist(\n",
    "        T ~ dpois( lambda ),\n",
    "        lambda <- exp(a[cid])*P^b[cid]/g,\n",
    "        a[cid] ~ dnorm(1,1),\n",
    "        b[cid] ~ dexp(1),\n",
    "        g ~ dexp(1)\n",
    "    ), data=dat2 , chains=4 , log_lik=TRUE )\n"
   ]
  },
  {
   "cell_type": "code",
   "execution_count": null,
   "id": "handmade-delhi",
   "metadata": {
    "lines_to_next_cell": 0,
    "name": "R code 11.50"
   },
   "outputs": [],
   "source": [
    "num_days <- 30\n",
    "y <- rpois( num_days , 1.5 )\n"
   ]
  },
  {
   "cell_type": "code",
   "execution_count": null,
   "id": "talented-mayor",
   "metadata": {
    "lines_to_next_cell": 0,
    "name": "R code 11.51"
   },
   "outputs": [],
   "source": [
    "num_weeks <- 4\n",
    "y_new <- rpois( num_weeks , 0.5*7 )\n"
   ]
  },
  {
   "cell_type": "code",
   "execution_count": null,
   "id": "convenient-testimony",
   "metadata": {
    "lines_to_next_cell": 0,
    "name": "R code 11.52"
   },
   "outputs": [],
   "source": [
    "y_all <- c( y , y_new )\n",
    "exposure <- c( rep(1,30) , rep(7,4) )\n",
    "monastery <- c( rep(0,30) , rep(1,4) )\n",
    "d <- data.frame( y=y_all , days=exposure , monastery=monastery )\n"
   ]
  },
  {
   "cell_type": "code",
   "execution_count": null,
   "id": "timely-portland",
   "metadata": {
    "lines_to_next_cell": 0,
    "name": "R code 11.53"
   },
   "outputs": [],
   "source": [
    "# compute the offset\n",
    "d$log_days <- log( d$days )\n",
    "\n",
    "# fit the model\n",
    "m11.12 <- quap(\n",
    "    alist(\n",
    "        y ~ dpois( lambda ),\n",
    "        log(lambda) <- log_days + a + b*monastery,\n",
    "        a ~ dnorm( 0 , 1 ),\n",
    "        b ~ dnorm( 0 , 1 )\n",
    "    ), data=d )\n"
   ]
  },
  {
   "cell_type": "code",
   "execution_count": null,
   "id": "likely-afghanistan",
   "metadata": {
    "lines_to_next_cell": 0,
    "name": "R code 11.54"
   },
   "outputs": [],
   "source": [
    "post <- extract.samples( m11.12 )\n",
    "lambda_old <- exp( post$a )\n",
    "lambda_new <- exp( post$a + post$b )\n",
    "precis( data.frame( lambda_old , lambda_new ) )\n"
   ]
  },
  {
   "cell_type": "code",
   "execution_count": null,
   "id": "diagnostic-uncertainty",
   "metadata": {
    "lines_to_next_cell": 0,
    "name": "R code 11.55"
   },
   "outputs": [],
   "source": [
    "# simulate career choices among 500 individuals\n",
    "N <- 500             # number of individuals\n",
    "income <- c(1,2,5)   # expected income of each career\n",
    "score <- 0.5*income  # scores for each career, based on income\n",
    "# next line converts scores to probabilities\n",
    "p <- softmax(score[1],score[2],score[3])\n",
    "\n",
    "# now simulate choice\n",
    "# outcome career holds event type values, not counts\n",
    "career <- rep(NA,N)  # empty vector of choices for each individual\n",
    "# sample chosen career for each individual\n",
    "set.seed(34302)\n",
    "for ( i in 1:N ) career[i] <- sample( 1:3 , size=1 , prob=p )\n"
   ]
  },
  {
   "cell_type": "code",
   "execution_count": null,
   "id": "focal-bridge",
   "metadata": {
    "lines_to_next_cell": 0,
    "name": "R code 11.56"
   },
   "outputs": [],
   "source": [
    "code_m11.13 <- \"\n",
    "data{\n",
    "    int N; // number of individuals\n",
    "    int K; // number of possible careers\n",
    "    int career[N]; // outcome\n",
    "    vector[K] career_income;\n",
    "}\n",
    "parameters{\n",
    "    vector[K-1] a; // intercepts\n",
    "    real<lower=0> b; // association of income with choice\n",
    "}\n",
    "model{\n",
    "    vector[K] p;\n",
    "    vector[K] s;\n",
    "    a ~ normal( 0 , 1 );\n",
    "    b ~ normal( 0 , 0.5 );\n",
    "    s[1] = a[1] + b*career_income[1];\n",
    "    s[2] = a[2] + b*career_income[2];\n",
    "    s[3] = 0; // pivot\n",
    "    p = softmax( s );\n",
    "    career ~ categorical( p );\n",
    "}\n",
    "\"\n"
   ]
  },
  {
   "cell_type": "code",
   "execution_count": null,
   "id": "horizontal-wayne",
   "metadata": {
    "lines_to_next_cell": 0,
    "name": "R code 11.57"
   },
   "outputs": [],
   "source": [
    "dat_list <- list( N=N , K=3 , career=career , career_income=income )\n",
    "m11.13 <- stan( model_code=code_m11.13 , data=dat_list , chains=4 )\n",
    "precis( m11.13 , 2 )\n"
   ]
  },
  {
   "cell_type": "code",
   "execution_count": null,
   "id": "assigned-cookie",
   "metadata": {
    "lines_to_next_cell": 0,
    "name": "R code 11.58"
   },
   "outputs": [],
   "source": [
    "post <- extract.samples( m11.13 )\n",
    "\n",
    "# set up logit scores\n",
    "s1 <- with( post , a[,1] + b*income[1] )\n",
    "s2_orig <- with( post , a[,2] + b*income[2] )\n",
    "s2_new <- with( post , a[,2] + b*income[2]*2 )\n",
    "\n",
    "# compute probabilities for original and counterfactual\n",
    "p_orig <- sapply( 1:length(post$b) , function(i)\n",
    "    softmax( c(s1[i],s2_orig[i],0) ) )\n",
    "p_new <- sapply( 1:length(post$b) , function(i)\n",
    "    softmax( c(s1[i],s2_new[i],0) ) )\n",
    "\n",
    "# summarize\n",
    "p_diff <- p_new[2,] - p_orig[2,]\n",
    "precis( p_diff )\n"
   ]
  },
  {
   "cell_type": "code",
   "execution_count": null,
   "id": "endless-guarantee",
   "metadata": {
    "lines_to_next_cell": 0,
    "name": "R code 11.59"
   },
   "outputs": [],
   "source": [
    "N <- 500\n",
    "# simulate family incomes for each individual\n",
    "family_income <- runif(N)\n",
    "# assign a unique coefficient for each type of event\n",
    "b <- c(-2,0,2)\n",
    "career <- rep(NA,N)  # empty vector of choices for each individual\n",
    "for ( i in 1:N ) {\n",
    "    score <- 0.5*(1:3) + b*family_income[i]\n",
    "    p <- softmax(score[1],score[2],score[3])\n",
    "    career[i] <- sample( 1:3 , size=1 , prob=p )\n",
    "}\n",
    "\n",
    "code_m11.14 <- \"\n",
    "data{\n",
    "    int N; // number of observations\n",
    "    int K; // number of outcome values\n",
    "    int career[N]; // outcome\n",
    "    real family_income[N];\n",
    "}\n",
    "parameters{\n",
    "    vector[K-1] a; // intercepts\n",
    "    vector[K-1] b; // coefficients on family income\n",
    "}\n",
    "model{\n",
    "    vector[K] p;\n",
    "    vector[K] s;\n",
    "    a ~ normal(0,1.5);\n",
    "    b ~ normal(0,1);\n",
    "    for ( i in 1:N ) {\n",
    "        for ( j in 1:(K-1) ) s[j] = a[j] + b[j]*family_income[i];\n",
    "        s[K] = 0; // the pivot\n",
    "        p = softmax( s );\n",
    "        career[i] ~ categorical( p );\n",
    "    }\n",
    "}\n",
    "\"\n",
    "\n",
    "dat_list <- list( N=N , K=3 , career=career , family_income=family_income )\n",
    "m11.14 <- stan( model_code=code_m11.14 , data=dat_list , chains=4 )\n",
    "precis( m11.14 , 2 )\n"
   ]
  },
  {
   "cell_type": "code",
   "execution_count": null,
   "id": "legendary-boxing",
   "metadata": {
    "lines_to_next_cell": 0,
    "name": "R code 11.60"
   },
   "outputs": [],
   "source": [
    "library(rethinking)\n",
    "data(UCBadmit)\n",
    "d <- UCBadmit\n"
   ]
  },
  {
   "cell_type": "code",
   "execution_count": null,
   "id": "recovered-olive",
   "metadata": {
    "lines_to_next_cell": 0,
    "name": "R code 11.61"
   },
   "outputs": [],
   "source": [
    "# binomial model of overall admission probability\n",
    "m_binom <- quap(\n",
    "    alist(\n",
    "        admit ~ dbinom(applications,p),\n",
    "        logit(p) <- a,\n",
    "        a ~ dnorm( 0 , 1.5 )\n",
    "    ), data=d )\n",
    "\n",
    "# Poisson model of overall admission rate and rejection rate\n",
    "# 'reject' is a reserved word in Stan, cannot use as variable name\n",
    "dat <- list( admit=d$admit , rej=d$reject )\n",
    "m_pois <- ulam(\n",
    "    alist(\n",
    "        admit ~ dpois(lambda1),\n",
    "        rej ~ dpois(lambda2),\n",
    "        log(lambda1) <- a1,\n",
    "        log(lambda2) <- a2,\n",
    "        c(a1,a2) ~ dnorm(0,1.5)\n",
    "    ), data=dat , chains=3 , cores=3 )\n"
   ]
  },
  {
   "cell_type": "code",
   "execution_count": null,
   "id": "entire-method",
   "metadata": {
    "lines_to_next_cell": 0,
    "name": "R code 11.62"
   },
   "outputs": [],
   "source": [
    "inv_logit(coef(m_binom))\n"
   ]
  },
  {
   "cell_type": "code",
   "execution_count": null,
   "id": "ecological-nudist",
   "metadata": {
    "lines_to_next_cell": 0,
    "name": "R code 11.63"
   },
   "outputs": [],
   "source": [
    "k <- coef(m_pois)\n",
    "a1 <- k['a1']; a2 <- k['a2']\n",
    "exp(a1)/(exp(a1)+exp(a2))"
   ]
  },
  {
   "cell_type": "markdown",
   "id": "multiple-pressing",
   "metadata": {},
   "source": []
  }
 ],
 "metadata": {
  "jupytext": {
   "cell_metadata_filter": "name,-all",
   "main_language": "R",
   "notebook_metadata_filter": "-all"
  }
 },
 "nbformat": 4,
 "nbformat_minor": 5
}
