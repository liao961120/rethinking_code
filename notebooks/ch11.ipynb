{
 "cells": [
  {
   "cell_type": "markdown",
   "id": "seven-times",
   "metadata": {
    "lines_to_next_cell": 0
   },
   "source": []
  },
  {
   "cell_type": "code",
   "execution_count": null,
   "id": "successful-velvet",
   "metadata": {
    "name": "Setup"
   },
   "outputs": [],
   "source": [
    "remotes::install_github('rmcelreath/rethinking', upgrade=F)"
   ]
  },
  {
   "cell_type": "markdown",
   "id": "individual-ivory",
   "metadata": {},
   "source": [
    "## R code 11.1"
   ]
  },
  {
   "cell_type": "code",
   "execution_count": null,
   "id": "twenty-ensemble",
   "metadata": {
    "name": "R code 11.1"
   },
   "outputs": [],
   "source": [
    "library(rethinking)\n",
    "data(chimpanzees)\n",
    "d <- chimpanzees"
   ]
  },
  {
   "cell_type": "markdown",
   "id": "responsible-musical",
   "metadata": {},
   "source": [
    "## R code 11.2"
   ]
  },
  {
   "cell_type": "code",
   "execution_count": null,
   "id": "resident-latitude",
   "metadata": {
    "name": "R code 11.2"
   },
   "outputs": [],
   "source": [
    "d$treatment <- 1 + d$prosoc_left + 2*d$condition"
   ]
  },
  {
   "cell_type": "markdown",
   "id": "early-crime",
   "metadata": {},
   "source": [
    "## R code 11.3"
   ]
  },
  {
   "cell_type": "code",
   "execution_count": null,
   "id": "critical-reynolds",
   "metadata": {
    "name": "R code 11.3"
   },
   "outputs": [],
   "source": [
    "xtabs( ~ treatment + prosoc_left + condition , d )"
   ]
  },
  {
   "cell_type": "markdown",
   "id": "collected-serial",
   "metadata": {},
   "source": [
    "## R code 11.4"
   ]
  },
  {
   "cell_type": "code",
   "execution_count": null,
   "id": "cellular-deputy",
   "metadata": {
    "name": "R code 11.4"
   },
   "outputs": [],
   "source": [
    "m11.1 <- quap(\n",
    "    alist(\n",
    "        pulled_left ~ dbinom( 1 , p ) ,\n",
    "        logit(p) <- a ,\n",
    "        a ~ dnorm( 0 , 10 )\n",
    "    ) , data=d )"
   ]
  },
  {
   "cell_type": "markdown",
   "id": "moderate-technique",
   "metadata": {},
   "source": [
    "## R code 11.5"
   ]
  },
  {
   "cell_type": "code",
   "execution_count": null,
   "id": "infinite-scroll",
   "metadata": {
    "name": "R code 11.5"
   },
   "outputs": [],
   "source": [
    "set.seed(1999)\n",
    "prior <- extract.prior( m11.1 , n=1e4 )"
   ]
  },
  {
   "cell_type": "markdown",
   "id": "social-sampling",
   "metadata": {},
   "source": [
    "## R code 11.6"
   ]
  },
  {
   "cell_type": "code",
   "execution_count": null,
   "id": "professional-great",
   "metadata": {
    "name": "R code 11.6"
   },
   "outputs": [],
   "source": [
    "p <- inv_logit( prior$a )\n",
    "dens( p , adj=0.1 )"
   ]
  },
  {
   "cell_type": "markdown",
   "id": "historic-convert",
   "metadata": {},
   "source": [
    "## R code 11.7"
   ]
  },
  {
   "cell_type": "code",
   "execution_count": null,
   "id": "vital-corruption",
   "metadata": {
    "name": "R code 11.7"
   },
   "outputs": [],
   "source": [
    "m11.2 <- quap(\n",
    "    alist(\n",
    "        pulled_left ~ dbinom( 1 , p ) ,\n",
    "        logit(p) <- a + b[treatment] ,\n",
    "        a ~ dnorm( 0 , 1.5 ),\n",
    "        b[treatment] ~ dnorm( 0 , 10 )\n",
    "    ) , data=d )\n",
    "set.seed(1999)\n",
    "prior <- extract.prior( m11.2 , n=1e4 )\n",
    "p <- sapply( 1:4 , function(k) inv_logit( prior$a + prior$b[,k] ) )"
   ]
  },
  {
   "cell_type": "markdown",
   "id": "rational-default",
   "metadata": {},
   "source": [
    "## R code 11.8"
   ]
  },
  {
   "cell_type": "code",
   "execution_count": null,
   "id": "representative-trade",
   "metadata": {
    "name": "R code 11.8"
   },
   "outputs": [],
   "source": [
    "dens( abs( p[,1] - p[,2] ) , adj=0.1 )"
   ]
  },
  {
   "cell_type": "markdown",
   "id": "leading-charlotte",
   "metadata": {},
   "source": [
    "## R code 11.9"
   ]
  },
  {
   "cell_type": "code",
   "execution_count": null,
   "id": "artificial-teens",
   "metadata": {
    "name": "R code 11.9"
   },
   "outputs": [],
   "source": [
    "m11.3 <- quap(\n",
    "    alist(\n",
    "        pulled_left ~ dbinom( 1 , p ) ,\n",
    "        logit(p) <- a + b[treatment] ,\n",
    "        a ~ dnorm( 0 , 1.5 ),\n",
    "        b[treatment] ~ dnorm( 0 , 0.5 )\n",
    "    ) , data=d )\n",
    "set.seed(1999)\n",
    "prior <- extract.prior( m11.3 , n=1e4 )\n",
    "p <- sapply( 1:4 , function(k) inv_logit( prior$a + prior$b[,k] ) )\n",
    "mean( abs( p[,1] - p[,2] ) )"
   ]
  },
  {
   "cell_type": "markdown",
   "id": "sweet-bowling",
   "metadata": {},
   "source": [
    "## R code 11.10"
   ]
  },
  {
   "cell_type": "code",
   "execution_count": null,
   "id": "trained-drove",
   "metadata": {
    "name": "R code 11.10"
   },
   "outputs": [],
   "source": [
    "# trimmed data list\n",
    "dat_list <- list(\n",
    "    pulled_left = d$pulled_left,\n",
    "    actor = d$actor,\n",
    "    treatment = as.integer(d$treatment) )"
   ]
  },
  {
   "cell_type": "markdown",
   "id": "amazing-ultimate",
   "metadata": {},
   "source": [
    "## R code 11.11"
   ]
  },
  {
   "cell_type": "code",
   "execution_count": null,
   "id": "frozen-switch",
   "metadata": {
    "name": "R code 11.11"
   },
   "outputs": [],
   "source": [
    "m11.4 <- ulam(\n",
    "    alist(\n",
    "        pulled_left ~ dbinom( 1 , p ) ,\n",
    "        logit(p) <- a[actor] + b[treatment] ,\n",
    "        a[actor] ~ dnorm( 0 , 1.5 ),\n",
    "        b[treatment] ~ dnorm( 0 , 0.5 )\n",
    "    ) , data=dat_list , chains=4 , log_lik=TRUE )\n",
    "precis( m11.4 , depth=2 )"
   ]
  },
  {
   "cell_type": "markdown",
   "id": "virgin-rapid",
   "metadata": {},
   "source": [
    "## R code 11.12"
   ]
  },
  {
   "cell_type": "code",
   "execution_count": null,
   "id": "fabulous-nudist",
   "metadata": {
    "name": "R code 11.12"
   },
   "outputs": [],
   "source": [
    "post <- extract.samples(m11.4)\n",
    "p_left <- inv_logit( post$a )\n",
    "plot( precis( as.data.frame(p_left) ) , xlim=c(0,1) )"
   ]
  },
  {
   "cell_type": "markdown",
   "id": "ranging-cholesterol",
   "metadata": {},
   "source": [
    "## R code 11.13"
   ]
  },
  {
   "cell_type": "code",
   "execution_count": null,
   "id": "opposite-sugar",
   "metadata": {
    "name": "R code 11.13"
   },
   "outputs": [],
   "source": [
    "labs <- c(\"R/N\",\"L/N\",\"R/P\",\"L/P\")\n",
    "plot( precis( m11.4 , depth=2 , pars=\"b\" ) , labels=labs )"
   ]
  },
  {
   "cell_type": "markdown",
   "id": "proof-coaching",
   "metadata": {},
   "source": [
    "## R code 11.14"
   ]
  },
  {
   "cell_type": "code",
   "execution_count": null,
   "id": "approved-translation",
   "metadata": {
    "name": "R code 11.14"
   },
   "outputs": [],
   "source": [
    "diffs <- list(\n",
    "    db13 = post$b[,1] - post$b[,3],\n",
    "    db24 = post$b[,2] - post$b[,4] )\n",
    "plot( precis(diffs) )"
   ]
  },
  {
   "cell_type": "markdown",
   "id": "swiss-increase",
   "metadata": {},
   "source": [
    "## R code 11.15"
   ]
  },
  {
   "cell_type": "code",
   "execution_count": null,
   "id": "satisfied-calcium",
   "metadata": {
    "name": "R code 11.15"
   },
   "outputs": [],
   "source": [
    "pl <- by( d$pulled_left , list( d$actor , d$treatment ) , mean )\n",
    "pl[1,]"
   ]
  },
  {
   "cell_type": "markdown",
   "id": "seven-shuttle",
   "metadata": {},
   "source": [
    "## R code 11.16"
   ]
  },
  {
   "cell_type": "code",
   "execution_count": null,
   "id": "addressed-animation",
   "metadata": {
    "name": "R code 11.16"
   },
   "outputs": [],
   "source": [
    "plot( NULL , xlim=c(1,28) , ylim=c(0,1) , xlab=\"\" ,\n",
    "    ylab=\"proportion left lever\" , xaxt=\"n\" , yaxt=\"n\" )\n",
    "axis( 2 , at=c(0,0.5,1) , labels=c(0,0.5,1) )\n",
    "abline( h=0.5 , lty=2 )\n",
    "for ( j in 1:7 ) abline( v=(j-1)*4+4.5 , lwd=0.5 )\n",
    "for ( j in 1:7 ) text( (j-1)*4+2.5 , 1.1 , concat(\"actor \",j) , xpd=TRUE )\n",
    "for ( j in (1:7)[-2] ) {\n",
    "    lines( (j-1)*4+c(1,3) , pl[j,c(1,3)] , lwd=2 , col=rangi2 )\n",
    "    lines( (j-1)*4+c(2,4) , pl[j,c(2,4)] , lwd=2 , col=rangi2 )\n",
    "}\n",
    "points( 1:28 , t(pl) , pch=16 , col=\"white\" , cex=1.7 )\n",
    "points( 1:28 , t(pl) , pch=c(1,1,16,16) , col=rangi2 , lwd=2 )\n",
    "yoff <- 0.01\n",
    "text( 1 , pl[1,1]-yoff , \"R/N\" , pos=1 , cex=0.8 )\n",
    "text( 2 , pl[1,2]+yoff , \"L/N\" , pos=3 , cex=0.8 )\n",
    "text( 3 , pl[1,3]-yoff , \"R/P\" , pos=1 , cex=0.8 )\n",
    "text( 4 , pl[1,4]+yoff , \"L/P\" , pos=3 , cex=0.8 )\n",
    "mtext( \"observed proportions\\n\" )"
   ]
  },
  {
   "cell_type": "markdown",
   "id": "quick-skill",
   "metadata": {},
   "source": [
    "## R code 11.17"
   ]
  },
  {
   "cell_type": "code",
   "execution_count": null,
   "id": "extra-connection",
   "metadata": {
    "name": "R code 11.17"
   },
   "outputs": [],
   "source": [
    "dat <- list( actor=rep(1:7,each=4) , treatment=rep(1:4,times=7) )\n",
    "p_post <- link( m11.4 , data=dat )\n",
    "p_mu <- apply( p_post , 2 , mean )\n",
    "p_ci <- apply( p_post , 2 , PI )"
   ]
  },
  {
   "cell_type": "markdown",
   "id": "modified-serial",
   "metadata": {},
   "source": [
    "## R code 11.18"
   ]
  },
  {
   "cell_type": "code",
   "execution_count": null,
   "id": "previous-ballot",
   "metadata": {
    "name": "R code 11.18"
   },
   "outputs": [],
   "source": [
    "d$side <- d$prosoc_left + 1 # right 1, left 2\n",
    "d$cond <- d$condition + 1 # no partner 1, partner 2"
   ]
  },
  {
   "cell_type": "markdown",
   "id": "suitable-surface",
   "metadata": {},
   "source": [
    "## R code 11.19"
   ]
  },
  {
   "cell_type": "code",
   "execution_count": null,
   "id": "intense-landing",
   "metadata": {
    "name": "R code 11.19"
   },
   "outputs": [],
   "source": [
    "dat_list2 <- list(\n",
    "    pulled_left = d$pulled_left,\n",
    "    actor = d$actor,\n",
    "    side = d$side,\n",
    "    cond = d$cond )\n",
    "m11.5 <- ulam(\n",
    "    alist(\n",
    "        pulled_left ~ dbinom( 1 , p ) ,\n",
    "        logit(p) <- a[actor] + bs[side] + bc[cond] ,\n",
    "        a[actor] ~ dnorm( 0 , 1.5 ),\n",
    "        bs[side] ~ dnorm( 0 , 0.5 ),\n",
    "        bc[cond] ~ dnorm( 0 , 0.5 )\n",
    "    ) , data=dat_list2 , chains=4 , log_lik=TRUE )"
   ]
  },
  {
   "cell_type": "markdown",
   "id": "opposite-edgar",
   "metadata": {},
   "source": [
    "## R code 11.20"
   ]
  },
  {
   "cell_type": "code",
   "execution_count": null,
   "id": "surprising-papua",
   "metadata": {
    "name": "R code 11.20"
   },
   "outputs": [],
   "source": [
    "compare( m11.5 , m11.4 , func=PSIS )"
   ]
  },
  {
   "cell_type": "markdown",
   "id": "sonic-faculty",
   "metadata": {},
   "source": [
    "## R code 11.21"
   ]
  },
  {
   "cell_type": "code",
   "execution_count": null,
   "id": "wanted-multimedia",
   "metadata": {
    "name": "R code 11.21"
   },
   "outputs": [],
   "source": [
    "post <- extract.samples( m11.4 , clean=FALSE )\n",
    "str(post)"
   ]
  },
  {
   "cell_type": "markdown",
   "id": "ambient-fields",
   "metadata": {},
   "source": [
    "## R code 11.22"
   ]
  },
  {
   "cell_type": "code",
   "execution_count": null,
   "id": "sharp-function",
   "metadata": {
    "name": "R code 11.22"
   },
   "outputs": [],
   "source": [
    "m11.4_stan_code <- stancode(m11.4)\n",
    "m11.4_stan <- stan( model_code=m11.4_stan_code , data=dat_list , chains=4 )\n",
    "compare( m11.4_stan , m11.4 )"
   ]
  },
  {
   "cell_type": "markdown",
   "id": "relative-zoning",
   "metadata": {},
   "source": [
    "## R code 11.23"
   ]
  },
  {
   "cell_type": "code",
   "execution_count": null,
   "id": "patient-nevada",
   "metadata": {
    "name": "R code 11.23"
   },
   "outputs": [],
   "source": [
    "post <- extract.samples(m11.4)\n",
    "mean( exp(post$b[,4]-post$b[,2]) )"
   ]
  },
  {
   "cell_type": "markdown",
   "id": "hydraulic-render",
   "metadata": {},
   "source": [
    "## R code 11.24"
   ]
  },
  {
   "cell_type": "code",
   "execution_count": null,
   "id": "internal-causing",
   "metadata": {
    "name": "R code 11.24"
   },
   "outputs": [],
   "source": [
    "data(chimpanzees)\n",
    "d <- chimpanzees\n",
    "d$treatment <- 1 + d$prosoc_left + 2*d$condition\n",
    "d$side <- d$prosoc_left + 1 # right 1, left 2\n",
    "d$cond <- d$condition + 1 # no partner 1, partner 2\n",
    "d_aggregated <- aggregate(\n",
    "    d$pulled_left ,\n",
    "    list( treatment=d$treatment , actor=d$actor ,\n",
    "          side=d$side , cond=d$cond ) ,\n",
    "    sum )\n",
    "colnames(d_aggregated)[5] <- \"left_pulls\""
   ]
  },
  {
   "cell_type": "markdown",
   "id": "complicated-showcase",
   "metadata": {},
   "source": [
    "## R code 11.25"
   ]
  },
  {
   "cell_type": "code",
   "execution_count": null,
   "id": "portuguese-reconstruction",
   "metadata": {
    "name": "R code 11.25"
   },
   "outputs": [],
   "source": [
    "dat <- with( d_aggregated , list(\n",
    "    left_pulls = left_pulls,\n",
    "    treatment = treatment,\n",
    "    actor = actor,\n",
    "    side = side,\n",
    "    cond = cond ) )\n",
    "\n",
    "m11.6 <- ulam(\n",
    "    alist(\n",
    "        left_pulls ~ dbinom( 18 , p ) ,\n",
    "        logit(p) <- a[actor] + b[treatment] ,\n",
    "        a[actor] ~ dnorm( 0 , 1.5 ) ,\n",
    "        b[treatment] ~ dnorm( 0 , 0.5 )\n",
    "    ) , data=dat , chains=4 , log_lik=TRUE )"
   ]
  },
  {
   "cell_type": "markdown",
   "id": "incoming-airport",
   "metadata": {},
   "source": [
    "## R code 11.26"
   ]
  },
  {
   "cell_type": "code",
   "execution_count": null,
   "id": "embedded-national",
   "metadata": {
    "name": "R code 11.26"
   },
   "outputs": [],
   "source": [
    "compare( m11.6 , m11.4 , func=PSIS )"
   ]
  },
  {
   "cell_type": "markdown",
   "id": "invisible-kelly",
   "metadata": {},
   "source": [
    "## R code 11.27"
   ]
  },
  {
   "cell_type": "code",
   "execution_count": null,
   "id": "promotional-context",
   "metadata": {
    "name": "R code 11.27"
   },
   "outputs": [],
   "source": [
    "# deviance of aggregated 6-in-9\n",
    "-2*dbinom(6,9,0.2,log=TRUE)\n",
    "# deviance of dis-aggregated\n",
    "-2*sum(dbern(c(1,1,1,1,1,1,0,0,0),0.2,log=TRUE))"
   ]
  },
  {
   "cell_type": "markdown",
   "id": "associate-square",
   "metadata": {},
   "source": [
    "## R code 11.28"
   ]
  },
  {
   "cell_type": "code",
   "execution_count": null,
   "id": "israeli-party",
   "metadata": {
    "name": "R code 11.28"
   },
   "outputs": [],
   "source": [
    "library(rethinking)\n",
    "data(UCBadmit)\n",
    "d <- UCBadmit"
   ]
  },
  {
   "cell_type": "markdown",
   "id": "integral-communications",
   "metadata": {},
   "source": [
    "## R code 11.29"
   ]
  },
  {
   "cell_type": "code",
   "execution_count": null,
   "id": "legislative-corrections",
   "metadata": {
    "name": "R code 11.29"
   },
   "outputs": [],
   "source": [
    "dat_list <- list(\n",
    "    admit = d$admit,\n",
    "    applications = d$applications,\n",
    "    gid = ifelse( d$applicant.gender==\"male\" , 1 , 2 )\n",
    ")\n",
    "m11.7 <- ulam(\n",
    "    alist(\n",
    "        admit ~ dbinom( applications , p ) ,\n",
    "        logit(p) <- a[gid] ,\n",
    "        a[gid] ~ dnorm( 0 , 1.5 )\n",
    "    ) , data=dat_list , chains=4 )\n",
    "precis( m11.7 , depth=2 )"
   ]
  },
  {
   "cell_type": "markdown",
   "id": "popular-christianity",
   "metadata": {},
   "source": [
    "## R code 11.30"
   ]
  },
  {
   "cell_type": "code",
   "execution_count": null,
   "id": "cross-leeds",
   "metadata": {
    "name": "R code 11.30"
   },
   "outputs": [],
   "source": [
    "post <- extract.samples(m11.7)\n",
    "diff_a <- post$a[,1] - post$a[,2]\n",
    "diff_p <- inv_logit(post$a[,1]) - inv_logit(post$a[,2])\n",
    "precis( list( diff_a=diff_a , diff_p=diff_p ) )"
   ]
  },
  {
   "cell_type": "markdown",
   "id": "lesbian-breath",
   "metadata": {},
   "source": [
    "## R code 11.31"
   ]
  },
  {
   "cell_type": "code",
   "execution_count": null,
   "id": "ambient-release",
   "metadata": {
    "name": "R code 11.31"
   },
   "outputs": [],
   "source": [
    "postcheck( m11.7 )\n",
    "# draw lines connecting points from same dept\n",
    "for ( i in 1:6 ) {\n",
    "    x <- 1 + 2*(i-1)\n",
    "    y1 <- d$admit[x]/d$applications[x]\n",
    "    y2 <- d$admit[x+1]/d$applications[x+1]\n",
    "    lines( c(x,x+1) , c(y1,y2) , col=rangi2 , lwd=2 )\n",
    "    text( x+0.5 , (y1+y2)/2 + 0.05 , d$dept[x] , cex=0.8 , col=rangi2 )\n",
    "}"
   ]
  },
  {
   "cell_type": "markdown",
   "id": "permanent-construction",
   "metadata": {},
   "source": [
    "## R code 11.32"
   ]
  },
  {
   "cell_type": "code",
   "execution_count": null,
   "id": "sensitive-religion",
   "metadata": {
    "name": "R code 11.32"
   },
   "outputs": [],
   "source": [
    "dat_list$dept_id <- rep(1:6,each=2)\n",
    "m11.8 <- ulam(\n",
    "    alist(\n",
    "        admit ~ dbinom( applications , p ) ,\n",
    "        logit(p) <- a[gid] + delta[dept_id] ,\n",
    "        a[gid] ~ dnorm( 0 , 1.5 ) ,\n",
    "        delta[dept_id] ~ dnorm( 0 , 1.5 )\n",
    "    ) , data=dat_list , chains=4 , iter=4000 )\n",
    "precis( m11.8 , depth=2 )"
   ]
  },
  {
   "cell_type": "markdown",
   "id": "backed-commons",
   "metadata": {},
   "source": [
    "## R code 11.33"
   ]
  },
  {
   "cell_type": "code",
   "execution_count": null,
   "id": "reasonable-coaching",
   "metadata": {
    "name": "R code 11.33"
   },
   "outputs": [],
   "source": [
    "post <- extract.samples(m11.8)\n",
    "diff_a <- post$a[,1] - post$a[,2]\n",
    "diff_p <- inv_logit(post$a[,1]) - inv_logit(post$a[,2])\n",
    "precis( list( diff_a=diff_a , diff_p=diff_p ) )"
   ]
  },
  {
   "cell_type": "markdown",
   "id": "beginning-shield",
   "metadata": {},
   "source": [
    "## R code 11.34"
   ]
  },
  {
   "cell_type": "code",
   "execution_count": null,
   "id": "indonesian-activity",
   "metadata": {
    "name": "R code 11.34"
   },
   "outputs": [],
   "source": [
    "pg <- with( dat_list , sapply( 1:6 , function(k)\n",
    "    applications[dept_id==k]/sum(applications[dept_id==k]) ) )\n",
    "rownames(pg) <- c(\"male\",\"female\")\n",
    "colnames(pg) <- unique(d$dept)\n",
    "round( pg , 2 )"
   ]
  },
  {
   "cell_type": "markdown",
   "id": "prepared-peninsula",
   "metadata": {},
   "source": [
    "## R code 11.35"
   ]
  },
  {
   "cell_type": "code",
   "execution_count": null,
   "id": "polish-headset",
   "metadata": {
    "name": "R code 11.35"
   },
   "outputs": [],
   "source": [
    "y <- rbinom(1e5,1000,1/1000)\n",
    "c( mean(y) , var(y) )"
   ]
  },
  {
   "cell_type": "markdown",
   "id": "conservative-arcade",
   "metadata": {},
   "source": [
    "## R code 11.36"
   ]
  },
  {
   "cell_type": "code",
   "execution_count": null,
   "id": "orange-miracle",
   "metadata": {
    "name": "R code 11.36"
   },
   "outputs": [],
   "source": [
    "library(rethinking)\n",
    "data(Kline)\n",
    "d <- Kline\n",
    "d"
   ]
  },
  {
   "cell_type": "markdown",
   "id": "owned-walker",
   "metadata": {},
   "source": [
    "## R code 11.37"
   ]
  },
  {
   "cell_type": "code",
   "execution_count": null,
   "id": "final-production",
   "metadata": {
    "name": "R code 11.37"
   },
   "outputs": [],
   "source": [
    "d$P <- scale( log(d$population) )\n",
    "d$contact_id <- ifelse( d$contact==\"high\" , 2 , 1 )"
   ]
  },
  {
   "cell_type": "markdown",
   "id": "fatty-seeking",
   "metadata": {},
   "source": [
    "## R code 11.38"
   ]
  },
  {
   "cell_type": "code",
   "execution_count": null,
   "id": "latter-credits",
   "metadata": {
    "name": "R code 11.38"
   },
   "outputs": [],
   "source": [
    "curve( dlnorm( x , 0 , 10 ) , from=0 , to=100 , n=200 )"
   ]
  },
  {
   "cell_type": "markdown",
   "id": "external-seeking",
   "metadata": {},
   "source": [
    "## R code 11.39"
   ]
  },
  {
   "cell_type": "code",
   "execution_count": null,
   "id": "internal-swaziland",
   "metadata": {
    "name": "R code 11.39"
   },
   "outputs": [],
   "source": [
    "a <- rnorm(1e4,0,10)\n",
    "lambda <- exp(a)\n",
    "mean( lambda )"
   ]
  },
  {
   "cell_type": "markdown",
   "id": "light-appointment",
   "metadata": {},
   "source": [
    "## R code 11.40"
   ]
  },
  {
   "cell_type": "code",
   "execution_count": null,
   "id": "established-criterion",
   "metadata": {
    "name": "R code 11.40"
   },
   "outputs": [],
   "source": [
    "curve( dlnorm( x , 3 , 0.5 ) , from=0 , to=100 , n=200 )"
   ]
  },
  {
   "cell_type": "markdown",
   "id": "australian-small",
   "metadata": {},
   "source": [
    "## R code 11.41"
   ]
  },
  {
   "cell_type": "code",
   "execution_count": null,
   "id": "historical-commitment",
   "metadata": {
    "name": "R code 11.41"
   },
   "outputs": [],
   "source": [
    "N <- 100\n",
    "a <- rnorm( N , 3 , 0.5 )\n",
    "b <- rnorm( N , 0 , 10 )\n",
    "plot( NULL , xlim=c(-2,2) , ylim=c(0,100) )\n",
    "for ( i in 1:N ) curve( exp( a[i] + b[i]*x ) , add=TRUE , col=grau() )"
   ]
  },
  {
   "cell_type": "markdown",
   "id": "formal-spyware",
   "metadata": {},
   "source": [
    "## R code 11.42"
   ]
  },
  {
   "cell_type": "code",
   "execution_count": null,
   "id": "excess-cache",
   "metadata": {
    "name": "R code 11.42"
   },
   "outputs": [],
   "source": [
    "set.seed(10)\n",
    "N <- 100\n",
    "a <- rnorm( N , 3 , 0.5 )\n",
    "b <- rnorm( N , 0 , 0.2 )\n",
    "plot( NULL , xlim=c(-2,2) , ylim=c(0,100) )\n",
    "for ( i in 1:N ) curve( exp( a[i] + b[i]*x ) , add=TRUE , col=grau() )"
   ]
  },
  {
   "cell_type": "markdown",
   "id": "accessory-scroll",
   "metadata": {},
   "source": [
    "## R code 11.43"
   ]
  },
  {
   "cell_type": "code",
   "execution_count": null,
   "id": "victorian-universe",
   "metadata": {
    "name": "R code 11.43"
   },
   "outputs": [],
   "source": [
    "x_seq <- seq( from=log(100) , to=log(200000) , length.out=100 )\n",
    "lambda <- sapply( x_seq , function(x) exp( a + b*x ) )\n",
    "plot( NULL , xlim=range(x_seq) , ylim=c(0,500) , xlab=\"log population\" ,\n",
    "    ylab=\"total tools\" )\n",
    "for ( i in 1:N ) lines( x_seq , lambda[i,] , col=grau() , lwd=1.5 )"
   ]
  },
  {
   "cell_type": "markdown",
   "id": "graphic-label",
   "metadata": {},
   "source": [
    "## R code 11.44"
   ]
  },
  {
   "cell_type": "code",
   "execution_count": null,
   "id": "informal-fiction",
   "metadata": {
    "name": "R code 11.44"
   },
   "outputs": [],
   "source": [
    "plot( NULL , xlim=range(exp(x_seq)) , ylim=c(0,500) , xlab=\"population\" ,\n",
    "    ylab=\"total tools\" )\n",
    "for ( i in 1:N ) lines( exp(x_seq) , lambda[i,] , col=grau() , lwd=1.5 )"
   ]
  },
  {
   "cell_type": "markdown",
   "id": "stopped-politics",
   "metadata": {},
   "source": [
    "## R code 11.45"
   ]
  },
  {
   "cell_type": "code",
   "execution_count": null,
   "id": "understanding-hostel",
   "metadata": {
    "name": "R code 11.45"
   },
   "outputs": [],
   "source": [
    "dat <- list(\n",
    "    T = d$total_tools ,\n",
    "    P = d$P ,\n",
    "    cid = d$contact_id )\n",
    "\n",
    "# intercept only\n",
    "m11.9 <- ulam(\n",
    "    alist(\n",
    "        T ~ dpois( lambda ),\n",
    "        log(lambda) <- a,\n",
    "        a ~ dnorm( 3 , 0.5 )\n",
    "    ), data=dat , chains=4 , log_lik=TRUE )\n",
    "\n",
    "# interaction model\n",
    "m11.10 <- ulam(\n",
    "    alist(\n",
    "        T ~ dpois( lambda ),\n",
    "        log(lambda) <- a[cid] + b[cid]*P,\n",
    "        a[cid] ~ dnorm( 3 , 0.5 ),\n",
    "        b[cid] ~ dnorm( 0 , 0.2 )\n",
    "    ), data=dat , chains=4 , log_lik=TRUE )"
   ]
  },
  {
   "cell_type": "markdown",
   "id": "affecting-freeze",
   "metadata": {},
   "source": [
    "## R code 11.46"
   ]
  },
  {
   "cell_type": "code",
   "execution_count": null,
   "id": "italian-register",
   "metadata": {
    "name": "R code 11.46"
   },
   "outputs": [],
   "source": [
    "compare( m11.9 , m11.10 , func=PSIS )"
   ]
  },
  {
   "cell_type": "markdown",
   "id": "moving-dragon",
   "metadata": {},
   "source": [
    "## R code 11.47"
   ]
  },
  {
   "cell_type": "code",
   "execution_count": null,
   "id": "defined-volleyball",
   "metadata": {
    "name": "R code 11.47"
   },
   "outputs": [],
   "source": [
    "k <- PSIS( m11.10 , pointwise=TRUE )$k\n",
    "plot( dat$P , dat$T , xlab=\"log population (std)\" , ylab=\"total tools\" ,\n",
    "    col=rangi2 , pch=ifelse( dat$cid==1 , 1 , 16 ) , lwd=2 ,\n",
    "    ylim=c(0,75) , cex=1+normalize(k) )\n",
    "\n",
    "# set up the horizontal axis values to compute predictions at\n",
    "ns <- 100\n",
    "P_seq <- seq( from=-1.4 , to=3 , length.out=ns )\n",
    "\n",
    "# predictions for cid=1 (low contact)\n",
    "lambda <- link( m11.10 , data=data.frame( P=P_seq , cid=1 ) )\n",
    "lmu <- apply( lambda , 2 , mean )\n",
    "lci <- apply( lambda , 2 , PI )\n",
    "lines( P_seq , lmu , lty=2 , lwd=1.5 )\n",
    "shade( lci , P_seq , xpd=TRUE )\n",
    "\n",
    "# predictions for cid=2 (high contact)\n",
    "lambda <- link( m11.10 , data=data.frame( P=P_seq , cid=2 ) )\n",
    "lmu <- apply( lambda , 2 , mean )\n",
    "lci <- apply( lambda , 2 , PI )\n",
    "lines( P_seq , lmu , lty=1 , lwd=1.5 )\n",
    "shade( lci , P_seq , xpd=TRUE )"
   ]
  },
  {
   "cell_type": "markdown",
   "id": "supreme-antenna",
   "metadata": {},
   "source": [
    "## R code 11.48"
   ]
  },
  {
   "cell_type": "code",
   "execution_count": null,
   "id": "meaning-washer",
   "metadata": {
    "name": "R code 11.48"
   },
   "outputs": [],
   "source": [
    "plot( d$population , d$total_tools , xlab=\"population\" , ylab=\"total tools\" ,\n",
    "    col=rangi2 , pch=ifelse( dat$cid==1 , 1 , 16 ) , lwd=2 ,\n",
    "    ylim=c(0,75) , cex=1+normalize(k) )\n",
    "\n",
    "ns <- 100\n",
    "P_seq <- seq( from=-5 , to=3 , length.out=ns )\n",
    "# 1.53 is sd of log(population)\n",
    "# 9 is mean of log(population)\n",
    "pop_seq <- exp( P_seq*1.53 + 9 )\n",
    "\n",
    "lambda <- link( m11.10 , data=data.frame( P=P_seq , cid=1 ) )\n",
    "lmu <- apply( lambda , 2 , mean )\n",
    "lci <- apply( lambda , 2 , PI )\n",
    "lines( pop_seq , lmu , lty=2 , lwd=1.5 )\n",
    "shade( lci , pop_seq , xpd=TRUE )\n",
    "\n",
    "lambda <- link( m11.10 , data=data.frame( P=P_seq , cid=2 ) )\n",
    "lmu <- apply( lambda , 2 , mean )\n",
    "lci <- apply( lambda , 2 , PI )\n",
    "lines( pop_seq , lmu , lty=1 , lwd=1.5 )\n",
    "shade( lci , pop_seq , xpd=TRUE )"
   ]
  },
  {
   "cell_type": "markdown",
   "id": "regular-search",
   "metadata": {},
   "source": [
    "## R code 11.49"
   ]
  },
  {
   "cell_type": "code",
   "execution_count": null,
   "id": "according-integral",
   "metadata": {
    "name": "R code 11.49"
   },
   "outputs": [],
   "source": [
    "dat2 <- list( T=d$total_tools, P=d$population, cid=d$contact_id )\n",
    "m11.11 <- ulam(\n",
    "    alist(\n",
    "        T ~ dpois( lambda ),\n",
    "        lambda <- exp(a[cid])*P^b[cid]/g,\n",
    "        a[cid] ~ dnorm(1,1),\n",
    "        b[cid] ~ dexp(1),\n",
    "        g ~ dexp(1)\n",
    "    ), data=dat2 , chains=4 , log_lik=TRUE )"
   ]
  },
  {
   "cell_type": "markdown",
   "id": "fancy-missouri",
   "metadata": {},
   "source": [
    "## R code 11.50"
   ]
  },
  {
   "cell_type": "code",
   "execution_count": null,
   "id": "decent-amount",
   "metadata": {
    "name": "R code 11.50"
   },
   "outputs": [],
   "source": [
    "num_days <- 30\n",
    "y <- rpois( num_days , 1.5 )"
   ]
  },
  {
   "cell_type": "markdown",
   "id": "divided-spiritual",
   "metadata": {},
   "source": [
    "## R code 11.51"
   ]
  },
  {
   "cell_type": "code",
   "execution_count": null,
   "id": "micro-senate",
   "metadata": {
    "name": "R code 11.51"
   },
   "outputs": [],
   "source": [
    "num_weeks <- 4\n",
    "y_new <- rpois( num_weeks , 0.5*7 )"
   ]
  },
  {
   "cell_type": "markdown",
   "id": "known-asbestos",
   "metadata": {},
   "source": [
    "## R code 11.52"
   ]
  },
  {
   "cell_type": "code",
   "execution_count": null,
   "id": "included-weight",
   "metadata": {
    "name": "R code 11.52"
   },
   "outputs": [],
   "source": [
    "y_all <- c( y , y_new )\n",
    "exposure <- c( rep(1,30) , rep(7,4) )\n",
    "monastery <- c( rep(0,30) , rep(1,4) )\n",
    "d <- data.frame( y=y_all , days=exposure , monastery=monastery )"
   ]
  },
  {
   "cell_type": "markdown",
   "id": "average-spice",
   "metadata": {},
   "source": [
    "## R code 11.53"
   ]
  },
  {
   "cell_type": "code",
   "execution_count": null,
   "id": "offensive-steam",
   "metadata": {
    "name": "R code 11.53"
   },
   "outputs": [],
   "source": [
    "# compute the offset\n",
    "d$log_days <- log( d$days )\n",
    "\n",
    "# fit the model\n",
    "m11.12 <- quap(\n",
    "    alist(\n",
    "        y ~ dpois( lambda ),\n",
    "        log(lambda) <- log_days + a + b*monastery,\n",
    "        a ~ dnorm( 0 , 1 ),\n",
    "        b ~ dnorm( 0 , 1 )\n",
    "    ), data=d )"
   ]
  },
  {
   "cell_type": "markdown",
   "id": "entitled-revelation",
   "metadata": {},
   "source": [
    "## R code 11.54"
   ]
  },
  {
   "cell_type": "code",
   "execution_count": null,
   "id": "portable-probability",
   "metadata": {
    "name": "R code 11.54"
   },
   "outputs": [],
   "source": [
    "post <- extract.samples( m11.12 )\n",
    "lambda_old <- exp( post$a )\n",
    "lambda_new <- exp( post$a + post$b )\n",
    "precis( data.frame( lambda_old , lambda_new ) )"
   ]
  },
  {
   "cell_type": "markdown",
   "id": "contained-switzerland",
   "metadata": {},
   "source": [
    "## R code 11.55"
   ]
  },
  {
   "cell_type": "code",
   "execution_count": null,
   "id": "sufficient-forty",
   "metadata": {
    "name": "R code 11.55"
   },
   "outputs": [],
   "source": [
    "# simulate career choices among 500 individuals\n",
    "N <- 500             # number of individuals\n",
    "income <- c(1,2,5)   # expected income of each career\n",
    "score <- 0.5*income  # scores for each career, based on income\n",
    "# next line converts scores to probabilities\n",
    "p <- softmax(score[1],score[2],score[3])\n",
    "\n",
    "# now simulate choice\n",
    "# outcome career holds event type values, not counts\n",
    "career <- rep(NA,N)  # empty vector of choices for each individual\n",
    "# sample chosen career for each individual\n",
    "set.seed(34302)\n",
    "for ( i in 1:N ) career[i] <- sample( 1:3 , size=1 , prob=p )"
   ]
  },
  {
   "cell_type": "markdown",
   "id": "orange-minutes",
   "metadata": {},
   "source": [
    "## R code 11.56"
   ]
  },
  {
   "cell_type": "code",
   "execution_count": null,
   "id": "cheap-fight",
   "metadata": {
    "name": "R code 11.56"
   },
   "outputs": [],
   "source": [
    "code_m11.13 <- \"\n",
    "data{\n",
    "    int N; // number of individuals\n",
    "    int K; // number of possible careers\n",
    "    int career[N]; // outcome\n",
    "    vector[K] career_income;\n",
    "}\n",
    "parameters{\n",
    "    vector[K-1] a; // intercepts\n",
    "    real<lower=0> b; // association of income with choice\n",
    "}\n",
    "model{\n",
    "    vector[K] p;\n",
    "    vector[K] s;\n",
    "    a ~ normal( 0 , 1 );\n",
    "    b ~ normal( 0 , 0.5 );\n",
    "    s[1] = a[1] + b*career_income[1];\n",
    "    s[2] = a[2] + b*career_income[2];\n",
    "    s[3] = 0; // pivot\n",
    "    p = softmax( s );\n",
    "    career ~ categorical( p );\n",
    "}\n",
    "\""
   ]
  },
  {
   "cell_type": "markdown",
   "id": "developed-amateur",
   "metadata": {},
   "source": [
    "## R code 11.57"
   ]
  },
  {
   "cell_type": "code",
   "execution_count": null,
   "id": "necessary-investor",
   "metadata": {
    "name": "R code 11.57"
   },
   "outputs": [],
   "source": [
    "dat_list <- list( N=N , K=3 , career=career , career_income=income )\n",
    "m11.13 <- stan( model_code=code_m11.13 , data=dat_list , chains=4 )\n",
    "precis( m11.13 , 2 )"
   ]
  },
  {
   "cell_type": "markdown",
   "id": "recorded-property",
   "metadata": {},
   "source": [
    "## R code 11.58"
   ]
  },
  {
   "cell_type": "code",
   "execution_count": null,
   "id": "hollywood-airfare",
   "metadata": {
    "name": "R code 11.58"
   },
   "outputs": [],
   "source": [
    "post <- extract.samples( m11.13 )\n",
    "\n",
    "# set up logit scores\n",
    "s1 <- with( post , a[,1] + b*income[1] )\n",
    "s2_orig <- with( post , a[,2] + b*income[2] )\n",
    "s2_new <- with( post , a[,2] + b*income[2]*2 )\n",
    "\n",
    "# compute probabilities for original and counterfactual\n",
    "p_orig <- sapply( 1:length(post$b) , function(i)\n",
    "    softmax( c(s1[i],s2_orig[i],0) ) )\n",
    "p_new <- sapply( 1:length(post$b) , function(i)\n",
    "    softmax( c(s1[i],s2_new[i],0) ) )\n",
    "\n",
    "# summarize\n",
    "p_diff <- p_new[2,] - p_orig[2,]\n",
    "precis( p_diff )"
   ]
  },
  {
   "cell_type": "markdown",
   "id": "numerous-blues",
   "metadata": {},
   "source": [
    "## R code 11.59"
   ]
  },
  {
   "cell_type": "code",
   "execution_count": null,
   "id": "experimental-property",
   "metadata": {
    "name": "R code 11.59"
   },
   "outputs": [],
   "source": [
    "N <- 500\n",
    "# simulate family incomes for each individual\n",
    "family_income <- runif(N)\n",
    "# assign a unique coefficient for each type of event\n",
    "b <- c(-2,0,2)\n",
    "career <- rep(NA,N)  # empty vector of choices for each individual\n",
    "for ( i in 1:N ) {\n",
    "    score <- 0.5*(1:3) + b*family_income[i]\n",
    "    p <- softmax(score[1],score[2],score[3])\n",
    "    career[i] <- sample( 1:3 , size=1 , prob=p )\n",
    "}\n",
    "\n",
    "code_m11.14 <- \"\n",
    "data{\n",
    "    int N; // number of observations\n",
    "    int K; // number of outcome values\n",
    "    int career[N]; // outcome\n",
    "    real family_income[N];\n",
    "}\n",
    "parameters{\n",
    "    vector[K-1] a; // intercepts\n",
    "    vector[K-1] b; // coefficients on family income\n",
    "}\n",
    "model{\n",
    "    vector[K] p;\n",
    "    vector[K] s;\n",
    "    a ~ normal(0,1.5);\n",
    "    b ~ normal(0,1);\n",
    "    for ( i in 1:N ) {\n",
    "        for ( j in 1:(K-1) ) s[j] = a[j] + b[j]*family_income[i];\n",
    "        s[K] = 0; // the pivot\n",
    "        p = softmax( s );\n",
    "        career[i] ~ categorical( p );\n",
    "    }\n",
    "}\n",
    "\"\n",
    "\n",
    "dat_list <- list( N=N , K=3 , career=career , family_income=family_income )\n",
    "m11.14 <- stan( model_code=code_m11.14 , data=dat_list , chains=4 )\n",
    "precis( m11.14 , 2 )"
   ]
  },
  {
   "cell_type": "markdown",
   "id": "adaptive-stick",
   "metadata": {},
   "source": [
    "## R code 11.60"
   ]
  },
  {
   "cell_type": "code",
   "execution_count": null,
   "id": "extra-microphone",
   "metadata": {
    "name": "R code 11.60"
   },
   "outputs": [],
   "source": [
    "library(rethinking)\n",
    "data(UCBadmit)\n",
    "d <- UCBadmit"
   ]
  },
  {
   "cell_type": "markdown",
   "id": "capable-invitation",
   "metadata": {},
   "source": [
    "## R code 11.61"
   ]
  },
  {
   "cell_type": "code",
   "execution_count": null,
   "id": "alien-combat",
   "metadata": {
    "name": "R code 11.61"
   },
   "outputs": [],
   "source": [
    "# binomial model of overall admission probability\n",
    "m_binom <- quap(\n",
    "    alist(\n",
    "        admit ~ dbinom(applications,p),\n",
    "        logit(p) <- a,\n",
    "        a ~ dnorm( 0 , 1.5 )\n",
    "    ), data=d )\n",
    "\n",
    "# Poisson model of overall admission rate and rejection rate\n",
    "# 'reject' is a reserved word in Stan, cannot use as variable name\n",
    "dat <- list( admit=d$admit , rej=d$reject )\n",
    "m_pois <- ulam(\n",
    "    alist(\n",
    "        admit ~ dpois(lambda1),\n",
    "        rej ~ dpois(lambda2),\n",
    "        log(lambda1) <- a1,\n",
    "        log(lambda2) <- a2,\n",
    "        c(a1,a2) ~ dnorm(0,1.5)\n",
    "    ), data=dat , chains=3 , cores=3 )"
   ]
  },
  {
   "cell_type": "markdown",
   "id": "caring-temple",
   "metadata": {},
   "source": [
    "## R code 11.62"
   ]
  },
  {
   "cell_type": "code",
   "execution_count": null,
   "id": "technical-essay",
   "metadata": {
    "name": "R code 11.62"
   },
   "outputs": [],
   "source": [
    "inv_logit(coef(m_binom))"
   ]
  },
  {
   "cell_type": "markdown",
   "id": "canadian-physics",
   "metadata": {},
   "source": [
    "## R code 11.63"
   ]
  },
  {
   "cell_type": "code",
   "execution_count": null,
   "id": "victorian-recovery",
   "metadata": {
    "lines_to_next_cell": 0,
    "name": "R code 11.63"
   },
   "outputs": [],
   "source": [
    "k <- coef(m_pois)\n",
    "a1 <- k['a1']; a2 <- k['a2']\n",
    "exp(a1)/(exp(a1)+exp(a2))"
   ]
  },
  {
   "cell_type": "markdown",
   "id": "impressive-oxygen",
   "metadata": {},
   "source": []
  }
 ],
 "metadata": {
  "jupytext": {
   "cell_metadata_filter": "name,-all",
   "main_language": "R",
   "notebook_metadata_filter": "-all"
  }
 },
 "nbformat": 4,
 "nbformat_minor": 5
}
