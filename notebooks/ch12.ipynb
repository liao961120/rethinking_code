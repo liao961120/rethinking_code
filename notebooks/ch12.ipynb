{
 "cells": [
  {
   "cell_type": "markdown",
   "metadata": {
    "lines_to_next_cell": 0
   },
   "source": []
  },
  {
   "cell_type": "code",
   "execution_count": null,
   "metadata": {
    "name": "Setup"
   },
   "outputs": [],
   "source": [
    "remotes::install_github('rmcelreath/rethinking', upgrade=F)\n",
    "library(rethinking)"
   ]
  },
  {
   "cell_type": "markdown",
   "metadata": {},
   "source": [
    "## R code 12.1"
   ]
  },
  {
   "cell_type": "code",
   "execution_count": null,
   "metadata": {
    "name": "R code 12.1"
   },
   "outputs": [],
   "source": [
    "pbar <- 0.5\n",
    "theta <- 5\n",
    "curve( dbeta2(x,pbar,theta) , from=0 , to=1 ,\n",
    "    xlab=\"probability\" , ylab=\"Density\" )"
   ]
  },
  {
   "cell_type": "markdown",
   "metadata": {},
   "source": [
    "## R code 12.2"
   ]
  },
  {
   "cell_type": "code",
   "execution_count": null,
   "metadata": {
    "name": "R code 12.2"
   },
   "outputs": [],
   "source": [
    "library(rethinking)\n",
    "data(UCBadmit)\n",
    "d <- UCBadmit\n",
    "d$gid <- ifelse( d$applicant.gender==\"male\" , 1L , 2L )\n",
    "dat <- list( A=d$admit , N=d$applications , gid=d$gid )\n",
    "m12.1 <- ulam(\n",
    "    alist(\n",
    "        A ~ dbetabinom( N , pbar , theta ),\n",
    "        logit(pbar) <- a[gid],\n",
    "        a[gid] ~ dnorm( 0 , 1.5 ),\n",
    "        transpars> theta <<- phi + 2.0,\n",
    "        phi ~ dexp(1)\n",
    "    ), data=dat , chains=4 )"
   ]
  },
  {
   "cell_type": "markdown",
   "metadata": {},
   "source": [
    "## R code 12.3"
   ]
  },
  {
   "cell_type": "code",
   "execution_count": null,
   "metadata": {
    "name": "R code 12.3"
   },
   "outputs": [],
   "source": [
    "post <- extract.samples( m12.1 )\n",
    "post$da <- post$a[,1] - post$a[,2]\n",
    "precis( post , depth=2 )"
   ]
  },
  {
   "cell_type": "markdown",
   "metadata": {},
   "source": [
    "## R code 12.4"
   ]
  },
  {
   "cell_type": "code",
   "execution_count": null,
   "metadata": {
    "name": "R code 12.4"
   },
   "outputs": [],
   "source": [
    "gid <- 2\n",
    "# draw posterior mean beta distribution\n",
    "curve( dbeta2(x,mean(logistic(post$a[,gid])),mean(post$theta)) , from=0 , to=1 ,\n",
    "    ylab=\"Density\" , xlab=\"probability admit\", ylim=c(0,3) , lwd=2 )\n",
    "\n",
    "# draw 50 beta distributions sampled from posterior\n",
    "for ( i in 1:50 ) {\n",
    "    p <- logistic( post$a[i,gid] )\n",
    "    theta <- post$theta[i]\n",
    "    curve( dbeta2(x,p,theta) , add=TRUE , col=col.alpha(\"black\",0.2) )\n",
    "}\n",
    "mtext( \"distribution of female admission rates\" )"
   ]
  },
  {
   "cell_type": "markdown",
   "metadata": {},
   "source": [
    "## R code 12.5"
   ]
  },
  {
   "cell_type": "code",
   "execution_count": null,
   "metadata": {
    "name": "R code 12.5"
   },
   "outputs": [],
   "source": [
    "postcheck( m12.1 )"
   ]
  },
  {
   "cell_type": "markdown",
   "metadata": {},
   "source": [
    "## R code 12.6"
   ]
  },
  {
   "cell_type": "code",
   "execution_count": null,
   "metadata": {
    "name": "R code 12.6"
   },
   "outputs": [],
   "source": [
    "library(rethinking)\n",
    "data(Kline)\n",
    "d <- Kline\n",
    "d$P <- standardize( log(d$population) )\n",
    "d$contact_id <- ifelse( d$contact==\"high\" , 2L , 1L )\n",
    "\n",
    "dat2 <- list(\n",
    "    T = d$total_tools,\n",
    "    P = d$population,\n",
    "    cid = d$contact_id )\n",
    "\n",
    "m12.2 <- ulam(\n",
    "    alist(\n",
    "        T ~ dgampois( lambda , phi ),\n",
    "        lambda <- exp(a[cid])*P^b[cid] / g,\n",
    "        a[cid] ~ dnorm(1,1),\n",
    "        b[cid] ~ dexp(1),\n",
    "        g ~ dexp(1),\n",
    "        phi ~ dexp(1)\n",
    "    ), data=dat2 , chains=4 , log_lik=TRUE )"
   ]
  },
  {
   "cell_type": "markdown",
   "metadata": {},
   "source": [
    "## R code 12.7"
   ]
  },
  {
   "cell_type": "code",
   "execution_count": null,
   "metadata": {
    "name": "R code 12.7"
   },
   "outputs": [],
   "source": [
    "# define parameters\n",
    "prob_drink <- 0.2 # 20% of days\n",
    "rate_work <- 1    # average 1 manuscript per day\n",
    "\n",
    "# sample one year of production\n",
    "N <- 365\n",
    "\n",
    "# simulate days monks drink\n",
    "set.seed(365)\n",
    "drink <- rbinom( N , 1 , prob_drink )\n",
    "\n",
    "# simulate manuscripts completed\n",
    "y <- (1-drink)*rpois( N , rate_work )"
   ]
  },
  {
   "cell_type": "markdown",
   "metadata": {},
   "source": [
    "## R code 12.8"
   ]
  },
  {
   "cell_type": "code",
   "execution_count": null,
   "metadata": {
    "name": "R code 12.8"
   },
   "outputs": [],
   "source": [
    "simplehist( y , xlab=\"manuscripts completed\" , lwd=4 )\n",
    "zeros_drink <- sum(drink)\n",
    "zeros_work <- sum(y==0 & drink==0)\n",
    "zeros_total <- sum(y==0)\n",
    "lines( c(0,0) , c(zeros_work,zeros_total) , lwd=4 , col=rangi2 )"
   ]
  },
  {
   "cell_type": "markdown",
   "metadata": {},
   "source": [
    "## R code 12.9"
   ]
  },
  {
   "cell_type": "code",
   "execution_count": null,
   "metadata": {
    "name": "R code 12.9"
   },
   "outputs": [],
   "source": [
    "m12.3 <- ulam(\n",
    "    alist(\n",
    "        y ~ dzipois( p , lambda ),\n",
    "        logit(p) <- ap,\n",
    "        log(lambda) <- al,\n",
    "        ap ~ dnorm( -1.5 , 1 ),\n",
    "        al ~ dnorm( 1 , 0.5 )\n",
    "    ) , data=list(y=y) , chains=4 )\n",
    "precis( m12.3 )"
   ]
  },
  {
   "cell_type": "markdown",
   "metadata": {},
   "source": [
    "## R code 12.10"
   ]
  },
  {
   "cell_type": "code",
   "execution_count": null,
   "metadata": {
    "name": "R code 12.10"
   },
   "outputs": [],
   "source": [
    "post <- extract.samples( m12.3 )\n",
    "mean( inv_logit( post$ap ) ) # probability drink\n",
    "mean( exp( post$al ) )       # rate finish manuscripts, when not drinking"
   ]
  },
  {
   "cell_type": "markdown",
   "metadata": {},
   "source": [
    "## R code 12.11"
   ]
  },
  {
   "cell_type": "code",
   "execution_count": null,
   "metadata": {
    "name": "R code 12.11"
   },
   "outputs": [],
   "source": [
    "m12.3_alt <- ulam(\n",
    "    alist(\n",
    "        y|y>0 ~ custom( log1m(p) + poisson_lpmf(y|lambda) ),\n",
    "        y|y==0 ~ custom( log_mix( p , 0 , poisson_lpmf(0|lambda) ) ),\n",
    "        logit(p) <- ap,\n",
    "        log(lambda) <- al,\n",
    "        ap ~ dnorm(-1.5,1),\n",
    "        al ~ dnorm(1,0.5)\n",
    "    ) , data=list(y=as.integer(y)) , chains=4 )"
   ]
  },
  {
   "cell_type": "markdown",
   "metadata": {},
   "source": [
    "## R code 12.12"
   ]
  },
  {
   "cell_type": "code",
   "execution_count": null,
   "metadata": {
    "name": "R code 12.12"
   },
   "outputs": [],
   "source": [
    "library(rethinking)\n",
    "data(Trolley)\n",
    "d <- Trolley"
   ]
  },
  {
   "cell_type": "markdown",
   "metadata": {},
   "source": [
    "## R code 12.13"
   ]
  },
  {
   "cell_type": "code",
   "execution_count": null,
   "metadata": {
    "name": "R code 12.13"
   },
   "outputs": [],
   "source": [
    "simplehist( d$response , xlim=c(1,7) , xlab=\"response\" )"
   ]
  },
  {
   "cell_type": "markdown",
   "metadata": {},
   "source": [
    "## R code 12.14"
   ]
  },
  {
   "cell_type": "code",
   "execution_count": null,
   "metadata": {
    "name": "R code 12.14"
   },
   "outputs": [],
   "source": [
    "# discrete proportion of each response value\n",
    "pr_k <- table( d$response ) / nrow(d)\n",
    "\n",
    "# cumsum converts to cumulative proportions\n",
    "cum_pr_k <- cumsum( pr_k )\n",
    "\n",
    "# plot\n",
    "plot( 1:7 , cum_pr_k , type=\"b\" , xlab=\"response\" ,\n",
    "ylab=\"cumulative proportion\" , ylim=c(0,1) )"
   ]
  },
  {
   "cell_type": "markdown",
   "metadata": {},
   "source": [
    "## R code 12.15"
   ]
  },
  {
   "cell_type": "code",
   "execution_count": null,
   "metadata": {
    "name": "R code 12.15"
   },
   "outputs": [],
   "source": [
    "logit <- function(x) log(x/(1-x)) # convenience function\n",
    "round( lco <- logit( cum_pr_k ) , 2 )"
   ]
  },
  {
   "cell_type": "markdown",
   "metadata": {},
   "source": [
    "## R code 12.16"
   ]
  },
  {
   "cell_type": "code",
   "execution_count": null,
   "metadata": {
    "name": "R code 12.16"
   },
   "outputs": [],
   "source": [
    "m12.4 <- ulam(\n",
    "    alist(\n",
    "        R ~ dordlogit( 0 , cutpoints ),\n",
    "        cutpoints ~ dnorm( 0 , 1.5 )\n",
    "    ) , data=list( R=d$response ), chains=4 , cores=4 )"
   ]
  },
  {
   "cell_type": "markdown",
   "metadata": {},
   "source": [
    "## R code 12.17"
   ]
  },
  {
   "cell_type": "code",
   "execution_count": null,
   "metadata": {
    "name": "R code 12.17"
   },
   "outputs": [],
   "source": [
    "m12.4q <- quap(\n",
    "    alist(\n",
    "        response ~ dordlogit( 0 , c(a1,a2,a3,a4,a5,a6) ),\n",
    "        c(a1,a2,a3,a4,a5,a6) ~ dnorm( 0 , 1.5 )\n",
    "    ) , data=d , start=list(a1=-2,a2=-1,a3=0,a4=1,a5=2,a6=2.5) )"
   ]
  },
  {
   "cell_type": "markdown",
   "metadata": {},
   "source": [
    "## R code 12.18"
   ]
  },
  {
   "cell_type": "code",
   "execution_count": null,
   "metadata": {
    "name": "R code 12.18"
   },
   "outputs": [],
   "source": [
    "precis( m12.4 , depth=2 )"
   ]
  },
  {
   "cell_type": "markdown",
   "metadata": {},
   "source": [
    "## R code 12.19"
   ]
  },
  {
   "cell_type": "code",
   "execution_count": null,
   "metadata": {
    "name": "R code 12.19"
   },
   "outputs": [],
   "source": [
    "round( inv_logit(coef(m12.4)) , 3 )"
   ]
  },
  {
   "cell_type": "markdown",
   "metadata": {},
   "source": [
    "## R code 12.20"
   ]
  },
  {
   "cell_type": "code",
   "execution_count": null,
   "metadata": {
    "name": "R code 12.20"
   },
   "outputs": [],
   "source": [
    "round( pk <- dordlogit( 1:7 , 0 , coef(m12.4) ) , 2 )"
   ]
  },
  {
   "cell_type": "markdown",
   "metadata": {},
   "source": [
    "## R code 12.21"
   ]
  },
  {
   "cell_type": "code",
   "execution_count": null,
   "metadata": {
    "name": "R code 12.21"
   },
   "outputs": [],
   "source": [
    "sum( pk*(1:7) )"
   ]
  },
  {
   "cell_type": "markdown",
   "metadata": {},
   "source": [
    "## R code 12.22"
   ]
  },
  {
   "cell_type": "code",
   "execution_count": null,
   "metadata": {
    "name": "R code 12.22"
   },
   "outputs": [],
   "source": [
    "round( pk <- dordlogit( 1:7 , 0 , coef(m12.4)-0.5 ) , 2 )"
   ]
  },
  {
   "cell_type": "markdown",
   "metadata": {},
   "source": [
    "## R code 12.23"
   ]
  },
  {
   "cell_type": "code",
   "execution_count": null,
   "metadata": {
    "name": "R code 12.23"
   },
   "outputs": [],
   "source": [
    "sum( pk*(1:7) )"
   ]
  },
  {
   "cell_type": "markdown",
   "metadata": {},
   "source": [
    "## R code 12.24"
   ]
  },
  {
   "cell_type": "code",
   "execution_count": null,
   "metadata": {
    "name": "R code 12.24"
   },
   "outputs": [],
   "source": [
    "dat <- list(\n",
    "    R = d$response,\n",
    "    A = d$action,\n",
    "    I = d$intention,\n",
    "    C = d$contact )\n",
    "m12.5 <- ulam(\n",
    "    alist(\n",
    "        R ~ dordlogit( phi , cutpoints ),\n",
    "        phi <- bA*A + bC*C + BI*I ,\n",
    "        BI <- bI + bIA*A + bIC*C ,\n",
    "        c(bA,bI,bC,bIA,bIC) ~ dnorm( 0 , 0.5 ),\n",
    "        cutpoints ~ dnorm( 0 , 1.5 )\n",
    "    ) , data=dat , chains=4 , cores=4 )\n",
    "precis( m12.5 )"
   ]
  },
  {
   "cell_type": "markdown",
   "metadata": {},
   "source": [
    "## R code 12.25"
   ]
  },
  {
   "cell_type": "code",
   "execution_count": null,
   "metadata": {
    "name": "R code 12.25"
   },
   "outputs": [],
   "source": [
    "plot( precis(m12.5) , xlim=c(-1.4,0) )"
   ]
  },
  {
   "cell_type": "markdown",
   "metadata": {},
   "source": [
    "## R code 12.26"
   ]
  },
  {
   "cell_type": "code",
   "execution_count": null,
   "metadata": {
    "name": "R code 12.26"
   },
   "outputs": [],
   "source": [
    "plot( NULL , type=\"n\" , xlab=\"intention\" , ylab=\"probability\" ,\n",
    "    xlim=c(0,1) , ylim=c(0,1) , xaxp=c(0,1,1) , yaxp=c(0,1,2) )"
   ]
  },
  {
   "cell_type": "markdown",
   "metadata": {},
   "source": [
    "## R code 12.27"
   ]
  },
  {
   "cell_type": "code",
   "execution_count": null,
   "metadata": {
    "name": "R code 12.27"
   },
   "outputs": [],
   "source": [
    "kA <- 0     # value for action\n",
    "kC <- 0     # value for contact\n",
    "kI <- 0:1   # values of intention to calculate over\n",
    "pdat <- data.frame(A=kA,C=kC,I=kI)\n",
    "phi <- link( m12.5 , data=pdat )$phi"
   ]
  },
  {
   "cell_type": "markdown",
   "metadata": {},
   "source": [
    "## R code 12.28"
   ]
  },
  {
   "cell_type": "code",
   "execution_count": null,
   "metadata": {
    "name": "R code 12.28"
   },
   "outputs": [],
   "source": [
    "post <- extract.samples( m12.5 )\n",
    "for ( s in 1:50 ) {\n",
    "    pk <- pordlogit( 1:6 , phi[s,] , post$cutpoints[s,] )\n",
    "    for ( i in 1:6 ) lines( kI , pk[,i] , col=grau(0.1) )\n",
    "}"
   ]
  },
  {
   "cell_type": "markdown",
   "metadata": {},
   "source": [
    "## R code 12.29"
   ]
  },
  {
   "cell_type": "code",
   "execution_count": null,
   "metadata": {
    "name": "R code 12.29"
   },
   "outputs": [],
   "source": [
    "kA <- 0     # value for action\n",
    "kC <- 1     # value for contact\n",
    "kI <- 0:1   # values of intention to calculate over\n",
    "pdat <- data.frame(A=kA,C=kC,I=kI)\n",
    "s <- sim( m12.5 , data=pdat )\n",
    "simplehist( s , xlab=\"response\" )"
   ]
  },
  {
   "cell_type": "markdown",
   "metadata": {},
   "source": [
    "## R code 12.30"
   ]
  },
  {
   "cell_type": "code",
   "execution_count": null,
   "metadata": {
    "name": "R code 12.30"
   },
   "outputs": [],
   "source": [
    "library(rethinking)\n",
    "data(Trolley)\n",
    "d <- Trolley\n",
    "levels(d$edu)"
   ]
  },
  {
   "cell_type": "markdown",
   "metadata": {},
   "source": [
    "## R code 12.31"
   ]
  },
  {
   "cell_type": "code",
   "execution_count": null,
   "metadata": {
    "name": "R code 12.31"
   },
   "outputs": [],
   "source": [
    "edu_levels <- c( 6 , 1 , 8 , 4 , 7 , 2 , 5 , 3 )\n",
    "d$edu_new <- edu_levels[ d$edu ]"
   ]
  },
  {
   "cell_type": "markdown",
   "metadata": {},
   "source": [
    "## R code 12.32"
   ]
  },
  {
   "cell_type": "code",
   "execution_count": null,
   "metadata": {
    "name": "R code 12.32"
   },
   "outputs": [],
   "source": [
    "library(gtools)\n",
    "set.seed(1805)\n",
    "delta <- rdirichlet( 10 , alpha=rep(2,7) )\n",
    "str(delta)"
   ]
  },
  {
   "cell_type": "markdown",
   "metadata": {},
   "source": [
    "## R code 12.33"
   ]
  },
  {
   "cell_type": "code",
   "execution_count": null,
   "metadata": {
    "name": "R code 12.33"
   },
   "outputs": [],
   "source": [
    "h <- 3\n",
    "plot( NULL , xlim=c(1,7) , ylim=c(0,0.4) , xlab=\"index\" , ylab=\"probability\" )\n",
    "for ( i in 1:nrow(delta) ) lines( 1:7 , delta[i,] , type=\"b\" ,\n",
    "    pch=ifelse(i==h,16,1) , lwd=ifelse(i==h,4,1.5) ,\n",
    "    col=ifelse(i==h,\"black\",col.alpha(\"black\",0.7)) )"
   ]
  },
  {
   "cell_type": "markdown",
   "metadata": {},
   "source": [
    "## R code 12.34"
   ]
  },
  {
   "cell_type": "code",
   "execution_count": null,
   "metadata": {
    "name": "R code 12.34"
   },
   "outputs": [],
   "source": [
    "dat <- list(\n",
    "    R = d$response ,\n",
    "    action = d$action,\n",
    "    intention = d$intention,\n",
    "    contact = d$contact,\n",
    "    E = as.integer( d$edu_new ),   # edu_new as an index\n",
    "    alpha = rep( 2 , 7 ) )      # delta prior\n",
    "\n",
    "m12.6 <- ulam(\n",
    "    alist(\n",
    "        R ~ ordered_logistic( phi , kappa ),\n",
    "        phi <- bE*sum( delta_j[1:E] ) + bA*action + bI*intention + bC*contact,\n",
    "        kappa ~ normal( 0 , 1.5 ),\n",
    "        c(bA,bI,bC,bE) ~ normal( 0 , 1 ),\n",
    "        vector[8]: delta_j <<- append_row( 0 , delta ),\n",
    "        simplex[7]: delta ~ dirichlet( alpha )\n",
    "    ), data=dat , chains=4 , cores=4 )"
   ]
  },
  {
   "cell_type": "markdown",
   "metadata": {},
   "source": [
    "## R code 12.35"
   ]
  },
  {
   "cell_type": "code",
   "execution_count": null,
   "metadata": {
    "name": "R code 12.35"
   },
   "outputs": [],
   "source": [
    "precis( m12.6 , depth=2 , omit=\"kappa\" )"
   ]
  },
  {
   "cell_type": "markdown",
   "metadata": {},
   "source": [
    "## R code 12.36"
   ]
  },
  {
   "cell_type": "code",
   "execution_count": null,
   "metadata": {
    "name": "R code 12.36"
   },
   "outputs": [],
   "source": [
    "delta_labels <- c(\"Elem\",\"MidSch\",\"SHS\",\"HSG\",\"SCol\",\"Bach\",\"Mast\",\"Grad\")\n",
    "pairs( m12.6 , pars=\"delta\" , labels=delta_labels )"
   ]
  },
  {
   "cell_type": "markdown",
   "metadata": {},
   "source": [
    "## R code 12.37"
   ]
  },
  {
   "cell_type": "code",
   "execution_count": null,
   "metadata": {
    "name": "R code 12.37"
   },
   "outputs": [],
   "source": [
    "dat$edu_norm <- normalize( d$edu_new )\n",
    "m12.7 <- ulam(\n",
    "    alist(\n",
    "        R ~ ordered_logistic( mu , cutpoints ),\n",
    "        mu <- bE*edu_norm + bA*action + bI*intention + bC*contact,\n",
    "        c(bA,bI,bC,bE) ~ normal( 0 , 1 ),\n",
    "        cutpoints ~ normal( 0 , 1.5 )\n",
    "    ), data=dat , chains=4 , cores=4 )\n",
    "precis( m12.7 )"
   ]
  },
  {
   "cell_type": "markdown",
   "metadata": {},
   "source": [
    "## R code 12.38"
   ]
  },
  {
   "cell_type": "code",
   "execution_count": null,
   "metadata": {
    "lines_to_next_cell": 0,
    "name": "R code 12.38"
   },
   "outputs": [],
   "source": [
    "library(rethinking)\n",
    "data(Hurricanes)"
   ]
  },
  {
   "cell_type": "markdown",
   "metadata": {},
   "source": []
  }
 ],
 "metadata": {
  "jupytext": {
   "cell_metadata_filter": "name,-all",
   "main_language": "R",
   "notebook_metadata_filter": "-all"
  }
 },
 "nbformat": 4,
 "nbformat_minor": 4
}
