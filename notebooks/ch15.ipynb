{
 "cells": [
  {
   "cell_type": "markdown",
   "metadata": {
    "lines_to_next_cell": 0
   },
   "source": []
  },
  {
   "cell_type": "code",
   "execution_count": null,
   "metadata": {
    "name": "Setup"
   },
   "outputs": [],
   "source": [
    "remotes::install_github('rmcelreath/rethinking', upgrade=F)\n",
    "library(rethinking)"
   ]
  },
  {
   "cell_type": "markdown",
   "metadata": {},
   "source": [
    "## R code 15.1"
   ]
  },
  {
   "cell_type": "code",
   "execution_count": null,
   "metadata": {
    "name": "R code 15.1"
   },
   "outputs": [],
   "source": [
    "# simulate a pancake and return randomly ordered sides\n",
    "sim_pancake <- function() {\n",
    "    pancake <- sample(1:3,1)\n",
    "    sides <- matrix(c(1,1,1,0,0,0),2,3)[,pancake]\n",
    "    sample(sides)\n",
    "}\n",
    "\n",
    "# sim 10,000 pancakes\n",
    "pancakes <- replicate( 1e4 , sim_pancake() )\n",
    "up <- pancakes[1,]\n",
    "down <- pancakes[2,]\n",
    "\n",
    "# compute proportion 1/1 (BB) out of all 1/1 and 1/0\n",
    "num_11_10 <- sum( up==1 )\n",
    "num_11 <- sum( up==1 & down==1 )\n",
    "num_11/num_11_10"
   ]
  },
  {
   "cell_type": "markdown",
   "metadata": {},
   "source": [
    "## R code 15.2"
   ]
  },
  {
   "cell_type": "code",
   "execution_count": null,
   "metadata": {
    "name": "R code 15.2"
   },
   "outputs": [],
   "source": [
    "library(rethinking)\n",
    "data(WaffleDivorce)\n",
    "d <- WaffleDivorce\n",
    "\n",
    "# points\n",
    "plot( d$Divorce ~ d$MedianAgeMarriage , ylim=c(4,15) ,\n",
    "    xlab=\"Median age marriage\" , ylab=\"Divorce rate\" )\n",
    "\n",
    "# standard errors\n",
    "for ( i in 1:nrow(d) ) {\n",
    "    ci <- d$Divorce[i] + c(-1,1)*d$Divorce.SE[i]\n",
    "    x <- d$MedianAgeMarriage[i]\n",
    "    lines( c(x,x) , ci )\n",
    "}"
   ]
  },
  {
   "cell_type": "markdown",
   "metadata": {},
   "source": [
    "## R code 15.3"
   ]
  },
  {
   "cell_type": "code",
   "execution_count": null,
   "metadata": {
    "name": "R code 15.3"
   },
   "outputs": [],
   "source": [
    "dlist <- list(\n",
    "    D_obs = standardize( d$Divorce ),\n",
    "    D_sd = d$Divorce.SE / sd( d$Divorce ),\n",
    "    M = standardize( d$Marriage ),\n",
    "    A = standardize( d$MedianAgeMarriage ),\n",
    "    N = nrow(d)\n",
    ")\n",
    "\n",
    "m15.1 <- ulam(\n",
    "    alist(\n",
    "        D_obs ~ dnorm( D_true , D_sd ),\n",
    "        vector[N]:D_true ~ dnorm( mu , sigma ),\n",
    "        mu <- a + bA*A + bM*M,\n",
    "        a ~ dnorm(0,0.2),\n",
    "        bA ~ dnorm(0,0.5),\n",
    "        bM ~ dnorm(0,0.5),\n",
    "        sigma ~ dexp(1)\n",
    "    ) , data=dlist , chains=4 , cores=4 )"
   ]
  },
  {
   "cell_type": "markdown",
   "metadata": {},
   "source": [
    "## R code 15.4"
   ]
  },
  {
   "cell_type": "code",
   "execution_count": null,
   "metadata": {
    "name": "R code 15.4"
   },
   "outputs": [],
   "source": [
    "precis( m15.1 , depth=2 )"
   ]
  },
  {
   "cell_type": "markdown",
   "metadata": {},
   "source": [
    "## R code 15.5"
   ]
  },
  {
   "cell_type": "code",
   "execution_count": null,
   "metadata": {
    "name": "R code 15.5"
   },
   "outputs": [],
   "source": [
    "dlist <- list(\n",
    "    D_obs = standardize( d$Divorce ),\n",
    "    D_sd = d$Divorce.SE / sd( d$Divorce ),\n",
    "    M_obs = standardize( d$Marriage ),\n",
    "    M_sd = d$Marriage.SE / sd( d$Marriage ),\n",
    "    A = standardize( d$MedianAgeMarriage ),\n",
    "    N = nrow(d)\n",
    ")\n",
    "\n",
    "m15.2 <- ulam(\n",
    "    alist(\n",
    "        D_obs ~ dnorm( D_true , D_sd ),\n",
    "        vector[N]:D_true ~ dnorm( mu , sigma ),\n",
    "        mu <- a + bA*A + bM*M_true[i],\n",
    "        M_obs ~ dnorm( M_true , M_sd ),\n",
    "        vector[N]:M_true ~ dnorm( 0 , 1 ),\n",
    "        a ~ dnorm(0,0.2),\n",
    "        bA ~ dnorm(0,0.5),\n",
    "        bM ~ dnorm(0,0.5),\n",
    "        sigma ~ dexp( 1 )\n",
    "    ) , data=dlist , chains=4 , cores=4 )"
   ]
  },
  {
   "cell_type": "markdown",
   "metadata": {},
   "source": [
    "## R code 15.6"
   ]
  },
  {
   "cell_type": "code",
   "execution_count": null,
   "metadata": {
    "name": "R code 15.6"
   },
   "outputs": [],
   "source": [
    "post <- extract.samples( m15.2 )\n",
    "D_true <- apply( post$D_true , 2 , mean )\n",
    "M_true <- apply( post$M_true , 2 , mean )\n",
    "plot( dlist$M_obs , dlist$D_obs , pch=16 , col=rangi2 ,\n",
    "    xlab=\"marriage rate (std)\" , ylab=\"divorce rate (std)\" )\n",
    "points( M_true , D_true )\n",
    "for ( i in 1:nrow(d) )\n",
    "    lines( c( dlist$M_obs[i] , M_true[i] ) , c( dlist$D_obs[i] , D_true[i] ) )"
   ]
  },
  {
   "cell_type": "markdown",
   "metadata": {},
   "source": [
    "## R code 15.7"
   ]
  },
  {
   "cell_type": "code",
   "execution_count": null,
   "metadata": {
    "name": "R code 15.7"
   },
   "outputs": [],
   "source": [
    "N <- 500\n",
    "A <- rnorm(N)\n",
    "M <- rnorm(N,-A)\n",
    "D <- rnorm(N,A)\n",
    "A_obs <- rnorm(N,A)"
   ]
  },
  {
   "cell_type": "markdown",
   "metadata": {},
   "source": [
    "## R code 15.8"
   ]
  },
  {
   "cell_type": "code",
   "execution_count": null,
   "metadata": {
    "name": "R code 15.8"
   },
   "outputs": [],
   "source": [
    "N <- 100\n",
    "S <- rnorm( N )\n",
    "H <- rbinom( N , size=10 , inv_logit(S) )"
   ]
  },
  {
   "cell_type": "markdown",
   "metadata": {},
   "source": [
    "## R code 15.9"
   ]
  },
  {
   "cell_type": "code",
   "execution_count": null,
   "metadata": {
    "name": "R code 15.9"
   },
   "outputs": [],
   "source": [
    "D <- rbern( N ) # dogs completely random\n",
    "Hm <- H\n",
    "Hm[D==1] <- NA"
   ]
  },
  {
   "cell_type": "markdown",
   "metadata": {},
   "source": [
    "## R code 15.10"
   ]
  },
  {
   "cell_type": "code",
   "execution_count": null,
   "metadata": {
    "name": "R code 15.10"
   },
   "outputs": [],
   "source": [
    "D <- ifelse( S > 0 , 1 , 0 )\n",
    "Hm <- H\n",
    "Hm[D==1] <- NA"
   ]
  },
  {
   "cell_type": "markdown",
   "metadata": {},
   "source": [
    "## R code 15.11"
   ]
  },
  {
   "cell_type": "code",
   "execution_count": null,
   "metadata": {
    "name": "R code 15.11"
   },
   "outputs": [],
   "source": [
    "set.seed(501)\n",
    "N <- 1000\n",
    "X <- rnorm(N)\n",
    "S <- rnorm(N)\n",
    "H <- rbinom( N , size=10 , inv_logit( 2 + S - 2*X ) )\n",
    "D <- ifelse( X > 1 , 1 , 0 )\n",
    "Hm <- H\n",
    "Hm[D==1] <- NA"
   ]
  },
  {
   "cell_type": "markdown",
   "metadata": {},
   "source": [
    "## R code 15.12"
   ]
  },
  {
   "cell_type": "code",
   "execution_count": null,
   "metadata": {
    "name": "R code 15.12"
   },
   "outputs": [],
   "source": [
    "dat_list <- list(\n",
    "    H = H,\n",
    "    S = S )\n",
    "\n",
    "m15.3 <- ulam(\n",
    "    alist(\n",
    "        H ~ binomial( 10 , p ),\n",
    "        logit(p) <- a + bS*S,\n",
    "        a ~ normal( 0 , 1 ),\n",
    "        bS ~ normal( 0 , 0.5 )\n",
    "    ), data=dat_list , chains=4 )\n",
    "precis( m15.3 )"
   ]
  },
  {
   "cell_type": "markdown",
   "metadata": {},
   "source": [
    "## R code 15.13"
   ]
  },
  {
   "cell_type": "code",
   "execution_count": null,
   "metadata": {
    "name": "R code 15.13"
   },
   "outputs": [],
   "source": [
    "dat_list0 <- list( H = H[D==0] , S = S[D==0] )\n",
    "\n",
    "m15.4 <- ulam(\n",
    "    alist(\n",
    "        H ~ binomial( 10 , p ),\n",
    "        logit(p) <- a + bS*S,\n",
    "        a ~ normal( 0 , 1 ),\n",
    "        bS ~ normal( 0 , 0.5 )\n",
    "    ), data=dat_list0 , chains=4 )\n",
    "precis( m15.4 )"
   ]
  },
  {
   "cell_type": "markdown",
   "metadata": {},
   "source": [
    "## R code 15.14"
   ]
  },
  {
   "cell_type": "code",
   "execution_count": null,
   "metadata": {
    "name": "R code 15.14"
   },
   "outputs": [],
   "source": [
    "D <- ifelse( abs(X) < 1 , 1 , 0 )"
   ]
  },
  {
   "cell_type": "markdown",
   "metadata": {},
   "source": [
    "## R code 15.15"
   ]
  },
  {
   "cell_type": "code",
   "execution_count": null,
   "metadata": {
    "name": "R code 15.15"
   },
   "outputs": [],
   "source": [
    "N <- 100\n",
    "S <- rnorm(N)\n",
    "H <- rbinom( N , size=10 , inv_logit(S) )\n",
    "D <- ifelse( H < 5 , 1 , 0 )\n",
    "Hm <- H; Hm[D==1] <- NA"
   ]
  },
  {
   "cell_type": "markdown",
   "metadata": {},
   "source": [
    "## R code 15.16"
   ]
  },
  {
   "cell_type": "code",
   "execution_count": null,
   "metadata": {
    "name": "R code 15.16"
   },
   "outputs": [],
   "source": [
    "library(rethinking)\n",
    "data(milk)\n",
    "d <- milk\n",
    "d$neocortex.prop <- d$neocortex.perc / 100\n",
    "d$logmass <- log(d$mass)\n",
    "dat_list <- list(\n",
    "    K = standardize( d$kcal.per.g ),\n",
    "    B = standardize( d$neocortex.prop ),\n",
    "    M = standardize( d$logmass ) )"
   ]
  },
  {
   "cell_type": "markdown",
   "metadata": {},
   "source": [
    "## R code 15.17"
   ]
  },
  {
   "cell_type": "code",
   "execution_count": null,
   "metadata": {
    "name": "R code 15.17"
   },
   "outputs": [],
   "source": [
    "m15.5 <- ulam(\n",
    "    alist(\n",
    "        K ~ dnorm( mu , sigma ),\n",
    "        mu <- a + bB*B + bM*M,\n",
    "        B ~ dnorm( nu , sigma_B ),\n",
    "        c(a,nu) ~ dnorm( 0 , 0.5 ),\n",
    "        c(bB,bM) ~ dnorm( 0, 0.5 ),\n",
    "        sigma_B ~ dexp( 1 ),\n",
    "        sigma ~ dexp( 1 )\n",
    "    ) , data=dat_list , chains=4 , cores=4 )"
   ]
  },
  {
   "cell_type": "markdown",
   "metadata": {},
   "source": [
    "## R code 15.18"
   ]
  },
  {
   "cell_type": "code",
   "execution_count": null,
   "metadata": {
    "name": "R code 15.18"
   },
   "outputs": [],
   "source": [
    "precis( m15.5 , depth=2 )"
   ]
  },
  {
   "cell_type": "markdown",
   "metadata": {},
   "source": [
    "## R code 15.19"
   ]
  },
  {
   "cell_type": "code",
   "execution_count": null,
   "metadata": {
    "name": "R code 15.19"
   },
   "outputs": [],
   "source": [
    "obs_idx <- which( !is.na(d$neocortex.prop) )\n",
    "dat_list_obs <- list(\n",
    "    K = dat_list$K[obs_idx],\n",
    "    B = dat_list$B[obs_idx],\n",
    "    M = dat_list$M[obs_idx] )\n",
    "m15.6 <- ulam(\n",
    "    alist(\n",
    "        K ~ dnorm( mu , sigma ),\n",
    "        mu <- a + bB*B + bM*M,\n",
    "        B ~ dnorm( nu , sigma_B ),\n",
    "        c(a,nu) ~ dnorm( 0 , 0.5 ),\n",
    "        c(bB,bM) ~ dnorm( 0, 0.5 ),\n",
    "        sigma_B ~ dexp( 1 ),\n",
    "        sigma ~ dexp( 1 )\n",
    "    ) , data=dat_list_obs , chains=4 , cores=4 )\n",
    "precis( m15.6 )"
   ]
  },
  {
   "cell_type": "markdown",
   "metadata": {},
   "source": [
    "## R code 15.20"
   ]
  },
  {
   "cell_type": "code",
   "execution_count": null,
   "metadata": {
    "name": "R code 15.20"
   },
   "outputs": [],
   "source": [
    "plot( coeftab(m15.5,m15.6) , pars=c(\"bB\",\"bM\") )"
   ]
  },
  {
   "cell_type": "markdown",
   "metadata": {},
   "source": [
    "## R code 15.21"
   ]
  },
  {
   "cell_type": "code",
   "execution_count": null,
   "metadata": {
    "name": "R code 15.21"
   },
   "outputs": [],
   "source": [
    "post <- extract.samples( m15.5 )\n",
    "B_impute_mu <- apply( post$B_impute , 2 , mean )\n",
    "B_impute_ci <- apply( post$B_impute , 2 , PI )\n",
    "\n",
    "# B vs K\n",
    "plot( dat_list$B , dat_list$K , pch=16 , col=rangi2 ,\n",
    "    xlab=\"neocortex percent (std)\" , ylab=\"kcal milk (std)\" )\n",
    "miss_idx <- which( is.na(dat_list$B) )\n",
    "Ki <- dat_list$K[miss_idx]\n",
    "points( B_impute_mu , Ki )\n",
    "for ( i in 1:12 ) lines( B_impute_ci[,i] , rep(Ki[i],2) )\n",
    "\n",
    "# M vs B\n",
    "plot( dat_list$M , dat_list$B , pch=16 , col=rangi2 ,\n",
    "    ylab=\"neocortex percent (std)\" , xlab=\"log body mass (std)\" )\n",
    "Mi <- dat_list$M[miss_idx]\n",
    "points( Mi , B_impute_mu )\n",
    "for ( i in 1:12 ) lines( rep(Mi[i],2) , B_impute_ci[,i] )"
   ]
  },
  {
   "cell_type": "markdown",
   "metadata": {},
   "source": [
    "## R code 15.22"
   ]
  },
  {
   "cell_type": "code",
   "execution_count": null,
   "metadata": {
    "name": "R code 15.22"
   },
   "outputs": [],
   "source": [
    "m15.7 <- ulam(\n",
    "    alist(\n",
    "       # K as function of B and M\n",
    "        K ~ dnorm( mu , sigma ),\n",
    "        mu <- a + bB*B_merge + bM*M,\n",
    "\n",
    "       # M and B correlation\n",
    "        MB ~ multi_normal( c(muM,muB) , Rho_BM , Sigma_BM ),\n",
    "        matrix[29,2]:MB <<- append_col( M , B_merge ),\n",
    "\n",
    "       # define B_merge as mix of observed and imputed values\n",
    "        vector[29]:B_merge <- merge_missing( B , B_impute ),\n",
    "\n",
    "       # priors\n",
    "        c(a,muB,muM) ~ dnorm( 0 , 0.5 ),\n",
    "        c(bB,bM) ~ dnorm( 0, 0.5 ),\n",
    "        sigma ~ dexp( 1 ),\n",
    "        Rho_BM ~ lkj_corr(2),\n",
    "        Sigma_BM ~ dexp(1)\n",
    "    ) , data=dat_list , chains=4 , cores=4 )\n",
    "precis( m15.7 , depth=3 , pars=c(\"bM\",\"bB\",\"Rho_BM\" ) )"
   ]
  },
  {
   "cell_type": "markdown",
   "metadata": {},
   "source": [
    "## R code 15.23"
   ]
  },
  {
   "cell_type": "code",
   "execution_count": null,
   "metadata": {
    "name": "R code 15.23"
   },
   "outputs": [],
   "source": [
    "B_missidx <- which( is.na( dat_list$B ) )"
   ]
  },
  {
   "cell_type": "markdown",
   "metadata": {},
   "source": [
    "## R code 15.24"
   ]
  },
  {
   "cell_type": "code",
   "execution_count": null,
   "metadata": {
    "name": "R code 15.24"
   },
   "outputs": [],
   "source": [
    "data(Moralizing_gods)\n",
    "str(Moralizing_gods)"
   ]
  },
  {
   "cell_type": "markdown",
   "metadata": {},
   "source": [
    "## R code 15.25"
   ]
  },
  {
   "cell_type": "code",
   "execution_count": null,
   "metadata": {
    "name": "R code 15.25"
   },
   "outputs": [],
   "source": [
    "table( Moralizing_gods$moralizing_gods , useNA=\"always\" )"
   ]
  },
  {
   "cell_type": "markdown",
   "metadata": {},
   "source": [
    "## R code 15.26"
   ]
  },
  {
   "cell_type": "code",
   "execution_count": null,
   "metadata": {
    "name": "R code 15.26"
   },
   "outputs": [],
   "source": [
    "symbol <- ifelse( Moralizing_gods$moralizing_gods==1 , 16 , 1 )\n",
    "symbol <- ifelse( is.na(Moralizing_gods$moralizing_gods) , 4 , symbol )\n",
    "color <- ifelse( is.na(Moralizing_gods$moralizing_gods) , \"black\" , rangi2 )\n",
    "plot( Moralizing_gods$year , Moralizing_gods$population , pch=symbol ,\n",
    "    col=color , xlab=\"Time (year)\" , ylab=\"Population size\" , lwd=1.5 )"
   ]
  },
  {
   "cell_type": "markdown",
   "metadata": {},
   "source": [
    "## R code 15.27"
   ]
  },
  {
   "cell_type": "code",
   "execution_count": null,
   "metadata": {
    "name": "R code 15.27"
   },
   "outputs": [],
   "source": [
    "with( Moralizing_gods ,\n",
    "    table( gods=moralizing_gods , literacy=writing , useNA=\"always\" ) )"
   ]
  },
  {
   "cell_type": "markdown",
   "metadata": {},
   "source": [
    "## R code 15.28"
   ]
  },
  {
   "cell_type": "code",
   "execution_count": null,
   "metadata": {
    "name": "R code 15.28"
   },
   "outputs": [],
   "source": [
    "haw <- which( Moralizing_gods$polity==\"Big Island Hawaii\" )\n",
    "columns <- c(\"year\",\"writing\",\"moralizing_gods\")\n",
    "t( Moralizing_gods[ haw , columns ] )"
   ]
  },
  {
   "cell_type": "markdown",
   "metadata": {},
   "source": [
    "## R code 15.29"
   ]
  },
  {
   "cell_type": "code",
   "execution_count": null,
   "metadata": {
    "name": "R code 15.29"
   },
   "outputs": [],
   "source": [
    "set.seed(9)\n",
    "N_houses <- 100L\n",
    "alpha <- 5\n",
    "beta <- (-3)\n",
    "k <- 0.5\n",
    "r <- 0.2\n",
    "cat <- rbern( N_houses , k )\n",
    "notes <- rpois( N_houses , alpha + beta*cat )\n",
    "R_C <- rbern( N_houses , r )\n",
    "cat_obs <- cat\n",
    "cat_obs[R_C==1] <- (-9L)\n",
    "dat <- list(\n",
    "    notes = notes,\n",
    "    cat = cat_obs,\n",
    "    RC = R_C,\n",
    "    N = as.integer(N_houses) )"
   ]
  },
  {
   "cell_type": "markdown",
   "metadata": {},
   "source": [
    "## R code 15.30"
   ]
  },
  {
   "cell_type": "code",
   "execution_count": null,
   "metadata": {
    "name": "R code 15.30"
   },
   "outputs": [],
   "source": [
    "m15.8 <- ulam(\n",
    "    alist(\n",
    "        # singing bird model\n",
    "        ## cat known present/absent:\n",
    "        notes|RC==0 ~ poisson( lambda ),\n",
    "        log(lambda) <- a + b*cat,\n",
    "        ## cat NA:\n",
    "        notes|RC==1 ~ custom( log_sum_exp(\n",
    "                log(k) + poisson_lpmf( notes | exp(a + b) ),\n",
    "                log(1-k) + poisson_lpmf( notes | exp(a) )\n",
    "            ) ),\n",
    "\n",
    "        # priors\n",
    "        a ~ normal(0,1),\n",
    "        b ~ normal(0,0.5),\n",
    "\n",
    "        # sneaking cat model\n",
    "        cat|RC==0 ~ bernoulli(k),\n",
    "        k ~ beta(2,2)\n",
    "    ), data=dat , chains=4 , cores=4 )"
   ]
  },
  {
   "cell_type": "markdown",
   "metadata": {},
   "source": [
    "## R code 15.31"
   ]
  },
  {
   "cell_type": "code",
   "execution_count": null,
   "metadata": {
    "name": "R code 15.31"
   },
   "outputs": [],
   "source": [
    "m15.9 <- ulam(\n",
    "    alist(\n",
    "        # singing bird model\n",
    "        notes|RC==0 ~ poisson( lambda ),\n",
    "        notes|RC==1 ~ custom( log_sum_exp(\n",
    "                log(k) + poisson_lpmf( notes | exp(a + b) ),\n",
    "                log(1-k) + poisson_lpmf( notes | exp(a) )\n",
    "            ) ),\n",
    "        log(lambda) <- a + b*cat,\n",
    "        a ~ normal(0,1),\n",
    "        b ~ normal(0,0.5),\n",
    "\n",
    "        # sneaking cat model\n",
    "        cat|RC==0 ~ bernoulli(k),\n",
    "        k ~ beta(2,2),\n",
    "\n",
    "        # imputed values\n",
    "        gq> vector[N]:PrC1 <- exp(lpC1)/(exp(lpC1)+exp(lpC0)),\n",
    "        gq> vector[N]:lpC1 <- log(k) + poisson_lpmf( notes[i] | exp(a+b) ),\n",
    "        gq> vector[N]:lpC0 <- log(1-k) + poisson_lpmf( notes[i] | exp(a) )\n",
    "    ), data=dat , chains=4 , cores=4 )"
   ]
  },
  {
   "cell_type": "markdown",
   "metadata": {},
   "source": [
    "## R code 15.32"
   ]
  },
  {
   "cell_type": "code",
   "execution_count": null,
   "metadata": {
    "name": "R code 15.32"
   },
   "outputs": [],
   "source": [
    "set.seed(100)\n",
    "x <- c( rnorm(10) , NA )\n",
    "y <- c( rnorm(10,x) , 100 )\n",
    "d <- list(x=x,y=y)"
   ]
  },
  {
   "cell_type": "markdown",
   "metadata": {},
   "source": [
    "## R code 15.33"
   ]
  },
  {
   "cell_type": "code",
   "execution_count": null,
   "metadata": {
    "name": "R code 15.33"
   },
   "outputs": [],
   "source": []
  },
  {
   "cell_type": "markdown",
   "metadata": {},
   "source": [
    "## R code 15.34"
   ]
  },
  {
   "cell_type": "code",
   "execution_count": null,
   "metadata": {
    "name": "R code 15.34"
   },
   "outputs": [],
   "source": []
  },
  {
   "cell_type": "markdown",
   "metadata": {},
   "source": [
    "## R code 15.35"
   ]
  },
  {
   "cell_type": "code",
   "execution_count": null,
   "metadata": {
    "name": "R code 15.35"
   },
   "outputs": [],
   "source": []
  },
  {
   "cell_type": "markdown",
   "metadata": {},
   "source": [
    "## R code 15.36"
   ]
  },
  {
   "cell_type": "code",
   "execution_count": null,
   "metadata": {
    "name": "R code 15.36"
   },
   "outputs": [],
   "source": []
  },
  {
   "cell_type": "markdown",
   "metadata": {},
   "source": [
    "## R code 15.37"
   ]
  },
  {
   "cell_type": "code",
   "execution_count": null,
   "metadata": {
    "name": "R code 15.37"
   },
   "outputs": [],
   "source": []
  },
  {
   "cell_type": "markdown",
   "metadata": {},
   "source": [
    "## R code 15.38"
   ]
  },
  {
   "cell_type": "code",
   "execution_count": null,
   "metadata": {
    "name": "R code 15.38"
   },
   "outputs": [],
   "source": []
  },
  {
   "cell_type": "markdown",
   "metadata": {},
   "source": [
    "## R code 15.39"
   ]
  },
  {
   "cell_type": "code",
   "execution_count": null,
   "metadata": {
    "lines_to_next_cell": 0,
    "name": "R code 15.39"
   },
   "outputs": [],
   "source": []
  },
  {
   "cell_type": "markdown",
   "metadata": {},
   "source": []
  }
 ],
 "metadata": {
  "jupytext": {
   "cell_metadata_filter": "name,-all",
   "main_language": "R",
   "notebook_metadata_filter": "-all"
  }
 },
 "nbformat": 4,
 "nbformat_minor": 4
}
