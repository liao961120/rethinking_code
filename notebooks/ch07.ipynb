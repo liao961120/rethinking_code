{
 "cells": [
  {
   "cell_type": "markdown",
   "id": "animal-degree",
   "metadata": {
    "lines_to_next_cell": 0
   },
   "source": []
  },
  {
   "cell_type": "code",
   "execution_count": null,
   "id": "fitted-northwest",
   "metadata": {
    "name": "Setup"
   },
   "outputs": [],
   "source": [
    "remotes::install_github('rmcelreath/rethinking', upgrade=F)"
   ]
  },
  {
   "cell_type": "markdown",
   "id": "collect-lender",
   "metadata": {},
   "source": [
    "R code 7.1"
   ]
  },
  {
   "cell_type": "code",
   "execution_count": null,
   "id": "upset-republic",
   "metadata": {
    "name": "R code 7.1"
   },
   "outputs": [],
   "source": [
    "sppnames <- c( \"afarensis\",\"africanus\",\"habilis\",\"boisei\",\n",
    "    \"rudolfensis\",\"ergaster\",\"sapiens\")\n",
    "brainvolcc <- c( 438 , 452 , 612, 521, 752, 871, 1350 )\n",
    "masskg <- c( 37.0 , 35.5 , 34.5 , 41.5 , 55.5 , 61.0 , 53.5 )\n",
    "d <- data.frame( species=sppnames , brain=brainvolcc , mass=masskg )"
   ]
  },
  {
   "cell_type": "markdown",
   "id": "inclusive-intermediate",
   "metadata": {},
   "source": [
    "R code 7.2"
   ]
  },
  {
   "cell_type": "code",
   "execution_count": null,
   "id": "fiscal-royal",
   "metadata": {
    "name": "R code 7.2"
   },
   "outputs": [],
   "source": [
    "d$mass_std <- (d$mass - mean(d$mass))/sd(d$mass)\n",
    "d$brain_std <- d$brain / max(d$brain)"
   ]
  },
  {
   "cell_type": "markdown",
   "id": "activated-plaza",
   "metadata": {},
   "source": [
    "R code 7.3"
   ]
  },
  {
   "cell_type": "code",
   "execution_count": null,
   "id": "killing-beginning",
   "metadata": {
    "name": "R code 7.3"
   },
   "outputs": [],
   "source": [
    "m7.1 <- quap(\n",
    "    alist(\n",
    "        brain_std ~ dnorm( mu , exp(log_sigma) ),\n",
    "        mu <- a + b*mass_std,\n",
    "        a ~ dnorm( 0.5 , 1 ),\n",
    "        b ~ dnorm( 0 , 10 ),\n",
    "        log_sigma ~ dnorm( 0 , 1 )\n",
    "    ), data=d )"
   ]
  },
  {
   "cell_type": "markdown",
   "id": "documented-alcohol",
   "metadata": {},
   "source": [
    "R code 7.4"
   ]
  },
  {
   "cell_type": "code",
   "execution_count": null,
   "id": "worldwide-dollar",
   "metadata": {
    "name": "R code 7.4"
   },
   "outputs": [],
   "source": [
    "m7.1_OLS <- lm( brain_std ~ mass_std , data=d )\n",
    "post <- extract.samples( m7.1_OLS )"
   ]
  },
  {
   "cell_type": "markdown",
   "id": "computational-payday",
   "metadata": {},
   "source": [
    "R code 7.5"
   ]
  },
  {
   "cell_type": "code",
   "execution_count": null,
   "id": "neural-semiconductor",
   "metadata": {
    "name": "R code 7.5"
   },
   "outputs": [],
   "source": [
    "set.seed(12)\n",
    "s <- sim( m7.1 )\n",
    "r <- apply(s,2,mean) - d$brain_std\n",
    "resid_var <- var2(r)\n",
    "outcome_var <- var2( d$brain_std )\n",
    "1 - resid_var/outcome_var"
   ]
  },
  {
   "cell_type": "markdown",
   "id": "suitable-ability",
   "metadata": {},
   "source": [
    "R code 7.6"
   ]
  },
  {
   "cell_type": "code",
   "execution_count": null,
   "id": "timely-appraisal",
   "metadata": {
    "name": "R code 7.6"
   },
   "outputs": [],
   "source": [
    "R2_is_bad <- function( quap_fit ) {\n",
    "    s <- sim( quap_fit , refresh=0 )\n",
    "    r <- apply(s,2,mean) - d$brain_std\n",
    "    1 - var2(r)/var2(d$brain_std)\n",
    "}"
   ]
  },
  {
   "cell_type": "markdown",
   "id": "remarkable-catch",
   "metadata": {},
   "source": [
    "R code 7.7"
   ]
  },
  {
   "cell_type": "code",
   "execution_count": null,
   "id": "exclusive-tumor",
   "metadata": {
    "name": "R code 7.7"
   },
   "outputs": [],
   "source": [
    "m7.2 <- quap(\n",
    "    alist(\n",
    "        brain_std ~ dnorm( mu , exp(log_sigma) ),\n",
    "        mu <- a + b[1]*mass_std + b[2]*mass_std^2,\n",
    "        a ~ dnorm( 0.5 , 1 ),\n",
    "        b ~ dnorm( 0 , 10 ),\n",
    "        log_sigma ~ dnorm( 0 , 1 )\n",
    "    ), data=d , start=list(b=rep(0,2)) )"
   ]
  },
  {
   "cell_type": "markdown",
   "id": "friendly-madonna",
   "metadata": {},
   "source": [
    "R code 7.8"
   ]
  },
  {
   "cell_type": "code",
   "execution_count": null,
   "id": "miniature-enough",
   "metadata": {
    "name": "R code 7.8"
   },
   "outputs": [],
   "source": [
    "m7.3 <- quap(\n",
    "    alist(\n",
    "        brain_std ~ dnorm( mu , exp(log_sigma) ),\n",
    "        mu <- a + b[1]*mass_std + b[2]*mass_std^2 +\n",
    "                  b[3]*mass_std^3,\n",
    "        a ~ dnorm( 0.5 , 1 ),\n",
    "        b ~ dnorm( 0 , 10 ),\n",
    "        log_sigma ~ dnorm( 0 , 1 )\n",
    "    ), data=d , start=list(b=rep(0,3)) )\n",
    "\n",
    "m7.4 <- quap(\n",
    "    alist(\n",
    "        brain_std ~ dnorm( mu , exp(log_sigma) ),\n",
    "        mu <- a + b[1]*mass_std + b[2]*mass_std^2 +\n",
    "                  b[3]*mass_std^3 + b[4]*mass_std^4,\n",
    "        a ~ dnorm( 0.5 , 1 ),\n",
    "        b ~ dnorm( 0 , 10 ),\n",
    "        log_sigma ~ dnorm( 0 , 1 )\n",
    "    ), data=d , start=list(b=rep(0,4)) )\n",
    "\n",
    "m7.5 <- quap(\n",
    "    alist(\n",
    "        brain_std ~ dnorm( mu , exp(log_sigma) ),\n",
    "        mu <- a + b[1]*mass_std + b[2]*mass_std^2 +\n",
    "                  b[3]*mass_std^3 + b[4]*mass_std^4 +\n",
    "                  b[5]*mass_std^5,\n",
    "        a ~ dnorm( 0.5 , 1 ),\n",
    "        b ~ dnorm( 0 , 10 ),\n",
    "        log_sigma ~ dnorm( 0 , 1 )\n",
    "    ), data=d , start=list(b=rep(0,5)) )"
   ]
  },
  {
   "cell_type": "markdown",
   "id": "respective-samba",
   "metadata": {},
   "source": [
    "R code 7.9"
   ]
  },
  {
   "cell_type": "code",
   "execution_count": null,
   "id": "standing-blend",
   "metadata": {
    "name": "R code 7.9"
   },
   "outputs": [],
   "source": [
    "m7.6 <- quap(\n",
    "    alist(\n",
    "        brain_std ~ dnorm( mu , 0.001 ),\n",
    "        mu <- a + b[1]*mass_std + b[2]*mass_std^2 +\n",
    "                  b[3]*mass_std^3 + b[4]*mass_std^4 +\n",
    "                  b[5]*mass_std^5 + b[6]*mass_std^6,\n",
    "        a ~ dnorm( 0.5 , 1 ),\n",
    "        b ~ dnorm( 0 , 10 )\n",
    "    ), data=d , start=list(b=rep(0,6)) )"
   ]
  },
  {
   "cell_type": "markdown",
   "id": "simplified-payday",
   "metadata": {},
   "source": [
    "R code 7.10"
   ]
  },
  {
   "cell_type": "code",
   "execution_count": null,
   "id": "upset-somalia",
   "metadata": {
    "name": "R code 7.10"
   },
   "outputs": [],
   "source": [
    "post <- extract.samples(m7.1)\n",
    "mass_seq <- seq( from=min(d$mass_std) , to=max(d$mass_std) , length.out=100 )\n",
    "l <- link( m7.1 , data=list( mass_std=mass_seq ) )\n",
    "mu <- apply( l , 2 , mean )\n",
    "ci <- apply( l , 2 , PI )\n",
    "plot( brain_std ~ mass_std , data=d )\n",
    "lines( mass_seq , mu )\n",
    "shade( ci , mass_seq )"
   ]
  },
  {
   "cell_type": "markdown",
   "id": "fabulous-chicago",
   "metadata": {},
   "source": [
    "R code 7.11"
   ]
  },
  {
   "cell_type": "code",
   "execution_count": null,
   "id": "dated-subscriber",
   "metadata": {
    "name": "R code 7.11"
   },
   "outputs": [],
   "source": [
    "d_minus_i <- d[ -i , ]"
   ]
  },
  {
   "cell_type": "markdown",
   "id": "finnish-finder",
   "metadata": {},
   "source": [
    "R code 7.12"
   ]
  },
  {
   "cell_type": "code",
   "execution_count": null,
   "id": "encouraging-dylan",
   "metadata": {
    "name": "R code 7.12"
   },
   "outputs": [],
   "source": [
    "p <- c( 0.3 , 0.7 )\n",
    "-sum( p*log(p) )"
   ]
  },
  {
   "cell_type": "markdown",
   "id": "hollywood-provider",
   "metadata": {},
   "source": [
    "R code 7.13"
   ]
  },
  {
   "cell_type": "code",
   "execution_count": null,
   "id": "needed-familiar",
   "metadata": {
    "name": "R code 7.13"
   },
   "outputs": [],
   "source": [
    "set.seed(1)\n",
    "lppd( m7.1 , n=1e4 )"
   ]
  },
  {
   "cell_type": "markdown",
   "id": "nasty-homeless",
   "metadata": {},
   "source": [
    "R code 7.14"
   ]
  },
  {
   "cell_type": "code",
   "execution_count": null,
   "id": "external-natural",
   "metadata": {
    "name": "R code 7.14"
   },
   "outputs": [],
   "source": [
    "set.seed(1)\n",
    "logprob <- sim( m7.1 , ll=TRUE , n=1e4 )\n",
    "n <- ncol(logprob)\n",
    "ns <- nrow(logprob)\n",
    "f <- function( i ) log_sum_exp( logprob[,i] ) - log(ns)\n",
    "( lppd <- sapply( 1:n , f ) )"
   ]
  },
  {
   "cell_type": "markdown",
   "id": "regulated-minority",
   "metadata": {},
   "source": [
    "R code 7.15"
   ]
  },
  {
   "cell_type": "code",
   "execution_count": null,
   "id": "minimal-dover",
   "metadata": {
    "name": "R code 7.15"
   },
   "outputs": [],
   "source": [
    "set.seed(1)\n",
    "sapply( list(m7.1,m7.2,m7.3,m7.4,m7.5,m7.6) , function(m) sum(lppd(m)) )"
   ]
  },
  {
   "cell_type": "markdown",
   "id": "representative-michigan",
   "metadata": {},
   "source": [
    "R code 7.16"
   ]
  },
  {
   "cell_type": "code",
   "execution_count": null,
   "id": "functional-image",
   "metadata": {
    "name": "R code 7.16"
   },
   "outputs": [],
   "source": [
    "N <- 20\n",
    "kseq <- 1:5\n",
    "dev <- sapply( kseq , function(k) {\n",
    "        print(k);\n",
    "        r <- replicate( 1e4 , sim_train_test( N=N, k=k ) );\n",
    "        c( mean(r[1,]) , mean(r[2,]) , sd(r[1,]) , sd(r[2,]) )\n",
    "    } )"
   ]
  },
  {
   "cell_type": "markdown",
   "id": "manufactured-collective",
   "metadata": {},
   "source": [
    "R code 7.17"
   ]
  },
  {
   "cell_type": "code",
   "execution_count": null,
   "id": "greater-mongolia",
   "metadata": {
    "name": "R code 7.17"
   },
   "outputs": [],
   "source": [
    "        r <- mcreplicate( 1e4 , sim_train_test( N=N, k=k ) , mc.cores=4 )"
   ]
  },
  {
   "cell_type": "markdown",
   "id": "current-sussex",
   "metadata": {},
   "source": [
    "R code 7.18"
   ]
  },
  {
   "cell_type": "code",
   "execution_count": null,
   "id": "formal-synthetic",
   "metadata": {
    "name": "R code 7.18"
   },
   "outputs": [],
   "source": [
    "plot( 1:5 , dev[1,] , ylim=c( min(dev[1:2,])-5 , max(dev[1:2,])+10 ) ,\n",
    "    xlim=c(1,5.1) , xlab=\"number of parameters\" , ylab=\"deviance\" ,\n",
    "    pch=16 , col=rangi2 )\n",
    "mtext( concat( \"N = \",N ) )\n",
    "points( (1:5)+0.1 , dev[2,] )\n",
    "for ( i in kseq ) {\n",
    "    pts_in <- dev[1,i] + c(-1,+1)*dev[3,i]\n",
    "    pts_out <- dev[2,i] + c(-1,+1)*dev[4,i]\n",
    "    lines( c(i,i) , pts_in , col=rangi2 )\n",
    "    lines( c(i,i)+0.1 , pts_out )\n",
    "}"
   ]
  },
  {
   "cell_type": "markdown",
   "id": "acquired-gauge",
   "metadata": {},
   "source": [
    "R code 7.19"
   ]
  },
  {
   "cell_type": "code",
   "execution_count": null,
   "id": "secondary-acting",
   "metadata": {
    "name": "R code 7.19"
   },
   "outputs": [],
   "source": [
    "data(cars)\n",
    "m <- quap(\n",
    "    alist(\n",
    "        dist ~ dnorm(mu,sigma),\n",
    "        mu <- a + b*speed,\n",
    "        a ~ dnorm(0,100),\n",
    "        b ~ dnorm(0,10),\n",
    "        sigma ~ dexp(1)\n",
    "    ) , data=cars )\n",
    "set.seed(94)\n",
    "post <- extract.samples(m,n=1000)"
   ]
  },
  {
   "cell_type": "markdown",
   "id": "expensive-understanding",
   "metadata": {},
   "source": [
    "R code 7.20"
   ]
  },
  {
   "cell_type": "code",
   "execution_count": null,
   "id": "divine-writer",
   "metadata": {
    "name": "R code 7.20"
   },
   "outputs": [],
   "source": [
    "n_samples <- 1000\n",
    "logprob <- sapply( 1:n_samples ,\n",
    "    function(s) {\n",
    "        mu <- post$a[s] + post$b[s]*cars$speed\n",
    "        dnorm( cars$dist , mu , post$sigma[s] , log=TRUE )\n",
    "    } )"
   ]
  },
  {
   "cell_type": "markdown",
   "id": "differential-matrix",
   "metadata": {},
   "source": [
    "R code 7.21"
   ]
  },
  {
   "cell_type": "code",
   "execution_count": null,
   "id": "parental-council",
   "metadata": {
    "name": "R code 7.21"
   },
   "outputs": [],
   "source": [
    "n_cases <- nrow(cars)\n",
    "lppd <- sapply( 1:n_cases , function(i) log_sum_exp(logprob[i,]) - log(n_samples) )"
   ]
  },
  {
   "cell_type": "markdown",
   "id": "separated-vatican",
   "metadata": {},
   "source": [
    "R code 7.22"
   ]
  },
  {
   "cell_type": "code",
   "execution_count": null,
   "id": "further-compilation",
   "metadata": {
    "name": "R code 7.22"
   },
   "outputs": [],
   "source": [
    "pWAIC <- sapply( 1:n_cases , function(i) var(logprob[i,]) )"
   ]
  },
  {
   "cell_type": "markdown",
   "id": "insured-agency",
   "metadata": {},
   "source": [
    "R code 7.23"
   ]
  },
  {
   "cell_type": "code",
   "execution_count": null,
   "id": "wanted-defeat",
   "metadata": {
    "name": "R code 7.23"
   },
   "outputs": [],
   "source": [
    "-2*( sum(lppd) - sum(pWAIC) )"
   ]
  },
  {
   "cell_type": "markdown",
   "id": "fitted-trail",
   "metadata": {},
   "source": [
    "R code 7.24"
   ]
  },
  {
   "cell_type": "code",
   "execution_count": null,
   "id": "union-scroll",
   "metadata": {
    "name": "R code 7.24"
   },
   "outputs": [],
   "source": [
    "waic_vec <- -2*( lppd - pWAIC )\n",
    "sqrt( n_cases*var(waic_vec) )"
   ]
  },
  {
   "cell_type": "markdown",
   "id": "greatest-subcommittee",
   "metadata": {},
   "source": [
    "R code 7.25"
   ]
  },
  {
   "cell_type": "code",
   "execution_count": null,
   "id": "seven-deputy",
   "metadata": {
    "name": "R code 7.25"
   },
   "outputs": [],
   "source": [
    "set.seed(11)\n",
    "WAIC( m6.7 )"
   ]
  },
  {
   "cell_type": "markdown",
   "id": "talented-colleague",
   "metadata": {},
   "source": [
    "R code 7.26"
   ]
  },
  {
   "cell_type": "code",
   "execution_count": null,
   "id": "original-disney",
   "metadata": {
    "name": "R code 7.26"
   },
   "outputs": [],
   "source": [
    "set.seed(77)\n",
    "compare( m6.6 , m6.7 , m6.8 , func=WAIC )"
   ]
  },
  {
   "cell_type": "markdown",
   "id": "smart-plasma",
   "metadata": {},
   "source": [
    "R code 7.27"
   ]
  },
  {
   "cell_type": "code",
   "execution_count": null,
   "id": "strong-production",
   "metadata": {
    "name": "R code 7.27"
   },
   "outputs": [],
   "source": [
    "set.seed(91)\n",
    "waic_m6.7 <- WAIC( m6.7 , pointwise=TRUE )$WAIC\n",
    "waic_m6.8 <- WAIC( m6.8 , pointwise=TRUE )$WAIC\n",
    "n <- length(waic_m6.7)\n",
    "diff_m6.7_m6.8 <- waic_m6.7 - waic_m6.8\n",
    "sqrt( n*var( diff_m6.7_m6.8 ) )"
   ]
  },
  {
   "cell_type": "markdown",
   "id": "second-loading",
   "metadata": {},
   "source": [
    "R code 7.28"
   ]
  },
  {
   "cell_type": "code",
   "execution_count": null,
   "id": "tropical-latino",
   "metadata": {
    "name": "R code 7.28"
   },
   "outputs": [],
   "source": [
    "40.0 + c(-1,1)*10.4*2.6"
   ]
  },
  {
   "cell_type": "markdown",
   "id": "casual-capitol",
   "metadata": {},
   "source": [
    "R code 7.29"
   ]
  },
  {
   "cell_type": "code",
   "execution_count": null,
   "id": "preliminary-height",
   "metadata": {
    "name": "R code 7.29"
   },
   "outputs": [],
   "source": [
    "plot( compare( m6.6 , m6.7 , m6.8 ) )"
   ]
  },
  {
   "cell_type": "markdown",
   "id": "frequent-aspect",
   "metadata": {},
   "source": [
    "R code 7.30"
   ]
  },
  {
   "cell_type": "code",
   "execution_count": null,
   "id": "stopped-accordance",
   "metadata": {
    "name": "R code 7.30"
   },
   "outputs": [],
   "source": [
    "set.seed(92)\n",
    "waic_m6.6 <- WAIC( m6.6 , pointwise=TRUE )$WAIC\n",
    "diff_m6.6_m6.8 <- waic_m6.6 - waic_m6.8\n",
    "sqrt( n*var( diff_m6.6_m6.8 ) )"
   ]
  },
  {
   "cell_type": "markdown",
   "id": "corporate-indian",
   "metadata": {},
   "source": [
    "R code 7.31"
   ]
  },
  {
   "cell_type": "code",
   "execution_count": null,
   "id": "interim-health",
   "metadata": {
    "name": "R code 7.31"
   },
   "outputs": [],
   "source": [
    "set.seed(93)\n",
    "compare( m6.6 , m6.7 , m6.8 )@dSE"
   ]
  },
  {
   "cell_type": "markdown",
   "id": "hungry-federation",
   "metadata": {},
   "source": [
    "R code 7.32"
   ]
  },
  {
   "cell_type": "code",
   "execution_count": null,
   "id": "fifteen-illinois",
   "metadata": {
    "name": "R code 7.32"
   },
   "outputs": [],
   "source": [
    "library(rethinking)\n",
    "data(WaffleDivorce)\n",
    "d <- WaffleDivorce\n",
    "d$A <- standardize( d$MedianAgeMarriage )\n",
    "d$D <- standardize( d$Divorce )\n",
    "d$M <- standardize( d$Marriage )\n",
    "\n",
    "m5.1 <- quap(\n",
    "    alist(\n",
    "        D ~ dnorm( mu , sigma ) ,\n",
    "        mu <- a + bA * A ,\n",
    "        a ~ dnorm( 0 , 0.2 ) ,\n",
    "        bA ~ dnorm( 0 , 0.5 ) ,\n",
    "        sigma ~ dexp( 1 )\n",
    "    ) , data = d )\n",
    "\n",
    "m5.2 <- quap(\n",
    "    alist(\n",
    "        D ~ dnorm( mu , sigma ) ,\n",
    "        mu <- a + bM * M ,\n",
    "        a ~ dnorm( 0 , 0.2 ) ,\n",
    "        bM ~ dnorm( 0 , 0.5 ) ,\n",
    "        sigma ~ dexp( 1 )\n",
    "    ) , data = d )\n",
    "\n",
    "m5.3 <- quap(\n",
    "    alist(\n",
    "        D ~ dnorm( mu , sigma ) ,\n",
    "        mu <- a + bM*M + bA*A ,\n",
    "        a ~ dnorm( 0 , 0.2 ) ,\n",
    "        bM ~ dnorm( 0 , 0.5 ) ,\n",
    "        bA ~ dnorm( 0 , 0.5 ) ,\n",
    "        sigma ~ dexp( 1 )\n",
    "    ) , data = d )"
   ]
  },
  {
   "cell_type": "markdown",
   "id": "domestic-luther",
   "metadata": {},
   "source": [
    "R code 7.33"
   ]
  },
  {
   "cell_type": "code",
   "execution_count": null,
   "id": "separated-causing",
   "metadata": {
    "name": "R code 7.33"
   },
   "outputs": [],
   "source": [
    "set.seed(24071847)\n",
    "compare( m5.1 , m5.2 , m5.3 , func=PSIS )"
   ]
  },
  {
   "cell_type": "markdown",
   "id": "special-fortune",
   "metadata": {},
   "source": [
    "R code 7.34"
   ]
  },
  {
   "cell_type": "code",
   "execution_count": null,
   "id": "convertible-brick",
   "metadata": {
    "name": "R code 7.34"
   },
   "outputs": [],
   "source": [
    "set.seed(24071847)\n",
    "PSIS_m5.3 <- PSIS(m5.3,pointwise=TRUE)\n",
    "set.seed(24071847)\n",
    "WAIC_m5.3 <- WAIC(m5.3,pointwise=TRUE)\n",
    "plot( PSIS_m5.3$k , WAIC_m5.3$penalty , xlab=\"PSIS Pareto k\" ,\n",
    "    ylab=\"WAIC penalty\" , col=rangi2 , lwd=2 )"
   ]
  },
  {
   "cell_type": "markdown",
   "id": "dimensional-ministry",
   "metadata": {},
   "source": [
    "R code 7.35"
   ]
  },
  {
   "cell_type": "code",
   "execution_count": null,
   "id": "median-scanning",
   "metadata": {
    "lines_to_next_cell": 0,
    "name": "R code 7.35"
   },
   "outputs": [],
   "source": [
    "m5.3t <- quap(\n",
    "    alist(\n",
    "        D ~ dstudent( 2 , mu , sigma ) ,\n",
    "        mu <- a + bM*M + bA*A ,\n",
    "        a ~ dnorm( 0 , 0.2 ) ,\n",
    "        bM ~ dnorm( 0 , 0.5 ) ,\n",
    "        bA ~ dnorm( 0 , 0.5 ) ,\n",
    "        sigma ~ dexp( 1 )\n",
    "    ) , data = d )"
   ]
  },
  {
   "cell_type": "markdown",
   "id": "extreme-flood",
   "metadata": {},
   "source": []
  }
 ],
 "metadata": {
  "jupytext": {
   "cell_metadata_filter": "name,-all",
   "main_language": "R",
   "notebook_metadata_filter": "-all"
  }
 },
 "nbformat": 4,
 "nbformat_minor": 5
}
