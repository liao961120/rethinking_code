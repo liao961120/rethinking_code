{
 "cells": [
  {
   "cell_type": "markdown",
   "id": "chinese-vietnamese",
   "metadata": {
    "lines_to_next_cell": 0
   },
   "source": []
  },
  {
   "cell_type": "code",
   "execution_count": null,
   "id": "answering-enlargement",
   "metadata": {
    "name": "Setup"
   },
   "outputs": [],
   "source": [
    "remotes::install_github('rmcelreath/rethinking', upgrade=F)"
   ]
  },
  {
   "cell_type": "markdown",
   "id": "twenty-orbit",
   "metadata": {},
   "source": [
    "## R code 7.1"
   ]
  },
  {
   "cell_type": "code",
   "execution_count": null,
   "id": "piano-earthquake",
   "metadata": {
    "name": "R code 7.1"
   },
   "outputs": [],
   "source": [
    "sppnames <- c( \"afarensis\",\"africanus\",\"habilis\",\"boisei\",\n",
    "    \"rudolfensis\",\"ergaster\",\"sapiens\")\n",
    "brainvolcc <- c( 438 , 452 , 612, 521, 752, 871, 1350 )\n",
    "masskg <- c( 37.0 , 35.5 , 34.5 , 41.5 , 55.5 , 61.0 , 53.5 )\n",
    "d <- data.frame( species=sppnames , brain=brainvolcc , mass=masskg )"
   ]
  },
  {
   "cell_type": "markdown",
   "id": "lesbian-figure",
   "metadata": {},
   "source": [
    "## R code 7.2"
   ]
  },
  {
   "cell_type": "code",
   "execution_count": null,
   "id": "naked-breast",
   "metadata": {
    "name": "R code 7.2"
   },
   "outputs": [],
   "source": [
    "d$mass_std <- (d$mass - mean(d$mass))/sd(d$mass)\n",
    "d$brain_std <- d$brain / max(d$brain)"
   ]
  },
  {
   "cell_type": "markdown",
   "id": "general-heart",
   "metadata": {},
   "source": [
    "## R code 7.3"
   ]
  },
  {
   "cell_type": "code",
   "execution_count": null,
   "id": "grateful-backup",
   "metadata": {
    "name": "R code 7.3"
   },
   "outputs": [],
   "source": [
    "m7.1 <- quap(\n",
    "    alist(\n",
    "        brain_std ~ dnorm( mu , exp(log_sigma) ),\n",
    "        mu <- a + b*mass_std,\n",
    "        a ~ dnorm( 0.5 , 1 ),\n",
    "        b ~ dnorm( 0 , 10 ),\n",
    "        log_sigma ~ dnorm( 0 , 1 )\n",
    "    ), data=d )"
   ]
  },
  {
   "cell_type": "markdown",
   "id": "biblical-updating",
   "metadata": {},
   "source": [
    "## R code 7.4"
   ]
  },
  {
   "cell_type": "code",
   "execution_count": null,
   "id": "executed-arabic",
   "metadata": {
    "name": "R code 7.4"
   },
   "outputs": [],
   "source": [
    "m7.1_OLS <- lm( brain_std ~ mass_std , data=d )\n",
    "post <- extract.samples( m7.1_OLS )"
   ]
  },
  {
   "cell_type": "markdown",
   "id": "radio-young",
   "metadata": {},
   "source": [
    "## R code 7.5"
   ]
  },
  {
   "cell_type": "code",
   "execution_count": null,
   "id": "metallic-painting",
   "metadata": {
    "name": "R code 7.5"
   },
   "outputs": [],
   "source": [
    "set.seed(12)\n",
    "s <- sim( m7.1 )\n",
    "r <- apply(s,2,mean) - d$brain_std\n",
    "resid_var <- var2(r)\n",
    "outcome_var <- var2( d$brain_std )\n",
    "1 - resid_var/outcome_var"
   ]
  },
  {
   "cell_type": "markdown",
   "id": "large-eligibility",
   "metadata": {},
   "source": [
    "## R code 7.6"
   ]
  },
  {
   "cell_type": "code",
   "execution_count": null,
   "id": "collaborative-payment",
   "metadata": {
    "name": "R code 7.6"
   },
   "outputs": [],
   "source": [
    "R2_is_bad <- function( quap_fit ) {\n",
    "    s <- sim( quap_fit , refresh=0 )\n",
    "    r <- apply(s,2,mean) - d$brain_std\n",
    "    1 - var2(r)/var2(d$brain_std)\n",
    "}"
   ]
  },
  {
   "cell_type": "markdown",
   "id": "driven-istanbul",
   "metadata": {},
   "source": [
    "## R code 7.7"
   ]
  },
  {
   "cell_type": "code",
   "execution_count": null,
   "id": "danish-wages",
   "metadata": {
    "name": "R code 7.7"
   },
   "outputs": [],
   "source": [
    "m7.2 <- quap(\n",
    "    alist(\n",
    "        brain_std ~ dnorm( mu , exp(log_sigma) ),\n",
    "        mu <- a + b[1]*mass_std + b[2]*mass_std^2,\n",
    "        a ~ dnorm( 0.5 , 1 ),\n",
    "        b ~ dnorm( 0 , 10 ),\n",
    "        log_sigma ~ dnorm( 0 , 1 )\n",
    "    ), data=d , start=list(b=rep(0,2)) )"
   ]
  },
  {
   "cell_type": "markdown",
   "id": "standard-river",
   "metadata": {},
   "source": [
    "## R code 7.8"
   ]
  },
  {
   "cell_type": "code",
   "execution_count": null,
   "id": "dangerous-constitution",
   "metadata": {
    "name": "R code 7.8"
   },
   "outputs": [],
   "source": [
    "m7.3 <- quap(\n",
    "    alist(\n",
    "        brain_std ~ dnorm( mu , exp(log_sigma) ),\n",
    "        mu <- a + b[1]*mass_std + b[2]*mass_std^2 +\n",
    "                  b[3]*mass_std^3,\n",
    "        a ~ dnorm( 0.5 , 1 ),\n",
    "        b ~ dnorm( 0 , 10 ),\n",
    "        log_sigma ~ dnorm( 0 , 1 )\n",
    "    ), data=d , start=list(b=rep(0,3)) )\n",
    "\n",
    "m7.4 <- quap(\n",
    "    alist(\n",
    "        brain_std ~ dnorm( mu , exp(log_sigma) ),\n",
    "        mu <- a + b[1]*mass_std + b[2]*mass_std^2 +\n",
    "                  b[3]*mass_std^3 + b[4]*mass_std^4,\n",
    "        a ~ dnorm( 0.5 , 1 ),\n",
    "        b ~ dnorm( 0 , 10 ),\n",
    "        log_sigma ~ dnorm( 0 , 1 )\n",
    "    ), data=d , start=list(b=rep(0,4)) )\n",
    "\n",
    "m7.5 <- quap(\n",
    "    alist(\n",
    "        brain_std ~ dnorm( mu , exp(log_sigma) ),\n",
    "        mu <- a + b[1]*mass_std + b[2]*mass_std^2 +\n",
    "                  b[3]*mass_std^3 + b[4]*mass_std^4 +\n",
    "                  b[5]*mass_std^5,\n",
    "        a ~ dnorm( 0.5 , 1 ),\n",
    "        b ~ dnorm( 0 , 10 ),\n",
    "        log_sigma ~ dnorm( 0 , 1 )\n",
    "    ), data=d , start=list(b=rep(0,5)) )"
   ]
  },
  {
   "cell_type": "markdown",
   "id": "boring-sociology",
   "metadata": {},
   "source": [
    "## R code 7.9"
   ]
  },
  {
   "cell_type": "code",
   "execution_count": null,
   "id": "funded-standard",
   "metadata": {
    "name": "R code 7.9"
   },
   "outputs": [],
   "source": [
    "m7.6 <- quap(\n",
    "    alist(\n",
    "        brain_std ~ dnorm( mu , 0.001 ),\n",
    "        mu <- a + b[1]*mass_std + b[2]*mass_std^2 +\n",
    "                  b[3]*mass_std^3 + b[4]*mass_std^4 +\n",
    "                  b[5]*mass_std^5 + b[6]*mass_std^6,\n",
    "        a ~ dnorm( 0.5 , 1 ),\n",
    "        b ~ dnorm( 0 , 10 )\n",
    "    ), data=d , start=list(b=rep(0,6)) )"
   ]
  },
  {
   "cell_type": "markdown",
   "id": "lined-alarm",
   "metadata": {},
   "source": [
    "## R code 7.10"
   ]
  },
  {
   "cell_type": "code",
   "execution_count": null,
   "id": "shared-interaction",
   "metadata": {
    "name": "R code 7.10"
   },
   "outputs": [],
   "source": [
    "post <- extract.samples(m7.1)\n",
    "mass_seq <- seq( from=min(d$mass_std) , to=max(d$mass_std) , length.out=100 )\n",
    "l <- link( m7.1 , data=list( mass_std=mass_seq ) )\n",
    "mu <- apply( l , 2 , mean )\n",
    "ci <- apply( l , 2 , PI )\n",
    "plot( brain_std ~ mass_std , data=d )\n",
    "lines( mass_seq , mu )\n",
    "shade( ci , mass_seq )"
   ]
  },
  {
   "cell_type": "markdown",
   "id": "outside-university",
   "metadata": {},
   "source": [
    "## R code 7.11"
   ]
  },
  {
   "cell_type": "code",
   "execution_count": null,
   "id": "automated-credit",
   "metadata": {
    "name": "R code 7.11"
   },
   "outputs": [],
   "source": [
    "d_minus_i <- d[ -i , ]"
   ]
  },
  {
   "cell_type": "markdown",
   "id": "frequent-helmet",
   "metadata": {},
   "source": [
    "## R code 7.12"
   ]
  },
  {
   "cell_type": "code",
   "execution_count": null,
   "id": "sharing-float",
   "metadata": {
    "name": "R code 7.12"
   },
   "outputs": [],
   "source": [
    "p <- c( 0.3 , 0.7 )\n",
    "-sum( p*log(p) )"
   ]
  },
  {
   "cell_type": "markdown",
   "id": "random-headquarters",
   "metadata": {},
   "source": [
    "## R code 7.13"
   ]
  },
  {
   "cell_type": "code",
   "execution_count": null,
   "id": "strange-enzyme",
   "metadata": {
    "name": "R code 7.13"
   },
   "outputs": [],
   "source": [
    "set.seed(1)\n",
    "lppd( m7.1 , n=1e4 )"
   ]
  },
  {
   "cell_type": "markdown",
   "id": "operational-bryan",
   "metadata": {},
   "source": [
    "## R code 7.14"
   ]
  },
  {
   "cell_type": "code",
   "execution_count": null,
   "id": "improving-elimination",
   "metadata": {
    "name": "R code 7.14"
   },
   "outputs": [],
   "source": [
    "set.seed(1)\n",
    "logprob <- sim( m7.1 , ll=TRUE , n=1e4 )\n",
    "n <- ncol(logprob)\n",
    "ns <- nrow(logprob)\n",
    "f <- function( i ) log_sum_exp( logprob[,i] ) - log(ns)\n",
    "( lppd <- sapply( 1:n , f ) )"
   ]
  },
  {
   "cell_type": "markdown",
   "id": "collective-joining",
   "metadata": {},
   "source": [
    "## R code 7.15"
   ]
  },
  {
   "cell_type": "code",
   "execution_count": null,
   "id": "matched-winner",
   "metadata": {
    "name": "R code 7.15"
   },
   "outputs": [],
   "source": [
    "set.seed(1)\n",
    "sapply( list(m7.1,m7.2,m7.3,m7.4,m7.5,m7.6) , function(m) sum(lppd(m)) )"
   ]
  },
  {
   "cell_type": "markdown",
   "id": "superior-pillow",
   "metadata": {},
   "source": [
    "## R code 7.16"
   ]
  },
  {
   "cell_type": "code",
   "execution_count": null,
   "id": "killing-christopher",
   "metadata": {
    "name": "R code 7.16"
   },
   "outputs": [],
   "source": [
    "N <- 20\n",
    "kseq <- 1:5\n",
    "dev <- sapply( kseq , function(k) {\n",
    "        print(k);\n",
    "        r <- replicate( 1e4 , sim_train_test( N=N, k=k ) );\n",
    "        c( mean(r[1,]) , mean(r[2,]) , sd(r[1,]) , sd(r[2,]) )\n",
    "    } )"
   ]
  },
  {
   "cell_type": "markdown",
   "id": "sticky-attack",
   "metadata": {},
   "source": [
    "## R code 7.17"
   ]
  },
  {
   "cell_type": "code",
   "execution_count": null,
   "id": "forbidden-extreme",
   "metadata": {
    "name": "R code 7.17"
   },
   "outputs": [],
   "source": [
    "        r <- mcreplicate( 1e4 , sim_train_test( N=N, k=k ) , mc.cores=4 )"
   ]
  },
  {
   "cell_type": "markdown",
   "id": "numeric-japanese",
   "metadata": {},
   "source": [
    "## R code 7.18"
   ]
  },
  {
   "cell_type": "code",
   "execution_count": null,
   "id": "patent-butler",
   "metadata": {
    "name": "R code 7.18"
   },
   "outputs": [],
   "source": [
    "plot( 1:5 , dev[1,] , ylim=c( min(dev[1:2,])-5 , max(dev[1:2,])+10 ) ,\n",
    "    xlim=c(1,5.1) , xlab=\"number of parameters\" , ylab=\"deviance\" ,\n",
    "    pch=16 , col=rangi2 )\n",
    "mtext( concat( \"N = \",N ) )\n",
    "points( (1:5)+0.1 , dev[2,] )\n",
    "for ( i in kseq ) {\n",
    "    pts_in <- dev[1,i] + c(-1,+1)*dev[3,i]\n",
    "    pts_out <- dev[2,i] + c(-1,+1)*dev[4,i]\n",
    "    lines( c(i,i) , pts_in , col=rangi2 )\n",
    "    lines( c(i,i)+0.1 , pts_out )\n",
    "}"
   ]
  },
  {
   "cell_type": "markdown",
   "id": "cardiac-contractor",
   "metadata": {},
   "source": [
    "## R code 7.19"
   ]
  },
  {
   "cell_type": "code",
   "execution_count": null,
   "id": "casual-association",
   "metadata": {
    "name": "R code 7.19"
   },
   "outputs": [],
   "source": [
    "data(cars)\n",
    "m <- quap(\n",
    "    alist(\n",
    "        dist ~ dnorm(mu,sigma),\n",
    "        mu <- a + b*speed,\n",
    "        a ~ dnorm(0,100),\n",
    "        b ~ dnorm(0,10),\n",
    "        sigma ~ dexp(1)\n",
    "    ) , data=cars )\n",
    "set.seed(94)\n",
    "post <- extract.samples(m,n=1000)"
   ]
  },
  {
   "cell_type": "markdown",
   "id": "lightweight-hartford",
   "metadata": {},
   "source": [
    "## R code 7.20"
   ]
  },
  {
   "cell_type": "code",
   "execution_count": null,
   "id": "tired-marathon",
   "metadata": {
    "name": "R code 7.20"
   },
   "outputs": [],
   "source": [
    "n_samples <- 1000\n",
    "logprob <- sapply( 1:n_samples ,\n",
    "    function(s) {\n",
    "        mu <- post$a[s] + post$b[s]*cars$speed\n",
    "        dnorm( cars$dist , mu , post$sigma[s] , log=TRUE )\n",
    "    } )"
   ]
  },
  {
   "cell_type": "markdown",
   "id": "organic-sending",
   "metadata": {},
   "source": [
    "## R code 7.21"
   ]
  },
  {
   "cell_type": "code",
   "execution_count": null,
   "id": "painted-spider",
   "metadata": {
    "name": "R code 7.21"
   },
   "outputs": [],
   "source": [
    "n_cases <- nrow(cars)\n",
    "lppd <- sapply( 1:n_cases , function(i) log_sum_exp(logprob[i,]) - log(n_samples) )"
   ]
  },
  {
   "cell_type": "markdown",
   "id": "developing-coach",
   "metadata": {},
   "source": [
    "## R code 7.22"
   ]
  },
  {
   "cell_type": "code",
   "execution_count": null,
   "id": "close-omega",
   "metadata": {
    "name": "R code 7.22"
   },
   "outputs": [],
   "source": [
    "pWAIC <- sapply( 1:n_cases , function(i) var(logprob[i,]) )"
   ]
  },
  {
   "cell_type": "markdown",
   "id": "golden-board",
   "metadata": {},
   "source": [
    "## R code 7.23"
   ]
  },
  {
   "cell_type": "code",
   "execution_count": null,
   "id": "north-shelf",
   "metadata": {
    "name": "R code 7.23"
   },
   "outputs": [],
   "source": [
    "-2*( sum(lppd) - sum(pWAIC) )"
   ]
  },
  {
   "cell_type": "markdown",
   "id": "incident-refund",
   "metadata": {},
   "source": [
    "## R code 7.24"
   ]
  },
  {
   "cell_type": "code",
   "execution_count": null,
   "id": "completed-decrease",
   "metadata": {
    "name": "R code 7.24"
   },
   "outputs": [],
   "source": [
    "waic_vec <- -2*( lppd - pWAIC )\n",
    "sqrt( n_cases*var(waic_vec) )"
   ]
  },
  {
   "cell_type": "markdown",
   "id": "based-airline",
   "metadata": {},
   "source": [
    "## R code 7.25"
   ]
  },
  {
   "cell_type": "code",
   "execution_count": null,
   "id": "color-defeat",
   "metadata": {
    "name": "R code 7.25"
   },
   "outputs": [],
   "source": [
    "set.seed(11)\n",
    "WAIC( m6.7 )"
   ]
  },
  {
   "cell_type": "markdown",
   "id": "miniature-telling",
   "metadata": {},
   "source": [
    "## R code 7.26"
   ]
  },
  {
   "cell_type": "code",
   "execution_count": null,
   "id": "incident-referral",
   "metadata": {
    "name": "R code 7.26"
   },
   "outputs": [],
   "source": [
    "set.seed(77)\n",
    "compare( m6.6 , m6.7 , m6.8 , func=WAIC )"
   ]
  },
  {
   "cell_type": "markdown",
   "id": "soviet-covering",
   "metadata": {},
   "source": [
    "## R code 7.27"
   ]
  },
  {
   "cell_type": "code",
   "execution_count": null,
   "id": "bottom-earthquake",
   "metadata": {
    "name": "R code 7.27"
   },
   "outputs": [],
   "source": [
    "set.seed(91)\n",
    "waic_m6.7 <- WAIC( m6.7 , pointwise=TRUE )$WAIC\n",
    "waic_m6.8 <- WAIC( m6.8 , pointwise=TRUE )$WAIC\n",
    "n <- length(waic_m6.7)\n",
    "diff_m6.7_m6.8 <- waic_m6.7 - waic_m6.8\n",
    "sqrt( n*var( diff_m6.7_m6.8 ) )"
   ]
  },
  {
   "cell_type": "markdown",
   "id": "western-subdivision",
   "metadata": {},
   "source": [
    "## R code 7.28"
   ]
  },
  {
   "cell_type": "code",
   "execution_count": null,
   "id": "alleged-heath",
   "metadata": {
    "name": "R code 7.28"
   },
   "outputs": [],
   "source": [
    "40.0 + c(-1,1)*10.4*2.6"
   ]
  },
  {
   "cell_type": "markdown",
   "id": "descending-abuse",
   "metadata": {},
   "source": [
    "## R code 7.29"
   ]
  },
  {
   "cell_type": "code",
   "execution_count": null,
   "id": "assisted-damages",
   "metadata": {
    "name": "R code 7.29"
   },
   "outputs": [],
   "source": [
    "plot( compare( m6.6 , m6.7 , m6.8 ) )"
   ]
  },
  {
   "cell_type": "markdown",
   "id": "coordinate-victor",
   "metadata": {},
   "source": [
    "## R code 7.30"
   ]
  },
  {
   "cell_type": "code",
   "execution_count": null,
   "id": "intellectual-contemporary",
   "metadata": {
    "name": "R code 7.30"
   },
   "outputs": [],
   "source": [
    "set.seed(92)\n",
    "waic_m6.6 <- WAIC( m6.6 , pointwise=TRUE )$WAIC\n",
    "diff_m6.6_m6.8 <- waic_m6.6 - waic_m6.8\n",
    "sqrt( n*var( diff_m6.6_m6.8 ) )"
   ]
  },
  {
   "cell_type": "markdown",
   "id": "weekly-warehouse",
   "metadata": {},
   "source": [
    "## R code 7.31"
   ]
  },
  {
   "cell_type": "code",
   "execution_count": null,
   "id": "technical-spectrum",
   "metadata": {
    "name": "R code 7.31"
   },
   "outputs": [],
   "source": [
    "set.seed(93)\n",
    "compare( m6.6 , m6.7 , m6.8 )@dSE"
   ]
  },
  {
   "cell_type": "markdown",
   "id": "unexpected-rendering",
   "metadata": {},
   "source": [
    "## R code 7.32"
   ]
  },
  {
   "cell_type": "code",
   "execution_count": null,
   "id": "solar-night",
   "metadata": {
    "name": "R code 7.32"
   },
   "outputs": [],
   "source": [
    "library(rethinking)\n",
    "data(WaffleDivorce)\n",
    "d <- WaffleDivorce\n",
    "d$A <- standardize( d$MedianAgeMarriage )\n",
    "d$D <- standardize( d$Divorce )\n",
    "d$M <- standardize( d$Marriage )\n",
    "\n",
    "m5.1 <- quap(\n",
    "    alist(\n",
    "        D ~ dnorm( mu , sigma ) ,\n",
    "        mu <- a + bA * A ,\n",
    "        a ~ dnorm( 0 , 0.2 ) ,\n",
    "        bA ~ dnorm( 0 , 0.5 ) ,\n",
    "        sigma ~ dexp( 1 )\n",
    "    ) , data = d )\n",
    "\n",
    "m5.2 <- quap(\n",
    "    alist(\n",
    "        D ~ dnorm( mu , sigma ) ,\n",
    "        mu <- a + bM * M ,\n",
    "        a ~ dnorm( 0 , 0.2 ) ,\n",
    "        bM ~ dnorm( 0 , 0.5 ) ,\n",
    "        sigma ~ dexp( 1 )\n",
    "    ) , data = d )\n",
    "\n",
    "m5.3 <- quap(\n",
    "    alist(\n",
    "        D ~ dnorm( mu , sigma ) ,\n",
    "        mu <- a + bM*M + bA*A ,\n",
    "        a ~ dnorm( 0 , 0.2 ) ,\n",
    "        bM ~ dnorm( 0 , 0.5 ) ,\n",
    "        bA ~ dnorm( 0 , 0.5 ) ,\n",
    "        sigma ~ dexp( 1 )\n",
    "    ) , data = d )"
   ]
  },
  {
   "cell_type": "markdown",
   "id": "polyphonic-oracle",
   "metadata": {},
   "source": [
    "## R code 7.33"
   ]
  },
  {
   "cell_type": "code",
   "execution_count": null,
   "id": "french-visibility",
   "metadata": {
    "name": "R code 7.33"
   },
   "outputs": [],
   "source": [
    "set.seed(24071847)\n",
    "compare( m5.1 , m5.2 , m5.3 , func=PSIS )"
   ]
  },
  {
   "cell_type": "markdown",
   "id": "coral-swiss",
   "metadata": {},
   "source": [
    "## R code 7.34"
   ]
  },
  {
   "cell_type": "code",
   "execution_count": null,
   "id": "trying-sphere",
   "metadata": {
    "name": "R code 7.34"
   },
   "outputs": [],
   "source": [
    "set.seed(24071847)\n",
    "PSIS_m5.3 <- PSIS(m5.3,pointwise=TRUE)\n",
    "set.seed(24071847)\n",
    "WAIC_m5.3 <- WAIC(m5.3,pointwise=TRUE)\n",
    "plot( PSIS_m5.3$k , WAIC_m5.3$penalty , xlab=\"PSIS Pareto k\" ,\n",
    "    ylab=\"WAIC penalty\" , col=rangi2 , lwd=2 )"
   ]
  },
  {
   "cell_type": "markdown",
   "id": "minimal-breakfast",
   "metadata": {},
   "source": [
    "## R code 7.35"
   ]
  },
  {
   "cell_type": "code",
   "execution_count": null,
   "id": "nearby-hayes",
   "metadata": {
    "lines_to_next_cell": 0,
    "name": "R code 7.35"
   },
   "outputs": [],
   "source": [
    "m5.3t <- quap(\n",
    "    alist(\n",
    "        D ~ dstudent( 2 , mu , sigma ) ,\n",
    "        mu <- a + bM*M + bA*A ,\n",
    "        a ~ dnorm( 0 , 0.2 ) ,\n",
    "        bM ~ dnorm( 0 , 0.5 ) ,\n",
    "        bA ~ dnorm( 0 , 0.5 ) ,\n",
    "        sigma ~ dexp( 1 )\n",
    "    ) , data = d )"
   ]
  },
  {
   "cell_type": "markdown",
   "id": "quality-microwave",
   "metadata": {},
   "source": []
  }
 ],
 "metadata": {
  "jupytext": {
   "cell_metadata_filter": "name,-all",
   "main_language": "R",
   "notebook_metadata_filter": "-all"
  }
 },
 "nbformat": 4,
 "nbformat_minor": 5
}
