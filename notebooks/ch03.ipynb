{
 "cells": [
  {
   "cell_type": "markdown",
   "id": "palestinian-enlargement",
   "metadata": {
    "lines_to_next_cell": 0
   },
   "source": []
  },
  {
   "cell_type": "code",
   "execution_count": null,
   "id": "short-lebanon",
   "metadata": {
    "name": "Setup"
   },
   "outputs": [],
   "source": [
    "remotes::install_github('rmcelreath/rethinking', upgrade=F)"
   ]
  },
  {
   "cell_type": "markdown",
   "id": "governing-nashville",
   "metadata": {},
   "source": [
    "## R code 3.1"
   ]
  },
  {
   "cell_type": "code",
   "execution_count": null,
   "id": "periodic-blogger",
   "metadata": {
    "name": "R code 3.1"
   },
   "outputs": [],
   "source": [
    "Pr_Positive_Vampire <- 0.95\n",
    "Pr_Positive_Mortal <- 0.01\n",
    "Pr_Vampire <- 0.001\n",
    "Pr_Positive <- Pr_Positive_Vampire * Pr_Vampire +\n",
    "               Pr_Positive_Mortal * ( 1 - Pr_Vampire )\n",
    "( Pr_Vampire_Positive <- Pr_Positive_Vampire*Pr_Vampire / Pr_Positive )"
   ]
  },
  {
   "cell_type": "markdown",
   "id": "hollywood-yorkshire",
   "metadata": {},
   "source": [
    "## R code 3.2"
   ]
  },
  {
   "cell_type": "code",
   "execution_count": null,
   "id": "lined-repository",
   "metadata": {
    "name": "R code 3.2"
   },
   "outputs": [],
   "source": [
    "p_grid <- seq( from=0 , to=1 , length.out=1000 )\n",
    "prob_p <- rep( 1 , 1000 )\n",
    "prob_data <- dbinom( 6 , size=9 , prob=p_grid )\n",
    "posterior <- prob_data * prob_p\n",
    "posterior <- posterior / sum(posterior)"
   ]
  },
  {
   "cell_type": "markdown",
   "id": "static-affairs",
   "metadata": {},
   "source": [
    "## R code 3.3"
   ]
  },
  {
   "cell_type": "code",
   "execution_count": null,
   "id": "stunning-causing",
   "metadata": {
    "name": "R code 3.3"
   },
   "outputs": [],
   "source": [
    "samples <- sample( p_grid , prob=posterior , size=1e4 , replace=TRUE )"
   ]
  },
  {
   "cell_type": "markdown",
   "id": "heated-indication",
   "metadata": {},
   "source": [
    "## R code 3.4"
   ]
  },
  {
   "cell_type": "code",
   "execution_count": null,
   "id": "congressional-natural",
   "metadata": {
    "name": "R code 3.4"
   },
   "outputs": [],
   "source": [
    "plot( samples )"
   ]
  },
  {
   "cell_type": "markdown",
   "id": "earned-flexibility",
   "metadata": {},
   "source": [
    "## R code 3.5"
   ]
  },
  {
   "cell_type": "code",
   "execution_count": null,
   "id": "forty-insurance",
   "metadata": {
    "name": "R code 3.5"
   },
   "outputs": [],
   "source": [
    "library(rethinking)\n",
    "dens( samples )"
   ]
  },
  {
   "cell_type": "markdown",
   "id": "permanent-austria",
   "metadata": {},
   "source": [
    "## R code 3.6"
   ]
  },
  {
   "cell_type": "code",
   "execution_count": null,
   "id": "dated-geometry",
   "metadata": {
    "name": "R code 3.6"
   },
   "outputs": [],
   "source": [
    "# add up posterior probability where p < 0.5\n",
    "sum( posterior[ p_grid < 0.5 ] )"
   ]
  },
  {
   "cell_type": "markdown",
   "id": "exciting-lounge",
   "metadata": {},
   "source": [
    "## R code 3.7"
   ]
  },
  {
   "cell_type": "code",
   "execution_count": null,
   "id": "preliminary-excuse",
   "metadata": {
    "name": "R code 3.7"
   },
   "outputs": [],
   "source": [
    "sum( samples < 0.5 ) / 1e4"
   ]
  },
  {
   "cell_type": "markdown",
   "id": "jewish-leave",
   "metadata": {},
   "source": [
    "## R code 3.8"
   ]
  },
  {
   "cell_type": "code",
   "execution_count": null,
   "id": "phantom-lecture",
   "metadata": {
    "name": "R code 3.8"
   },
   "outputs": [],
   "source": [
    "sum( samples > 0.5 & samples < 0.75 ) / 1e4"
   ]
  },
  {
   "cell_type": "markdown",
   "id": "young-antarctica",
   "metadata": {},
   "source": [
    "## R code 3.9"
   ]
  },
  {
   "cell_type": "code",
   "execution_count": null,
   "id": "starting-communications",
   "metadata": {
    "name": "R code 3.9"
   },
   "outputs": [],
   "source": [
    "quantile( samples , 0.8 )"
   ]
  },
  {
   "cell_type": "markdown",
   "id": "empty-honor",
   "metadata": {},
   "source": [
    "## R code 3.10"
   ]
  },
  {
   "cell_type": "code",
   "execution_count": null,
   "id": "developing-chester",
   "metadata": {
    "name": "R code 3.10"
   },
   "outputs": [],
   "source": [
    "quantile( samples , c( 0.1 , 0.9 ) )"
   ]
  },
  {
   "cell_type": "markdown",
   "id": "hispanic-hanging",
   "metadata": {},
   "source": [
    "## R code 3.11"
   ]
  },
  {
   "cell_type": "code",
   "execution_count": null,
   "id": "light-sellers",
   "metadata": {
    "name": "R code 3.11"
   },
   "outputs": [],
   "source": [
    "p_grid <- seq( from=0 , to=1 , length.out=1000 )\n",
    "prior <- rep(1,1000)\n",
    "likelihood <- dbinom( 3 , size=3 , prob=p_grid )\n",
    "posterior <- likelihood * prior\n",
    "posterior <- posterior / sum(posterior)\n",
    "samples <- sample( p_grid , size=1e4 , replace=TRUE , prob=posterior )"
   ]
  },
  {
   "cell_type": "markdown",
   "id": "periodic-contact",
   "metadata": {},
   "source": [
    "## R code 3.12"
   ]
  },
  {
   "cell_type": "code",
   "execution_count": null,
   "id": "australian-index",
   "metadata": {
    "name": "R code 3.12"
   },
   "outputs": [],
   "source": [
    "PI( samples , prob=0.5 )"
   ]
  },
  {
   "cell_type": "markdown",
   "id": "sophisticated-child",
   "metadata": {},
   "source": [
    "## R code 3.13"
   ]
  },
  {
   "cell_type": "code",
   "execution_count": null,
   "id": "molecular-roots",
   "metadata": {
    "name": "R code 3.13"
   },
   "outputs": [],
   "source": [
    "HPDI( samples , prob=0.5 )"
   ]
  },
  {
   "cell_type": "markdown",
   "id": "harmful-reviewer",
   "metadata": {},
   "source": [
    "## R code 3.14"
   ]
  },
  {
   "cell_type": "code",
   "execution_count": null,
   "id": "talented-phoenix",
   "metadata": {
    "name": "R code 3.14"
   },
   "outputs": [],
   "source": [
    "p_grid[ which.max(posterior) ]"
   ]
  },
  {
   "cell_type": "markdown",
   "id": "herbal-rhythm",
   "metadata": {},
   "source": [
    "## R code 3.15"
   ]
  },
  {
   "cell_type": "code",
   "execution_count": null,
   "id": "superb-hybrid",
   "metadata": {
    "name": "R code 3.15"
   },
   "outputs": [],
   "source": [
    "chainmode( samples , adj=0.01 )"
   ]
  },
  {
   "cell_type": "markdown",
   "id": "swiss-terrorist",
   "metadata": {},
   "source": [
    "## R code 3.16"
   ]
  },
  {
   "cell_type": "code",
   "execution_count": null,
   "id": "pediatric-survivor",
   "metadata": {
    "name": "R code 3.16"
   },
   "outputs": [],
   "source": [
    "mean( samples )\n",
    "median( samples )"
   ]
  },
  {
   "cell_type": "markdown",
   "id": "printable-warren",
   "metadata": {},
   "source": [
    "## R code 3.17"
   ]
  },
  {
   "cell_type": "code",
   "execution_count": null,
   "id": "logical-newark",
   "metadata": {
    "name": "R code 3.17"
   },
   "outputs": [],
   "source": [
    "sum( posterior*abs( 0.5 - p_grid ) )"
   ]
  },
  {
   "cell_type": "markdown",
   "id": "virgin-limitation",
   "metadata": {},
   "source": [
    "## R code 3.18"
   ]
  },
  {
   "cell_type": "code",
   "execution_count": null,
   "id": "russian-outline",
   "metadata": {
    "name": "R code 3.18"
   },
   "outputs": [],
   "source": [
    "loss <- sapply( p_grid , function(d) sum( posterior*abs( d - p_grid ) ) )"
   ]
  },
  {
   "cell_type": "markdown",
   "id": "heavy-argument",
   "metadata": {},
   "source": [
    "## R code 3.19"
   ]
  },
  {
   "cell_type": "code",
   "execution_count": null,
   "id": "regulated-despite",
   "metadata": {
    "name": "R code 3.19"
   },
   "outputs": [],
   "source": [
    "p_grid[ which.min(loss) ]"
   ]
  },
  {
   "cell_type": "markdown",
   "id": "ranking-battle",
   "metadata": {},
   "source": [
    "## R code 3.20"
   ]
  },
  {
   "cell_type": "code",
   "execution_count": null,
   "id": "biological-clear",
   "metadata": {
    "name": "R code 3.20"
   },
   "outputs": [],
   "source": [
    "dbinom( 0:2 , size=2 , prob=0.7 )"
   ]
  },
  {
   "cell_type": "markdown",
   "id": "cutting-division",
   "metadata": {},
   "source": [
    "## R code 3.21"
   ]
  },
  {
   "cell_type": "code",
   "execution_count": null,
   "id": "orange-offering",
   "metadata": {
    "name": "R code 3.21"
   },
   "outputs": [],
   "source": [
    "rbinom( 1 , size=2 , prob=0.7 )"
   ]
  },
  {
   "cell_type": "markdown",
   "id": "executed-sphere",
   "metadata": {},
   "source": [
    "## R code 3.22"
   ]
  },
  {
   "cell_type": "code",
   "execution_count": null,
   "id": "pediatric-links",
   "metadata": {
    "name": "R code 3.22"
   },
   "outputs": [],
   "source": [
    "rbinom( 10 , size=2 , prob=0.7 )"
   ]
  },
  {
   "cell_type": "markdown",
   "id": "southern-tournament",
   "metadata": {},
   "source": [
    "## R code 3.23"
   ]
  },
  {
   "cell_type": "code",
   "execution_count": null,
   "id": "subjective-bottle",
   "metadata": {
    "name": "R code 3.23"
   },
   "outputs": [],
   "source": [
    "dummy_w <- rbinom( 1e5 , size=2 , prob=0.7 )\n",
    "table(dummy_w)/1e5"
   ]
  },
  {
   "cell_type": "markdown",
   "id": "sealed-adapter",
   "metadata": {},
   "source": [
    "## R code 3.24"
   ]
  },
  {
   "cell_type": "code",
   "execution_count": null,
   "id": "optical-immunology",
   "metadata": {
    "name": "R code 3.24"
   },
   "outputs": [],
   "source": [
    "dummy_w <- rbinom( 1e5 , size=9 , prob=0.7 )\n",
    "simplehist( dummy_w , xlab=\"dummy water count\" )"
   ]
  },
  {
   "cell_type": "markdown",
   "id": "ultimate-annual",
   "metadata": {},
   "source": [
    "## R code 3.25"
   ]
  },
  {
   "cell_type": "code",
   "execution_count": null,
   "id": "derived-carter",
   "metadata": {
    "name": "R code 3.25"
   },
   "outputs": [],
   "source": [
    "w <- rbinom( 1e4 , size=9 , prob=0.6 )"
   ]
  },
  {
   "cell_type": "markdown",
   "id": "treated-installation",
   "metadata": {},
   "source": [
    "## R code 3.26"
   ]
  },
  {
   "cell_type": "code",
   "execution_count": null,
   "id": "small-study",
   "metadata": {
    "name": "R code 3.26"
   },
   "outputs": [],
   "source": [
    "w <- rbinom( 1e4 , size=9 , prob=samples )"
   ]
  },
  {
   "cell_type": "markdown",
   "id": "capable-fifteen",
   "metadata": {},
   "source": [
    "## R code 3.27"
   ]
  },
  {
   "cell_type": "code",
   "execution_count": null,
   "id": "novel-forestry",
   "metadata": {
    "name": "R code 3.27"
   },
   "outputs": [],
   "source": [
    "p_grid <- seq( from=0 , to=1 , length.out=1000 )\n",
    "prior <- rep( 1 , 1000 )\n",
    "likelihood <- dbinom( 6 , size=9 , prob=p_grid )\n",
    "posterior <- likelihood * prior\n",
    "posterior <- posterior / sum(posterior)\n",
    "set.seed(100)\n",
    "samples <- sample( p_grid , prob=posterior , size=1e4 , replace=TRUE )"
   ]
  },
  {
   "cell_type": "markdown",
   "id": "otherwise-irish",
   "metadata": {},
   "source": [
    "## R code 3.28"
   ]
  },
  {
   "cell_type": "code",
   "execution_count": null,
   "id": "wireless-darkness",
   "metadata": {
    "name": "R code 3.28"
   },
   "outputs": [],
   "source": [
    "birth1 <- c(1,0,0,0,1,1,0,1,0,1,0,0,1,1,0,1,1,0,0,0,1,0,0,0,1,0,\n",
    "0,0,0,1,1,1,0,1,0,1,1,1,0,1,0,1,1,0,1,0,0,1,1,0,1,0,0,0,0,0,0,0,\n",
    "1,1,0,1,0,0,1,0,0,0,1,0,0,1,1,1,1,0,1,0,1,1,1,1,1,0,0,1,0,1,1,0,\n",
    "1,0,1,1,1,0,1,1,1,1)\n",
    "birth2 <- c(0,1,0,1,0,1,1,1,0,0,1,1,1,1,1,0,0,1,1,1,0,0,1,1,1,0,\n",
    "1,1,1,0,1,1,1,0,1,0,0,1,1,1,1,0,0,1,0,1,1,1,1,1,1,1,1,1,1,1,1,1,\n",
    "1,1,1,0,1,1,0,1,1,0,1,1,1,0,0,0,0,0,0,1,0,0,0,1,1,0,0,1,0,0,1,1,\n",
    "0,0,0,1,1,1,0,0,0,0)"
   ]
  },
  {
   "cell_type": "markdown",
   "id": "elder-constant",
   "metadata": {},
   "source": [
    "## R code 3.29"
   ]
  },
  {
   "cell_type": "code",
   "execution_count": null,
   "id": "united-hammer",
   "metadata": {
    "name": "R code 3.29"
   },
   "outputs": [],
   "source": [
    "library(rethinking)\n",
    "data(homeworkch3)"
   ]
  },
  {
   "cell_type": "markdown",
   "id": "dress-medicare",
   "metadata": {},
   "source": [
    "## R code 3.30"
   ]
  },
  {
   "cell_type": "code",
   "execution_count": null,
   "id": "measured-dealing",
   "metadata": {
    "lines_to_next_cell": 0,
    "name": "R code 3.30"
   },
   "outputs": [],
   "source": [
    "sum(birth1) + sum(birth2)"
   ]
  },
  {
   "cell_type": "markdown",
   "id": "behavioral-solution",
   "metadata": {},
   "source": []
  }
 ],
 "metadata": {
  "jupytext": {
   "cell_metadata_filter": "name,-all",
   "main_language": "R",
   "notebook_metadata_filter": "-all"
  }
 },
 "nbformat": 4,
 "nbformat_minor": 5
}
