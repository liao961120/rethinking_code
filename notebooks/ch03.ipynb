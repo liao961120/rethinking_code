{
 "cells": [
  {
   "cell_type": "markdown",
   "metadata": {
    "lines_to_next_cell": 0
   },
   "source": []
  },
  {
   "cell_type": "code",
   "execution_count": null,
   "metadata": {
    "name": "Setup"
   },
   "outputs": [],
   "source": [
    "remotes::install_github('rmcelreath/rethinking', upgrade=F)\n",
    "library(rethinking)"
   ]
  },
  {
   "cell_type": "markdown",
   "metadata": {},
   "source": [
    "## R code 3.1"
   ]
  },
  {
   "cell_type": "code",
   "execution_count": null,
   "metadata": {
    "name": "R code 3.1"
   },
   "outputs": [],
   "source": [
    "Pr_Positive_Vampire <- 0.95\n",
    "Pr_Positive_Mortal <- 0.01\n",
    "Pr_Vampire <- 0.001\n",
    "Pr_Positive <- Pr_Positive_Vampire * Pr_Vampire +\n",
    "               Pr_Positive_Mortal * ( 1 - Pr_Vampire )\n",
    "( Pr_Vampire_Positive <- Pr_Positive_Vampire*Pr_Vampire / Pr_Positive )"
   ]
  },
  {
   "cell_type": "markdown",
   "metadata": {},
   "source": [
    "## R code 3.2"
   ]
  },
  {
   "cell_type": "code",
   "execution_count": null,
   "metadata": {
    "name": "R code 3.2"
   },
   "outputs": [],
   "source": [
    "p_grid <- seq( from=0 , to=1 , length.out=1000 )\n",
    "prob_p <- rep( 1 , 1000 )\n",
    "prob_data <- dbinom( 6 , size=9 , prob=p_grid )\n",
    "posterior <- prob_data * prob_p\n",
    "posterior <- posterior / sum(posterior)"
   ]
  },
  {
   "cell_type": "markdown",
   "metadata": {},
   "source": [
    "## R code 3.3"
   ]
  },
  {
   "cell_type": "code",
   "execution_count": null,
   "metadata": {
    "name": "R code 3.3"
   },
   "outputs": [],
   "source": [
    "samples <- sample( p_grid , prob=posterior , size=1e4 , replace=TRUE )"
   ]
  },
  {
   "cell_type": "markdown",
   "metadata": {},
   "source": [
    "## R code 3.4"
   ]
  },
  {
   "cell_type": "code",
   "execution_count": null,
   "metadata": {
    "name": "R code 3.4"
   },
   "outputs": [],
   "source": [
    "plot( samples )"
   ]
  },
  {
   "cell_type": "markdown",
   "metadata": {},
   "source": [
    "## R code 3.5"
   ]
  },
  {
   "cell_type": "code",
   "execution_count": null,
   "metadata": {
    "name": "R code 3.5"
   },
   "outputs": [],
   "source": [
    "library(rethinking)\n",
    "dens( samples )"
   ]
  },
  {
   "cell_type": "markdown",
   "metadata": {},
   "source": [
    "## R code 3.6"
   ]
  },
  {
   "cell_type": "code",
   "execution_count": null,
   "metadata": {
    "name": "R code 3.6"
   },
   "outputs": [],
   "source": [
    "# add up posterior probability where p < 0.5\n",
    "sum( posterior[ p_grid < 0.5 ] )"
   ]
  },
  {
   "cell_type": "markdown",
   "metadata": {},
   "source": [
    "## R code 3.7"
   ]
  },
  {
   "cell_type": "code",
   "execution_count": null,
   "metadata": {
    "name": "R code 3.7"
   },
   "outputs": [],
   "source": [
    "sum( samples < 0.5 ) / 1e4"
   ]
  },
  {
   "cell_type": "markdown",
   "metadata": {},
   "source": [
    "## R code 3.8"
   ]
  },
  {
   "cell_type": "code",
   "execution_count": null,
   "metadata": {
    "name": "R code 3.8"
   },
   "outputs": [],
   "source": [
    "sum( samples > 0.5 & samples < 0.75 ) / 1e4"
   ]
  },
  {
   "cell_type": "markdown",
   "metadata": {},
   "source": [
    "## R code 3.9"
   ]
  },
  {
   "cell_type": "code",
   "execution_count": null,
   "metadata": {
    "name": "R code 3.9"
   },
   "outputs": [],
   "source": [
    "quantile( samples , 0.8 )"
   ]
  },
  {
   "cell_type": "markdown",
   "metadata": {},
   "source": [
    "## R code 3.10"
   ]
  },
  {
   "cell_type": "code",
   "execution_count": null,
   "metadata": {
    "name": "R code 3.10"
   },
   "outputs": [],
   "source": [
    "quantile( samples , c( 0.1 , 0.9 ) )"
   ]
  },
  {
   "cell_type": "markdown",
   "metadata": {},
   "source": [
    "## R code 3.11"
   ]
  },
  {
   "cell_type": "code",
   "execution_count": null,
   "metadata": {
    "name": "R code 3.11"
   },
   "outputs": [],
   "source": [
    "p_grid <- seq( from=0 , to=1 , length.out=1000 )\n",
    "prior <- rep(1,1000)\n",
    "likelihood <- dbinom( 3 , size=3 , prob=p_grid )\n",
    "posterior <- likelihood * prior\n",
    "posterior <- posterior / sum(posterior)\n",
    "samples <- sample( p_grid , size=1e4 , replace=TRUE , prob=posterior )"
   ]
  },
  {
   "cell_type": "markdown",
   "metadata": {},
   "source": [
    "## R code 3.12"
   ]
  },
  {
   "cell_type": "code",
   "execution_count": null,
   "metadata": {
    "name": "R code 3.12"
   },
   "outputs": [],
   "source": [
    "PI( samples , prob=0.5 )"
   ]
  },
  {
   "cell_type": "markdown",
   "metadata": {},
   "source": [
    "## R code 3.13"
   ]
  },
  {
   "cell_type": "code",
   "execution_count": null,
   "metadata": {
    "name": "R code 3.13"
   },
   "outputs": [],
   "source": [
    "HPDI( samples , prob=0.5 )"
   ]
  },
  {
   "cell_type": "markdown",
   "metadata": {},
   "source": [
    "## R code 3.14"
   ]
  },
  {
   "cell_type": "code",
   "execution_count": null,
   "metadata": {
    "name": "R code 3.14"
   },
   "outputs": [],
   "source": [
    "p_grid[ which.max(posterior) ]"
   ]
  },
  {
   "cell_type": "markdown",
   "metadata": {},
   "source": [
    "## R code 3.15"
   ]
  },
  {
   "cell_type": "code",
   "execution_count": null,
   "metadata": {
    "name": "R code 3.15"
   },
   "outputs": [],
   "source": [
    "chainmode( samples , adj=0.01 )"
   ]
  },
  {
   "cell_type": "markdown",
   "metadata": {},
   "source": [
    "## R code 3.16"
   ]
  },
  {
   "cell_type": "code",
   "execution_count": null,
   "metadata": {
    "name": "R code 3.16"
   },
   "outputs": [],
   "source": [
    "mean( samples )\n",
    "median( samples )"
   ]
  },
  {
   "cell_type": "markdown",
   "metadata": {},
   "source": [
    "## R code 3.17"
   ]
  },
  {
   "cell_type": "code",
   "execution_count": null,
   "metadata": {
    "name": "R code 3.17"
   },
   "outputs": [],
   "source": [
    "sum( posterior*abs( 0.5 - p_grid ) )"
   ]
  },
  {
   "cell_type": "markdown",
   "metadata": {},
   "source": [
    "## R code 3.18"
   ]
  },
  {
   "cell_type": "code",
   "execution_count": null,
   "metadata": {
    "name": "R code 3.18"
   },
   "outputs": [],
   "source": [
    "loss <- sapply( p_grid , function(d) sum( posterior*abs( d - p_grid ) ) )"
   ]
  },
  {
   "cell_type": "markdown",
   "metadata": {},
   "source": [
    "## R code 3.19"
   ]
  },
  {
   "cell_type": "code",
   "execution_count": null,
   "metadata": {
    "name": "R code 3.19"
   },
   "outputs": [],
   "source": [
    "p_grid[ which.min(loss) ]"
   ]
  },
  {
   "cell_type": "markdown",
   "metadata": {},
   "source": [
    "## R code 3.20"
   ]
  },
  {
   "cell_type": "code",
   "execution_count": null,
   "metadata": {
    "name": "R code 3.20"
   },
   "outputs": [],
   "source": [
    "dbinom( 0:2 , size=2 , prob=0.7 )"
   ]
  },
  {
   "cell_type": "markdown",
   "metadata": {},
   "source": [
    "## R code 3.21"
   ]
  },
  {
   "cell_type": "code",
   "execution_count": null,
   "metadata": {
    "name": "R code 3.21"
   },
   "outputs": [],
   "source": [
    "rbinom( 1 , size=2 , prob=0.7 )"
   ]
  },
  {
   "cell_type": "markdown",
   "metadata": {},
   "source": [
    "## R code 3.22"
   ]
  },
  {
   "cell_type": "code",
   "execution_count": null,
   "metadata": {
    "name": "R code 3.22"
   },
   "outputs": [],
   "source": [
    "rbinom( 10 , size=2 , prob=0.7 )"
   ]
  },
  {
   "cell_type": "markdown",
   "metadata": {},
   "source": [
    "## R code 3.23"
   ]
  },
  {
   "cell_type": "code",
   "execution_count": null,
   "metadata": {
    "name": "R code 3.23"
   },
   "outputs": [],
   "source": [
    "dummy_w <- rbinom( 1e5 , size=2 , prob=0.7 )\n",
    "table(dummy_w)/1e5"
   ]
  },
  {
   "cell_type": "markdown",
   "metadata": {},
   "source": [
    "## R code 3.24"
   ]
  },
  {
   "cell_type": "code",
   "execution_count": null,
   "metadata": {
    "name": "R code 3.24"
   },
   "outputs": [],
   "source": [
    "dummy_w <- rbinom( 1e5 , size=9 , prob=0.7 )\n",
    "simplehist( dummy_w , xlab=\"dummy water count\" )"
   ]
  },
  {
   "cell_type": "markdown",
   "metadata": {},
   "source": [
    "## R code 3.25"
   ]
  },
  {
   "cell_type": "code",
   "execution_count": null,
   "metadata": {
    "name": "R code 3.25"
   },
   "outputs": [],
   "source": [
    "w <- rbinom( 1e4 , size=9 , prob=0.6 )"
   ]
  },
  {
   "cell_type": "markdown",
   "metadata": {},
   "source": [
    "## R code 3.26"
   ]
  },
  {
   "cell_type": "code",
   "execution_count": null,
   "metadata": {
    "name": "R code 3.26"
   },
   "outputs": [],
   "source": [
    "w <- rbinom( 1e4 , size=9 , prob=samples )"
   ]
  },
  {
   "cell_type": "markdown",
   "metadata": {},
   "source": [
    "## R code 3.27"
   ]
  },
  {
   "cell_type": "code",
   "execution_count": null,
   "metadata": {
    "name": "R code 3.27"
   },
   "outputs": [],
   "source": [
    "p_grid <- seq( from=0 , to=1 , length.out=1000 )\n",
    "prior <- rep( 1 , 1000 )\n",
    "likelihood <- dbinom( 6 , size=9 , prob=p_grid )\n",
    "posterior <- likelihood * prior\n",
    "posterior <- posterior / sum(posterior)\n",
    "set.seed(100)\n",
    "samples <- sample( p_grid , prob=posterior , size=1e4 , replace=TRUE )"
   ]
  },
  {
   "cell_type": "markdown",
   "metadata": {},
   "source": [
    "## R code 3.28"
   ]
  },
  {
   "cell_type": "code",
   "execution_count": null,
   "metadata": {
    "name": "R code 3.28"
   },
   "outputs": [],
   "source": [
    "birth1 <- c(1,0,0,0,1,1,0,1,0,1,0,0,1,1,0,1,1,0,0,0,1,0,0,0,1,0,\n",
    "0,0,0,1,1,1,0,1,0,1,1,1,0,1,0,1,1,0,1,0,0,1,1,0,1,0,0,0,0,0,0,0,\n",
    "1,1,0,1,0,0,1,0,0,0,1,0,0,1,1,1,1,0,1,0,1,1,1,1,1,0,0,1,0,1,1,0,\n",
    "1,0,1,1,1,0,1,1,1,1)\n",
    "birth2 <- c(0,1,0,1,0,1,1,1,0,0,1,1,1,1,1,0,0,1,1,1,0,0,1,1,1,0,\n",
    "1,1,1,0,1,1,1,0,1,0,0,1,1,1,1,0,0,1,0,1,1,1,1,1,1,1,1,1,1,1,1,1,\n",
    "1,1,1,0,1,1,0,1,1,0,1,1,1,0,0,0,0,0,0,1,0,0,0,1,1,0,0,1,0,0,1,1,\n",
    "0,0,0,1,1,1,0,0,0,0)"
   ]
  },
  {
   "cell_type": "markdown",
   "metadata": {},
   "source": [
    "## R code 3.29"
   ]
  },
  {
   "cell_type": "code",
   "execution_count": null,
   "metadata": {
    "name": "R code 3.29"
   },
   "outputs": [],
   "source": [
    "library(rethinking)\n",
    "data(homeworkch3)"
   ]
  },
  {
   "cell_type": "markdown",
   "metadata": {},
   "source": [
    "## R code 3.30"
   ]
  },
  {
   "cell_type": "code",
   "execution_count": null,
   "metadata": {
    "lines_to_next_cell": 0,
    "name": "R code 3.30"
   },
   "outputs": [],
   "source": [
    "sum(birth1) + sum(birth2)"
   ]
  },
  {
   "cell_type": "markdown",
   "metadata": {},
   "source": []
  }
 ],
 "metadata": {
  "jupytext": {
   "cell_metadata_filter": "name,-all",
   "main_language": "R",
   "notebook_metadata_filter": "-all"
  }
 },
 "nbformat": 4,
 "nbformat_minor": 4
}
