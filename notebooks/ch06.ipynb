{
 "cells": [
  {
   "cell_type": "markdown",
   "id": "infrared-cooler",
   "metadata": {
    "lines_to_next_cell": 0
   },
   "source": []
  },
  {
   "cell_type": "code",
   "execution_count": null,
   "id": "normal-wrist",
   "metadata": {
    "name": "Setup"
   },
   "outputs": [],
   "source": [
    "remotes::install_github('rmcelreath/rethinking', upgrade=F)"
   ]
  },
  {
   "cell_type": "markdown",
   "id": "intellectual-argument",
   "metadata": {},
   "source": [
    "R code 6.1"
   ]
  },
  {
   "cell_type": "code",
   "execution_count": null,
   "id": "clean-relative",
   "metadata": {
    "name": "R code 6.1"
   },
   "outputs": [],
   "source": [
    "set.seed(1914)\n",
    "N <- 200 # num grant proposals\n",
    "p <- 0.1 # proportion to select\n",
    "# uncorrelated newsworthiness and trustworthiness\n",
    "nw <- rnorm(N)\n",
    "tw <- rnorm(N)\n",
    "# select top 10% of combined scores\n",
    "s <- nw + tw  # total score\n",
    "q <- quantile( s , 1-p ) # top 10% threshold\n",
    "selected <- ifelse( s >= q , TRUE , FALSE )\n",
    "cor( tw[selected] , nw[selected] )"
   ]
  },
  {
   "cell_type": "markdown",
   "id": "organizational-worst",
   "metadata": {},
   "source": [
    "R code 6.2"
   ]
  },
  {
   "cell_type": "code",
   "execution_count": null,
   "id": "israeli-tracy",
   "metadata": {
    "name": "R code 6.2"
   },
   "outputs": [],
   "source": [
    "N <- 100                          # number of individuals\n",
    "set.seed(909)\n",
    "height <- rnorm(N,10,2)           # sim total height of each\n",
    "leg_prop <- runif(N,0.4,0.5)      # leg as proportion of height\n",
    "leg_left <- leg_prop*height +     # sim left leg as proportion + error\n",
    "    rnorm( N , 0 , 0.02 )\n",
    "leg_right <- leg_prop*height +    # sim right leg as proportion + error\n",
    "    rnorm( N , 0 , 0.02 )\n",
    "                                  # combine into data frame\n",
    "d <- data.frame(height,leg_left,leg_right)"
   ]
  },
  {
   "cell_type": "markdown",
   "id": "little-friendly",
   "metadata": {},
   "source": [
    "R code 6.3"
   ]
  },
  {
   "cell_type": "code",
   "execution_count": null,
   "id": "hairy-collapse",
   "metadata": {
    "name": "R code 6.3"
   },
   "outputs": [],
   "source": [
    "m6.1 <- quap(\n",
    "    alist(\n",
    "        height ~ dnorm( mu , sigma ) ,\n",
    "        mu <- a + bl*leg_left + br*leg_right ,\n",
    "        a ~ dnorm( 10 , 100 ) ,\n",
    "        bl ~ dnorm( 2 , 10 ) ,\n",
    "        br ~ dnorm( 2 , 10 ) ,\n",
    "        sigma ~ dexp( 1 )\n",
    "    ) , data=d )\n",
    "precis(m6.1)"
   ]
  },
  {
   "cell_type": "markdown",
   "id": "moved-joint",
   "metadata": {},
   "source": [
    "R code 6.4"
   ]
  },
  {
   "cell_type": "code",
   "execution_count": null,
   "id": "limiting-clerk",
   "metadata": {
    "name": "R code 6.4"
   },
   "outputs": [],
   "source": [
    "plot(precis(m6.1))"
   ]
  },
  {
   "cell_type": "markdown",
   "id": "signed-quest",
   "metadata": {},
   "source": [
    "R code 6.5"
   ]
  },
  {
   "cell_type": "code",
   "execution_count": null,
   "id": "compliant-mailman",
   "metadata": {
    "name": "R code 6.5"
   },
   "outputs": [],
   "source": [
    "post <- extract.samples(m6.1)\n",
    "plot( bl ~ br , post , col=col.alpha(rangi2,0.1) , pch=16 )"
   ]
  },
  {
   "cell_type": "markdown",
   "id": "immune-shoot",
   "metadata": {},
   "source": [
    "R code 6.6"
   ]
  },
  {
   "cell_type": "code",
   "execution_count": null,
   "id": "unlikely-entrance",
   "metadata": {
    "name": "R code 6.6"
   },
   "outputs": [],
   "source": [
    "sum_blbr <- post$bl + post$br\n",
    "dens( sum_blbr , col=rangi2 , lwd=2 , xlab=\"sum of bl and br\" )"
   ]
  },
  {
   "cell_type": "markdown",
   "id": "identified-advocacy",
   "metadata": {},
   "source": [
    "R code 6.7"
   ]
  },
  {
   "cell_type": "code",
   "execution_count": null,
   "id": "mature-encounter",
   "metadata": {
    "name": "R code 6.7"
   },
   "outputs": [],
   "source": [
    "m6.2 <- quap(\n",
    "    alist(\n",
    "        height ~ dnorm( mu , sigma ) ,\n",
    "        mu <- a + bl*leg_left,\n",
    "        a ~ dnorm( 10 , 100 ) ,\n",
    "        bl ~ dnorm( 2 , 10 ) ,\n",
    "        sigma ~ dexp( 1 )\n",
    "    ) , data=d )\n",
    "precis(m6.2)"
   ]
  },
  {
   "cell_type": "markdown",
   "id": "solar-vegetarian",
   "metadata": {},
   "source": [
    "R code 6.8"
   ]
  },
  {
   "cell_type": "code",
   "execution_count": null,
   "id": "rising-watershed",
   "metadata": {
    "name": "R code 6.8"
   },
   "outputs": [],
   "source": [
    "library(rethinking)\n",
    "data(milk)\n",
    "d <- milk\n",
    "d$K <- standardize( d$kcal.per.g )\n",
    "d$F <- standardize( d$perc.fat )\n",
    "d$L <- standardize( d$perc.lactose )"
   ]
  },
  {
   "cell_type": "markdown",
   "id": "tired-newark",
   "metadata": {},
   "source": [
    "R code 6.9"
   ]
  },
  {
   "cell_type": "code",
   "execution_count": null,
   "id": "designed-collectible",
   "metadata": {
    "name": "R code 6.9"
   },
   "outputs": [],
   "source": [
    "# kcal.per.g regressed on perc.fat\n",
    "m6.3 <- quap(\n",
    "    alist(\n",
    "        K ~ dnorm( mu , sigma ) ,\n",
    "        mu <- a + bF*F ,\n",
    "        a ~ dnorm( 0 , 0.2 ) ,\n",
    "        bF ~ dnorm( 0 , 0.5 ) ,\n",
    "        sigma ~ dexp( 1 )\n",
    "    ) , data=d )\n",
    "\n",
    "# kcal.per.g regressed on perc.lactose\n",
    "m6.4 <- quap(\n",
    "    alist(\n",
    "        K ~ dnorm( mu , sigma ) ,\n",
    "        mu <- a + bL*L ,\n",
    "        a ~ dnorm( 0 , 0.2 ) ,\n",
    "        bL ~ dnorm( 0 , 0.5 ) ,\n",
    "        sigma ~ dexp( 1 )\n",
    "    ) , data=d )\n",
    "\n",
    "precis( m6.3 )\n",
    "precis( m6.4 )"
   ]
  },
  {
   "cell_type": "markdown",
   "id": "composed-tongue",
   "metadata": {},
   "source": [
    "R code 6.10"
   ]
  },
  {
   "cell_type": "code",
   "execution_count": null,
   "id": "atmospheric-professor",
   "metadata": {
    "name": "R code 6.10"
   },
   "outputs": [],
   "source": [
    "m6.5 <- quap(\n",
    "    alist(\n",
    "        K ~ dnorm( mu , sigma ) ,\n",
    "        mu <- a + bF*F + bL*L ,\n",
    "        a ~ dnorm( 0 , 0.2 ) ,\n",
    "        bF ~ dnorm( 0 , 0.5 ) ,\n",
    "        bL ~ dnorm( 0 , 0.5 ) ,\n",
    "        sigma ~ dexp( 1 )\n",
    "    ) ,\n",
    "    data=d )\n",
    "precis( m6.5 )"
   ]
  },
  {
   "cell_type": "markdown",
   "id": "considered-chamber",
   "metadata": {},
   "source": [
    "R code 6.11"
   ]
  },
  {
   "cell_type": "code",
   "execution_count": null,
   "id": "specified-condition",
   "metadata": {
    "name": "R code 6.11"
   },
   "outputs": [],
   "source": [
    "pairs( ~ kcal.per.g + perc.fat + perc.lactose , data=d , col=rangi2 )"
   ]
  },
  {
   "cell_type": "markdown",
   "id": "catholic-virginia",
   "metadata": {},
   "source": [
    "R code 6.12"
   ]
  },
  {
   "cell_type": "code",
   "execution_count": null,
   "id": "short-bridges",
   "metadata": {
    "name": "R code 6.12"
   },
   "outputs": [],
   "source": [
    "library(rethinking)\n",
    "data(milk)\n",
    "d <- milk\n",
    "sim.coll <- function( r=0.9 ) {\n",
    "    d$x <- rnorm( nrow(d) , mean=r*d$perc.fat ,\n",
    "        sd=sqrt( (1-r^2)*var(d$perc.fat) ) )\n",
    "    m <- lm( kcal.per.g ~ perc.fat + x , data=d )\n",
    "    sqrt( diag( vcov(m) ) )[2] # stddev of parameter\n",
    "}\n",
    "rep.sim.coll <- function( r=0.9 , n=100 ) {\n",
    "    stddev <- replicate( n , sim.coll(r) )\n",
    "    mean(stddev)\n",
    "}\n",
    "r.seq <- seq(from=0,to=0.99,by=0.01)\n",
    "stddev <- sapply( r.seq , function(z) rep.sim.coll(r=z,n=100) )\n",
    "plot( stddev ~ r.seq , type=\"l\" , col=rangi2, lwd=2 , xlab=\"correlation\" )"
   ]
  },
  {
   "cell_type": "markdown",
   "id": "governing-sleeping",
   "metadata": {},
   "source": [
    "R code 6.13"
   ]
  },
  {
   "cell_type": "code",
   "execution_count": null,
   "id": "terminal-memory",
   "metadata": {
    "name": "R code 6.13"
   },
   "outputs": [],
   "source": [
    "set.seed(71)\n",
    "# number of plants\n",
    "N <- 100\n",
    "\n",
    "# simulate initial heights\n",
    "h0 <- rnorm(N,10,2)\n",
    "\n",
    "# assign treatments and simulate fungus and growth\n",
    "treatment <- rep( 0:1 , each=N/2 )\n",
    "fungus <- rbinom( N , size=1 , prob=0.5 - treatment*0.4 )\n",
    "h1 <- h0 + rnorm(N, 5 - 3*fungus)\n",
    "\n",
    "# compose a clean data frame\n",
    "d <- data.frame( h0=h0 , h1=h1 , treatment=treatment , fungus=fungus )\n",
    "precis(d)"
   ]
  },
  {
   "cell_type": "markdown",
   "id": "located-yeast",
   "metadata": {},
   "source": [
    "R code 6.14"
   ]
  },
  {
   "cell_type": "code",
   "execution_count": null,
   "id": "linear-radical",
   "metadata": {
    "name": "R code 6.14"
   },
   "outputs": [],
   "source": [
    "sim_p <- rlnorm( 1e4 , 0 , 0.25 )\n",
    "precis( data.frame(sim_p) )"
   ]
  },
  {
   "cell_type": "markdown",
   "id": "developing-tragedy",
   "metadata": {},
   "source": [
    "R code 6.15"
   ]
  },
  {
   "cell_type": "code",
   "execution_count": null,
   "id": "decreased-shakespeare",
   "metadata": {
    "name": "R code 6.15"
   },
   "outputs": [],
   "source": [
    "m6.6 <- quap(\n",
    "    alist(\n",
    "        h1 ~ dnorm( mu , sigma ),\n",
    "        mu <- h0*p,\n",
    "        p ~ dlnorm( 0 , 0.25 ),\n",
    "        sigma ~ dexp( 1 )\n",
    "    ), data=d )\n",
    "precis(m6.6)"
   ]
  },
  {
   "cell_type": "markdown",
   "id": "utility-screw",
   "metadata": {},
   "source": [
    "R code 6.16"
   ]
  },
  {
   "cell_type": "code",
   "execution_count": null,
   "id": "approximate-coach",
   "metadata": {
    "name": "R code 6.16"
   },
   "outputs": [],
   "source": [
    "m6.7 <- quap(\n",
    "    alist(\n",
    "        h1 ~ dnorm( mu , sigma ),\n",
    "        mu <- h0 * p,\n",
    "        p <- a + bt*treatment + bf*fungus,\n",
    "        a ~ dlnorm( 0 , 0.2 ) ,\n",
    "        bt ~ dnorm( 0 , 0.5 ),\n",
    "        bf ~ dnorm( 0 , 0.5 ),\n",
    "        sigma ~ dexp( 1 )\n",
    "    ), data=d )\n",
    "precis(m6.7)"
   ]
  },
  {
   "cell_type": "markdown",
   "id": "positive-width",
   "metadata": {},
   "source": [
    "R code 6.17"
   ]
  },
  {
   "cell_type": "code",
   "execution_count": null,
   "id": "persistent-return",
   "metadata": {
    "name": "R code 6.17"
   },
   "outputs": [],
   "source": [
    "m6.8 <- quap(\n",
    "    alist(\n",
    "        h1 ~ dnorm( mu , sigma ),\n",
    "        mu <- h0 * p,\n",
    "        p <- a + bt*treatment,\n",
    "        a ~ dlnorm( 0 , 0.2 ),\n",
    "        bt ~ dnorm( 0 , 0.5 ),\n",
    "        sigma ~ dexp( 1 )\n",
    "    ), data=d )\n",
    "precis(m6.8)"
   ]
  },
  {
   "cell_type": "markdown",
   "id": "electoral-network",
   "metadata": {},
   "source": [
    "R code 6.18"
   ]
  },
  {
   "cell_type": "code",
   "execution_count": null,
   "id": "banned-worse",
   "metadata": {
    "name": "R code 6.18"
   },
   "outputs": [],
   "source": [
    "library(dagitty)\n",
    "plant_dag <- dagitty( \"dag {\n",
    "    H_0 -> H_1\n",
    "    F -> H_1\n",
    "    T -> F\n",
    "}\")\n",
    "coordinates( plant_dag ) <- list( x=c(H_0=0,T=2,F=1.5,H_1=1) ,\n",
    "                                  y=c(H_0=0,T=0,F=0,H_1=0) )\n",
    "drawdag( plant_dag )"
   ]
  },
  {
   "cell_type": "markdown",
   "id": "serial-occurrence",
   "metadata": {},
   "source": [
    "R code 6.19"
   ]
  },
  {
   "cell_type": "code",
   "execution_count": null,
   "id": "french-butterfly",
   "metadata": {
    "name": "R code 6.19"
   },
   "outputs": [],
   "source": [
    "impliedConditionalIndependencies(plant_dag)"
   ]
  },
  {
   "cell_type": "markdown",
   "id": "moving-pasta",
   "metadata": {},
   "source": [
    "R code 6.20"
   ]
  },
  {
   "cell_type": "code",
   "execution_count": null,
   "id": "sticky-nickel",
   "metadata": {
    "name": "R code 6.20"
   },
   "outputs": [],
   "source": [
    "set.seed(71)\n",
    "N <- 1000\n",
    "h0 <- rnorm(N,10,2)\n",
    "treatment <- rep( 0:1 , each=N/2 )\n",
    "M <- rbern(N)\n",
    "fungus <- rbinom( N , size=1 , prob=0.5 - treatment*0.4 + 0.4*M )\n",
    "h1 <- h0 + rnorm( N , 5 + 3*M )\n",
    "d2 <- data.frame( h0=h0 , h1=h1 , treatment=treatment , fungus=fungus )"
   ]
  },
  {
   "cell_type": "markdown",
   "id": "pointed-friendly",
   "metadata": {},
   "source": [
    "R code 6.21"
   ]
  },
  {
   "cell_type": "code",
   "execution_count": null,
   "id": "geographic-incident",
   "metadata": {
    "name": "R code 6.21"
   },
   "outputs": [],
   "source": [
    "library(rethinking)\n",
    "d <- sim_happiness( seed=1977 , N_years=1000 )\n",
    "precis(d)"
   ]
  },
  {
   "cell_type": "markdown",
   "id": "married-maldives",
   "metadata": {},
   "source": [
    "R code 6.22"
   ]
  },
  {
   "cell_type": "code",
   "execution_count": null,
   "id": "expensive-implement",
   "metadata": {
    "name": "R code 6.22"
   },
   "outputs": [],
   "source": [
    "d2 <- d[ d$age>17 , ] # only adults\n",
    "d2$A <- ( d2$age - 18 ) / ( 65 - 18 )"
   ]
  },
  {
   "cell_type": "markdown",
   "id": "fatal-regular",
   "metadata": {},
   "source": [
    "R code 6.23"
   ]
  },
  {
   "cell_type": "code",
   "execution_count": null,
   "id": "designed-music",
   "metadata": {
    "name": "R code 6.23"
   },
   "outputs": [],
   "source": [
    "d2$mid <- d2$married + 1\n",
    "m6.9 <- quap(\n",
    "    alist(\n",
    "        happiness ~ dnorm( mu , sigma ),\n",
    "        mu <- a[mid] + bA*A,\n",
    "        a[mid] ~ dnorm( 0 , 1 ),\n",
    "        bA ~ dnorm( 0 , 2 ),\n",
    "        sigma ~ dexp(1)\n",
    "    ) , data=d2 )\n",
    "precis(m6.9,depth=2)"
   ]
  },
  {
   "cell_type": "markdown",
   "id": "brief-bracelet",
   "metadata": {},
   "source": [
    "R code 6.24"
   ]
  },
  {
   "cell_type": "code",
   "execution_count": null,
   "id": "qualified-oracle",
   "metadata": {
    "name": "R code 6.24"
   },
   "outputs": [],
   "source": [
    "m6.10 <- quap(\n",
    "    alist(\n",
    "        happiness ~ dnorm( mu , sigma ),\n",
    "        mu <- a + bA*A,\n",
    "        a ~ dnorm( 0 , 1 ),\n",
    "        bA ~ dnorm( 0 , 2 ),\n",
    "        sigma ~ dexp(1)\n",
    "    ) , data=d2 )\n",
    "precis(m6.10)"
   ]
  },
  {
   "cell_type": "markdown",
   "id": "automated-tattoo",
   "metadata": {},
   "source": [
    "R code 6.25"
   ]
  },
  {
   "cell_type": "code",
   "execution_count": null,
   "id": "curious-going",
   "metadata": {
    "name": "R code 6.25"
   },
   "outputs": [],
   "source": [
    "N <- 200  # number of grandparent-parent-child triads\n",
    "b_GP <- 1 # direct effect of G on P\n",
    "b_GC <- 0 # direct effect of G on C\n",
    "b_PC <- 1 # direct effect of P on C\n",
    "b_U <- 2  # direct effect of U on P and C"
   ]
  },
  {
   "cell_type": "markdown",
   "id": "colonial-sentence",
   "metadata": {},
   "source": [
    "R code 6.26"
   ]
  },
  {
   "cell_type": "code",
   "execution_count": null,
   "id": "received-vietnamese",
   "metadata": {
    "name": "R code 6.26"
   },
   "outputs": [],
   "source": [
    "set.seed(1)\n",
    "U <- 2*rbern( N , 0.5 ) - 1\n",
    "G <- rnorm( N )\n",
    "P <- rnorm( N , b_GP*G + b_U*U )\n",
    "C <- rnorm( N , b_PC*P + b_GC*G + b_U*U )\n",
    "d <- data.frame( C=C , P=P , G=G , U=U )"
   ]
  },
  {
   "cell_type": "markdown",
   "id": "moving-abortion",
   "metadata": {},
   "source": [
    "R code 6.27"
   ]
  },
  {
   "cell_type": "code",
   "execution_count": null,
   "id": "alive-algebra",
   "metadata": {
    "name": "R code 6.27"
   },
   "outputs": [],
   "source": [
    "m6.11 <- quap(\n",
    "    alist(\n",
    "        C ~ dnorm( mu , sigma ),\n",
    "        mu <- a + b_PC*P + b_GC*G,\n",
    "        a ~ dnorm( 0 , 1 ),\n",
    "        c(b_PC,b_GC) ~ dnorm( 0 , 1 ),\n",
    "        sigma ~ dexp( 1 )\n",
    "    ), data=d )\n",
    "precis(m6.11)"
   ]
  },
  {
   "cell_type": "markdown",
   "id": "lasting-northeast",
   "metadata": {},
   "source": [
    "R code 6.28"
   ]
  },
  {
   "cell_type": "code",
   "execution_count": null,
   "id": "polar-study",
   "metadata": {
    "name": "R code 6.28"
   },
   "outputs": [],
   "source": [
    "m6.12 <- quap(\n",
    "    alist(\n",
    "        C ~ dnorm( mu , sigma ),\n",
    "        mu <- a + b_PC*P + b_GC*G + b_U*U,\n",
    "        a ~ dnorm( 0 , 1 ),\n",
    "        c(b_PC,b_GC,b_U) ~ dnorm( 0 , 1 ),\n",
    "        sigma ~ dexp( 1 )\n",
    "    ), data=d )\n",
    "precis(m6.12)"
   ]
  },
  {
   "cell_type": "markdown",
   "id": "pressed-indianapolis",
   "metadata": {},
   "source": [
    "R code 6.29"
   ]
  },
  {
   "cell_type": "code",
   "execution_count": null,
   "id": "solid-seeking",
   "metadata": {
    "name": "R code 6.29"
   },
   "outputs": [],
   "source": [
    "library(dagitty)\n",
    "dag_6.1 <- dagitty( \"dag {\n",
    "    U [unobserved]\n",
    "    X -> Y\n",
    "    X <- U <- A -> C -> Y\n",
    "    U -> B <- C\n",
    "}\")\n",
    "adjustmentSets( dag_6.1 , exposure=\"X\" , outcome=\"Y\" )"
   ]
  },
  {
   "cell_type": "markdown",
   "id": "terminal-wyoming",
   "metadata": {},
   "source": [
    "R code 6.30"
   ]
  },
  {
   "cell_type": "code",
   "execution_count": null,
   "id": "civil-thought",
   "metadata": {
    "name": "R code 6.30"
   },
   "outputs": [],
   "source": [
    "library(dagitty)\n",
    "dag_6.2 <- dagitty( \"dag {\n",
    "    A -> D\n",
    "    A -> M -> D\n",
    "    A <- S -> M\n",
    "    S -> W -> D\n",
    "}\")\n",
    "adjustmentSets( dag_6.2 , exposure=\"W\" , outcome=\"D\" )"
   ]
  },
  {
   "cell_type": "markdown",
   "id": "soviet-disabled",
   "metadata": {},
   "source": [
    "R code 6.31"
   ]
  },
  {
   "cell_type": "code",
   "execution_count": null,
   "id": "funded-nitrogen",
   "metadata": {
    "lines_to_next_cell": 0,
    "name": "R code 6.31"
   },
   "outputs": [],
   "source": [
    "impliedConditionalIndependencies( dag_6.2 )"
   ]
  },
  {
   "cell_type": "markdown",
   "id": "pressing-laptop",
   "metadata": {},
   "source": []
  }
 ],
 "metadata": {
  "jupytext": {
   "cell_metadata_filter": "name,-all",
   "main_language": "R",
   "notebook_metadata_filter": "-all"
  }
 },
 "nbformat": 4,
 "nbformat_minor": 5
}
