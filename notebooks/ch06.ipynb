{
 "cells": [
  {
   "cell_type": "markdown",
   "id": "productive-appraisal",
   "metadata": {
    "lines_to_next_cell": 0
   },
   "source": []
  },
  {
   "cell_type": "code",
   "execution_count": null,
   "id": "caring-settle",
   "metadata": {
    "lines_to_next_cell": 0,
    "name": "Setup"
   },
   "outputs": [],
   "source": [
    "remotes::install_github('rmcelreath/rethinking', upgrade=F)\n"
   ]
  },
  {
   "cell_type": "code",
   "execution_count": null,
   "id": "detailed-switzerland",
   "metadata": {
    "lines_to_next_cell": 0,
    "name": "R code 6.1"
   },
   "outputs": [],
   "source": [
    "set.seed(1914)\n",
    "N <- 200 # num grant proposals\n",
    "p <- 0.1 # proportion to select\n",
    "# uncorrelated newsworthiness and trustworthiness\n",
    "nw <- rnorm(N)\n",
    "tw <- rnorm(N)\n",
    "# select top 10% of combined scores\n",
    "s <- nw + tw  # total score\n",
    "q <- quantile( s , 1-p ) # top 10% threshold\n",
    "selected <- ifelse( s >= q , TRUE , FALSE )\n",
    "cor( tw[selected] , nw[selected] )\n"
   ]
  },
  {
   "cell_type": "code",
   "execution_count": null,
   "id": "accurate-final",
   "metadata": {
    "lines_to_next_cell": 0,
    "name": "R code 6.2"
   },
   "outputs": [],
   "source": [
    "N <- 100                          # number of individuals\n",
    "set.seed(909)\n",
    "height <- rnorm(N,10,2)           # sim total height of each\n",
    "leg_prop <- runif(N,0.4,0.5)      # leg as proportion of height\n",
    "leg_left <- leg_prop*height +     # sim left leg as proportion + error\n",
    "    rnorm( N , 0 , 0.02 )\n",
    "leg_right <- leg_prop*height +    # sim right leg as proportion + error\n",
    "    rnorm( N , 0 , 0.02 )\n",
    "                                  # combine into data frame\n",
    "d <- data.frame(height,leg_left,leg_right)\n"
   ]
  },
  {
   "cell_type": "code",
   "execution_count": null,
   "id": "automatic-avenue",
   "metadata": {
    "lines_to_next_cell": 0,
    "name": "R code 6.3"
   },
   "outputs": [],
   "source": [
    "m6.1 <- quap(\n",
    "    alist(\n",
    "        height ~ dnorm( mu , sigma ) ,\n",
    "        mu <- a + bl*leg_left + br*leg_right ,\n",
    "        a ~ dnorm( 10 , 100 ) ,\n",
    "        bl ~ dnorm( 2 , 10 ) ,\n",
    "        br ~ dnorm( 2 , 10 ) ,\n",
    "        sigma ~ dexp( 1 )\n",
    "    ) , data=d )\n",
    "precis(m6.1)\n"
   ]
  },
  {
   "cell_type": "code",
   "execution_count": null,
   "id": "declared-glucose",
   "metadata": {
    "lines_to_next_cell": 0,
    "name": "R code 6.4"
   },
   "outputs": [],
   "source": [
    "plot(precis(m6.1))\n"
   ]
  },
  {
   "cell_type": "code",
   "execution_count": null,
   "id": "funky-merchandise",
   "metadata": {
    "lines_to_next_cell": 0,
    "name": "R code 6.5"
   },
   "outputs": [],
   "source": [
    "post <- extract.samples(m6.1)\n",
    "plot( bl ~ br , post , col=col.alpha(rangi2,0.1) , pch=16 )\n"
   ]
  },
  {
   "cell_type": "code",
   "execution_count": null,
   "id": "tough-speaker",
   "metadata": {
    "lines_to_next_cell": 0,
    "name": "R code 6.6"
   },
   "outputs": [],
   "source": [
    "sum_blbr <- post$bl + post$br\n",
    "dens( sum_blbr , col=rangi2 , lwd=2 , xlab=\"sum of bl and br\" )\n"
   ]
  },
  {
   "cell_type": "code",
   "execution_count": null,
   "id": "alpha-listening",
   "metadata": {
    "lines_to_next_cell": 0,
    "name": "R code 6.7"
   },
   "outputs": [],
   "source": [
    "m6.2 <- quap(\n",
    "    alist(\n",
    "        height ~ dnorm( mu , sigma ) ,\n",
    "        mu <- a + bl*leg_left,\n",
    "        a ~ dnorm( 10 , 100 ) ,\n",
    "        bl ~ dnorm( 2 , 10 ) ,\n",
    "        sigma ~ dexp( 1 )\n",
    "    ) , data=d )\n",
    "precis(m6.2)\n"
   ]
  },
  {
   "cell_type": "code",
   "execution_count": null,
   "id": "celtic-gauge",
   "metadata": {
    "lines_to_next_cell": 0,
    "name": "R code 6.8"
   },
   "outputs": [],
   "source": [
    "library(rethinking)\n",
    "data(milk)\n",
    "d <- milk\n",
    "d$K <- standardize( d$kcal.per.g )\n",
    "d$F <- standardize( d$perc.fat )\n",
    "d$L <- standardize( d$perc.lactose )\n"
   ]
  },
  {
   "cell_type": "code",
   "execution_count": null,
   "id": "several-neighbor",
   "metadata": {
    "lines_to_next_cell": 0,
    "name": "R code 6.9"
   },
   "outputs": [],
   "source": [
    "# kcal.per.g regressed on perc.fat\n",
    "m6.3 <- quap(\n",
    "    alist(\n",
    "        K ~ dnorm( mu , sigma ) ,\n",
    "        mu <- a + bF*F ,\n",
    "        a ~ dnorm( 0 , 0.2 ) ,\n",
    "        bF ~ dnorm( 0 , 0.5 ) ,\n",
    "        sigma ~ dexp( 1 )\n",
    "    ) , data=d )\n",
    "\n",
    "# kcal.per.g regressed on perc.lactose\n",
    "m6.4 <- quap(\n",
    "    alist(\n",
    "        K ~ dnorm( mu , sigma ) ,\n",
    "        mu <- a + bL*L ,\n",
    "        a ~ dnorm( 0 , 0.2 ) ,\n",
    "        bL ~ dnorm( 0 , 0.5 ) ,\n",
    "        sigma ~ dexp( 1 )\n",
    "    ) , data=d )\n",
    "\n",
    "precis( m6.3 )\n",
    "precis( m6.4 )\n"
   ]
  },
  {
   "cell_type": "code",
   "execution_count": null,
   "id": "finnish-geneva",
   "metadata": {
    "lines_to_next_cell": 0,
    "name": "R code 6.10"
   },
   "outputs": [],
   "source": [
    "m6.5 <- quap(\n",
    "    alist(\n",
    "        K ~ dnorm( mu , sigma ) ,\n",
    "        mu <- a + bF*F + bL*L ,\n",
    "        a ~ dnorm( 0 , 0.2 ) ,\n",
    "        bF ~ dnorm( 0 , 0.5 ) ,\n",
    "        bL ~ dnorm( 0 , 0.5 ) ,\n",
    "        sigma ~ dexp( 1 )\n",
    "    ) ,\n",
    "    data=d )\n",
    "precis( m6.5 )\n"
   ]
  },
  {
   "cell_type": "code",
   "execution_count": null,
   "id": "horizontal-average",
   "metadata": {
    "lines_to_next_cell": 0,
    "name": "R code 6.11"
   },
   "outputs": [],
   "source": [
    "pairs( ~ kcal.per.g + perc.fat + perc.lactose , data=d , col=rangi2 )\n"
   ]
  },
  {
   "cell_type": "code",
   "execution_count": null,
   "id": "intensive-wiring",
   "metadata": {
    "lines_to_next_cell": 0,
    "name": "R code 6.12"
   },
   "outputs": [],
   "source": [
    "library(rethinking)\n",
    "data(milk)\n",
    "d <- milk\n",
    "sim.coll <- function( r=0.9 ) {\n",
    "    d$x <- rnorm( nrow(d) , mean=r*d$perc.fat ,\n",
    "        sd=sqrt( (1-r^2)*var(d$perc.fat) ) )\n",
    "    m <- lm( kcal.per.g ~ perc.fat + x , data=d )\n",
    "    sqrt( diag( vcov(m) ) )[2] # stddev of parameter\n",
    "}\n",
    "rep.sim.coll <- function( r=0.9 , n=100 ) {\n",
    "    stddev <- replicate( n , sim.coll(r) )\n",
    "    mean(stddev)\n",
    "}\n",
    "r.seq <- seq(from=0,to=0.99,by=0.01)\n",
    "stddev <- sapply( r.seq , function(z) rep.sim.coll(r=z,n=100) )\n",
    "plot( stddev ~ r.seq , type=\"l\" , col=rangi2, lwd=2 , xlab=\"correlation\" )\n"
   ]
  },
  {
   "cell_type": "code",
   "execution_count": null,
   "id": "textile-action",
   "metadata": {
    "lines_to_next_cell": 0,
    "name": "R code 6.13"
   },
   "outputs": [],
   "source": [
    "set.seed(71)\n",
    "# number of plants\n",
    "N <- 100\n",
    "\n",
    "# simulate initial heights\n",
    "h0 <- rnorm(N,10,2)\n",
    "\n",
    "# assign treatments and simulate fungus and growth\n",
    "treatment <- rep( 0:1 , each=N/2 )\n",
    "fungus <- rbinom( N , size=1 , prob=0.5 - treatment*0.4 )\n",
    "h1 <- h0 + rnorm(N, 5 - 3*fungus)\n",
    "\n",
    "# compose a clean data frame\n",
    "d <- data.frame( h0=h0 , h1=h1 , treatment=treatment , fungus=fungus )\n",
    "precis(d)\n"
   ]
  },
  {
   "cell_type": "code",
   "execution_count": null,
   "id": "reserved-montgomery",
   "metadata": {
    "lines_to_next_cell": 0,
    "name": "R code 6.14"
   },
   "outputs": [],
   "source": [
    "sim_p <- rlnorm( 1e4 , 0 , 0.25 )\n",
    "precis( data.frame(sim_p) )\n"
   ]
  },
  {
   "cell_type": "code",
   "execution_count": null,
   "id": "exotic-bulgarian",
   "metadata": {
    "lines_to_next_cell": 0,
    "name": "R code 6.15"
   },
   "outputs": [],
   "source": [
    "m6.6 <- quap(\n",
    "    alist(\n",
    "        h1 ~ dnorm( mu , sigma ),\n",
    "        mu <- h0*p,\n",
    "        p ~ dlnorm( 0 , 0.25 ),\n",
    "        sigma ~ dexp( 1 )\n",
    "    ), data=d )\n",
    "precis(m6.6)\n"
   ]
  },
  {
   "cell_type": "code",
   "execution_count": null,
   "id": "smaller-timer",
   "metadata": {
    "lines_to_next_cell": 0,
    "name": "R code 6.16"
   },
   "outputs": [],
   "source": [
    "m6.7 <- quap(\n",
    "    alist(\n",
    "        h1 ~ dnorm( mu , sigma ),\n",
    "        mu <- h0 * p,\n",
    "        p <- a + bt*treatment + bf*fungus,\n",
    "        a ~ dlnorm( 0 , 0.2 ) ,\n",
    "        bt ~ dnorm( 0 , 0.5 ),\n",
    "        bf ~ dnorm( 0 , 0.5 ),\n",
    "        sigma ~ dexp( 1 )\n",
    "    ), data=d )\n",
    "precis(m6.7)\n"
   ]
  },
  {
   "cell_type": "code",
   "execution_count": null,
   "id": "speaking-oracle",
   "metadata": {
    "lines_to_next_cell": 0,
    "name": "R code 6.17"
   },
   "outputs": [],
   "source": [
    "m6.8 <- quap(\n",
    "    alist(\n",
    "        h1 ~ dnorm( mu , sigma ),\n",
    "        mu <- h0 * p,\n",
    "        p <- a + bt*treatment,\n",
    "        a ~ dlnorm( 0 , 0.2 ),\n",
    "        bt ~ dnorm( 0 , 0.5 ),\n",
    "        sigma ~ dexp( 1 )\n",
    "    ), data=d )\n",
    "precis(m6.8)\n"
   ]
  },
  {
   "cell_type": "code",
   "execution_count": null,
   "id": "random-premium",
   "metadata": {
    "lines_to_next_cell": 0,
    "name": "R code 6.18"
   },
   "outputs": [],
   "source": [
    "library(dagitty)\n",
    "plant_dag <- dagitty( \"dag {\n",
    "    H_0 -> H_1\n",
    "    F -> H_1\n",
    "    T -> F\n",
    "}\")\n",
    "coordinates( plant_dag ) <- list( x=c(H_0=0,T=2,F=1.5,H_1=1) ,\n",
    "                                  y=c(H_0=0,T=0,F=0,H_1=0) )\n",
    "drawdag( plant_dag )\n"
   ]
  },
  {
   "cell_type": "code",
   "execution_count": null,
   "id": "young-communication",
   "metadata": {
    "lines_to_next_cell": 0,
    "name": "R code 6.19"
   },
   "outputs": [],
   "source": [
    "impliedConditionalIndependencies(plant_dag)\n"
   ]
  },
  {
   "cell_type": "code",
   "execution_count": null,
   "id": "mechanical-board",
   "metadata": {
    "lines_to_next_cell": 0,
    "name": "R code 6.20"
   },
   "outputs": [],
   "source": [
    "set.seed(71)\n",
    "N <- 1000\n",
    "h0 <- rnorm(N,10,2)\n",
    "treatment <- rep( 0:1 , each=N/2 )\n",
    "M <- rbern(N)\n",
    "fungus <- rbinom( N , size=1 , prob=0.5 - treatment*0.4 + 0.4*M )\n",
    "h1 <- h0 + rnorm( N , 5 + 3*M )\n",
    "d2 <- data.frame( h0=h0 , h1=h1 , treatment=treatment , fungus=fungus )\n"
   ]
  },
  {
   "cell_type": "code",
   "execution_count": null,
   "id": "universal-philip",
   "metadata": {
    "lines_to_next_cell": 0,
    "name": "R code 6.21"
   },
   "outputs": [],
   "source": [
    "library(rethinking)\n",
    "d <- sim_happiness( seed=1977 , N_years=1000 )\n",
    "precis(d)\n"
   ]
  },
  {
   "cell_type": "code",
   "execution_count": null,
   "id": "federal-english",
   "metadata": {
    "lines_to_next_cell": 0,
    "name": "R code 6.22"
   },
   "outputs": [],
   "source": [
    "d2 <- d[ d$age>17 , ] # only adults\n",
    "d2$A <- ( d2$age - 18 ) / ( 65 - 18 )\n"
   ]
  },
  {
   "cell_type": "code",
   "execution_count": null,
   "id": "regular-avenue",
   "metadata": {
    "lines_to_next_cell": 0,
    "name": "R code 6.23"
   },
   "outputs": [],
   "source": [
    "d2$mid <- d2$married + 1\n",
    "m6.9 <- quap(\n",
    "    alist(\n",
    "        happiness ~ dnorm( mu , sigma ),\n",
    "        mu <- a[mid] + bA*A,\n",
    "        a[mid] ~ dnorm( 0 , 1 ),\n",
    "        bA ~ dnorm( 0 , 2 ),\n",
    "        sigma ~ dexp(1)\n",
    "    ) , data=d2 )\n",
    "precis(m6.9,depth=2)\n"
   ]
  },
  {
   "cell_type": "code",
   "execution_count": null,
   "id": "engaged-heater",
   "metadata": {
    "lines_to_next_cell": 0,
    "name": "R code 6.24"
   },
   "outputs": [],
   "source": [
    "m6.10 <- quap(\n",
    "    alist(\n",
    "        happiness ~ dnorm( mu , sigma ),\n",
    "        mu <- a + bA*A,\n",
    "        a ~ dnorm( 0 , 1 ),\n",
    "        bA ~ dnorm( 0 , 2 ),\n",
    "        sigma ~ dexp(1)\n",
    "    ) , data=d2 )\n",
    "precis(m6.10)\n"
   ]
  },
  {
   "cell_type": "code",
   "execution_count": null,
   "id": "professional-psychology",
   "metadata": {
    "lines_to_next_cell": 0,
    "name": "R code 6.25"
   },
   "outputs": [],
   "source": [
    "N <- 200  # number of grandparent-parent-child triads\n",
    "b_GP <- 1 # direct effect of G on P\n",
    "b_GC <- 0 # direct effect of G on C\n",
    "b_PC <- 1 # direct effect of P on C\n",
    "b_U <- 2  # direct effect of U on P and C\n"
   ]
  },
  {
   "cell_type": "code",
   "execution_count": null,
   "id": "conventional-butterfly",
   "metadata": {
    "lines_to_next_cell": 0,
    "name": "R code 6.26"
   },
   "outputs": [],
   "source": [
    "set.seed(1)\n",
    "U <- 2*rbern( N , 0.5 ) - 1\n",
    "G <- rnorm( N )\n",
    "P <- rnorm( N , b_GP*G + b_U*U )\n",
    "C <- rnorm( N , b_PC*P + b_GC*G + b_U*U )\n",
    "d <- data.frame( C=C , P=P , G=G , U=U )\n"
   ]
  },
  {
   "cell_type": "code",
   "execution_count": null,
   "id": "entitled-photographer",
   "metadata": {
    "lines_to_next_cell": 0,
    "name": "R code 6.27"
   },
   "outputs": [],
   "source": [
    "m6.11 <- quap(\n",
    "    alist(\n",
    "        C ~ dnorm( mu , sigma ),\n",
    "        mu <- a + b_PC*P + b_GC*G,\n",
    "        a ~ dnorm( 0 , 1 ),\n",
    "        c(b_PC,b_GC) ~ dnorm( 0 , 1 ),\n",
    "        sigma ~ dexp( 1 )\n",
    "    ), data=d )\n",
    "precis(m6.11)\n"
   ]
  },
  {
   "cell_type": "code",
   "execution_count": null,
   "id": "twelve-graham",
   "metadata": {
    "lines_to_next_cell": 0,
    "name": "R code 6.28"
   },
   "outputs": [],
   "source": [
    "m6.12 <- quap(\n",
    "    alist(\n",
    "        C ~ dnorm( mu , sigma ),\n",
    "        mu <- a + b_PC*P + b_GC*G + b_U*U,\n",
    "        a ~ dnorm( 0 , 1 ),\n",
    "        c(b_PC,b_GC,b_U) ~ dnorm( 0 , 1 ),\n",
    "        sigma ~ dexp( 1 )\n",
    "    ), data=d )\n",
    "precis(m6.12)\n"
   ]
  },
  {
   "cell_type": "code",
   "execution_count": null,
   "id": "offshore-revision",
   "metadata": {
    "lines_to_next_cell": 0,
    "name": "R code 6.29"
   },
   "outputs": [],
   "source": [
    "library(dagitty)\n",
    "dag_6.1 <- dagitty( \"dag {\n",
    "    U [unobserved]\n",
    "    X -> Y\n",
    "    X <- U <- A -> C -> Y\n",
    "    U -> B <- C\n",
    "}\")\n",
    "adjustmentSets( dag_6.1 , exposure=\"X\" , outcome=\"Y\" )\n"
   ]
  },
  {
   "cell_type": "code",
   "execution_count": null,
   "id": "grateful-qualification",
   "metadata": {
    "lines_to_next_cell": 0,
    "name": "R code 6.30"
   },
   "outputs": [],
   "source": [
    "library(dagitty)\n",
    "dag_6.2 <- dagitty( \"dag {\n",
    "    A -> D\n",
    "    A -> M -> D\n",
    "    A <- S -> M\n",
    "    S -> W -> D\n",
    "}\")\n",
    "adjustmentSets( dag_6.2 , exposure=\"W\" , outcome=\"D\" )\n"
   ]
  },
  {
   "cell_type": "code",
   "execution_count": null,
   "id": "corresponding-suspect",
   "metadata": {
    "lines_to_next_cell": 0,
    "name": "R code 6.31"
   },
   "outputs": [],
   "source": [
    "impliedConditionalIndependencies( dag_6.2 )"
   ]
  },
  {
   "cell_type": "markdown",
   "id": "palestinian-burton",
   "metadata": {},
   "source": []
  }
 ],
 "metadata": {
  "jupytext": {
   "cell_metadata_filter": "name,-all",
   "main_language": "R",
   "notebook_metadata_filter": "-all"
  }
 },
 "nbformat": 4,
 "nbformat_minor": 5
}
