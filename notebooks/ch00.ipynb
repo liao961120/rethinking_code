{
 "cells": [
  {
   "cell_type": "markdown",
   "metadata": {},
   "source": [
    "## R code 0.1"
   ]
  },
  {
   "cell_type": "code",
   "execution_count": null,
   "metadata": {
    "name": "R code 0.1"
   },
   "outputs": [],
   "source": [
    "print( \"All models are wrong, but some are useful.\" )"
   ]
  },
  {
   "cell_type": "markdown",
   "metadata": {},
   "source": [
    "## R code 0.2"
   ]
  },
  {
   "cell_type": "code",
   "execution_count": null,
   "metadata": {
    "name": "R code 0.2"
   },
   "outputs": [],
   "source": [
    "x <- 1:2\n",
    "x <- x*10\n",
    "x <- log(x)\n",
    "x <- sum(x)\n",
    "x <- exp(x)\n",
    "x"
   ]
  },
  {
   "cell_type": "markdown",
   "metadata": {},
   "source": [
    "## R code 0.3"
   ]
  },
  {
   "cell_type": "code",
   "execution_count": null,
   "metadata": {
    "name": "R code 0.3"
   },
   "outputs": [],
   "source": [
    "( log( 0.01^200 ) )\n",
    "( 200 * log(0.01) )"
   ]
  },
  {
   "cell_type": "markdown",
   "metadata": {},
   "source": [
    "## R code 0.4"
   ]
  },
  {
   "cell_type": "code",
   "execution_count": null,
   "metadata": {
    "name": "R code 0.4"
   },
   "outputs": [],
   "source": [
    "# Load the data:\n",
    "# car braking distances in feet paired with speeds in km/h\n",
    "# see ?cars for details\n",
    "data(cars)\n",
    "\n",
    "# fit a linear regression of distance on speed\n",
    "m <- lm( dist ~ speed , data=cars )\n",
    "\n",
    "# estimated coefficients from the model\n",
    "coef(m)\n",
    "\n",
    "# plot residuals against speed\n",
    "plot( resid(m) ~ speed , data=cars )"
   ]
  },
  {
   "cell_type": "markdown",
   "metadata": {},
   "source": [
    "## R code 0.5"
   ]
  },
  {
   "cell_type": "code",
   "execution_count": null,
   "metadata": {
    "lines_to_next_cell": 0,
    "name": "R code 0.5"
   },
   "outputs": [],
   "source": [
    "install.packages(c(\"coda\",\"mvtnorm\",\"devtools\",\"dagitty\"))\n",
    "library(devtools)\n",
    "devtools::install_github(\"rmcelreath/rethinking\")"
   ]
  },
  {
   "cell_type": "markdown",
   "metadata": {},
   "source": []
  }
 ],
 "metadata": {
  "jupytext": {
   "cell_metadata_filter": "name,-all",
   "main_language": "R",
   "notebook_metadata_filter": "-all"
  }
 },
 "nbformat": 4,
 "nbformat_minor": 4
}
