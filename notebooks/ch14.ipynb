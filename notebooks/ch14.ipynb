{
 "cells": [
  {
   "cell_type": "markdown",
   "id": "pursuant-listing",
   "metadata": {
    "lines_to_next_cell": 0
   },
   "source": []
  },
  {
   "cell_type": "code",
   "execution_count": null,
   "id": "governmental-hundred",
   "metadata": {
    "name": "Setup"
   },
   "outputs": [],
   "source": [
    "remotes::install_github('rmcelreath/rethinking', upgrade=F)"
   ]
  },
  {
   "cell_type": "markdown",
   "id": "subjective-virus",
   "metadata": {},
   "source": [
    "R code 14.1"
   ]
  },
  {
   "cell_type": "code",
   "execution_count": null,
   "id": "enormous-absence",
   "metadata": {
    "name": "R code 14.1"
   },
   "outputs": [],
   "source": [
    "a <- 3.5            # average morning wait time\n",
    "b <- (-1)           # average difference afternoon wait time\n",
    "sigma_a <- 1        # std dev in intercepts\n",
    "sigma_b <- 0.5      # std dev in slopes\n",
    "rho <- (-0.7)       # correlation between intercepts and slopes"
   ]
  },
  {
   "cell_type": "markdown",
   "id": "recreational-belfast",
   "metadata": {},
   "source": [
    "R code 14.2"
   ]
  },
  {
   "cell_type": "code",
   "execution_count": null,
   "id": "detected-monroe",
   "metadata": {
    "name": "R code 14.2"
   },
   "outputs": [],
   "source": [
    "Mu <- c( a , b )"
   ]
  },
  {
   "cell_type": "markdown",
   "id": "opened-cricket",
   "metadata": {},
   "source": [
    "R code 14.3"
   ]
  },
  {
   "cell_type": "code",
   "execution_count": null,
   "id": "hourly-debut",
   "metadata": {
    "name": "R code 14.3"
   },
   "outputs": [],
   "source": [
    "cov_ab <- sigma_a*sigma_b*rho\n",
    "Sigma <- matrix( c(sigma_a^2,cov_ab,cov_ab,sigma_b^2) , ncol=2 )"
   ]
  },
  {
   "cell_type": "markdown",
   "id": "micro-manhattan",
   "metadata": {},
   "source": [
    "R code 14.4"
   ]
  },
  {
   "cell_type": "code",
   "execution_count": null,
   "id": "historic-plasma",
   "metadata": {
    "name": "R code 14.4"
   },
   "outputs": [],
   "source": [
    "matrix( c(1,2,3,4) , nrow=2 , ncol=2 )"
   ]
  },
  {
   "cell_type": "markdown",
   "id": "handed-blank",
   "metadata": {},
   "source": [
    "R code 14.5"
   ]
  },
  {
   "cell_type": "code",
   "execution_count": null,
   "id": "mechanical-pontiac",
   "metadata": {
    "name": "R code 14.5"
   },
   "outputs": [],
   "source": [
    "sigmas <- c(sigma_a,sigma_b) # standard deviations\n",
    "Rho <- matrix( c(1,rho,rho,1) , nrow=2 ) # correlation matrix\n",
    "\n",
    "# now matrix multiply to get covariance matrix\n",
    "Sigma <- diag(sigmas) %*% Rho %*% diag(sigmas)"
   ]
  },
  {
   "cell_type": "markdown",
   "id": "transparent-closing",
   "metadata": {},
   "source": [
    "R code 14.6"
   ]
  },
  {
   "cell_type": "code",
   "execution_count": null,
   "id": "stopped-albert",
   "metadata": {
    "name": "R code 14.6"
   },
   "outputs": [],
   "source": [
    "N_cafes <- 20"
   ]
  },
  {
   "cell_type": "markdown",
   "id": "prerequisite-picnic",
   "metadata": {},
   "source": [
    "R code 14.7"
   ]
  },
  {
   "cell_type": "code",
   "execution_count": null,
   "id": "floating-danish",
   "metadata": {
    "name": "R code 14.7"
   },
   "outputs": [],
   "source": [
    "library(MASS)\n",
    "set.seed(5) # used to replicate example\n",
    "vary_effects <- mvrnorm( N_cafes , Mu , Sigma )"
   ]
  },
  {
   "cell_type": "markdown",
   "id": "later-affect",
   "metadata": {},
   "source": [
    "R code 14.8"
   ]
  },
  {
   "cell_type": "code",
   "execution_count": null,
   "id": "respected-injury",
   "metadata": {
    "name": "R code 14.8"
   },
   "outputs": [],
   "source": [
    "a_cafe <- vary_effects[,1]\n",
    "b_cafe <- vary_effects[,2]"
   ]
  },
  {
   "cell_type": "markdown",
   "id": "improving-amount",
   "metadata": {},
   "source": [
    "R code 14.9"
   ]
  },
  {
   "cell_type": "code",
   "execution_count": null,
   "id": "female-conditions",
   "metadata": {
    "name": "R code 14.9"
   },
   "outputs": [],
   "source": [
    "plot( a_cafe , b_cafe , col=rangi2 ,\n",
    "    xlab=\"intercepts (a_cafe)\" , ylab=\"slopes (b_cafe)\" )\n",
    "\n",
    "# overlay population distribution\n",
    "library(ellipse)\n",
    "for ( l in c(0.1,0.3,0.5,0.8,0.99) )\n",
    "    lines(ellipse(Sigma,centre=Mu,level=l),col=col.alpha(\"black\",0.2))"
   ]
  },
  {
   "cell_type": "markdown",
   "id": "composite-revelation",
   "metadata": {},
   "source": [
    "R code 14.10"
   ]
  },
  {
   "cell_type": "code",
   "execution_count": null,
   "id": "aging-gilbert",
   "metadata": {
    "name": "R code 14.10"
   },
   "outputs": [],
   "source": [
    "set.seed(22)\n",
    "N_visits <- 10\n",
    "afternoon <- rep(0:1,N_visits*N_cafes/2)\n",
    "cafe_id <- rep( 1:N_cafes , each=N_visits )\n",
    "mu <- a_cafe[cafe_id] + b_cafe[cafe_id]*afternoon\n",
    "sigma <- 0.5  # std dev within cafes\n",
    "wait <- rnorm( N_visits*N_cafes , mu , sigma )\n",
    "d <- data.frame( cafe=cafe_id , afternoon=afternoon , wait=wait )"
   ]
  },
  {
   "cell_type": "markdown",
   "id": "empirical-condition",
   "metadata": {},
   "source": [
    "R code 14.11"
   ]
  },
  {
   "cell_type": "code",
   "execution_count": null,
   "id": "chief-transfer",
   "metadata": {
    "name": "R code 14.11"
   },
   "outputs": [],
   "source": [
    "R <- rlkjcorr( 1e4 , K=2 , eta=2 )\n",
    "dens( R[,1,2] , xlab=\"correlation\" )"
   ]
  },
  {
   "cell_type": "markdown",
   "id": "unable-planet",
   "metadata": {},
   "source": [
    "R code 14.12"
   ]
  },
  {
   "cell_type": "code",
   "execution_count": null,
   "id": "solid-notice",
   "metadata": {
    "name": "R code 14.12"
   },
   "outputs": [],
   "source": [
    "set.seed(867530)\n",
    "m14.1 <- ulam(\n",
    "    alist(\n",
    "        wait ~ normal( mu , sigma ),\n",
    "        mu <- a_cafe[cafe] + b_cafe[cafe]*afternoon,\n",
    "        c(a_cafe,b_cafe)[cafe] ~ multi_normal( c(a,b) , Rho , sigma_cafe ),\n",
    "        a ~ normal(5,2),\n",
    "        b ~ normal(-1,0.5),\n",
    "        sigma_cafe ~ exponential(1),\n",
    "        sigma ~ exponential(1),\n",
    "        Rho ~ lkj_corr(2)\n",
    "    ) , data=d , chains=4 , cores=4 )"
   ]
  },
  {
   "cell_type": "markdown",
   "id": "excess-blowing",
   "metadata": {},
   "source": [
    "R code 14.13"
   ]
  },
  {
   "cell_type": "code",
   "execution_count": null,
   "id": "christian-coffee",
   "metadata": {
    "name": "R code 14.13"
   },
   "outputs": [],
   "source": [
    "post <- extract.samples(m14.1)\n",
    "dens( post$Rho[,1,2] , xlim=c(-1,1) ) # posterior\n",
    "R <- rlkjcorr( 1e4 , K=2 , eta=2 )    # prior\n",
    "dens( R[,1,2] , add=TRUE , lty=2 )"
   ]
  },
  {
   "cell_type": "markdown",
   "id": "hidden-jumping",
   "metadata": {},
   "source": [
    "R code 14.14"
   ]
  },
  {
   "cell_type": "code",
   "execution_count": null,
   "id": "covered-sussex",
   "metadata": {
    "name": "R code 14.14"
   },
   "outputs": [],
   "source": [
    "# compute unpooled estimates directly from data\n",
    "a1 <- sapply( 1:N_cafes ,\n",
    "        function(i) mean(wait[cafe_id==i & afternoon==0]) )\n",
    "b1 <- sapply( 1:N_cafes ,\n",
    "        function(i) mean(wait[cafe_id==i & afternoon==1]) ) - a1\n",
    "\n",
    "# extract posterior means of partially pooled estimates\n",
    "post <- extract.samples(m14.1)\n",
    "a2 <- apply( post$a_cafe , 2 , mean )\n",
    "b2 <- apply( post$b_cafe , 2 , mean )\n",
    "\n",
    "# plot both and connect with lines\n",
    "plot( a1 , b1 , xlab=\"intercept\" , ylab=\"slope\" ,\n",
    "    pch=16 , col=rangi2 , ylim=c( min(b1)-0.1 , max(b1)+0.1 ) ,\n",
    "    xlim=c( min(a1)-0.1 , max(a1)+0.1 ) )\n",
    "points( a2 , b2 , pch=1 )\n",
    "for ( i in 1:N_cafes ) lines( c(a1[i],a2[i]) , c(b1[i],b2[i]) )"
   ]
  },
  {
   "cell_type": "markdown",
   "id": "coated-johns",
   "metadata": {},
   "source": [
    "R code 14.15"
   ]
  },
  {
   "cell_type": "code",
   "execution_count": null,
   "id": "understood-ministry",
   "metadata": {
    "name": "R code 14.15"
   },
   "outputs": [],
   "source": [
    "# compute posterior mean bivariate Gaussian\n",
    "Mu_est <- c( mean(post$a) , mean(post$b) )\n",
    "rho_est <- mean( post$Rho[,1,2] )\n",
    "sa_est <- mean( post$sigma_cafe[,1] )\n",
    "sb_est <- mean( post$sigma_cafe[,2] )\n",
    "cov_ab <- sa_est*sb_est*rho_est\n",
    "Sigma_est <- matrix( c(sa_est^2,cov_ab,cov_ab,sb_est^2) , ncol=2 )\n",
    "\n",
    "# draw contours\n",
    "library(ellipse)\n",
    "for ( l in c(0.1,0.3,0.5,0.8,0.99) )\n",
    "    lines(ellipse(Sigma_est,centre=Mu_est,level=l),\n",
    "        col=col.alpha(\"black\",0.2))"
   ]
  },
  {
   "cell_type": "markdown",
   "id": "documented-investment",
   "metadata": {},
   "source": [
    "R code 14.16"
   ]
  },
  {
   "cell_type": "code",
   "execution_count": null,
   "id": "rocky-computer",
   "metadata": {
    "name": "R code 14.16"
   },
   "outputs": [],
   "source": [
    "# convert varying effects to waiting times\n",
    "wait_morning_1 <- (a1)\n",
    "wait_afternoon_1 <- (a1 + b1)\n",
    "wait_morning_2 <- (a2)\n",
    "wait_afternoon_2 <- (a2 + b2)\n",
    "\n",
    "# plot both and connect with lines\n",
    "plot( wait_morning_1 , wait_afternoon_1 , xlab=\"morning wait\" ,\n",
    "    ylab=\"afternoon wait\" , pch=16 , col=rangi2 ,\n",
    "    ylim=c( min(wait_afternoon_1)-0.1 , max(wait_afternoon_1)+0.1 ) ,\n",
    "    xlim=c( min(wait_morning_1)-0.1 , max(wait_morning_1)+0.1 ) )\n",
    "points( wait_morning_2 , wait_afternoon_2 , pch=1 )\n",
    "for ( i in 1:N_cafes )\n",
    "    lines( c(wait_morning_1[i],wait_morning_2[i]) ,\n",
    "    c(wait_afternoon_1[i],wait_afternoon_2[i]) )\n",
    "abline( a=0 , b=1 , lty=2 )"
   ]
  },
  {
   "cell_type": "markdown",
   "id": "incomplete-mortality",
   "metadata": {},
   "source": [
    "R code 14.17"
   ]
  },
  {
   "cell_type": "code",
   "execution_count": null,
   "id": "forbidden-determination",
   "metadata": {
    "name": "R code 14.17"
   },
   "outputs": [],
   "source": [
    "# now shrinkage distribution by simulation\n",
    "v <- mvrnorm( 1e4 , Mu_est , Sigma_est )\n",
    "v[,2] <- v[,1] + v[,2] # calculate afternoon wait\n",
    "Sigma_est2 <- cov(v)\n",
    "Mu_est2 <- Mu_est\n",
    "Mu_est2[2] <- Mu_est[1]+Mu_est[2]\n",
    "\n",
    "# draw contours\n",
    "library(ellipse)\n",
    "for ( l in c(0.1,0.3,0.5,0.8,0.99) )\n",
    "    lines(ellipse(Sigma_est2,centre=Mu_est2,level=l),\n",
    "        col=col.alpha(\"black\",0.5))"
   ]
  },
  {
   "cell_type": "markdown",
   "id": "artificial-modern",
   "metadata": {},
   "source": [
    "R code 14.18"
   ]
  },
  {
   "cell_type": "code",
   "execution_count": null,
   "id": "successful-department",
   "metadata": {
    "name": "R code 14.18"
   },
   "outputs": [],
   "source": [
    "library(rethinking)\n",
    "data(chimpanzees)\n",
    "d <- chimpanzees\n",
    "d$block_id <- d$block\n",
    "d$treatment <- 1L + d$prosoc_left + 2L*d$condition\n",
    "\n",
    "dat <- list(\n",
    "    L = d$pulled_left,\n",
    "    tid = d$treatment,\n",
    "    actor = d$actor,\n",
    "    block_id = as.integer(d$block_id) )\n",
    "\n",
    "set.seed(4387510)\n",
    "m14.2 <- ulam(\n",
    "    alist(\n",
    "        L ~ dbinom(1,p),\n",
    "        logit(p) <- g[tid] + alpha[actor,tid] + beta[block_id,tid],\n",
    "\n",
    "        # adaptive priors\n",
    "        vector[4]:alpha[actor] ~ multi_normal(0,Rho_actor,sigma_actor),\n",
    "        vector[4]:beta[block_id] ~ multi_normal(0,Rho_block,sigma_block),\n",
    "\n",
    "        # fixed priors\n",
    "        g[tid] ~ dnorm(0,1),\n",
    "        sigma_actor ~ dexp(1),\n",
    "        Rho_actor ~ dlkjcorr(4),\n",
    "        sigma_block ~ dexp(1),\n",
    "        Rho_block ~ dlkjcorr(4)\n",
    "    ) , data=dat , chains=4 , cores=4 )"
   ]
  },
  {
   "cell_type": "markdown",
   "id": "prescription-costa",
   "metadata": {},
   "source": [
    "R code 14.19"
   ]
  },
  {
   "cell_type": "code",
   "execution_count": null,
   "id": "suffering-pakistan",
   "metadata": {
    "name": "R code 14.19"
   },
   "outputs": [],
   "source": [
    "set.seed(4387510)\n",
    "m14.3 <- ulam(\n",
    "    alist(\n",
    "        L ~ binomial(1,p),\n",
    "        logit(p) <- g[tid] + alpha[actor,tid] + beta[block_id,tid],\n",
    "\n",
    "        # adaptive priors - non-centered\n",
    "        transpars> matrix[actor,4]:alpha <-\n",
    "                compose_noncentered( sigma_actor , L_Rho_actor , z_actor ),\n",
    "        transpars> matrix[block_id,4]:beta <-\n",
    "                compose_noncentered( sigma_block , L_Rho_block , z_block ),\n",
    "        matrix[4,actor]:z_actor ~ normal( 0 , 1 ),\n",
    "        matrix[4,block_id]:z_block ~ normal( 0 , 1 ),\n",
    "\n",
    "        # fixed priors\n",
    "        g[tid] ~ normal(0,1),\n",
    "        vector[4]:sigma_actor ~ dexp(1),\n",
    "        cholesky_factor_corr[4]:L_Rho_actor ~ lkj_corr_cholesky( 2 ),\n",
    "        vector[4]:sigma_block ~ dexp(1),\n",
    "        cholesky_factor_corr[4]:L_Rho_block ~ lkj_corr_cholesky( 2 ),\n",
    "\n",
    "        # compute ordinary correlation matrixes from Cholesky factors\n",
    "        gq> matrix[4,4]:Rho_actor <<- Chol_to_Corr(L_Rho_actor),\n",
    "        gq> matrix[4,4]:Rho_block <<- Chol_to_Corr(L_Rho_block)\n",
    "    ) , data=dat , chains=4 , cores=4 , log_lik=TRUE )"
   ]
  },
  {
   "cell_type": "markdown",
   "id": "celtic-liability",
   "metadata": {},
   "source": [
    "R code 14.20"
   ]
  },
  {
   "cell_type": "code",
   "execution_count": null,
   "id": "serious-television",
   "metadata": {
    "name": "R code 14.20"
   },
   "outputs": [],
   "source": [
    "# extract n_eff values for each model\n",
    "neff_nc <- precis(m14.3,3,pars=c(\"alpha\",\"beta\"))$n_eff\n",
    "neff_c <- precis(m14.2,3,pars=c(\"alpha\",\"beta\"))$n_eff\n",
    "plot( neff_c , neff_nc , xlab=\"centered (default)\" ,\n",
    "    ylab=\"non-centered (cholesky)\" , lwd=1.5 )\n",
    "abline(a=0,b=1,lty=2)"
   ]
  },
  {
   "cell_type": "markdown",
   "id": "heavy-complement",
   "metadata": {},
   "source": [
    "R code 14.21"
   ]
  },
  {
   "cell_type": "code",
   "execution_count": null,
   "id": "composed-appearance",
   "metadata": {
    "name": "R code 14.21"
   },
   "outputs": [],
   "source": [
    "precis( m14.3 , depth=2 , pars=c(\"sigma_actor\",\"sigma_block\") )"
   ]
  },
  {
   "cell_type": "markdown",
   "id": "essential-blind",
   "metadata": {},
   "source": [
    "R code 14.22"
   ]
  },
  {
   "cell_type": "code",
   "execution_count": null,
   "id": "authentic-davis",
   "metadata": {
    "name": "R code 14.22"
   },
   "outputs": [],
   "source": [
    "# compute mean for each actor in each treatment\n",
    "pl <- by( d$pulled_left , list( d$actor , d$treatment ) , mean )\n",
    "\n",
    "# generate posterior predictions using link\n",
    "datp <- list(\n",
    "    actor=rep(1:7,each=4) ,\n",
    "    tid=rep(1:4,times=7) ,\n",
    "    block_id=rep(5,times=4*7) )\n",
    "p_post <- link( m14.3 , data=datp )\n",
    "p_mu <- apply( p_post , 2 , mean )\n",
    "p_ci <- apply( p_post , 2 , PI )\n",
    "\n",
    "# set up plot\n",
    "plot( NULL , xlim=c(1,28) , ylim=c(0,1) , xlab=\"\" ,\n",
    "    ylab=\"proportion left lever\" , xaxt=\"n\" , yaxt=\"n\" )\n",
    "axis( 2 , at=c(0,0.5,1) , labels=c(0,0.5,1) )\n",
    "abline( h=0.5 , lty=2 )\n",
    "for ( j in 1:7 ) abline( v=(j-1)*4+4.5 , lwd=0.5 )\n",
    "for ( j in 1:7 ) text( (j-1)*4+2.5 , 1.1 , concat(\"actor \",j) , xpd=TRUE )\n",
    "\n",
    "xo <- 0.1 # offset distance to stagger raw data and predictions\n",
    "# raw data\n",
    "for ( j in (1:7)[-2] ) {\n",
    "    lines( (j-1)*4+c(1,3)-xo , pl[j,c(1,3)] , lwd=2 , col=rangi2 )\n",
    "    lines( (j-1)*4+c(2,4)-xo , pl[j,c(2,4)] , lwd=2 , col=rangi2 )\n",
    "}\n",
    "points( 1:28-xo , t(pl) , pch=16 , col=\"white\" , cex=1.7 )\n",
    "points( 1:28-xo , t(pl) , pch=c(1,1,16,16) , col=rangi2 , lwd=2 )\n",
    "\n",
    "yoff <- 0.175\n",
    "text( 1-xo , pl[1,1]-yoff , \"R/N\" , pos=1 , cex=0.8 )\n",
    "text( 2-xo , pl[1,2]+yoff , \"L/N\" , pos=3 , cex=0.8 )\n",
    "text( 3-xo , pl[1,3]-yoff , \"R/P\" , pos=1 , cex=0.8 )\n",
    "text( 4-xo , pl[1,4]+yoff , \"L/P\" , pos=3 , cex=0.8 )\n",
    "\n",
    "# posterior predictions\n",
    "for ( j in (1:7)[-2] ) {\n",
    "    lines( (j-1)*4+c(1,3)+xo , p_mu[(j-1)*4+c(1,3)] , lwd=2 )\n",
    "    lines( (j-1)*4+c(2,4)+xo , p_mu[(j-1)*4+c(2,4)] , lwd=2 )\n",
    "}\n",
    "for ( i in 1:28 ) lines( c(i,i)+xo , p_ci[,i] , lwd=1 )\n",
    "points( 1:28+xo , p_mu , pch=16 , col=\"white\" , cex=1.3 )\n",
    "points( 1:28+xo , p_mu , pch=c(1,1,16,16) )"
   ]
  },
  {
   "cell_type": "markdown",
   "id": "sunrise-campus",
   "metadata": {},
   "source": [
    "R code 14.23"
   ]
  },
  {
   "cell_type": "code",
   "execution_count": null,
   "id": "republican-leadership",
   "metadata": {
    "name": "R code 14.23"
   },
   "outputs": [],
   "source": [
    "set.seed(73)\n",
    "N <- 500\n",
    "U_sim <- rnorm( N )\n",
    "Q_sim <- sample( 1:4 , size=N , replace=TRUE )\n",
    "E_sim <- rnorm( N , U_sim + Q_sim )\n",
    "W_sim <- rnorm( N , U_sim + 0*E_sim )\n",
    "dat_sim <- list(\n",
    "    W=standardize(W_sim) ,\n",
    "    E=standardize(E_sim) ,\n",
    "    Q=standardize(Q_sim) )"
   ]
  },
  {
   "cell_type": "markdown",
   "id": "reverse-structure",
   "metadata": {},
   "source": [
    "R code 14.24"
   ]
  },
  {
   "cell_type": "code",
   "execution_count": null,
   "id": "geographic-plant",
   "metadata": {
    "name": "R code 14.24"
   },
   "outputs": [],
   "source": [
    "m14.4 <- ulam(\n",
    "    alist(\n",
    "        W ~ dnorm( mu , sigma ),\n",
    "        mu <- aW + bEW*E,\n",
    "        aW ~ dnorm( 0 , 0.2 ),\n",
    "        bEW ~ dnorm( 0 , 0.5 ),\n",
    "        sigma ~ dexp( 1 )\n",
    "    ) , data=dat_sim , chains=4 , cores=4 )\n",
    "precis( m14.4 )"
   ]
  },
  {
   "cell_type": "markdown",
   "id": "bibliographic-portrait",
   "metadata": {},
   "source": [
    "R code 14.25"
   ]
  },
  {
   "cell_type": "code",
   "execution_count": null,
   "id": "meaningful-estonia",
   "metadata": {
    "name": "R code 14.25"
   },
   "outputs": [],
   "source": [
    "m14.5 <- ulam(\n",
    "    alist(\n",
    "        W ~ dnorm( mu , sigma ),\n",
    "        mu <- aW + bEW*E + bQW*Q,\n",
    "        aW ~ dnorm( 0 , 0.2 ),\n",
    "        bEW ~ dnorm( 0 , 0.5 ),\n",
    "        bQW ~ dnorm( 0 , 0.5 ),\n",
    "        sigma ~ dexp( 1 )\n",
    "    ) , data=dat_sim , chains=4 , cores=4 )\n",
    "precis( m14.5 )"
   ]
  },
  {
   "cell_type": "markdown",
   "id": "governmental-somalia",
   "metadata": {},
   "source": [
    "R code 14.26"
   ]
  },
  {
   "cell_type": "code",
   "execution_count": null,
   "id": "bizarre-decimal",
   "metadata": {
    "name": "R code 14.26"
   },
   "outputs": [],
   "source": [
    "m14.6 <- ulam(\n",
    "    alist(\n",
    "        c(W,E) ~ multi_normal( c(muW,muE) , Rho , Sigma ),\n",
    "        muW <- aW + bEW*E,\n",
    "        muE <- aE + bQE*Q,\n",
    "        c(aW,aE) ~ normal( 0 , 0.2 ),\n",
    "        c(bEW,bQE) ~ normal( 0 , 0.5 ),\n",
    "        Rho ~ lkj_corr( 2 ),\n",
    "        Sigma ~ exponential( 1 )\n",
    "    ), data=dat_sim , chains=4 , cores=4 )\n",
    "precis( m14.6 , depth=3 )"
   ]
  },
  {
   "cell_type": "markdown",
   "id": "turned-maple",
   "metadata": {},
   "source": [
    "R code 14.27"
   ]
  },
  {
   "cell_type": "code",
   "execution_count": null,
   "id": "unavailable-thread",
   "metadata": {
    "name": "R code 14.27"
   },
   "outputs": [],
   "source": [
    "m14.4x <- ulam( m14.4 , data=dat_sim , chains=4 , cores=4 )\n",
    "m14.6x <- ulam( m14.6 , data=dat_sim , chains=4 , cores=4 )"
   ]
  },
  {
   "cell_type": "markdown",
   "id": "rough-driving",
   "metadata": {},
   "source": [
    "R code 14.28"
   ]
  },
  {
   "cell_type": "code",
   "execution_count": null,
   "id": "compact-setup",
   "metadata": {
    "name": "R code 14.28"
   },
   "outputs": [],
   "source": [
    "set.seed(73)\n",
    "N <- 500\n",
    "U_sim <- rnorm( N )\n",
    "Q_sim <- sample( 1:4 , size=N , replace=TRUE )\n",
    "E_sim <- rnorm( N , U_sim + Q_sim )\n",
    "W_sim <- rnorm( N , -U_sim + 0.2*E_sim )\n",
    "dat_sim <- list(\n",
    "    W=standardize(W_sim) ,\n",
    "    E=standardize(E_sim) ,\n",
    "    Q=standardize(Q_sim) )"
   ]
  },
  {
   "cell_type": "markdown",
   "id": "blank-attribute",
   "metadata": {},
   "source": [
    "R code 14.29"
   ]
  },
  {
   "cell_type": "code",
   "execution_count": null,
   "id": "considerable-constitution",
   "metadata": {
    "name": "R code 14.29"
   },
   "outputs": [],
   "source": [
    "library(dagitty)\n",
    "dagIV <- dagitty( \"dag{ Q -> E <- U -> W <- E }\" )\n",
    "instrumentalVariables( dagIV , exposure=\"E\" , outcome=\"W\" )"
   ]
  },
  {
   "cell_type": "markdown",
   "id": "found-strand",
   "metadata": {},
   "source": [
    "R code 14.30"
   ]
  },
  {
   "cell_type": "code",
   "execution_count": null,
   "id": "convertible-complaint",
   "metadata": {
    "name": "R code 14.30"
   },
   "outputs": [],
   "source": [
    "library(rethinking)\n",
    "data(KosterLeckie)"
   ]
  },
  {
   "cell_type": "markdown",
   "id": "solar-gambling",
   "metadata": {},
   "source": [
    "R code 14.31"
   ]
  },
  {
   "cell_type": "code",
   "execution_count": null,
   "id": "pressed-blond",
   "metadata": {
    "name": "R code 14.31"
   },
   "outputs": [],
   "source": [
    "kl_data <- list(\n",
    "    N = nrow(kl_dyads),\n",
    "    N_households = max(kl_dyads$hidB),\n",
    "    did = kl_dyads$did,\n",
    "    hidA = kl_dyads$hidA,\n",
    "    hidB = kl_dyads$hidB,\n",
    "    giftsAB = kl_dyads$giftsAB,\n",
    "    giftsBA = kl_dyads$giftsBA\n",
    ")\n",
    "\n",
    "m14.7 <- ulam(\n",
    "    alist(\n",
    "        giftsAB ~ poisson( lambdaAB ),\n",
    "        giftsBA ~ poisson( lambdaBA ),\n",
    "        log(lambdaAB) <- a + gr[hidA,1] + gr[hidB,2] + d[did,1] ,\n",
    "        log(lambdaBA) <- a + gr[hidB,1] + gr[hidA,2] + d[did,2] ,\n",
    "        a ~ normal(0,1),\n",
    "\n",
    "       ## gr matrix of varying effects\n",
    "        vector[2]:gr[N_households] ~ multi_normal(0,Rho_gr,sigma_gr),\n",
    "        Rho_gr ~ lkj_corr(4),\n",
    "        sigma_gr ~ exponential(1),\n",
    "\n",
    "       ## dyad effects\n",
    "        transpars> matrix[N,2]:d <-\n",
    "                compose_noncentered( rep_vector(sigma_d,2) , L_Rho_d , z ),\n",
    "        matrix[2,N]:z ~ normal( 0 , 1 ),\n",
    "        cholesky_factor_corr[2]:L_Rho_d ~ lkj_corr_cholesky( 8 ),\n",
    "        sigma_d ~ exponential(1),\n",
    "\n",
    "       ## compute correlation matrix for dyads\n",
    "        gq> matrix[2,2]:Rho_d <<- Chol_to_Corr( L_Rho_d )\n",
    "    ), data=kl_data , chains=4 , cores=4 , iter=2000 )"
   ]
  },
  {
   "cell_type": "markdown",
   "id": "isolated-mattress",
   "metadata": {},
   "source": [
    "R code 14.32"
   ]
  },
  {
   "cell_type": "code",
   "execution_count": null,
   "id": "prospective-filter",
   "metadata": {
    "name": "R code 14.32"
   },
   "outputs": [],
   "source": [
    "precis( m14.7 , depth=3 , pars=c(\"Rho_gr\",\"sigma_gr\") )"
   ]
  },
  {
   "cell_type": "markdown",
   "id": "criminal-summary",
   "metadata": {},
   "source": [
    "R code 14.33"
   ]
  },
  {
   "cell_type": "code",
   "execution_count": null,
   "id": "structured-gates",
   "metadata": {
    "name": "R code 14.33"
   },
   "outputs": [],
   "source": [
    "post <- extract.samples( m14.7 )\n",
    "g <- sapply( 1:25 , function(i) post$a + post$gr[,i,1] )\n",
    "r <- sapply( 1:25 , function(i) post$a + post$gr[,i,2] )\n",
    "Eg_mu <- apply( exp(g) , 2 , mean )\n",
    "Er_mu <- apply( exp(r) , 2 , mean )"
   ]
  },
  {
   "cell_type": "markdown",
   "id": "ready-philippines",
   "metadata": {},
   "source": [
    "R code 14.34"
   ]
  },
  {
   "cell_type": "code",
   "execution_count": null,
   "id": "wireless-mirror",
   "metadata": {
    "name": "R code 14.34"
   },
   "outputs": [],
   "source": [
    "plot( NULL , xlim=c(0,8.6) , ylim=c(0,8.6) , xlab=\"generalized giving\" ,\n",
    "    ylab=\"generalized receiving\" , lwd=1.5 )\n",
    "abline(a=0,b=1,lty=2)\n",
    "\n",
    "# ellipses\n",
    "library(ellipse)\n",
    "for ( i in 1:25 ) {\n",
    "    Sigma <- cov( cbind( g[,i] , r[,i] ) )\n",
    "    Mu <- c( mean(g[,i]) , mean(r[,i]) )\n",
    "    for ( l in c(0.5) ) {\n",
    "        el <- ellipse( Sigma , centre=Mu , level=l )\n",
    "        lines( exp(el) , col=col.alpha(\"black\",0.5) )\n",
    "    }\n",
    "}\n",
    "# household means\n",
    "points( Eg_mu , Er_mu , pch=21 , bg=\"white\" , lwd=1.5 )"
   ]
  },
  {
   "cell_type": "markdown",
   "id": "fifty-banks",
   "metadata": {},
   "source": [
    "R code 14.35"
   ]
  },
  {
   "cell_type": "code",
   "execution_count": null,
   "id": "cleared-packing",
   "metadata": {
    "name": "R code 14.35"
   },
   "outputs": [],
   "source": [
    "precis( m14.7 , depth=3 , pars=c(\"Rho_d\",\"sigma_d\") )"
   ]
  },
  {
   "cell_type": "markdown",
   "id": "empirical-digit",
   "metadata": {},
   "source": [
    "R code 14.36"
   ]
  },
  {
   "cell_type": "code",
   "execution_count": null,
   "id": "vulnerable-upset",
   "metadata": {
    "name": "R code 14.36"
   },
   "outputs": [],
   "source": [
    "dy1 <- apply( post$d[,,1] , 2 , mean )\n",
    "dy2 <- apply( post$d[,,2] , 2 , mean )\n",
    "plot( dy1 , dy2 )"
   ]
  },
  {
   "cell_type": "markdown",
   "id": "ahead-novelty",
   "metadata": {},
   "source": [
    "R code 14.37"
   ]
  },
  {
   "cell_type": "code",
   "execution_count": null,
   "id": "homeless-plant",
   "metadata": {
    "name": "R code 14.37"
   },
   "outputs": [],
   "source": [
    "# load the distance matrix\n",
    "library(rethinking)\n",
    "data(islandsDistMatrix)\n",
    "\n",
    "# display (measured in thousands of km)\n",
    "Dmat <- islandsDistMatrix\n",
    "colnames(Dmat) <- c(\"Ml\",\"Ti\",\"SC\",\"Ya\",\"Fi\",\"Tr\",\"Ch\",\"Mn\",\"To\",\"Ha\")\n",
    "round(Dmat,1)"
   ]
  },
  {
   "cell_type": "markdown",
   "id": "political-hearing",
   "metadata": {},
   "source": [
    "R code 14.38"
   ]
  },
  {
   "cell_type": "code",
   "execution_count": null,
   "id": "determined-structure",
   "metadata": {
    "name": "R code 14.38"
   },
   "outputs": [],
   "source": [
    "# linear\n",
    "curve( exp(-1*x) , from=0 , to=4 , lty=2 )\n",
    "# squared\n",
    "curve( exp(-1*x^2) , add=TRUE )"
   ]
  },
  {
   "cell_type": "markdown",
   "id": "approved-doctrine",
   "metadata": {},
   "source": [
    "R code 14.39"
   ]
  },
  {
   "cell_type": "code",
   "execution_count": null,
   "id": "fresh-australia",
   "metadata": {
    "name": "R code 14.39"
   },
   "outputs": [],
   "source": [
    "data(Kline2) # load the ordinary data, now with coordinates\n",
    "d <- Kline2\n",
    "d$society <- 1:10 # index observations\n",
    "\n",
    "dat_list <- list(\n",
    "    T = d$total_tools,\n",
    "    P = d$population,\n",
    "    society = d$society,\n",
    "    Dmat=islandsDistMatrix )\n",
    "\n",
    "m14.8 <- ulam(\n",
    "    alist(\n",
    "        T ~ dpois(lambda),\n",
    "        lambda <- (a*P^b/g)*exp(k[society]),\n",
    "        vector[10]:k ~ multi_normal( 0 , SIGMA ),\n",
    "        matrix[10,10]:SIGMA <- cov_GPL2( Dmat , etasq , rhosq , 0.01 ),\n",
    "        c(a,b,g) ~ dexp( 1 ),\n",
    "        etasq ~ dexp( 2 ),\n",
    "        rhosq ~ dexp( 0.5 )\n",
    "    ), data=dat_list , chains=4 , cores=4 , iter=2000 )"
   ]
  },
  {
   "cell_type": "markdown",
   "id": "injured-poster",
   "metadata": {},
   "source": [
    "R code 14.40"
   ]
  },
  {
   "cell_type": "code",
   "execution_count": null,
   "id": "conscious-brave",
   "metadata": {
    "name": "R code 14.40"
   },
   "outputs": [],
   "source": [
    "precis( m14.8 , depth=3 )"
   ]
  },
  {
   "cell_type": "markdown",
   "id": "green-booth",
   "metadata": {},
   "source": [
    "R code 14.41"
   ]
  },
  {
   "cell_type": "code",
   "execution_count": null,
   "id": "opponent-deputy",
   "metadata": {
    "name": "R code 14.41"
   },
   "outputs": [],
   "source": [
    "post <- extract.samples(m14.8)\n",
    "\n",
    "# plot the posterior median covariance function\n",
    "plot( NULL , xlab=\"distance (thousand km)\" , ylab=\"covariance\" ,\n",
    "    xlim=c(0,10) , ylim=c(0,2) )\n",
    "\n",
    "# compute posterior mean covariance\n",
    "x_seq <- seq( from=0 , to=10 , length.out=100 )\n",
    "pmcov <- sapply( x_seq , function(x) post$etasq*exp(-post$rhosq*x^2) )\n",
    "pmcov_mu <- apply( pmcov , 2 , mean )\n",
    "lines( x_seq , pmcov_mu , lwd=2 )\n",
    "\n",
    "# plot 60 functions sampled from posterior\n",
    "for ( i in 1:50 )\n",
    "    curve( post$etasq[i]*exp(-post$rhosq[i]*x^2) , add=TRUE ,\n",
    "        col=col.alpha(\"black\",0.3) )"
   ]
  },
  {
   "cell_type": "markdown",
   "id": "trained-transcription",
   "metadata": {},
   "source": [
    "R code 14.42"
   ]
  },
  {
   "cell_type": "code",
   "execution_count": null,
   "id": "hungry-truck",
   "metadata": {
    "name": "R code 14.42"
   },
   "outputs": [],
   "source": [
    "# compute posterior median covariance among societies\n",
    "K <- matrix(0,nrow=10,ncol=10)\n",
    "for ( i in 1:10 )\n",
    "    for ( j in 1:10 )\n",
    "        K[i,j] <- median(post$etasq) *\n",
    "                  exp( -median(post$rhosq) * islandsDistMatrix[i,j]^2 )\n",
    "diag(K) <- median(post$etasq) + 0.01"
   ]
  },
  {
   "cell_type": "markdown",
   "id": "through-class",
   "metadata": {},
   "source": [
    "R code 14.43"
   ]
  },
  {
   "cell_type": "code",
   "execution_count": null,
   "id": "specific-adoption",
   "metadata": {
    "name": "R code 14.43"
   },
   "outputs": [],
   "source": [
    "# convert to correlation matrix\n",
    "Rho <- round( cov2cor(K) , 2 )\n",
    "# add row/col names for convenience\n",
    "colnames(Rho) <- c(\"Ml\",\"Ti\",\"SC\",\"Ya\",\"Fi\",\"Tr\",\"Ch\",\"Mn\",\"To\",\"Ha\")\n",
    "rownames(Rho) <- colnames(Rho)\n",
    "Rho"
   ]
  },
  {
   "cell_type": "markdown",
   "id": "arctic-measure",
   "metadata": {},
   "source": [
    "R code 14.44"
   ]
  },
  {
   "cell_type": "code",
   "execution_count": null,
   "id": "turkish-compact",
   "metadata": {
    "name": "R code 14.44"
   },
   "outputs": [],
   "source": [
    "# scale point size to logpop\n",
    "psize <- d$logpop / max(d$logpop)\n",
    "psize <- exp(psize*1.5)-2\n",
    "\n",
    "# plot raw data and labels\n",
    "plot( d$lon2 , d$lat , xlab=\"longitude\" , ylab=\"latitude\" ,\n",
    "    col=rangi2 , cex=psize , pch=16 , xlim=c(-50,30) )\n",
    "labels <- as.character(d$culture)\n",
    "text( d$lon2 , d$lat , labels=labels , cex=0.7 , pos=c(2,4,3,3,4,1,3,2,4,2) )\n",
    "\n",
    "# overlay lines shaded by Rho\n",
    "for( i in 1:10 )\n",
    "    for ( j in 1:10 )\n",
    "        if ( i < j )\n",
    "            lines( c( d$lon2[i],d$lon2[j] ) , c( d$lat[i],d$lat[j] ) ,\n",
    "                lwd=2 , col=col.alpha(\"black\",Rho[i,j]^2) )"
   ]
  },
  {
   "cell_type": "markdown",
   "id": "logical-diameter",
   "metadata": {},
   "source": [
    "R code 14.45"
   ]
  },
  {
   "cell_type": "code",
   "execution_count": null,
   "id": "closed-steal",
   "metadata": {
    "name": "R code 14.45"
   },
   "outputs": [],
   "source": [
    "# compute posterior median relationship, ignoring distance\n",
    "logpop.seq <- seq( from=6 , to=14 , length.out=30 )\n",
    "lambda <- sapply( logpop.seq , function(lp) exp( post$a + post$bp*lp ) )\n",
    "lambda.median <- apply( lambda , 2 , median )\n",
    "lambda.PI80 <- apply( lambda , 2 , PI , prob=0.8 )\n",
    "\n",
    "# plot raw data and labels\n",
    "plot( d$logpop , d$total_tools , col=rangi2 , cex=psize , pch=16 ,\n",
    "    xlab=\"log population\" , ylab=\"total tools\" )\n",
    "text( d$logpop , d$total_tools , labels=labels , cex=0.7 ,\n",
    "    pos=c(4,3,4,2,2,1,4,4,4,2) )\n",
    "\n",
    "# display posterior predictions\n",
    "lines( logpop.seq , lambda.median , lty=2 )\n",
    "lines( logpop.seq , lambda.PI80[1,] , lty=2 )\n",
    "lines( logpop.seq , lambda.PI80[2,] , lty=2 )\n",
    "\n",
    "# overlay correlations\n",
    "for( i in 1:10 )\n",
    "    for ( j in 1:10 )\n",
    "        if ( i < j )\n",
    "            lines( c( d$logpop[i],d$logpop[j] ) ,\n",
    "                   c( d$total_tools[i],d$total_tools[j] ) ,\n",
    "                   lwd=2 , col=col.alpha(\"black\",Rho[i,j]^2) )"
   ]
  },
  {
   "cell_type": "markdown",
   "id": "scientific-ending",
   "metadata": {},
   "source": [
    "R code 14.46"
   ]
  },
  {
   "cell_type": "code",
   "execution_count": null,
   "id": "south-alcohol",
   "metadata": {
    "name": "R code 14.46"
   },
   "outputs": [],
   "source": [
    "m14.8nc <- ulam(\n",
    "    alist(\n",
    "        T ~ dpois(lambda),\n",
    "        lambda <- (a*P^b/g)*exp(k[society]),\n",
    "\n",
    "        # non-centered Gaussian Process prior\n",
    "        transpars> vector[10]: k <<- L_SIGMA * z,\n",
    "        vector[10]: z ~ normal( 0 , 1 ),\n",
    "        transpars> matrix[10,10]: L_SIGMA <<- cholesky_decompose( SIGMA ),\n",
    "        transpars> matrix[10,10]: SIGMA <- cov_GPL2( Dmat , etasq , rhosq , 0.01 ),\n",
    "\n",
    "        c(a,b,g) ~ dexp( 1 ),\n",
    "        etasq ~ dexp( 2 ),\n",
    "        rhosq ~ dexp( 0.5 )\n",
    "    ), data=dat_list , chains=4 , cores=4 , iter=2000 )"
   ]
  },
  {
   "cell_type": "markdown",
   "id": "fresh-activation",
   "metadata": {},
   "source": [
    "R code 14.47"
   ]
  },
  {
   "cell_type": "code",
   "execution_count": null,
   "id": "emotional-cursor",
   "metadata": {
    "name": "R code 14.47"
   },
   "outputs": [],
   "source": [
    "library(rethinking)\n",
    "data(Primates301)\n",
    "data(Primates301_nex)\n",
    "\n",
    "# plot it using ape package - install.packages('ape') if needed\n",
    "library(ape)\n",
    "plot( ladderize(Primates301_nex) , type=\"fan\" , font=1 , no.margin=TRUE ,\n",
    "    label.offset=1 , cex=0.5 )"
   ]
  },
  {
   "cell_type": "markdown",
   "id": "addressed-fields",
   "metadata": {},
   "source": [
    "R code 14.48"
   ]
  },
  {
   "cell_type": "code",
   "execution_count": null,
   "id": "announced-version",
   "metadata": {
    "name": "R code 14.48"
   },
   "outputs": [],
   "source": [
    "d <- Primates301\n",
    "d$name <- as.character(d$name)\n",
    "dstan <- d[ complete.cases( d$group_size , d$body , d$brain ) , ]\n",
    "spp_obs <- dstan$name"
   ]
  },
  {
   "cell_type": "markdown",
   "id": "conservative-prime",
   "metadata": {},
   "source": [
    "R code 14.49"
   ]
  },
  {
   "cell_type": "code",
   "execution_count": null,
   "id": "differential-bathroom",
   "metadata": {
    "name": "R code 14.49"
   },
   "outputs": [],
   "source": [
    "dat_list <- list(\n",
    "    N_spp = nrow(dstan),\n",
    "    M = standardize(log(dstan$body)),\n",
    "    B = standardize(log(dstan$brain)),\n",
    "    G = standardize(log(dstan$group_size)),\n",
    "    Imat = diag(nrow(dstan)) )\n",
    "\n",
    "m14.9 <- ulam(\n",
    "    alist(\n",
    "        B ~ multi_normal( mu , SIGMA ),\n",
    "        mu <- a + bM*M + bG*G,\n",
    "        matrix[N_spp,N_spp]: SIGMA <- Imat * sigma_sq,\n",
    "        a ~ normal( 0 , 1 ),\n",
    "        c(bM,bG) ~ normal( 0 , 0.5 ),\n",
    "        sigma_sq ~ exponential( 1 )\n",
    "    ), data=dat_list , chains=4 , cores=4 )\n",
    "precis( m14.9 )"
   ]
  },
  {
   "cell_type": "markdown",
   "id": "polish-journal",
   "metadata": {},
   "source": [
    "R code 14.50"
   ]
  },
  {
   "cell_type": "code",
   "execution_count": null,
   "id": "ordinary-jumping",
   "metadata": {
    "name": "R code 14.50"
   },
   "outputs": [],
   "source": [
    "library(ape)\n",
    "tree_trimmed <- keep.tip( Primates301_nex, spp_obs )\n",
    "Rbm <- corBrownian( phy=tree_trimmed )\n",
    "V <- vcv(Rbm)\n",
    "Dmat <- cophenetic( tree_trimmed )\n",
    "plot( Dmat , V , xlab=\"phylogenetic distance\" , ylab=\"covariance\" )"
   ]
  },
  {
   "cell_type": "markdown",
   "id": "unavailable-smith",
   "metadata": {},
   "source": [
    "R code 14.51"
   ]
  },
  {
   "cell_type": "code",
   "execution_count": null,
   "id": "united-nation",
   "metadata": {
    "name": "R code 14.51"
   },
   "outputs": [],
   "source": [
    "# put species in right order\n",
    "dat_list$V <- V[ spp_obs , spp_obs ]\n",
    "# convert to correlation matrix\n",
    "dat_list$R <- dat_list$V / max(V)\n",
    "\n",
    "# Brownian motion model\n",
    "m14.10 <- ulam(\n",
    "    alist(\n",
    "        B ~ multi_normal( mu , SIGMA ),\n",
    "        mu <- a + bM*M + bG*G,\n",
    "        matrix[N_spp,N_spp]: SIGMA <- R * sigma_sq,\n",
    "        a ~ normal( 0 , 1 ),\n",
    "        c(bM,bG) ~ normal( 0 , 0.5 ),\n",
    "        sigma_sq ~ exponential( 1 )\n",
    "    ), data=dat_list , chains=4 , cores=4 )\n",
    "precis( m14.10 )"
   ]
  },
  {
   "cell_type": "markdown",
   "id": "biblical-disposal",
   "metadata": {},
   "source": [
    "R code 14.52"
   ]
  },
  {
   "cell_type": "code",
   "execution_count": null,
   "id": "cooperative-needle",
   "metadata": {
    "name": "R code 14.52"
   },
   "outputs": [],
   "source": [
    "# add scaled and reordered distance matrix\n",
    "dat_list$Dmat <- Dmat[ spp_obs , spp_obs ] / max(Dmat)\n",
    "\n",
    "m14.11 <- ulam(\n",
    "    alist(\n",
    "        B ~ multi_normal( mu , SIGMA ),\n",
    "        mu <- a + bM*M + bG*G,\n",
    "        matrix[N_spp,N_spp]: SIGMA <- cov_GPL1( Dmat , etasq , rhosq , 0.01 ),\n",
    "        a ~ normal(0,1),\n",
    "        c(bM,bG) ~ normal(0,0.5),\n",
    "        etasq ~ half_normal(1,0.25),\n",
    "        rhosq ~ half_normal(3,0.25)\n",
    "    ), data=dat_list , chains=4 , cores=4 )\n",
    "precis( m14.11 )"
   ]
  },
  {
   "cell_type": "markdown",
   "id": "brief-criterion",
   "metadata": {},
   "source": [
    "R code 14.53"
   ]
  },
  {
   "cell_type": "code",
   "execution_count": null,
   "id": "suburban-fight",
   "metadata": {
    "name": "R code 14.53"
   },
   "outputs": [],
   "source": [
    "post <- extract.samples(m14.11)\n",
    "plot( NULL , xlim=c(0,max(dat_list$Dmat)) , ylim=c(0,1.5) ,\n",
    "    xlab=\"phylogenetic distance\" , ylab=\"covariance\" )\n",
    "\n",
    "# posterior\n",
    "for ( i in 1:30 )\n",
    "    curve( post$etasq[i]*exp(-post$rhosq[i]*x) , add=TRUE , col=rangi2 )\n",
    "\n",
    "# prior mean and 89% interval\n",
    "eta <- abs(rnorm(1e3,1,0.25))\n",
    "rho <- abs(rnorm(1e3,3,0.25))\n",
    "d_seq <- seq(from=0,to=1,length.out=50)\n",
    "K <- sapply( d_seq , function(x) eta*exp(-rho*x) )\n",
    "lines( d_seq , colMeans(K) , lwd=2 )\n",
    "shade( apply(K,2,PI) , d_seq )\n",
    "text( 0.5 , 0.5 , \"prior\" )\n",
    "text( 0.2 , 0.1 , \"posterior\" , col=rangi2 )"
   ]
  },
  {
   "cell_type": "markdown",
   "id": "mature-arthur",
   "metadata": {},
   "source": [
    "R code 14.54"
   ]
  },
  {
   "cell_type": "code",
   "execution_count": null,
   "id": "reflected-printing",
   "metadata": {
    "lines_to_next_cell": 0,
    "name": "R code 14.54"
   },
   "outputs": [],
   "source": [
    "S <- matrix( c( sa^2 , sa*sb*rho , sa*sb*rho , sb^2 ) , nrow=2 )"
   ]
  },
  {
   "cell_type": "markdown",
   "id": "lucky-transport",
   "metadata": {},
   "source": []
  }
 ],
 "metadata": {
  "jupytext": {
   "cell_metadata_filter": "name,-all",
   "main_language": "R",
   "notebook_metadata_filter": "-all"
  }
 },
 "nbformat": 4,
 "nbformat_minor": 5
}
